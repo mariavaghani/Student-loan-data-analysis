{
 "cells": [
  {
   "cell_type": "code",
   "execution_count": 125,
   "metadata": {},
   "outputs": [
    {
     "name": "stderr",
     "output_type": "stream",
     "text": [
      "[nltk_data] Downloading package stopwords to\n",
      "[nltk_data]     C:\\Users\\maria\\AppData\\Roaming\\nltk_data...\n",
      "[nltk_data]   Package stopwords is already up-to-date!\n"
     ]
    },
    {
     "data": {
      "text/html": [
       "        <script type=\"text/javascript\">\n",
       "        window.PlotlyConfig = {MathJaxConfig: 'local'};\n",
       "        if (window.MathJax) {MathJax.Hub.Config({SVG: {font: \"STIX-Web\"}});}\n",
       "        if (typeof require !== 'undefined') {\n",
       "        require.undef(\"plotly\");\n",
       "        requirejs.config({\n",
       "            paths: {\n",
       "                'plotly': ['https://cdn.plot.ly/plotly-latest.min']\n",
       "            }\n",
       "        });\n",
       "        require(['plotly'], function(Plotly) {\n",
       "            window._Plotly = Plotly;\n",
       "        });\n",
       "        }\n",
       "        </script>\n",
       "        "
      ]
     },
     "metadata": {},
     "output_type": "display_data"
    },
    {
     "data": {
      "text/html": [
       "        <script type=\"text/javascript\">\n",
       "        window.PlotlyConfig = {MathJaxConfig: 'local'};\n",
       "        if (window.MathJax) {MathJax.Hub.Config({SVG: {font: \"STIX-Web\"}});}\n",
       "        if (typeof require !== 'undefined') {\n",
       "        require.undef(\"plotly\");\n",
       "        requirejs.config({\n",
       "            paths: {\n",
       "                'plotly': ['https://cdn.plot.ly/plotly-latest.min']\n",
       "            }\n",
       "        });\n",
       "        require(['plotly'], function(Plotly) {\n",
       "            window._Plotly = Plotly;\n",
       "        });\n",
       "        }\n",
       "        </script>\n",
       "        "
      ]
     },
     "metadata": {},
     "output_type": "display_data"
    }
   ],
   "source": [
    "import pandas as pd\n",
    "import numpy as np\n",
    "import random\n",
    "import math\n",
    "from functools import reduce\n",
    "\n",
    "import matplotlib.pyplot as plt\n",
    "from matplotlib.colors import ListedColormap\n",
    "import seaborn as sns\n",
    "\n",
    "sns.set_style('whitegrid')\n",
    "\n",
    "# %matplotlib inline\n",
    "\n",
    "\n",
    "from sklearn.model_selection import train_test_split\n",
    "from sklearn.linear_model import LinearRegression\n",
    "from sklearn.linear_model import LogisticRegression\n",
    "\n",
    "from sklearn.tree import DecisionTreeRegressor\n",
    "from sklearn.tree import DecisionTreeClassifier\n",
    "from sklearn.ensemble import RandomForestRegressor\n",
    "from sklearn.ensemble import RandomForestClassifier\n",
    "\n",
    "import statsmodels.api as sm\n",
    "\n",
    "from sklearn import metrics\n",
    "from sklearn.metrics import classification_report\n",
    "from sklearn.metrics import confusion_matrix\n",
    "from sklearn.pipeline import Pipeline\n",
    "\n",
    "from sklearn.svm import SVC\n",
    "from sklearn.svm import SVR\n",
    "from sklearn.model_selection import GridSearchCV\n",
    "\n",
    "\n",
    "from sklearn.preprocessing import StandardScaler \n",
    "from sklearn.preprocessing import OneHotEncoder\n",
    "from sklearn.compose import ColumnTransformer, make_column_transformer\n",
    "from sklearn.impute import SimpleImputer\n",
    "from sklearn.preprocessing import LabelEncoder\n",
    "from sklearn.decomposition import PCA\n",
    "from sklearn.preprocessing import PolynomialFeatures\n",
    "from sklearn.linear_model import LogisticRegression\n",
    "\n",
    "from sklearn.neighbors import KNeighborsClassifier\n",
    "from sklearn.cluster import KMeans\n",
    "from sklearn.cluster import AgglomerativeClustering\n",
    "import scipy.cluster.hierarchy as sch\n",
    "from sklearn.naive_bayes import GaussianNB\n",
    "\n",
    "from sklearn.tree import DecisionTreeClassifier\n",
    "from sklearn.ensemble import RandomForestClassifier\n",
    "\n",
    "from sklearn.datasets import load_breast_cancer\n",
    "from sklearn.datasets import make_blobs\n",
    "\n",
    "import nltk\n",
    "import re\n",
    "nltk.download('stopwords')\n",
    "from nltk.corpus import stopwords\n",
    "from nltk.stem.porter import PorterStemmer\n",
    "from sklearn.feature_extraction.text import CountVectorizer\n",
    "from sklearn.feature_extraction.text import TfidfTransformer\n",
    "from sklearn.naive_bayes import MultinomialNB\n",
    "import string\n",
    "\n",
    "import cufflinks as cf\n",
    "from plotly.offline import download_plotlyjs, init_notebook_mode, plot, iplot\n",
    "init_notebook_mode(connected= True) #allows to work in a notebook\n",
    "cf.go_offline() #allows cufflinks to work offline\n",
    "\n",
    "import chart_studio.plotly as py\n",
    "import plotly.graph_objs as go\n",
    "\n",
    "import keras\n",
    "from keras.models import Sequential\n",
    "from keras.layers import Dense\n",
    "\n",
    "\n",
    "\n",
    "import datetime"
   ]
  },
  {
   "cell_type": "code",
   "execution_count": 269,
   "metadata": {},
   "outputs": [],
   "source": [
    "def autolabel(rects, ax, xpos='center', fontsize = 11):\n",
    "    \"\"\"\n",
    "    Attach a text label above each bar in *rects*, displaying its height.\n",
    "\n",
    "    *xpos* indicates which side to place the text w.r.t. the center of\n",
    "    the bar. It can be one of the following {'center', 'right', 'left'}.\n",
    "    \"\"\"\n",
    "\n",
    "    xpos = xpos.lower()  # normalize the case of the parameter\n",
    "    ha = {'center': 'center', 'right': 'left', 'left': 'right'}\n",
    "    offset = {'center': 0.5, 'right': 0.57, 'left': 0.43}  # x_txt = x + w*off\n",
    "\n",
    "    for rect in rects:\n",
    "        height = rect.get_height()\n",
    "        ax.text(rect.get_x() + rect.get_width()*offset[xpos], 1.01*height,\n",
    "                '{}'.format(height), ha=ha[xpos], va='bottom', fontsize = fontsize)\n"
   ]
  },
  {
   "cell_type": "code",
   "execution_count": 208,
   "metadata": {},
   "outputs": [
    {
     "data": {
      "text/html": [
       "<div>\n",
       "<style scoped>\n",
       "    .dataframe tbody tr th:only-of-type {\n",
       "        vertical-align: middle;\n",
       "    }\n",
       "\n",
       "    .dataframe tbody tr th {\n",
       "        vertical-align: top;\n",
       "    }\n",
       "\n",
       "    .dataframe thead th {\n",
       "        text-align: right;\n",
       "    }\n",
       "</style>\n",
       "<table border=\"1\" class=\"dataframe\">\n",
       "  <thead>\n",
       "    <tr style=\"text-align: right;\">\n",
       "      <th></th>\n",
       "      <th>Data as of Oct 1, 2019</th>\n",
       "      <th>Unnamed: 1</th>\n",
       "      <th>Unnamed: 2</th>\n",
       "      <th>Unnamed: 3</th>\n",
       "      <th>Unnamed: 4</th>\n",
       "      <th>Unnamed: 5</th>\n",
       "      <th>Unnamed: 6</th>\n",
       "      <th>Unnamed: 7</th>\n",
       "      <th>Unnamed: 8</th>\n",
       "      <th>Unnamed: 9</th>\n",
       "      <th>...</th>\n",
       "      <th>Unnamed: 20</th>\n",
       "      <th>Unnamed: 21</th>\n",
       "      <th>Unnamed: 22</th>\n",
       "      <th>Unnamed: 23</th>\n",
       "      <th>Unnamed: 24</th>\n",
       "      <th>Unnamed: 25</th>\n",
       "      <th>Unnamed: 26</th>\n",
       "      <th>Unnamed: 27</th>\n",
       "      <th>Unnamed: 28</th>\n",
       "      <th>Unnamed: 29</th>\n",
       "    </tr>\n",
       "  </thead>\n",
       "  <tbody>\n",
       "    <tr>\n",
       "      <th>0</th>\n",
       "      <td></td>\n",
       "      <td>NaN</td>\n",
       "      <td>NaN</td>\n",
       "      <td>NaN</td>\n",
       "      <td>NaN</td>\n",
       "      <td>DL SUBSIDIZED</td>\n",
       "      <td>NaN</td>\n",
       "      <td>NaN</td>\n",
       "      <td>NaN</td>\n",
       "      <td>NaN</td>\n",
       "      <td>...</td>\n",
       "      <td>DL PARENT PLUS</td>\n",
       "      <td>NaN</td>\n",
       "      <td>NaN</td>\n",
       "      <td>NaN</td>\n",
       "      <td>NaN</td>\n",
       "      <td>DL GRAD PLUS</td>\n",
       "      <td>NaN</td>\n",
       "      <td>NaN</td>\n",
       "      <td>NaN</td>\n",
       "      <td>NaN</td>\n",
       "    </tr>\n",
       "    <tr>\n",
       "      <th>1</th>\n",
       "      <td>OPE ID</td>\n",
       "      <td>School</td>\n",
       "      <td>State</td>\n",
       "      <td>Zip Code</td>\n",
       "      <td>School Type</td>\n",
       "      <td>Recipients</td>\n",
       "      <td># of Loans Originated</td>\n",
       "      <td>$ of Loans Originated</td>\n",
       "      <td># of Disbursements</td>\n",
       "      <td>$ of Disbursements</td>\n",
       "      <td>...</td>\n",
       "      <td>Recipients</td>\n",
       "      <td># of Loans Originated</td>\n",
       "      <td>$ of Loans Originated</td>\n",
       "      <td># of Disbursements</td>\n",
       "      <td>$ of Disbursements</td>\n",
       "      <td>Recipients</td>\n",
       "      <td># of Loans Originated</td>\n",
       "      <td>$ of Loans Originated</td>\n",
       "      <td># of Disbursements</td>\n",
       "      <td>$ of Disbursements</td>\n",
       "    </tr>\n",
       "    <tr>\n",
       "      <th>2</th>\n",
       "      <td>00100200</td>\n",
       "      <td>ALABAMA AGRICULTURAL &amp; MECHANICAL UNIVERSITY</td>\n",
       "      <td>AL</td>\n",
       "      <td>357621357</td>\n",
       "      <td>Public</td>\n",
       "      <td>2587</td>\n",
       "      <td>2614</td>\n",
       "      <td>10820197</td>\n",
       "      <td>2614</td>\n",
       "      <td>5426322</td>\n",
       "      <td>...</td>\n",
       "      <td>837</td>\n",
       "      <td>851</td>\n",
       "      <td>12228044</td>\n",
       "      <td>851</td>\n",
       "      <td>6131002</td>\n",
       "      <td>122</td>\n",
       "      <td>128</td>\n",
       "      <td>982754</td>\n",
       "      <td>128</td>\n",
       "      <td>493128</td>\n",
       "    </tr>\n",
       "    <tr>\n",
       "      <th>3</th>\n",
       "      <td>00100300</td>\n",
       "      <td>FAULKNER UNIVERSITY</td>\n",
       "      <td>AL</td>\n",
       "      <td>361093398</td>\n",
       "      <td>Private-Nonprofit</td>\n",
       "      <td>943</td>\n",
       "      <td>947</td>\n",
       "      <td>2969661</td>\n",
       "      <td>979</td>\n",
       "      <td>1425663</td>\n",
       "      <td>...</td>\n",
       "      <td>138</td>\n",
       "      <td>145</td>\n",
       "      <td>1497367</td>\n",
       "      <td>145</td>\n",
       "      <td>748684</td>\n",
       "      <td>136</td>\n",
       "      <td>147</td>\n",
       "      <td>2853880</td>\n",
       "      <td>148</td>\n",
       "      <td>1429438</td>\n",
       "    </tr>\n",
       "    <tr>\n",
       "      <th>4</th>\n",
       "      <td>00100400</td>\n",
       "      <td>UNIVERSITY OF MONTEVALLO</td>\n",
       "      <td>AL</td>\n",
       "      <td>351156000</td>\n",
       "      <td>Public</td>\n",
       "      <td>995</td>\n",
       "      <td>1015</td>\n",
       "      <td>4221927</td>\n",
       "      <td>1015</td>\n",
       "      <td>2112236</td>\n",
       "      <td>...</td>\n",
       "      <td>262</td>\n",
       "      <td>272</td>\n",
       "      <td>3471286</td>\n",
       "      <td>272</td>\n",
       "      <td>1735683</td>\n",
       "      <td>11</td>\n",
       "      <td>12</td>\n",
       "      <td>97832</td>\n",
       "      <td>12</td>\n",
       "      <td>48916</td>\n",
       "    </tr>\n",
       "    <tr>\n",
       "      <th>5</th>\n",
       "      <td>00100500</td>\n",
       "      <td>ALABAMA STATE UNIVERSITY</td>\n",
       "      <td>AL</td>\n",
       "      <td>361045714</td>\n",
       "      <td>Public</td>\n",
       "      <td>1807</td>\n",
       "      <td>1812</td>\n",
       "      <td>7869171</td>\n",
       "      <td>1819</td>\n",
       "      <td>3971102</td>\n",
       "      <td>...</td>\n",
       "      <td>453</td>\n",
       "      <td>468</td>\n",
       "      <td>6881617</td>\n",
       "      <td>469</td>\n",
       "      <td>3458242</td>\n",
       "      <td>69</td>\n",
       "      <td>70</td>\n",
       "      <td>786372</td>\n",
       "      <td>76</td>\n",
       "      <td>408307</td>\n",
       "    </tr>\n",
       "    <tr>\n",
       "      <th>6</th>\n",
       "      <td>00100700</td>\n",
       "      <td>CENTRAL ALABAMA COMMUNITY COLLEGE</td>\n",
       "      <td>AL</td>\n",
       "      <td>350100000</td>\n",
       "      <td>Public</td>\n",
       "      <td>135</td>\n",
       "      <td>138</td>\n",
       "      <td>442997</td>\n",
       "      <td>138</td>\n",
       "      <td>198766</td>\n",
       "      <td>...</td>\n",
       "      <td>1</td>\n",
       "      <td>1</td>\n",
       "      <td>7725</td>\n",
       "      <td>1</td>\n",
       "      <td>3863</td>\n",
       "      <td>-</td>\n",
       "      <td>-</td>\n",
       "      <td>-</td>\n",
       "      <td>-</td>\n",
       "      <td>-</td>\n",
       "    </tr>\n",
       "    <tr>\n",
       "      <th>7</th>\n",
       "      <td>00100800</td>\n",
       "      <td>ATHENS STATE UNIVERSITY</td>\n",
       "      <td>AL</td>\n",
       "      <td>356111999</td>\n",
       "      <td>Public</td>\n",
       "      <td>1070</td>\n",
       "      <td>1070</td>\n",
       "      <td>4756424</td>\n",
       "      <td>1070</td>\n",
       "      <td>2534864</td>\n",
       "      <td>...</td>\n",
       "      <td>39</td>\n",
       "      <td>39</td>\n",
       "      <td>397692</td>\n",
       "      <td>39</td>\n",
       "      <td>199065</td>\n",
       "      <td>-</td>\n",
       "      <td>-</td>\n",
       "      <td>-</td>\n",
       "      <td>-</td>\n",
       "      <td>-</td>\n",
       "    </tr>\n",
       "    <tr>\n",
       "      <th>8</th>\n",
       "      <td>00100900</td>\n",
       "      <td>AUBURN UNIVERSITY</td>\n",
       "      <td>AL</td>\n",
       "      <td>368495113</td>\n",
       "      <td>Public</td>\n",
       "      <td>4980</td>\n",
       "      <td>4980</td>\n",
       "      <td>21512561</td>\n",
       "      <td>5022</td>\n",
       "      <td>11189698</td>\n",
       "      <td>...</td>\n",
       "      <td>1562</td>\n",
       "      <td>1580</td>\n",
       "      <td>40769458</td>\n",
       "      <td>1597</td>\n",
       "      <td>21105203</td>\n",
       "      <td>355</td>\n",
       "      <td>364</td>\n",
       "      <td>7026507</td>\n",
       "      <td>367</td>\n",
       "      <td>3624855</td>\n",
       "    </tr>\n",
       "    <tr>\n",
       "      <th>9</th>\n",
       "      <td>00101200</td>\n",
       "      <td>BIRMINGHAM-SOUTHERN COLLEGE</td>\n",
       "      <td>AL</td>\n",
       "      <td>352540002</td>\n",
       "      <td>Private-Nonprofit</td>\n",
       "      <td>382</td>\n",
       "      <td>382</td>\n",
       "      <td>1608770</td>\n",
       "      <td>383</td>\n",
       "      <td>804918</td>\n",
       "      <td>...</td>\n",
       "      <td>164</td>\n",
       "      <td>175</td>\n",
       "      <td>2776087</td>\n",
       "      <td>175</td>\n",
       "      <td>1428920</td>\n",
       "      <td>-</td>\n",
       "      <td>-</td>\n",
       "      <td>-</td>\n",
       "      <td>-</td>\n",
       "      <td>-</td>\n",
       "    </tr>\n",
       "    <tr>\n",
       "      <th>10</th>\n",
       "      <td>00101300</td>\n",
       "      <td>CALHOUN COMMUNITY COLLEGE</td>\n",
       "      <td>AL</td>\n",
       "      <td>356710000</td>\n",
       "      <td>Public</td>\n",
       "      <td>1203</td>\n",
       "      <td>1204</td>\n",
       "      <td>4258026</td>\n",
       "      <td>1205</td>\n",
       "      <td>2136283</td>\n",
       "      <td>...</td>\n",
       "      <td>6</td>\n",
       "      <td>6</td>\n",
       "      <td>34914</td>\n",
       "      <td>6</td>\n",
       "      <td>17458</td>\n",
       "      <td>-</td>\n",
       "      <td>-</td>\n",
       "      <td>-</td>\n",
       "      <td>-</td>\n",
       "      <td>-</td>\n",
       "    </tr>\n",
       "    <tr>\n",
       "      <th>11</th>\n",
       "      <td>00101500</td>\n",
       "      <td>ENTERPRISE STATE COMMUNITY COLLEGE</td>\n",
       "      <td>AL</td>\n",
       "      <td>363311300</td>\n",
       "      <td>Public</td>\n",
       "      <td>134</td>\n",
       "      <td>134</td>\n",
       "      <td>450578</td>\n",
       "      <td>134</td>\n",
       "      <td>225298</td>\n",
       "      <td>...</td>\n",
       "      <td>3</td>\n",
       "      <td>3</td>\n",
       "      <td>22349</td>\n",
       "      <td>3</td>\n",
       "      <td>11175</td>\n",
       "      <td>-</td>\n",
       "      <td>-</td>\n",
       "      <td>-</td>\n",
       "      <td>-</td>\n",
       "      <td>-</td>\n",
       "    </tr>\n",
       "    <tr>\n",
       "      <th>12</th>\n",
       "      <td>00101600</td>\n",
       "      <td>UNIVERSITY OF NORTH ALABAMA</td>\n",
       "      <td>AL</td>\n",
       "      <td>356320001</td>\n",
       "      <td>Public</td>\n",
       "      <td>2154</td>\n",
       "      <td>2154</td>\n",
       "      <td>9047200</td>\n",
       "      <td>2156</td>\n",
       "      <td>4562882</td>\n",
       "      <td>...</td>\n",
       "      <td>447</td>\n",
       "      <td>448</td>\n",
       "      <td>5196965</td>\n",
       "      <td>448</td>\n",
       "      <td>2609881</td>\n",
       "      <td>13</td>\n",
       "      <td>13</td>\n",
       "      <td>105008</td>\n",
       "      <td>13</td>\n",
       "      <td>58177</td>\n",
       "    </tr>\n",
       "    <tr>\n",
       "      <th>13</th>\n",
       "      <td>00101900</td>\n",
       "      <td>HUNTINGDON COLLEGE</td>\n",
       "      <td>AL</td>\n",
       "      <td>361062148</td>\n",
       "      <td>Private-Nonprofit</td>\n",
       "      <td>559</td>\n",
       "      <td>559</td>\n",
       "      <td>2394436</td>\n",
       "      <td>559</td>\n",
       "      <td>1176535</td>\n",
       "      <td>...</td>\n",
       "      <td>205</td>\n",
       "      <td>205</td>\n",
       "      <td>2736058</td>\n",
       "      <td>206</td>\n",
       "      <td>1427337</td>\n",
       "      <td>-</td>\n",
       "      <td>-</td>\n",
       "      <td>-</td>\n",
       "      <td>-</td>\n",
       "      <td>-</td>\n",
       "    </tr>\n",
       "    <tr>\n",
       "      <th>14</th>\n",
       "      <td>00102000</td>\n",
       "      <td>JACKSONVILLE STATE UNIVERSITY</td>\n",
       "      <td>AL</td>\n",
       "      <td>362651602</td>\n",
       "      <td>Public</td>\n",
       "      <td>3014</td>\n",
       "      <td>3016</td>\n",
       "      <td>12571962</td>\n",
       "      <td>3016</td>\n",
       "      <td>6359586</td>\n",
       "      <td>...</td>\n",
       "      <td>461</td>\n",
       "      <td>463</td>\n",
       "      <td>5178634</td>\n",
       "      <td>463</td>\n",
       "      <td>2659983</td>\n",
       "      <td>4</td>\n",
       "      <td>4</td>\n",
       "      <td>66571</td>\n",
       "      <td>4</td>\n",
       "      <td>33286</td>\n",
       "    </tr>\n",
       "    <tr>\n",
       "      <th>15</th>\n",
       "      <td>00102200</td>\n",
       "      <td>JEFFERSON STATE COMMUNITY COLLEGE</td>\n",
       "      <td>AL</td>\n",
       "      <td>352153098</td>\n",
       "      <td>Public</td>\n",
       "      <td>1268</td>\n",
       "      <td>1269</td>\n",
       "      <td>4766011</td>\n",
       "      <td>1269</td>\n",
       "      <td>2382425</td>\n",
       "      <td>...</td>\n",
       "      <td>-</td>\n",
       "      <td>-</td>\n",
       "      <td>-</td>\n",
       "      <td>-</td>\n",
       "      <td>-</td>\n",
       "      <td>-</td>\n",
       "      <td>-</td>\n",
       "      <td>-</td>\n",
       "      <td>-</td>\n",
       "      <td>-</td>\n",
       "    </tr>\n",
       "    <tr>\n",
       "      <th>16</th>\n",
       "      <td>00102300</td>\n",
       "      <td>JUDSON COLLEGE</td>\n",
       "      <td>AL</td>\n",
       "      <td>367562504</td>\n",
       "      <td>Private-Nonprofit</td>\n",
       "      <td>156</td>\n",
       "      <td>156</td>\n",
       "      <td>573850</td>\n",
       "      <td>200</td>\n",
       "      <td>337350</td>\n",
       "      <td>...</td>\n",
       "      <td>29</td>\n",
       "      <td>29</td>\n",
       "      <td>225280</td>\n",
       "      <td>40</td>\n",
       "      <td>142680</td>\n",
       "      <td>-</td>\n",
       "      <td>-</td>\n",
       "      <td>-</td>\n",
       "      <td>-</td>\n",
       "      <td>-</td>\n",
       "    </tr>\n",
       "    <tr>\n",
       "      <th>17</th>\n",
       "      <td>00102400</td>\n",
       "      <td>UNIVERSITY OF WEST ALABAMA</td>\n",
       "      <td>AL</td>\n",
       "      <td>354700000</td>\n",
       "      <td>Public</td>\n",
       "      <td>1176</td>\n",
       "      <td>1191</td>\n",
       "      <td>4838527</td>\n",
       "      <td>1191</td>\n",
       "      <td>2476191</td>\n",
       "      <td>...</td>\n",
       "      <td>276</td>\n",
       "      <td>281</td>\n",
       "      <td>3528919</td>\n",
       "      <td>281</td>\n",
       "      <td>1807933</td>\n",
       "      <td>63</td>\n",
       "      <td>64</td>\n",
       "      <td>1504458</td>\n",
       "      <td>64</td>\n",
       "      <td>531359</td>\n",
       "    </tr>\n",
       "    <tr>\n",
       "      <th>18</th>\n",
       "      <td>00102600</td>\n",
       "      <td>MARION MILITARY INSTITUTE</td>\n",
       "      <td>AL</td>\n",
       "      <td>367563214</td>\n",
       "      <td>Public</td>\n",
       "      <td>103</td>\n",
       "      <td>103</td>\n",
       "      <td>351824</td>\n",
       "      <td>116</td>\n",
       "      <td>190062</td>\n",
       "      <td>...</td>\n",
       "      <td>23</td>\n",
       "      <td>23</td>\n",
       "      <td>145400</td>\n",
       "      <td>31</td>\n",
       "      <td>100142</td>\n",
       "      <td>-</td>\n",
       "      <td>-</td>\n",
       "      <td>-</td>\n",
       "      <td>-</td>\n",
       "      <td>-</td>\n",
       "    </tr>\n",
       "    <tr>\n",
       "      <th>19</th>\n",
       "      <td>00102800</td>\n",
       "      <td>MILES COLLEGE</td>\n",
       "      <td>AL</td>\n",
       "      <td>350642697</td>\n",
       "      <td>Private-Nonprofit</td>\n",
       "      <td>800</td>\n",
       "      <td>800</td>\n",
       "      <td>3522416</td>\n",
       "      <td>800</td>\n",
       "      <td>1768922</td>\n",
       "      <td>...</td>\n",
       "      <td>240</td>\n",
       "      <td>240</td>\n",
       "      <td>2214840</td>\n",
       "      <td>240</td>\n",
       "      <td>1111183</td>\n",
       "      <td>-</td>\n",
       "      <td>-</td>\n",
       "      <td>-</td>\n",
       "      <td>-</td>\n",
       "      <td>-</td>\n",
       "    </tr>\n",
       "  </tbody>\n",
       "</table>\n",
       "<p>20 rows × 30 columns</p>\n",
       "</div>"
      ],
      "text/plain": [
       "   Data as of Oct 1, 2019                                    Unnamed: 1  \\\n",
       "0                                                                   NaN   \n",
       "1                  OPE ID                                        School   \n",
       "2                00100200  ALABAMA AGRICULTURAL & MECHANICAL UNIVERSITY   \n",
       "3                00100300                           FAULKNER UNIVERSITY   \n",
       "4                00100400                      UNIVERSITY OF MONTEVALLO   \n",
       "5                00100500                      ALABAMA STATE UNIVERSITY   \n",
       "6                00100700             CENTRAL ALABAMA COMMUNITY COLLEGE   \n",
       "7                00100800                       ATHENS STATE UNIVERSITY   \n",
       "8                00100900                             AUBURN UNIVERSITY   \n",
       "9                00101200                   BIRMINGHAM-SOUTHERN COLLEGE   \n",
       "10               00101300                     CALHOUN COMMUNITY COLLEGE   \n",
       "11               00101500            ENTERPRISE STATE COMMUNITY COLLEGE   \n",
       "12               00101600                   UNIVERSITY OF NORTH ALABAMA   \n",
       "13               00101900                            HUNTINGDON COLLEGE   \n",
       "14               00102000                 JACKSONVILLE STATE UNIVERSITY   \n",
       "15               00102200             JEFFERSON STATE COMMUNITY COLLEGE   \n",
       "16               00102300                                JUDSON COLLEGE   \n",
       "17               00102400                    UNIVERSITY OF WEST ALABAMA   \n",
       "18               00102600                     MARION MILITARY INSTITUTE   \n",
       "19               00102800                                 MILES COLLEGE   \n",
       "\n",
       "   Unnamed: 2 Unnamed: 3         Unnamed: 4     Unnamed: 5  \\\n",
       "0         NaN        NaN                NaN  DL SUBSIDIZED   \n",
       "1       State   Zip Code        School Type     Recipients   \n",
       "2          AL  357621357             Public           2587   \n",
       "3          AL  361093398  Private-Nonprofit            943   \n",
       "4          AL  351156000             Public            995   \n",
       "5          AL  361045714             Public           1807   \n",
       "6          AL  350100000             Public            135   \n",
       "7          AL  356111999             Public           1070   \n",
       "8          AL  368495113             Public           4980   \n",
       "9          AL  352540002  Private-Nonprofit            382   \n",
       "10         AL  356710000             Public           1203   \n",
       "11         AL  363311300             Public            134   \n",
       "12         AL  356320001             Public           2154   \n",
       "13         AL  361062148  Private-Nonprofit            559   \n",
       "14         AL  362651602             Public           3014   \n",
       "15         AL  352153098             Public           1268   \n",
       "16         AL  367562504  Private-Nonprofit            156   \n",
       "17         AL  354700000             Public           1176   \n",
       "18         AL  367563214             Public            103   \n",
       "19         AL  350642697  Private-Nonprofit            800   \n",
       "\n",
       "               Unnamed: 6             Unnamed: 7          Unnamed: 8  \\\n",
       "0                     NaN                    NaN                 NaN   \n",
       "1   # of Loans Originated  $ of Loans Originated  # of Disbursements   \n",
       "2                    2614               10820197                2614   \n",
       "3                     947                2969661                 979   \n",
       "4                    1015                4221927                1015   \n",
       "5                    1812                7869171                1819   \n",
       "6                     138                 442997                 138   \n",
       "7                    1070                4756424                1070   \n",
       "8                    4980               21512561                5022   \n",
       "9                     382                1608770                 383   \n",
       "10                   1204                4258026                1205   \n",
       "11                    134                 450578                 134   \n",
       "12                   2154                9047200                2156   \n",
       "13                    559                2394436                 559   \n",
       "14                   3016               12571962                3016   \n",
       "15                   1269                4766011                1269   \n",
       "16                    156                 573850                 200   \n",
       "17                   1191                4838527                1191   \n",
       "18                    103                 351824                 116   \n",
       "19                    800                3522416                 800   \n",
       "\n",
       "            Unnamed: 9  ...     Unnamed: 20            Unnamed: 21  \\\n",
       "0                  NaN  ...  DL PARENT PLUS                    NaN   \n",
       "1   $ of Disbursements  ...      Recipients  # of Loans Originated   \n",
       "2              5426322  ...             837                    851   \n",
       "3              1425663  ...             138                    145   \n",
       "4              2112236  ...             262                    272   \n",
       "5              3971102  ...             453                    468   \n",
       "6               198766  ...               1                      1   \n",
       "7              2534864  ...              39                     39   \n",
       "8             11189698  ...            1562                   1580   \n",
       "9               804918  ...             164                    175   \n",
       "10             2136283  ...               6                      6   \n",
       "11              225298  ...               3                      3   \n",
       "12             4562882  ...             447                    448   \n",
       "13             1176535  ...             205                    205   \n",
       "14             6359586  ...             461                    463   \n",
       "15             2382425  ...               -                      -   \n",
       "16              337350  ...              29                     29   \n",
       "17             2476191  ...             276                    281   \n",
       "18              190062  ...              23                     23   \n",
       "19             1768922  ...             240                    240   \n",
       "\n",
       "              Unnamed: 22         Unnamed: 23         Unnamed: 24  \\\n",
       "0                     NaN                 NaN                 NaN   \n",
       "1   $ of Loans Originated  # of Disbursements  $ of Disbursements   \n",
       "2                12228044                 851             6131002   \n",
       "3                 1497367                 145              748684   \n",
       "4                 3471286                 272             1735683   \n",
       "5                 6881617                 469             3458242   \n",
       "6                    7725                   1                3863   \n",
       "7                  397692                  39              199065   \n",
       "8                40769458                1597            21105203   \n",
       "9                 2776087                 175             1428920   \n",
       "10                  34914                   6               17458   \n",
       "11                  22349                   3               11175   \n",
       "12                5196965                 448             2609881   \n",
       "13                2736058                 206             1427337   \n",
       "14                5178634                 463             2659983   \n",
       "15                      -                   -                   -   \n",
       "16                 225280                  40              142680   \n",
       "17                3528919                 281             1807933   \n",
       "18                 145400                  31              100142   \n",
       "19                2214840                 240             1111183   \n",
       "\n",
       "     Unnamed: 25            Unnamed: 26            Unnamed: 27  \\\n",
       "0   DL GRAD PLUS                    NaN                    NaN   \n",
       "1     Recipients  # of Loans Originated  $ of Loans Originated   \n",
       "2            122                    128                 982754   \n",
       "3            136                    147                2853880   \n",
       "4             11                     12                  97832   \n",
       "5             69                     70                 786372   \n",
       "6              -                      -                      -   \n",
       "7              -                      -                      -   \n",
       "8            355                    364                7026507   \n",
       "9              -                      -                      -   \n",
       "10             -                      -                      -   \n",
       "11             -                      -                      -   \n",
       "12            13                     13                 105008   \n",
       "13             -                      -                      -   \n",
       "14             4                      4                  66571   \n",
       "15             -                      -                      -   \n",
       "16             -                      -                      -   \n",
       "17            63                     64                1504458   \n",
       "18             -                      -                      -   \n",
       "19             -                      -                      -   \n",
       "\n",
       "           Unnamed: 28         Unnamed: 29  \n",
       "0                  NaN                 NaN  \n",
       "1   # of Disbursements  $ of Disbursements  \n",
       "2                  128              493128  \n",
       "3                  148             1429438  \n",
       "4                   12               48916  \n",
       "5                   76              408307  \n",
       "6                    -                   -  \n",
       "7                    -                   -  \n",
       "8                  367             3624855  \n",
       "9                    -                   -  \n",
       "10                   -                   -  \n",
       "11                   -                   -  \n",
       "12                  13               58177  \n",
       "13                   -                   -  \n",
       "14                   4               33286  \n",
       "15                   -                   -  \n",
       "16                   -                   -  \n",
       "17                  64              531359  \n",
       "18                   -                   -  \n",
       "19                   -                   -  \n",
       "\n",
       "[20 rows x 30 columns]"
      ]
     },
     "execution_count": 208,
     "metadata": {},
     "output_type": "execute_result"
    }
   ],
   "source": [
    "#%%\n",
    "# importing data and separating features / dependent variables\n",
    "\n",
    "df = pd.read_excel(\"dl-dashboard-ay2019-2020-q1.xls\", header = 4 ) \n",
    "df.head(20)\n"
   ]
  },
  {
   "cell_type": "code",
   "execution_count": 209,
   "metadata": {},
   "outputs": [],
   "source": [
    "#%% concatenating two index rows\n",
    "\n",
    "for col_num_i in range(5, df.shape[1]):\n",
    "    df[f'Unnamed: {col_num_i}'][1] = df[f'Unnamed: {col_num_i}'][1] +' - ' + df[f'Unnamed: {math.floor(col_num_i / 5)*5}'][0] \n",
    " #   print(df[f'Unnamed: {math.floor(col_num_i / 5)*5}'][0])        \n",
    " #   print(df[f'Unnamed: {col_num_i}'][1])"
   ]
  },
  {
   "cell_type": "code",
   "execution_count": 210,
   "metadata": {},
   "outputs": [],
   "source": [
    "#%%\n",
    "new_header = df.iloc[1]\n",
    "df = df.drop([0, 1])\n",
    "df.columns = new_header"
   ]
  },
  {
   "cell_type": "code",
   "execution_count": 211,
   "metadata": {},
   "outputs": [],
   "source": [
    "df_copy = df"
   ]
  },
  {
   "cell_type": "code",
   "execution_count": 232,
   "metadata": {},
   "outputs": [
    {
     "data": {
      "text/html": [
       "<div>\n",
       "<style scoped>\n",
       "    .dataframe tbody tr th:only-of-type {\n",
       "        vertical-align: middle;\n",
       "    }\n",
       "\n",
       "    .dataframe tbody tr th {\n",
       "        vertical-align: top;\n",
       "    }\n",
       "\n",
       "    .dataframe thead th {\n",
       "        text-align: right;\n",
       "    }\n",
       "</style>\n",
       "<table border=\"1\" class=\"dataframe\">\n",
       "  <thead>\n",
       "    <tr style=\"text-align: right;\">\n",
       "      <th>1</th>\n",
       "      <th>index</th>\n",
       "      <th>OPE ID</th>\n",
       "      <th>School</th>\n",
       "      <th>State</th>\n",
       "      <th>Zip Code</th>\n",
       "      <th>School Type</th>\n",
       "      <th>Recipients - DL SUBSIDIZED</th>\n",
       "      <th># of Loans Originated - DL SUBSIDIZED</th>\n",
       "      <th>$ of Loans Originated - DL SUBSIDIZED</th>\n",
       "      <th># of Disbursements - DL SUBSIDIZED</th>\n",
       "      <th>...</th>\n",
       "      <th>Recipients - DL PARENT PLUS</th>\n",
       "      <th># of Loans Originated - DL PARENT PLUS</th>\n",
       "      <th>$ of Loans Originated - DL PARENT PLUS</th>\n",
       "      <th># of Disbursements - DL PARENT PLUS</th>\n",
       "      <th>$ of Disbursements - DL PARENT PLUS</th>\n",
       "      <th>Recipients - DL GRAD PLUS</th>\n",
       "      <th># of Loans Originated - DL GRAD PLUS</th>\n",
       "      <th>$ of Loans Originated - DL GRAD PLUS</th>\n",
       "      <th># of Disbursements - DL GRAD PLUS</th>\n",
       "      <th>$ of Disbursements - DL GRAD PLUS</th>\n",
       "    </tr>\n",
       "  </thead>\n",
       "  <tbody>\n",
       "    <tr>\n",
       "      <th>0</th>\n",
       "      <td>2</td>\n",
       "      <td>00100200</td>\n",
       "      <td>ALABAMA AGRICULTURAL &amp; MECHANICAL UNIVERSITY</td>\n",
       "      <td>AL</td>\n",
       "      <td>357621357</td>\n",
       "      <td>Public</td>\n",
       "      <td>2587</td>\n",
       "      <td>2614</td>\n",
       "      <td>10820197</td>\n",
       "      <td>2614</td>\n",
       "      <td>...</td>\n",
       "      <td>837</td>\n",
       "      <td>851</td>\n",
       "      <td>12228044</td>\n",
       "      <td>851</td>\n",
       "      <td>6131002</td>\n",
       "      <td>122</td>\n",
       "      <td>128</td>\n",
       "      <td>982754</td>\n",
       "      <td>128</td>\n",
       "      <td>493128</td>\n",
       "    </tr>\n",
       "    <tr>\n",
       "      <th>1</th>\n",
       "      <td>3</td>\n",
       "      <td>00100300</td>\n",
       "      <td>FAULKNER UNIVERSITY</td>\n",
       "      <td>AL</td>\n",
       "      <td>361093398</td>\n",
       "      <td>Private-Nonprofit</td>\n",
       "      <td>943</td>\n",
       "      <td>947</td>\n",
       "      <td>2969661</td>\n",
       "      <td>979</td>\n",
       "      <td>...</td>\n",
       "      <td>138</td>\n",
       "      <td>145</td>\n",
       "      <td>1497367</td>\n",
       "      <td>145</td>\n",
       "      <td>748684</td>\n",
       "      <td>136</td>\n",
       "      <td>147</td>\n",
       "      <td>2853880</td>\n",
       "      <td>148</td>\n",
       "      <td>1429438</td>\n",
       "    </tr>\n",
       "    <tr>\n",
       "      <th>2</th>\n",
       "      <td>4</td>\n",
       "      <td>00100400</td>\n",
       "      <td>UNIVERSITY OF MONTEVALLO</td>\n",
       "      <td>AL</td>\n",
       "      <td>351156000</td>\n",
       "      <td>Public</td>\n",
       "      <td>995</td>\n",
       "      <td>1015</td>\n",
       "      <td>4221927</td>\n",
       "      <td>1015</td>\n",
       "      <td>...</td>\n",
       "      <td>262</td>\n",
       "      <td>272</td>\n",
       "      <td>3471286</td>\n",
       "      <td>272</td>\n",
       "      <td>1735683</td>\n",
       "      <td>11</td>\n",
       "      <td>12</td>\n",
       "      <td>97832</td>\n",
       "      <td>12</td>\n",
       "      <td>48916</td>\n",
       "    </tr>\n",
       "    <tr>\n",
       "      <th>3</th>\n",
       "      <td>5</td>\n",
       "      <td>00100500</td>\n",
       "      <td>ALABAMA STATE UNIVERSITY</td>\n",
       "      <td>AL</td>\n",
       "      <td>361045714</td>\n",
       "      <td>Public</td>\n",
       "      <td>1807</td>\n",
       "      <td>1812</td>\n",
       "      <td>7869171</td>\n",
       "      <td>1819</td>\n",
       "      <td>...</td>\n",
       "      <td>453</td>\n",
       "      <td>468</td>\n",
       "      <td>6881617</td>\n",
       "      <td>469</td>\n",
       "      <td>3458242</td>\n",
       "      <td>69</td>\n",
       "      <td>70</td>\n",
       "      <td>786372</td>\n",
       "      <td>76</td>\n",
       "      <td>408307</td>\n",
       "    </tr>\n",
       "    <tr>\n",
       "      <th>4</th>\n",
       "      <td>6</td>\n",
       "      <td>00100700</td>\n",
       "      <td>CENTRAL ALABAMA COMMUNITY COLLEGE</td>\n",
       "      <td>AL</td>\n",
       "      <td>350100000</td>\n",
       "      <td>Public</td>\n",
       "      <td>135</td>\n",
       "      <td>138</td>\n",
       "      <td>442997</td>\n",
       "      <td>138</td>\n",
       "      <td>...</td>\n",
       "      <td>1</td>\n",
       "      <td>1</td>\n",
       "      <td>7725</td>\n",
       "      <td>1</td>\n",
       "      <td>3863</td>\n",
       "      <td>-</td>\n",
       "      <td>-</td>\n",
       "      <td>-</td>\n",
       "      <td>-</td>\n",
       "      <td>-</td>\n",
       "    </tr>\n",
       "    <tr>\n",
       "      <th>...</th>\n",
       "      <td>...</td>\n",
       "      <td>...</td>\n",
       "      <td>...</td>\n",
       "      <td>...</td>\n",
       "      <td>...</td>\n",
       "      <td>...</td>\n",
       "      <td>...</td>\n",
       "      <td>...</td>\n",
       "      <td>...</td>\n",
       "      <td>...</td>\n",
       "      <td>...</td>\n",
       "      <td>...</td>\n",
       "      <td>...</td>\n",
       "      <td>...</td>\n",
       "      <td>...</td>\n",
       "      <td>...</td>\n",
       "      <td>...</td>\n",
       "      <td>...</td>\n",
       "      <td>...</td>\n",
       "      <td>...</td>\n",
       "      <td>...</td>\n",
       "    </tr>\n",
       "    <tr>\n",
       "      <th>4151</th>\n",
       "      <td>4441</td>\n",
       "      <td>04283200</td>\n",
       "      <td>DELUXE BARBER COLLEGE</td>\n",
       "      <td>TX</td>\n",
       "      <td>782172118</td>\n",
       "      <td>Proprietary</td>\n",
       "      <td>5</td>\n",
       "      <td>5</td>\n",
       "      <td>17500</td>\n",
       "      <td>5</td>\n",
       "      <td>...</td>\n",
       "      <td>-</td>\n",
       "      <td>-</td>\n",
       "      <td>-</td>\n",
       "      <td>-</td>\n",
       "      <td>-</td>\n",
       "      <td>-</td>\n",
       "      <td>-</td>\n",
       "      <td>-</td>\n",
       "      <td>-</td>\n",
       "      <td>-</td>\n",
       "    </tr>\n",
       "    <tr>\n",
       "      <th>4152</th>\n",
       "      <td>4442</td>\n",
       "      <td>04283300</td>\n",
       "      <td>A BETTER U BEAUTY BARBER ACADEMY</td>\n",
       "      <td>NM</td>\n",
       "      <td>871103128</td>\n",
       "      <td>Proprietary</td>\n",
       "      <td>2</td>\n",
       "      <td>2</td>\n",
       "      <td>6572</td>\n",
       "      <td>3</td>\n",
       "      <td>...</td>\n",
       "      <td>-</td>\n",
       "      <td>-</td>\n",
       "      <td>-</td>\n",
       "      <td>-</td>\n",
       "      <td>-</td>\n",
       "      <td>-</td>\n",
       "      <td>-</td>\n",
       "      <td>-</td>\n",
       "      <td>-</td>\n",
       "      <td>-</td>\n",
       "    </tr>\n",
       "    <tr>\n",
       "      <th>4153</th>\n",
       "      <td>4443</td>\n",
       "      <td>04283500</td>\n",
       "      <td>FALCON INSTITUTE OF HEALTH AND SCIENCE</td>\n",
       "      <td>PA</td>\n",
       "      <td>180172113</td>\n",
       "      <td>Proprietary</td>\n",
       "      <td>2</td>\n",
       "      <td>2</td>\n",
       "      <td>6297</td>\n",
       "      <td>2</td>\n",
       "      <td>...</td>\n",
       "      <td>-</td>\n",
       "      <td>-</td>\n",
       "      <td>-</td>\n",
       "      <td>-</td>\n",
       "      <td>-</td>\n",
       "      <td>-</td>\n",
       "      <td>-</td>\n",
       "      <td>-</td>\n",
       "      <td>-</td>\n",
       "      <td>-</td>\n",
       "    </tr>\n",
       "    <tr>\n",
       "      <th>4154</th>\n",
       "      <td>4444</td>\n",
       "      <td>04283600</td>\n",
       "      <td>COLLEGE UNBOUND</td>\n",
       "      <td>RI</td>\n",
       "      <td>029052340</td>\n",
       "      <td>Private-Nonprofit</td>\n",
       "      <td>54</td>\n",
       "      <td>54</td>\n",
       "      <td>208576</td>\n",
       "      <td>54</td>\n",
       "      <td>...</td>\n",
       "      <td>-</td>\n",
       "      <td>-</td>\n",
       "      <td>-</td>\n",
       "      <td>-</td>\n",
       "      <td>-</td>\n",
       "      <td>-</td>\n",
       "      <td>-</td>\n",
       "      <td>-</td>\n",
       "      <td>-</td>\n",
       "      <td>-</td>\n",
       "    </tr>\n",
       "    <tr>\n",
       "      <th>4155</th>\n",
       "      <td>4445</td>\n",
       "      <td>04284500</td>\n",
       "      <td>MIDWEST BARBER COLLEGE</td>\n",
       "      <td>KS</td>\n",
       "      <td>666112358</td>\n",
       "      <td>Proprietary</td>\n",
       "      <td>4</td>\n",
       "      <td>4</td>\n",
       "      <td>7726</td>\n",
       "      <td>4</td>\n",
       "      <td>...</td>\n",
       "      <td>-</td>\n",
       "      <td>-</td>\n",
       "      <td>-</td>\n",
       "      <td>-</td>\n",
       "      <td>-</td>\n",
       "      <td>-</td>\n",
       "      <td>-</td>\n",
       "      <td>-</td>\n",
       "      <td>-</td>\n",
       "      <td>-</td>\n",
       "    </tr>\n",
       "  </tbody>\n",
       "</table>\n",
       "<p>4156 rows × 31 columns</p>\n",
       "</div>"
      ],
      "text/plain": [
       "1     index    OPE ID                                        School State  \\\n",
       "0         2  00100200  ALABAMA AGRICULTURAL & MECHANICAL UNIVERSITY    AL   \n",
       "1         3  00100300                           FAULKNER UNIVERSITY    AL   \n",
       "2         4  00100400                      UNIVERSITY OF MONTEVALLO    AL   \n",
       "3         5  00100500                      ALABAMA STATE UNIVERSITY    AL   \n",
       "4         6  00100700             CENTRAL ALABAMA COMMUNITY COLLEGE    AL   \n",
       "...     ...       ...                                           ...   ...   \n",
       "4151   4441  04283200                         DELUXE BARBER COLLEGE    TX   \n",
       "4152   4442  04283300              A BETTER U BEAUTY BARBER ACADEMY    NM   \n",
       "4153   4443  04283500        FALCON INSTITUTE OF HEALTH AND SCIENCE    PA   \n",
       "4154   4444  04283600                               COLLEGE UNBOUND    RI   \n",
       "4155   4445  04284500                        MIDWEST BARBER COLLEGE    KS   \n",
       "\n",
       "1      Zip Code        School Type Recipients - DL SUBSIDIZED  \\\n",
       "0     357621357             Public                       2587   \n",
       "1     361093398  Private-Nonprofit                        943   \n",
       "2     351156000             Public                        995   \n",
       "3     361045714             Public                       1807   \n",
       "4     350100000             Public                        135   \n",
       "...         ...                ...                        ...   \n",
       "4151  782172118        Proprietary                          5   \n",
       "4152  871103128        Proprietary                          2   \n",
       "4153  180172113        Proprietary                          2   \n",
       "4154  029052340  Private-Nonprofit                         54   \n",
       "4155  666112358        Proprietary                          4   \n",
       "\n",
       "1    # of Loans Originated - DL SUBSIDIZED  \\\n",
       "0                                     2614   \n",
       "1                                      947   \n",
       "2                                     1015   \n",
       "3                                     1812   \n",
       "4                                      138   \n",
       "...                                    ...   \n",
       "4151                                     5   \n",
       "4152                                     2   \n",
       "4153                                     2   \n",
       "4154                                    54   \n",
       "4155                                     4   \n",
       "\n",
       "1    $ of Loans Originated - DL SUBSIDIZED # of Disbursements - DL SUBSIDIZED  \\\n",
       "0                                 10820197                               2614   \n",
       "1                                  2969661                                979   \n",
       "2                                  4221927                               1015   \n",
       "3                                  7869171                               1819   \n",
       "4                                   442997                                138   \n",
       "...                                    ...                                ...   \n",
       "4151                                 17500                                  5   \n",
       "4152                                  6572                                  3   \n",
       "4153                                  6297                                  2   \n",
       "4154                                208576                                 54   \n",
       "4155                                  7726                                  4   \n",
       "\n",
       "1     ... Recipients - DL PARENT PLUS # of Loans Originated - DL PARENT PLUS  \\\n",
       "0     ...                         837                                    851   \n",
       "1     ...                         138                                    145   \n",
       "2     ...                         262                                    272   \n",
       "3     ...                         453                                    468   \n",
       "4     ...                           1                                      1   \n",
       "...   ...                         ...                                    ...   \n",
       "4151  ...                           -                                      -   \n",
       "4152  ...                           -                                      -   \n",
       "4153  ...                           -                                      -   \n",
       "4154  ...                           -                                      -   \n",
       "4155  ...                           -                                      -   \n",
       "\n",
       "1    $ of Loans Originated - DL PARENT PLUS  \\\n",
       "0                                  12228044   \n",
       "1                                   1497367   \n",
       "2                                   3471286   \n",
       "3                                   6881617   \n",
       "4                                      7725   \n",
       "...                                     ...   \n",
       "4151                                      -   \n",
       "4152                                      -   \n",
       "4153                                      -   \n",
       "4154                                      -   \n",
       "4155                                      -   \n",
       "\n",
       "1    # of Disbursements - DL PARENT PLUS $ of Disbursements - DL PARENT PLUS  \\\n",
       "0                                    851                             6131002   \n",
       "1                                    145                              748684   \n",
       "2                                    272                             1735683   \n",
       "3                                    469                             3458242   \n",
       "4                                      1                                3863   \n",
       "...                                  ...                                 ...   \n",
       "4151                                   -                                   -   \n",
       "4152                                   -                                   -   \n",
       "4153                                   -                                   -   \n",
       "4154                                   -                                   -   \n",
       "4155                                   -                                   -   \n",
       "\n",
       "1    Recipients - DL GRAD PLUS # of Loans Originated - DL GRAD PLUS  \\\n",
       "0                          122                                  128   \n",
       "1                          136                                  147   \n",
       "2                           11                                   12   \n",
       "3                           69                                   70   \n",
       "4                            -                                    -   \n",
       "...                        ...                                  ...   \n",
       "4151                         -                                    -   \n",
       "4152                         -                                    -   \n",
       "4153                         -                                    -   \n",
       "4154                         -                                    -   \n",
       "4155                         -                                    -   \n",
       "\n",
       "1    $ of Loans Originated - DL GRAD PLUS # of Disbursements - DL GRAD PLUS  \\\n",
       "0                                  982754                               128   \n",
       "1                                 2853880                               148   \n",
       "2                                   97832                                12   \n",
       "3                                  786372                                76   \n",
       "4                                       -                                 -   \n",
       "...                                   ...                               ...   \n",
       "4151                                    -                                 -   \n",
       "4152                                    -                                 -   \n",
       "4153                                    -                                 -   \n",
       "4154                                    -                                 -   \n",
       "4155                                    -                                 -   \n",
       "\n",
       "1    $ of Disbursements - DL GRAD PLUS  \n",
       "0                               493128  \n",
       "1                              1429438  \n",
       "2                                48916  \n",
       "3                               408307  \n",
       "4                                    -  \n",
       "...                                ...  \n",
       "4151                                 -  \n",
       "4152                                 -  \n",
       "4153                                 -  \n",
       "4154                                 -  \n",
       "4155                                 -  \n",
       "\n",
       "[4156 rows x 31 columns]"
      ]
     },
     "execution_count": 232,
     "metadata": {},
     "output_type": "execute_result"
    }
   ],
   "source": [
    "df_copy"
   ]
  },
  {
   "cell_type": "markdown",
   "metadata": {},
   "source": [
    "# DL SUBSIDIZED"
   ]
  },
  {
   "cell_type": "code",
   "execution_count": 97,
   "metadata": {},
   "outputs": [],
   "source": []
  },
  {
   "cell_type": "code",
   "execution_count": 67,
   "metadata": {},
   "outputs": [
    {
     "data": {
      "text/plain": [
       "' -'"
      ]
     },
     "execution_count": 67,
     "metadata": {},
     "output_type": "execute_result"
    }
   ],
   "source": [
    "df['$ of Disbursements - DL SUBSIDIZED'][729]"
   ]
  },
  {
   "cell_type": "code",
   "execution_count": 68,
   "metadata": {},
   "outputs": [],
   "source": [
    "#%%\n",
    "for row_num in range(2,df.shape[0]):\n",
    "    if df['$ of Loans Originated - DL SUBSIDIZED'][row_num] == ' -':\n",
    " #       print(f'{row_num} here')\n",
    " #       df['$ of Loans Originated - DL SUBSIDIZED'][row_num] = 0\n",
    "        df.drop([row_num], inplace = True)\n",
    "\n",
    "df.reset_index(level=0, inplace=True)"
   ]
  },
  {
   "cell_type": "code",
   "execution_count": 69,
   "metadata": {},
   "outputs": [],
   "source": [
    "      \n",
    "df_subsidized = df.groupby(['State']).agg({'School':['count'],\n",
    "                                           'Recipients - DL SUBSIDIZED' : ['sum'],\n",
    "                                           '# of Loans Originated - DL SUBSIDIZED' : ['sum'],\n",
    "                                           '$ of Loans Originated - DL SUBSIDIZED' : ['sum'],\n",
    "                                           '# of Disbursements - DL SUBSIDIZED' : ['sum'],\n",
    "                                           '$ of Disbursements - DL SUBSIDIZED' : ['sum']})\n",
    "#%%\n",
    "df_subsidized.reset_index(level=0, inplace=True)\n",
    "df_subsidized.columns = df_subsidized.columns.droplevel(1)"
   ]
  },
  {
   "cell_type": "code",
   "execution_count": 70,
   "metadata": {},
   "outputs": [
    {
     "data": {
      "text/html": [
       "<div>\n",
       "<style scoped>\n",
       "    .dataframe tbody tr th:only-of-type {\n",
       "        vertical-align: middle;\n",
       "    }\n",
       "\n",
       "    .dataframe tbody tr th {\n",
       "        vertical-align: top;\n",
       "    }\n",
       "\n",
       "    .dataframe thead th {\n",
       "        text-align: right;\n",
       "    }\n",
       "</style>\n",
       "<table border=\"1\" class=\"dataframe\">\n",
       "  <thead>\n",
       "    <tr style=\"text-align: right;\">\n",
       "      <th></th>\n",
       "      <th>State</th>\n",
       "      <th>School</th>\n",
       "      <th>Recipients - DL SUBSIDIZED</th>\n",
       "      <th># of Loans Originated - DL SUBSIDIZED</th>\n",
       "      <th>$ of Loans Originated - DL SUBSIDIZED</th>\n",
       "      <th># of Disbursements - DL SUBSIDIZED</th>\n",
       "      <th>$ of Disbursements - DL SUBSIDIZED</th>\n",
       "    </tr>\n",
       "  </thead>\n",
       "  <tbody>\n",
       "    <tr>\n",
       "      <th>0</th>\n",
       "      <td>AK</td>\n",
       "      <td>7</td>\n",
       "      <td>2894</td>\n",
       "      <td>2912</td>\n",
       "      <td>11445154</td>\n",
       "      <td>2912</td>\n",
       "      <td>6082446</td>\n",
       "    </tr>\n",
       "    <tr>\n",
       "      <th>1</th>\n",
       "      <td>AL</td>\n",
       "      <td>58</td>\n",
       "      <td>61329</td>\n",
       "      <td>61929</td>\n",
       "      <td>254302237</td>\n",
       "      <td>62725</td>\n",
       "      <td>125629240</td>\n",
       "    </tr>\n",
       "    <tr>\n",
       "      <th>2</th>\n",
       "      <td>AR</td>\n",
       "      <td>67</td>\n",
       "      <td>30674</td>\n",
       "      <td>31172</td>\n",
       "      <td>122844178</td>\n",
       "      <td>31517</td>\n",
       "      <td>61626183</td>\n",
       "    </tr>\n",
       "    <tr>\n",
       "      <th>3</th>\n",
       "      <td>AZ</td>\n",
       "      <td>58</td>\n",
       "      <td>97188</td>\n",
       "      <td>98025</td>\n",
       "      <td>392265743</td>\n",
       "      <td>100062</td>\n",
       "      <td>198051799</td>\n",
       "    </tr>\n",
       "    <tr>\n",
       "      <th>4</th>\n",
       "      <td>CA</td>\n",
       "      <td>415</td>\n",
       "      <td>229245</td>\n",
       "      <td>232044</td>\n",
       "      <td>981050427</td>\n",
       "      <td>234288</td>\n",
       "      <td>467089691</td>\n",
       "    </tr>\n",
       "    <tr>\n",
       "      <th>5</th>\n",
       "      <td>CO</td>\n",
       "      <td>68</td>\n",
       "      <td>57261</td>\n",
       "      <td>58103</td>\n",
       "      <td>223448409</td>\n",
       "      <td>59625</td>\n",
       "      <td>111054812</td>\n",
       "    </tr>\n",
       "    <tr>\n",
       "      <th>6</th>\n",
       "      <td>CT</td>\n",
       "      <td>41</td>\n",
       "      <td>40305</td>\n",
       "      <td>40492</td>\n",
       "      <td>171222206</td>\n",
       "      <td>41318</td>\n",
       "      <td>85037548</td>\n",
       "    </tr>\n",
       "    <tr>\n",
       "      <th>7</th>\n",
       "      <td>DC</td>\n",
       "      <td>13</td>\n",
       "      <td>23964</td>\n",
       "      <td>24005</td>\n",
       "      <td>97433168</td>\n",
       "      <td>24035</td>\n",
       "      <td>41571608</td>\n",
       "    </tr>\n",
       "    <tr>\n",
       "      <th>8</th>\n",
       "      <td>DE</td>\n",
       "      <td>13</td>\n",
       "      <td>7656</td>\n",
       "      <td>7699</td>\n",
       "      <td>32762102</td>\n",
       "      <td>7703</td>\n",
       "      <td>16592108</td>\n",
       "    </tr>\n",
       "    <tr>\n",
       "      <th>9</th>\n",
       "      <td>FL</td>\n",
       "      <td>190</td>\n",
       "      <td>137606</td>\n",
       "      <td>139453</td>\n",
       "      <td>482039319</td>\n",
       "      <td>143683</td>\n",
       "      <td>281561739</td>\n",
       "    </tr>\n",
       "    <tr>\n",
       "      <th>10</th>\n",
       "      <td>GA</td>\n",
       "      <td>93</td>\n",
       "      <td>112421</td>\n",
       "      <td>114897</td>\n",
       "      <td>449157557</td>\n",
       "      <td>117423</td>\n",
       "      <td>225532148</td>\n",
       "    </tr>\n",
       "    <tr>\n",
       "      <th>11</th>\n",
       "      <td>GU</td>\n",
       "      <td>1</td>\n",
       "      <td>9</td>\n",
       "      <td>9</td>\n",
       "      <td>42000</td>\n",
       "      <td>9</td>\n",
       "      <td>21000</td>\n",
       "    </tr>\n",
       "    <tr>\n",
       "      <th>12</th>\n",
       "      <td>HI</td>\n",
       "      <td>17</td>\n",
       "      <td>6436</td>\n",
       "      <td>6471</td>\n",
       "      <td>26940917</td>\n",
       "      <td>6560</td>\n",
       "      <td>13756196</td>\n",
       "    </tr>\n",
       "    <tr>\n",
       "      <th>13</th>\n",
       "      <td>IA</td>\n",
       "      <td>67</td>\n",
       "      <td>47706</td>\n",
       "      <td>48021</td>\n",
       "      <td>177333942</td>\n",
       "      <td>48296</td>\n",
       "      <td>95116070</td>\n",
       "    </tr>\n",
       "    <tr>\n",
       "      <th>14</th>\n",
       "      <td>ID</td>\n",
       "      <td>28</td>\n",
       "      <td>18166</td>\n",
       "      <td>18248</td>\n",
       "      <td>72032738</td>\n",
       "      <td>18559</td>\n",
       "      <td>36524554</td>\n",
       "    </tr>\n",
       "    <tr>\n",
       "      <th>15</th>\n",
       "      <td>IL</td>\n",
       "      <td>168</td>\n",
       "      <td>113050</td>\n",
       "      <td>114015</td>\n",
       "      <td>468380412</td>\n",
       "      <td>122334</td>\n",
       "      <td>229695512</td>\n",
       "    </tr>\n",
       "    <tr>\n",
       "      <th>16</th>\n",
       "      <td>IN</td>\n",
       "      <td>78</td>\n",
       "      <td>79186</td>\n",
       "      <td>80447</td>\n",
       "      <td>308142604</td>\n",
       "      <td>83427</td>\n",
       "      <td>154521367</td>\n",
       "    </tr>\n",
       "    <tr>\n",
       "      <th>17</th>\n",
       "      <td>KS</td>\n",
       "      <td>63</td>\n",
       "      <td>37525</td>\n",
       "      <td>38315</td>\n",
       "      <td>151742173</td>\n",
       "      <td>38880</td>\n",
       "      <td>77210007</td>\n",
       "    </tr>\n",
       "    <tr>\n",
       "      <th>18</th>\n",
       "      <td>KY</td>\n",
       "      <td>62</td>\n",
       "      <td>48887</td>\n",
       "      <td>49664</td>\n",
       "      <td>194640771</td>\n",
       "      <td>49768</td>\n",
       "      <td>98116668</td>\n",
       "    </tr>\n",
       "    <tr>\n",
       "      <th>19</th>\n",
       "      <td>LA</td>\n",
       "      <td>77</td>\n",
       "      <td>59940</td>\n",
       "      <td>60445</td>\n",
       "      <td>239414027</td>\n",
       "      <td>62592</td>\n",
       "      <td>119865792</td>\n",
       "    </tr>\n",
       "    <tr>\n",
       "      <th>20</th>\n",
       "      <td>MA</td>\n",
       "      <td>95</td>\n",
       "      <td>73022</td>\n",
       "      <td>73247</td>\n",
       "      <td>323820171</td>\n",
       "      <td>73485</td>\n",
       "      <td>163537470</td>\n",
       "    </tr>\n",
       "    <tr>\n",
       "      <th>21</th>\n",
       "      <td>MD</td>\n",
       "      <td>57</td>\n",
       "      <td>43742</td>\n",
       "      <td>44561</td>\n",
       "      <td>181686841</td>\n",
       "      <td>44839</td>\n",
       "      <td>92665175</td>\n",
       "    </tr>\n",
       "    <tr>\n",
       "      <th>22</th>\n",
       "      <td>ME</td>\n",
       "      <td>33</td>\n",
       "      <td>16414</td>\n",
       "      <td>16506</td>\n",
       "      <td>67169953</td>\n",
       "      <td>16583</td>\n",
       "      <td>34008974</td>\n",
       "    </tr>\n",
       "    <tr>\n",
       "      <th>23</th>\n",
       "      <td>MI</td>\n",
       "      <td>100</td>\n",
       "      <td>104610</td>\n",
       "      <td>106247</td>\n",
       "      <td>423477566</td>\n",
       "      <td>106679</td>\n",
       "      <td>217005677</td>\n",
       "    </tr>\n",
       "    <tr>\n",
       "      <th>24</th>\n",
       "      <td>MN</td>\n",
       "      <td>79</td>\n",
       "      <td>72371</td>\n",
       "      <td>75050</td>\n",
       "      <td>281195154</td>\n",
       "      <td>75150</td>\n",
       "      <td>139011802</td>\n",
       "    </tr>\n",
       "    <tr>\n",
       "      <th>25</th>\n",
       "      <td>MO</td>\n",
       "      <td>118</td>\n",
       "      <td>60885</td>\n",
       "      <td>61678</td>\n",
       "      <td>249522363</td>\n",
       "      <td>62803</td>\n",
       "      <td>124972759</td>\n",
       "    </tr>\n",
       "    <tr>\n",
       "      <th>26</th>\n",
       "      <td>MS</td>\n",
       "      <td>35</td>\n",
       "      <td>31965</td>\n",
       "      <td>32184</td>\n",
       "      <td>134216119</td>\n",
       "      <td>32280</td>\n",
       "      <td>64674874</td>\n",
       "    </tr>\n",
       "    <tr>\n",
       "      <th>27</th>\n",
       "      <td>MT</td>\n",
       "      <td>20</td>\n",
       "      <td>10128</td>\n",
       "      <td>10211</td>\n",
       "      <td>40812403</td>\n",
       "      <td>10233</td>\n",
       "      <td>20629287</td>\n",
       "    </tr>\n",
       "    <tr>\n",
       "      <th>28</th>\n",
       "      <td>NC</td>\n",
       "      <td>92</td>\n",
       "      <td>105817</td>\n",
       "      <td>108101</td>\n",
       "      <td>441641311</td>\n",
       "      <td>109059</td>\n",
       "      <td>215666580</td>\n",
       "    </tr>\n",
       "    <tr>\n",
       "      <th>29</th>\n",
       "      <td>ND</td>\n",
       "      <td>19</td>\n",
       "      <td>10302</td>\n",
       "      <td>10395</td>\n",
       "      <td>41931744</td>\n",
       "      <td>10414</td>\n",
       "      <td>21586162</td>\n",
       "    </tr>\n",
       "    <tr>\n",
       "      <th>30</th>\n",
       "      <td>NE</td>\n",
       "      <td>34</td>\n",
       "      <td>21640</td>\n",
       "      <td>22123</td>\n",
       "      <td>87374355</td>\n",
       "      <td>22132</td>\n",
       "      <td>43963636</td>\n",
       "    </tr>\n",
       "    <tr>\n",
       "      <th>31</th>\n",
       "      <td>NH</td>\n",
       "      <td>28</td>\n",
       "      <td>50365</td>\n",
       "      <td>50799</td>\n",
       "      <td>192716286</td>\n",
       "      <td>69145</td>\n",
       "      <td>76603328</td>\n",
       "    </tr>\n",
       "    <tr>\n",
       "      <th>32</th>\n",
       "      <td>NJ</td>\n",
       "      <td>70</td>\n",
       "      <td>55780</td>\n",
       "      <td>55853</td>\n",
       "      <td>243871001</td>\n",
       "      <td>56679</td>\n",
       "      <td>123853235</td>\n",
       "    </tr>\n",
       "    <tr>\n",
       "      <th>33</th>\n",
       "      <td>NM</td>\n",
       "      <td>25</td>\n",
       "      <td>10345</td>\n",
       "      <td>10506</td>\n",
       "      <td>41983196</td>\n",
       "      <td>10558</td>\n",
       "      <td>21472416</td>\n",
       "    </tr>\n",
       "    <tr>\n",
       "      <th>34</th>\n",
       "      <td>NV</td>\n",
       "      <td>20</td>\n",
       "      <td>14771</td>\n",
       "      <td>14998</td>\n",
       "      <td>59702880</td>\n",
       "      <td>15158</td>\n",
       "      <td>30516263</td>\n",
       "    </tr>\n",
       "    <tr>\n",
       "      <th>35</th>\n",
       "      <td>NY</td>\n",
       "      <td>244</td>\n",
       "      <td>168124</td>\n",
       "      <td>169926</td>\n",
       "      <td>708856602</td>\n",
       "      <td>174082</td>\n",
       "      <td>363870652</td>\n",
       "    </tr>\n",
       "    <tr>\n",
       "      <th>36</th>\n",
       "      <td>OH</td>\n",
       "      <td>180</td>\n",
       "      <td>129913</td>\n",
       "      <td>132458</td>\n",
       "      <td>519965552</td>\n",
       "      <td>133430</td>\n",
       "      <td>261206874</td>\n",
       "    </tr>\n",
       "    <tr>\n",
       "      <th>37</th>\n",
       "      <td>OK</td>\n",
       "      <td>59</td>\n",
       "      <td>37190</td>\n",
       "      <td>37852</td>\n",
       "      <td>145948920</td>\n",
       "      <td>39459</td>\n",
       "      <td>74194936</td>\n",
       "    </tr>\n",
       "    <tr>\n",
       "      <th>38</th>\n",
       "      <td>OR</td>\n",
       "      <td>53</td>\n",
       "      <td>24773</td>\n",
       "      <td>24973</td>\n",
       "      <td>105614082</td>\n",
       "      <td>25412</td>\n",
       "      <td>42610509</td>\n",
       "    </tr>\n",
       "    <tr>\n",
       "      <th>39</th>\n",
       "      <td>PA</td>\n",
       "      <td>214</td>\n",
       "      <td>177433</td>\n",
       "      <td>178543</td>\n",
       "      <td>759048992</td>\n",
       "      <td>179303</td>\n",
       "      <td>379710855</td>\n",
       "    </tr>\n",
       "    <tr>\n",
       "      <th>40</th>\n",
       "      <td>PR</td>\n",
       "      <td>34</td>\n",
       "      <td>17778</td>\n",
       "      <td>17837</td>\n",
       "      <td>67851802</td>\n",
       "      <td>18024</td>\n",
       "      <td>36448301</td>\n",
       "    </tr>\n",
       "    <tr>\n",
       "      <th>41</th>\n",
       "      <td>RI</td>\n",
       "      <td>14</td>\n",
       "      <td>18951</td>\n",
       "      <td>19077</td>\n",
       "      <td>81493936</td>\n",
       "      <td>19112</td>\n",
       "      <td>37673081</td>\n",
       "    </tr>\n",
       "    <tr>\n",
       "      <th>42</th>\n",
       "      <td>SC</td>\n",
       "      <td>71</td>\n",
       "      <td>56203</td>\n",
       "      <td>56869</td>\n",
       "      <td>231448754</td>\n",
       "      <td>57107</td>\n",
       "      <td>117652159</td>\n",
       "    </tr>\n",
       "    <tr>\n",
       "      <th>43</th>\n",
       "      <td>SD</td>\n",
       "      <td>20</td>\n",
       "      <td>14133</td>\n",
       "      <td>14195</td>\n",
       "      <td>55678598</td>\n",
       "      <td>14243</td>\n",
       "      <td>28300514</td>\n",
       "    </tr>\n",
       "    <tr>\n",
       "      <th>44</th>\n",
       "      <td>TN</td>\n",
       "      <td>84</td>\n",
       "      <td>60345</td>\n",
       "      <td>61099</td>\n",
       "      <td>245825844</td>\n",
       "      <td>61347</td>\n",
       "      <td>127506222</td>\n",
       "    </tr>\n",
       "    <tr>\n",
       "      <th>45</th>\n",
       "      <td>TX</td>\n",
       "      <td>258</td>\n",
       "      <td>246132</td>\n",
       "      <td>250926</td>\n",
       "      <td>1005635008</td>\n",
       "      <td>252522</td>\n",
       "      <td>508393619</td>\n",
       "    </tr>\n",
       "    <tr>\n",
       "      <th>46</th>\n",
       "      <td>UT</td>\n",
       "      <td>39</td>\n",
       "      <td>37639</td>\n",
       "      <td>38028</td>\n",
       "      <td>144129000</td>\n",
       "      <td>38351</td>\n",
       "      <td>74624644</td>\n",
       "    </tr>\n",
       "    <tr>\n",
       "      <th>47</th>\n",
       "      <td>VA</td>\n",
       "      <td>83</td>\n",
       "      <td>88979</td>\n",
       "      <td>90424</td>\n",
       "      <td>385089311</td>\n",
       "      <td>90566</td>\n",
       "      <td>189148433</td>\n",
       "    </tr>\n",
       "    <tr>\n",
       "      <th>48</th>\n",
       "      <td>VI</td>\n",
       "      <td>1</td>\n",
       "      <td>220</td>\n",
       "      <td>222</td>\n",
       "      <td>898079</td>\n",
       "      <td>222</td>\n",
       "      <td>453536</td>\n",
       "    </tr>\n",
       "    <tr>\n",
       "      <th>49</th>\n",
       "      <td>VT</td>\n",
       "      <td>16</td>\n",
       "      <td>10129</td>\n",
       "      <td>10143</td>\n",
       "      <td>42982677</td>\n",
       "      <td>10145</td>\n",
       "      <td>21806577</td>\n",
       "    </tr>\n",
       "    <tr>\n",
       "      <th>50</th>\n",
       "      <td>WA</td>\n",
       "      <td>77</td>\n",
       "      <td>40283</td>\n",
       "      <td>41025</td>\n",
       "      <td>163482253</td>\n",
       "      <td>43814</td>\n",
       "      <td>70020937</td>\n",
       "    </tr>\n",
       "    <tr>\n",
       "      <th>51</th>\n",
       "      <td>WI</td>\n",
       "      <td>67</td>\n",
       "      <td>65801</td>\n",
       "      <td>66596</td>\n",
       "      <td>264239786</td>\n",
       "      <td>66711</td>\n",
       "      <td>132496052</td>\n",
       "    </tr>\n",
       "    <tr>\n",
       "      <th>52</th>\n",
       "      <td>WV</td>\n",
       "      <td>40</td>\n",
       "      <td>24264</td>\n",
       "      <td>24519</td>\n",
       "      <td>96453867</td>\n",
       "      <td>24975</td>\n",
       "      <td>48379804</td>\n",
       "    </tr>\n",
       "    <tr>\n",
       "      <th>53</th>\n",
       "      <td>WY</td>\n",
       "      <td>9</td>\n",
       "      <td>3072</td>\n",
       "      <td>3096</td>\n",
       "      <td>11510273</td>\n",
       "      <td>3117</td>\n",
       "      <td>5979540</td>\n",
       "    </tr>\n",
       "  </tbody>\n",
       "</table>\n",
       "</div>"
      ],
      "text/plain": [
       "   State  School  Recipients - DL SUBSIDIZED  \\\n",
       "0     AK       7                        2894   \n",
       "1     AL      58                       61329   \n",
       "2     AR      67                       30674   \n",
       "3     AZ      58                       97188   \n",
       "4     CA     415                      229245   \n",
       "5     CO      68                       57261   \n",
       "6     CT      41                       40305   \n",
       "7     DC      13                       23964   \n",
       "8     DE      13                        7656   \n",
       "9     FL     190                      137606   \n",
       "10    GA      93                      112421   \n",
       "11    GU       1                           9   \n",
       "12    HI      17                        6436   \n",
       "13    IA      67                       47706   \n",
       "14    ID      28                       18166   \n",
       "15    IL     168                      113050   \n",
       "16    IN      78                       79186   \n",
       "17    KS      63                       37525   \n",
       "18    KY      62                       48887   \n",
       "19    LA      77                       59940   \n",
       "20    MA      95                       73022   \n",
       "21    MD      57                       43742   \n",
       "22    ME      33                       16414   \n",
       "23    MI     100                      104610   \n",
       "24    MN      79                       72371   \n",
       "25    MO     118                       60885   \n",
       "26    MS      35                       31965   \n",
       "27    MT      20                       10128   \n",
       "28    NC      92                      105817   \n",
       "29    ND      19                       10302   \n",
       "30    NE      34                       21640   \n",
       "31    NH      28                       50365   \n",
       "32    NJ      70                       55780   \n",
       "33    NM      25                       10345   \n",
       "34    NV      20                       14771   \n",
       "35    NY     244                      168124   \n",
       "36    OH     180                      129913   \n",
       "37    OK      59                       37190   \n",
       "38    OR      53                       24773   \n",
       "39    PA     214                      177433   \n",
       "40    PR      34                       17778   \n",
       "41    RI      14                       18951   \n",
       "42    SC      71                       56203   \n",
       "43    SD      20                       14133   \n",
       "44    TN      84                       60345   \n",
       "45    TX     258                      246132   \n",
       "46    UT      39                       37639   \n",
       "47    VA      83                       88979   \n",
       "48    VI       1                         220   \n",
       "49    VT      16                       10129   \n",
       "50    WA      77                       40283   \n",
       "51    WI      67                       65801   \n",
       "52    WV      40                       24264   \n",
       "53    WY       9                        3072   \n",
       "\n",
       "    # of Loans Originated - DL SUBSIDIZED  \\\n",
       "0                                    2912   \n",
       "1                                   61929   \n",
       "2                                   31172   \n",
       "3                                   98025   \n",
       "4                                  232044   \n",
       "5                                   58103   \n",
       "6                                   40492   \n",
       "7                                   24005   \n",
       "8                                    7699   \n",
       "9                                  139453   \n",
       "10                                 114897   \n",
       "11                                      9   \n",
       "12                                   6471   \n",
       "13                                  48021   \n",
       "14                                  18248   \n",
       "15                                 114015   \n",
       "16                                  80447   \n",
       "17                                  38315   \n",
       "18                                  49664   \n",
       "19                                  60445   \n",
       "20                                  73247   \n",
       "21                                  44561   \n",
       "22                                  16506   \n",
       "23                                 106247   \n",
       "24                                  75050   \n",
       "25                                  61678   \n",
       "26                                  32184   \n",
       "27                                  10211   \n",
       "28                                 108101   \n",
       "29                                  10395   \n",
       "30                                  22123   \n",
       "31                                  50799   \n",
       "32                                  55853   \n",
       "33                                  10506   \n",
       "34                                  14998   \n",
       "35                                 169926   \n",
       "36                                 132458   \n",
       "37                                  37852   \n",
       "38                                  24973   \n",
       "39                                 178543   \n",
       "40                                  17837   \n",
       "41                                  19077   \n",
       "42                                  56869   \n",
       "43                                  14195   \n",
       "44                                  61099   \n",
       "45                                 250926   \n",
       "46                                  38028   \n",
       "47                                  90424   \n",
       "48                                    222   \n",
       "49                                  10143   \n",
       "50                                  41025   \n",
       "51                                  66596   \n",
       "52                                  24519   \n",
       "53                                   3096   \n",
       "\n",
       "    $ of Loans Originated - DL SUBSIDIZED  # of Disbursements - DL SUBSIDIZED  \\\n",
       "0                                11445154                                2912   \n",
       "1                               254302237                               62725   \n",
       "2                               122844178                               31517   \n",
       "3                               392265743                              100062   \n",
       "4                               981050427                              234288   \n",
       "5                               223448409                               59625   \n",
       "6                               171222206                               41318   \n",
       "7                                97433168                               24035   \n",
       "8                                32762102                                7703   \n",
       "9                               482039319                              143683   \n",
       "10                              449157557                              117423   \n",
       "11                                  42000                                   9   \n",
       "12                               26940917                                6560   \n",
       "13                              177333942                               48296   \n",
       "14                               72032738                               18559   \n",
       "15                              468380412                              122334   \n",
       "16                              308142604                               83427   \n",
       "17                              151742173                               38880   \n",
       "18                              194640771                               49768   \n",
       "19                              239414027                               62592   \n",
       "20                              323820171                               73485   \n",
       "21                              181686841                               44839   \n",
       "22                               67169953                               16583   \n",
       "23                              423477566                              106679   \n",
       "24                              281195154                               75150   \n",
       "25                              249522363                               62803   \n",
       "26                              134216119                               32280   \n",
       "27                               40812403                               10233   \n",
       "28                              441641311                              109059   \n",
       "29                               41931744                               10414   \n",
       "30                               87374355                               22132   \n",
       "31                              192716286                               69145   \n",
       "32                              243871001                               56679   \n",
       "33                               41983196                               10558   \n",
       "34                               59702880                               15158   \n",
       "35                              708856602                              174082   \n",
       "36                              519965552                              133430   \n",
       "37                              145948920                               39459   \n",
       "38                              105614082                               25412   \n",
       "39                              759048992                              179303   \n",
       "40                               67851802                               18024   \n",
       "41                               81493936                               19112   \n",
       "42                              231448754                               57107   \n",
       "43                               55678598                               14243   \n",
       "44                              245825844                               61347   \n",
       "45                             1005635008                              252522   \n",
       "46                              144129000                               38351   \n",
       "47                              385089311                               90566   \n",
       "48                                 898079                                 222   \n",
       "49                               42982677                               10145   \n",
       "50                              163482253                               43814   \n",
       "51                              264239786                               66711   \n",
       "52                               96453867                               24975   \n",
       "53                               11510273                                3117   \n",
       "\n",
       "    $ of Disbursements - DL SUBSIDIZED  \n",
       "0                              6082446  \n",
       "1                            125629240  \n",
       "2                             61626183  \n",
       "3                            198051799  \n",
       "4                            467089691  \n",
       "5                            111054812  \n",
       "6                             85037548  \n",
       "7                             41571608  \n",
       "8                             16592108  \n",
       "9                            281561739  \n",
       "10                           225532148  \n",
       "11                               21000  \n",
       "12                            13756196  \n",
       "13                            95116070  \n",
       "14                            36524554  \n",
       "15                           229695512  \n",
       "16                           154521367  \n",
       "17                            77210007  \n",
       "18                            98116668  \n",
       "19                           119865792  \n",
       "20                           163537470  \n",
       "21                            92665175  \n",
       "22                            34008974  \n",
       "23                           217005677  \n",
       "24                           139011802  \n",
       "25                           124972759  \n",
       "26                            64674874  \n",
       "27                            20629287  \n",
       "28                           215666580  \n",
       "29                            21586162  \n",
       "30                            43963636  \n",
       "31                            76603328  \n",
       "32                           123853235  \n",
       "33                            21472416  \n",
       "34                            30516263  \n",
       "35                           363870652  \n",
       "36                           261206874  \n",
       "37                            74194936  \n",
       "38                            42610509  \n",
       "39                           379710855  \n",
       "40                            36448301  \n",
       "41                            37673081  \n",
       "42                           117652159  \n",
       "43                            28300514  \n",
       "44                           127506222  \n",
       "45                           508393619  \n",
       "46                            74624644  \n",
       "47                           189148433  \n",
       "48                              453536  \n",
       "49                            21806577  \n",
       "50                            70020937  \n",
       "51                           132496052  \n",
       "52                            48379804  \n",
       "53                             5979540  "
      ]
     },
     "execution_count": 70,
     "metadata": {},
     "output_type": "execute_result"
    }
   ],
   "source": [
    "df_subsidized"
   ]
  },
  {
   "cell_type": "code",
   "execution_count": 71,
   "metadata": {},
   "outputs": [],
   "source": [
    "#%% getting averages\n",
    "df_subsidized['Average $ of loans Originated per recipient - DL SUBSIDIZED'] = df_subsidized['$ of Loans Originated - DL SUBSIDIZED'] / df_subsidized['Recipients - DL SUBSIDIZED']\n"
   ]
  },
  {
   "cell_type": "code",
   "execution_count": 72,
   "metadata": {},
   "outputs": [],
   "source": [
    "#%% getting averages\n",
    "df_subsidized['Average $ of Disbursements per recipient - DL SUBSIDIZED'] = df_subsidized['$ of Disbursements - DL SUBSIDIZED'] / df_subsidized['Recipients - DL SUBSIDIZED']\n"
   ]
  },
  {
   "cell_type": "code",
   "execution_count": 73,
   "metadata": {},
   "outputs": [],
   "source": [
    "df_subsidized['Average % of Disbursements to Loans Originated per recipient - DL SUBSIDIZED'] = (df_subsidized['Average $ of Disbursements per recipient - DL SUBSIDIZED'] * 100)/ df_subsidized['Average $ of loans Originated per recipient - DL SUBSIDIZED']"
   ]
  },
  {
   "cell_type": "code",
   "execution_count": 74,
   "metadata": {},
   "outputs": [
    {
     "data": {
      "text/html": [
       "<div>\n",
       "<style scoped>\n",
       "    .dataframe tbody tr th:only-of-type {\n",
       "        vertical-align: middle;\n",
       "    }\n",
       "\n",
       "    .dataframe tbody tr th {\n",
       "        vertical-align: top;\n",
       "    }\n",
       "\n",
       "    .dataframe thead th {\n",
       "        text-align: right;\n",
       "    }\n",
       "</style>\n",
       "<table border=\"1\" class=\"dataframe\">\n",
       "  <thead>\n",
       "    <tr style=\"text-align: right;\">\n",
       "      <th></th>\n",
       "      <th>State</th>\n",
       "      <th>School</th>\n",
       "      <th>Recipients - DL SUBSIDIZED</th>\n",
       "      <th># of Loans Originated - DL SUBSIDIZED</th>\n",
       "      <th>$ of Loans Originated - DL SUBSIDIZED</th>\n",
       "      <th># of Disbursements - DL SUBSIDIZED</th>\n",
       "      <th>$ of Disbursements - DL SUBSIDIZED</th>\n",
       "      <th>Average $ of loans Originated per recipient - DL SUBSIDIZED</th>\n",
       "      <th>Average $ of Disbursements per recipient - DL SUBSIDIZED</th>\n",
       "      <th>Average % of Disbursements to Loans Originated per recipient - DL SUBSIDIZED</th>\n",
       "    </tr>\n",
       "  </thead>\n",
       "  <tbody>\n",
       "    <tr>\n",
       "      <th>0</th>\n",
       "      <td>AK</td>\n",
       "      <td>7</td>\n",
       "      <td>2894</td>\n",
       "      <td>2912</td>\n",
       "      <td>11445154</td>\n",
       "      <td>2912</td>\n",
       "      <td>6082446</td>\n",
       "      <td>3954.787146</td>\n",
       "      <td>2101.743607</td>\n",
       "      <td>53.144291</td>\n",
       "    </tr>\n",
       "    <tr>\n",
       "      <th>1</th>\n",
       "      <td>AL</td>\n",
       "      <td>58</td>\n",
       "      <td>61329</td>\n",
       "      <td>61929</td>\n",
       "      <td>254302237</td>\n",
       "      <td>62725</td>\n",
       "      <td>125629240</td>\n",
       "      <td>4146.525086</td>\n",
       "      <td>2048.447553</td>\n",
       "      <td>49.401547</td>\n",
       "    </tr>\n",
       "    <tr>\n",
       "      <th>2</th>\n",
       "      <td>AR</td>\n",
       "      <td>67</td>\n",
       "      <td>30674</td>\n",
       "      <td>31172</td>\n",
       "      <td>122844178</td>\n",
       "      <td>31517</td>\n",
       "      <td>61626183</td>\n",
       "      <td>4004.830736</td>\n",
       "      <td>2009.069016</td>\n",
       "      <td>50.166141</td>\n",
       "    </tr>\n",
       "    <tr>\n",
       "      <th>3</th>\n",
       "      <td>AZ</td>\n",
       "      <td>58</td>\n",
       "      <td>97188</td>\n",
       "      <td>98025</td>\n",
       "      <td>392265743</td>\n",
       "      <td>100062</td>\n",
       "      <td>198051799</td>\n",
       "      <td>4036.154083</td>\n",
       "      <td>2037.821531</td>\n",
       "      <td>50.489191</td>\n",
       "    </tr>\n",
       "    <tr>\n",
       "      <th>4</th>\n",
       "      <td>CA</td>\n",
       "      <td>415</td>\n",
       "      <td>229245</td>\n",
       "      <td>232044</td>\n",
       "      <td>981050427</td>\n",
       "      <td>234288</td>\n",
       "      <td>467089691</td>\n",
       "      <td>4279.484512</td>\n",
       "      <td>2037.513102</td>\n",
       "      <td>47.611181</td>\n",
       "    </tr>\n",
       "  </tbody>\n",
       "</table>\n",
       "</div>"
      ],
      "text/plain": [
       "  State  School  Recipients - DL SUBSIDIZED  \\\n",
       "0    AK       7                        2894   \n",
       "1    AL      58                       61329   \n",
       "2    AR      67                       30674   \n",
       "3    AZ      58                       97188   \n",
       "4    CA     415                      229245   \n",
       "\n",
       "   # of Loans Originated - DL SUBSIDIZED  \\\n",
       "0                                   2912   \n",
       "1                                  61929   \n",
       "2                                  31172   \n",
       "3                                  98025   \n",
       "4                                 232044   \n",
       "\n",
       "   $ of Loans Originated - DL SUBSIDIZED  # of Disbursements - DL SUBSIDIZED  \\\n",
       "0                               11445154                                2912   \n",
       "1                              254302237                               62725   \n",
       "2                              122844178                               31517   \n",
       "3                              392265743                              100062   \n",
       "4                              981050427                              234288   \n",
       "\n",
       "   $ of Disbursements - DL SUBSIDIZED  \\\n",
       "0                             6082446   \n",
       "1                           125629240   \n",
       "2                            61626183   \n",
       "3                           198051799   \n",
       "4                           467089691   \n",
       "\n",
       "   Average $ of loans Originated per recipient - DL SUBSIDIZED  \\\n",
       "0                                        3954.787146             \n",
       "1                                        4146.525086             \n",
       "2                                        4004.830736             \n",
       "3                                        4036.154083             \n",
       "4                                        4279.484512             \n",
       "\n",
       "   Average $ of Disbursements per recipient - DL SUBSIDIZED  \\\n",
       "0                                        2101.743607          \n",
       "1                                        2048.447553          \n",
       "2                                        2009.069016          \n",
       "3                                        2037.821531          \n",
       "4                                        2037.513102          \n",
       "\n",
       "   Average % of Disbursements to Loans Originated per recipient - DL SUBSIDIZED  \n",
       "0                                          53.144291                             \n",
       "1                                          49.401547                             \n",
       "2                                          50.166141                             \n",
       "3                                          50.489191                             \n",
       "4                                          47.611181                             "
      ]
     },
     "execution_count": 74,
     "metadata": {},
     "output_type": "execute_result"
    }
   ],
   "source": [
    "df_subsidized.head()"
   ]
  },
  {
   "cell_type": "code",
   "execution_count": 75,
   "metadata": {},
   "outputs": [
    {
     "data": {
      "application/vnd.plotly.v1+json": {
       "config": {
        "plotlyServerURL": "https://plot.ly"
       },
       "data": [
        {
         "colorbar": {
          "title": {
           "text": "USD"
          }
         },
         "colorscale": [
          [
           0,
           "#440154"
          ],
          [
           0.1111111111111111,
           "#482878"
          ],
          [
           0.2222222222222222,
           "#3e4989"
          ],
          [
           0.3333333333333333,
           "#31688e"
          ],
          [
           0.4444444444444444,
           "#26828e"
          ],
          [
           0.5555555555555556,
           "#1f9e89"
          ],
          [
           0.6666666666666666,
           "#35b779"
          ],
          [
           0.7777777777777778,
           "#6ece58"
          ],
          [
           0.8888888888888888,
           "#b5de2b"
          ],
          [
           1,
           "#fde725"
          ]
         ],
         "locationmode": "USA-states",
         "locations": [
          "AK",
          "AL",
          "AR",
          "AZ",
          "CA",
          "CO",
          "CT",
          "DC",
          "DE",
          "FL",
          "GA",
          "GU",
          "HI",
          "IA",
          "ID",
          "IL",
          "IN",
          "KS",
          "KY",
          "LA",
          "MA",
          "MD",
          "ME",
          "MI",
          "MN",
          "MO",
          "MS",
          "MT",
          "NC",
          "ND",
          "NE",
          "NH",
          "NJ",
          "NM",
          "NV",
          "NY",
          "OH",
          "OK",
          "OR",
          "PA",
          "PR",
          "RI",
          "SC",
          "SD",
          "TN",
          "TX",
          "UT",
          "VA",
          "VI",
          "VT",
          "WA",
          "WI",
          "WV",
          "WY"
         ],
         "type": "choropleth",
         "z": [
          3954.7871458189356,
          4146.525086011512,
          4004.8307361283173,
          4036.154082808577,
          4279.484512203101,
          3902.279195263792,
          4248.162907827813,
          4065.814054414956,
          4279.271421107628,
          3503.039976454515,
          3995.3172183133042,
          4666.666666666667,
          4185.97218769422,
          3717.225128914602,
          3965.250357811296,
          4143.126156567891,
          3891.377314171697,
          4043.762105263158,
          3981.442326180784,
          3994.228011344678,
          4434.556311796445,
          4153.60159572036,
          4092.23546972097,
          4048.155683013096,
          3885.4673004380206,
          4098.256762749445,
          4198.846206788675,
          4029.6606437598734,
          4173.632885075177,
          4070.252766453116,
          4037.631931608133,
          3826.393050729673,
          4372.015077088562,
          4058.3079748670857,
          4041.898314264437,
          4216.272525041041,
          4002.4135536859285,
          3924.4130142511426,
          4263.273806159932,
          4277.947123703031,
          3816.616154798065,
          4300.244630890191,
          4118.085404693699,
          3939.6163588763884,
          4073.673775789212,
          4085.7548307412285,
          3829.246260527644,
          4327.867373200418,
          4082.177272727273,
          4243.526211866917,
          4058.343544423206,
          4015.741189343627,
          3975.184099901088,
          3746.8336588541665
         ]
        }
       ],
       "layout": {
        "geo": {
         "scope": "usa"
        },
        "template": {
         "data": {
          "bar": [
           {
            "error_x": {
             "color": "#2a3f5f"
            },
            "error_y": {
             "color": "#2a3f5f"
            },
            "marker": {
             "line": {
              "color": "#E5ECF6",
              "width": 0.5
             }
            },
            "type": "bar"
           }
          ],
          "barpolar": [
           {
            "marker": {
             "line": {
              "color": "#E5ECF6",
              "width": 0.5
             }
            },
            "type": "barpolar"
           }
          ],
          "carpet": [
           {
            "aaxis": {
             "endlinecolor": "#2a3f5f",
             "gridcolor": "white",
             "linecolor": "white",
             "minorgridcolor": "white",
             "startlinecolor": "#2a3f5f"
            },
            "baxis": {
             "endlinecolor": "#2a3f5f",
             "gridcolor": "white",
             "linecolor": "white",
             "minorgridcolor": "white",
             "startlinecolor": "#2a3f5f"
            },
            "type": "carpet"
           }
          ],
          "choropleth": [
           {
            "colorbar": {
             "outlinewidth": 0,
             "ticks": ""
            },
            "type": "choropleth"
           }
          ],
          "contour": [
           {
            "colorbar": {
             "outlinewidth": 0,
             "ticks": ""
            },
            "colorscale": [
             [
              0,
              "#0d0887"
             ],
             [
              0.1111111111111111,
              "#46039f"
             ],
             [
              0.2222222222222222,
              "#7201a8"
             ],
             [
              0.3333333333333333,
              "#9c179e"
             ],
             [
              0.4444444444444444,
              "#bd3786"
             ],
             [
              0.5555555555555556,
              "#d8576b"
             ],
             [
              0.6666666666666666,
              "#ed7953"
             ],
             [
              0.7777777777777778,
              "#fb9f3a"
             ],
             [
              0.8888888888888888,
              "#fdca26"
             ],
             [
              1,
              "#f0f921"
             ]
            ],
            "type": "contour"
           }
          ],
          "contourcarpet": [
           {
            "colorbar": {
             "outlinewidth": 0,
             "ticks": ""
            },
            "type": "contourcarpet"
           }
          ],
          "heatmap": [
           {
            "colorbar": {
             "outlinewidth": 0,
             "ticks": ""
            },
            "colorscale": [
             [
              0,
              "#0d0887"
             ],
             [
              0.1111111111111111,
              "#46039f"
             ],
             [
              0.2222222222222222,
              "#7201a8"
             ],
             [
              0.3333333333333333,
              "#9c179e"
             ],
             [
              0.4444444444444444,
              "#bd3786"
             ],
             [
              0.5555555555555556,
              "#d8576b"
             ],
             [
              0.6666666666666666,
              "#ed7953"
             ],
             [
              0.7777777777777778,
              "#fb9f3a"
             ],
             [
              0.8888888888888888,
              "#fdca26"
             ],
             [
              1,
              "#f0f921"
             ]
            ],
            "type": "heatmap"
           }
          ],
          "heatmapgl": [
           {
            "colorbar": {
             "outlinewidth": 0,
             "ticks": ""
            },
            "colorscale": [
             [
              0,
              "#0d0887"
             ],
             [
              0.1111111111111111,
              "#46039f"
             ],
             [
              0.2222222222222222,
              "#7201a8"
             ],
             [
              0.3333333333333333,
              "#9c179e"
             ],
             [
              0.4444444444444444,
              "#bd3786"
             ],
             [
              0.5555555555555556,
              "#d8576b"
             ],
             [
              0.6666666666666666,
              "#ed7953"
             ],
             [
              0.7777777777777778,
              "#fb9f3a"
             ],
             [
              0.8888888888888888,
              "#fdca26"
             ],
             [
              1,
              "#f0f921"
             ]
            ],
            "type": "heatmapgl"
           }
          ],
          "histogram": [
           {
            "marker": {
             "colorbar": {
              "outlinewidth": 0,
              "ticks": ""
             }
            },
            "type": "histogram"
           }
          ],
          "histogram2d": [
           {
            "colorbar": {
             "outlinewidth": 0,
             "ticks": ""
            },
            "colorscale": [
             [
              0,
              "#0d0887"
             ],
             [
              0.1111111111111111,
              "#46039f"
             ],
             [
              0.2222222222222222,
              "#7201a8"
             ],
             [
              0.3333333333333333,
              "#9c179e"
             ],
             [
              0.4444444444444444,
              "#bd3786"
             ],
             [
              0.5555555555555556,
              "#d8576b"
             ],
             [
              0.6666666666666666,
              "#ed7953"
             ],
             [
              0.7777777777777778,
              "#fb9f3a"
             ],
             [
              0.8888888888888888,
              "#fdca26"
             ],
             [
              1,
              "#f0f921"
             ]
            ],
            "type": "histogram2d"
           }
          ],
          "histogram2dcontour": [
           {
            "colorbar": {
             "outlinewidth": 0,
             "ticks": ""
            },
            "colorscale": [
             [
              0,
              "#0d0887"
             ],
             [
              0.1111111111111111,
              "#46039f"
             ],
             [
              0.2222222222222222,
              "#7201a8"
             ],
             [
              0.3333333333333333,
              "#9c179e"
             ],
             [
              0.4444444444444444,
              "#bd3786"
             ],
             [
              0.5555555555555556,
              "#d8576b"
             ],
             [
              0.6666666666666666,
              "#ed7953"
             ],
             [
              0.7777777777777778,
              "#fb9f3a"
             ],
             [
              0.8888888888888888,
              "#fdca26"
             ],
             [
              1,
              "#f0f921"
             ]
            ],
            "type": "histogram2dcontour"
           }
          ],
          "mesh3d": [
           {
            "colorbar": {
             "outlinewidth": 0,
             "ticks": ""
            },
            "type": "mesh3d"
           }
          ],
          "parcoords": [
           {
            "line": {
             "colorbar": {
              "outlinewidth": 0,
              "ticks": ""
             }
            },
            "type": "parcoords"
           }
          ],
          "scatter": [
           {
            "marker": {
             "colorbar": {
              "outlinewidth": 0,
              "ticks": ""
             }
            },
            "type": "scatter"
           }
          ],
          "scatter3d": [
           {
            "line": {
             "colorbar": {
              "outlinewidth": 0,
              "ticks": ""
             }
            },
            "marker": {
             "colorbar": {
              "outlinewidth": 0,
              "ticks": ""
             }
            },
            "type": "scatter3d"
           }
          ],
          "scattercarpet": [
           {
            "marker": {
             "colorbar": {
              "outlinewidth": 0,
              "ticks": ""
             }
            },
            "type": "scattercarpet"
           }
          ],
          "scattergeo": [
           {
            "marker": {
             "colorbar": {
              "outlinewidth": 0,
              "ticks": ""
             }
            },
            "type": "scattergeo"
           }
          ],
          "scattergl": [
           {
            "marker": {
             "colorbar": {
              "outlinewidth": 0,
              "ticks": ""
             }
            },
            "type": "scattergl"
           }
          ],
          "scattermapbox": [
           {
            "marker": {
             "colorbar": {
              "outlinewidth": 0,
              "ticks": ""
             }
            },
            "type": "scattermapbox"
           }
          ],
          "scatterpolar": [
           {
            "marker": {
             "colorbar": {
              "outlinewidth": 0,
              "ticks": ""
             }
            },
            "type": "scatterpolar"
           }
          ],
          "scatterpolargl": [
           {
            "marker": {
             "colorbar": {
              "outlinewidth": 0,
              "ticks": ""
             }
            },
            "type": "scatterpolargl"
           }
          ],
          "scatterternary": [
           {
            "marker": {
             "colorbar": {
              "outlinewidth": 0,
              "ticks": ""
             }
            },
            "type": "scatterternary"
           }
          ],
          "surface": [
           {
            "colorbar": {
             "outlinewidth": 0,
             "ticks": ""
            },
            "colorscale": [
             [
              0,
              "#0d0887"
             ],
             [
              0.1111111111111111,
              "#46039f"
             ],
             [
              0.2222222222222222,
              "#7201a8"
             ],
             [
              0.3333333333333333,
              "#9c179e"
             ],
             [
              0.4444444444444444,
              "#bd3786"
             ],
             [
              0.5555555555555556,
              "#d8576b"
             ],
             [
              0.6666666666666666,
              "#ed7953"
             ],
             [
              0.7777777777777778,
              "#fb9f3a"
             ],
             [
              0.8888888888888888,
              "#fdca26"
             ],
             [
              1,
              "#f0f921"
             ]
            ],
            "type": "surface"
           }
          ],
          "table": [
           {
            "cells": {
             "fill": {
              "color": "#EBF0F8"
             },
             "line": {
              "color": "white"
             }
            },
            "header": {
             "fill": {
              "color": "#C8D4E3"
             },
             "line": {
              "color": "white"
             }
            },
            "type": "table"
           }
          ]
         },
         "layout": {
          "annotationdefaults": {
           "arrowcolor": "#2a3f5f",
           "arrowhead": 0,
           "arrowwidth": 1
          },
          "colorscale": {
           "diverging": [
            [
             0,
             "#8e0152"
            ],
            [
             0.1,
             "#c51b7d"
            ],
            [
             0.2,
             "#de77ae"
            ],
            [
             0.3,
             "#f1b6da"
            ],
            [
             0.4,
             "#fde0ef"
            ],
            [
             0.5,
             "#f7f7f7"
            ],
            [
             0.6,
             "#e6f5d0"
            ],
            [
             0.7,
             "#b8e186"
            ],
            [
             0.8,
             "#7fbc41"
            ],
            [
             0.9,
             "#4d9221"
            ],
            [
             1,
             "#276419"
            ]
           ],
           "sequential": [
            [
             0,
             "#0d0887"
            ],
            [
             0.1111111111111111,
             "#46039f"
            ],
            [
             0.2222222222222222,
             "#7201a8"
            ],
            [
             0.3333333333333333,
             "#9c179e"
            ],
            [
             0.4444444444444444,
             "#bd3786"
            ],
            [
             0.5555555555555556,
             "#d8576b"
            ],
            [
             0.6666666666666666,
             "#ed7953"
            ],
            [
             0.7777777777777778,
             "#fb9f3a"
            ],
            [
             0.8888888888888888,
             "#fdca26"
            ],
            [
             1,
             "#f0f921"
            ]
           ],
           "sequentialminus": [
            [
             0,
             "#0d0887"
            ],
            [
             0.1111111111111111,
             "#46039f"
            ],
            [
             0.2222222222222222,
             "#7201a8"
            ],
            [
             0.3333333333333333,
             "#9c179e"
            ],
            [
             0.4444444444444444,
             "#bd3786"
            ],
            [
             0.5555555555555556,
             "#d8576b"
            ],
            [
             0.6666666666666666,
             "#ed7953"
            ],
            [
             0.7777777777777778,
             "#fb9f3a"
            ],
            [
             0.8888888888888888,
             "#fdca26"
            ],
            [
             1,
             "#f0f921"
            ]
           ]
          },
          "colorway": [
           "#636efa",
           "#EF553B",
           "#00cc96",
           "#ab63fa",
           "#FFA15A",
           "#19d3f3",
           "#FF6692",
           "#B6E880",
           "#FF97FF",
           "#FECB52"
          ],
          "font": {
           "color": "#2a3f5f"
          },
          "geo": {
           "bgcolor": "white",
           "lakecolor": "white",
           "landcolor": "#E5ECF6",
           "showlakes": true,
           "showland": true,
           "subunitcolor": "white"
          },
          "hoverlabel": {
           "align": "left"
          },
          "hovermode": "closest",
          "mapbox": {
           "style": "light"
          },
          "paper_bgcolor": "white",
          "plot_bgcolor": "#E5ECF6",
          "polar": {
           "angularaxis": {
            "gridcolor": "white",
            "linecolor": "white",
            "ticks": ""
           },
           "bgcolor": "#E5ECF6",
           "radialaxis": {
            "gridcolor": "white",
            "linecolor": "white",
            "ticks": ""
           }
          },
          "scene": {
           "xaxis": {
            "backgroundcolor": "#E5ECF6",
            "gridcolor": "white",
            "gridwidth": 2,
            "linecolor": "white",
            "showbackground": true,
            "ticks": "",
            "zerolinecolor": "white"
           },
           "yaxis": {
            "backgroundcolor": "#E5ECF6",
            "gridcolor": "white",
            "gridwidth": 2,
            "linecolor": "white",
            "showbackground": true,
            "ticks": "",
            "zerolinecolor": "white"
           },
           "zaxis": {
            "backgroundcolor": "#E5ECF6",
            "gridcolor": "white",
            "gridwidth": 2,
            "linecolor": "white",
            "showbackground": true,
            "ticks": "",
            "zerolinecolor": "white"
           }
          },
          "shapedefaults": {
           "line": {
            "color": "#2a3f5f"
           }
          },
          "ternary": {
           "aaxis": {
            "gridcolor": "white",
            "linecolor": "white",
            "ticks": ""
           },
           "baxis": {
            "gridcolor": "white",
            "linecolor": "white",
            "ticks": ""
           },
           "bgcolor": "#E5ECF6",
           "caxis": {
            "gridcolor": "white",
            "linecolor": "white",
            "ticks": ""
           }
          },
          "title": {
           "x": 0.05
          },
          "xaxis": {
           "automargin": true,
           "gridcolor": "white",
           "linecolor": "white",
           "ticks": "",
           "zerolinecolor": "white",
           "zerolinewidth": 2
          },
          "yaxis": {
           "automargin": true,
           "gridcolor": "white",
           "linecolor": "white",
           "ticks": "",
           "zerolinecolor": "white",
           "zerolinewidth": 2
          }
         }
        },
        "title": {
         "text": "Average $ of loans Originated per recipient - DL SUBSIDIZED"
        }
       }
      },
      "text/html": [
       "<div>\n",
       "        \n",
       "        \n",
       "            <div id=\"122edd2b-9f63-4f03-a0a2-61a88cdc03e9\" class=\"plotly-graph-div\" style=\"height:525px; width:100%;\"></div>\n",
       "            <script type=\"text/javascript\">\n",
       "                require([\"plotly\"], function(Plotly) {\n",
       "                    window.PLOTLYENV=window.PLOTLYENV || {};\n",
       "                    \n",
       "                if (document.getElementById(\"122edd2b-9f63-4f03-a0a2-61a88cdc03e9\")) {\n",
       "                    Plotly.newPlot(\n",
       "                        '122edd2b-9f63-4f03-a0a2-61a88cdc03e9',\n",
       "                        [{\"colorbar\": {\"title\": {\"text\": \"USD\"}}, \"colorscale\": [[0.0, \"#440154\"], [0.1111111111111111, \"#482878\"], [0.2222222222222222, \"#3e4989\"], [0.3333333333333333, \"#31688e\"], [0.4444444444444444, \"#26828e\"], [0.5555555555555556, \"#1f9e89\"], [0.6666666666666666, \"#35b779\"], [0.7777777777777778, \"#6ece58\"], [0.8888888888888888, \"#b5de2b\"], [1.0, \"#fde725\"]], \"locationmode\": \"USA-states\", \"locations\": [\"AK\", \"AL\", \"AR\", \"AZ\", \"CA\", \"CO\", \"CT\", \"DC\", \"DE\", \"FL\", \"GA\", \"GU\", \"HI\", \"IA\", \"ID\", \"IL\", \"IN\", \"KS\", \"KY\", \"LA\", \"MA\", \"MD\", \"ME\", \"MI\", \"MN\", \"MO\", \"MS\", \"MT\", \"NC\", \"ND\", \"NE\", \"NH\", \"NJ\", \"NM\", \"NV\", \"NY\", \"OH\", \"OK\", \"OR\", \"PA\", \"PR\", \"RI\", \"SC\", \"SD\", \"TN\", \"TX\", \"UT\", \"VA\", \"VI\", \"VT\", \"WA\", \"WI\", \"WV\", \"WY\"], \"type\": \"choropleth\", \"z\": [3954.7871458189356, 4146.525086011512, 4004.8307361283173, 4036.154082808577, 4279.484512203101, 3902.279195263792, 4248.162907827813, 4065.814054414956, 4279.271421107628, 3503.039976454515, 3995.3172183133042, 4666.666666666667, 4185.97218769422, 3717.225128914602, 3965.250357811296, 4143.126156567891, 3891.377314171697, 4043.762105263158, 3981.442326180784, 3994.228011344678, 4434.556311796445, 4153.60159572036, 4092.23546972097, 4048.155683013096, 3885.4673004380206, 4098.256762749445, 4198.846206788675, 4029.6606437598734, 4173.632885075177, 4070.252766453116, 4037.631931608133, 3826.393050729673, 4372.015077088562, 4058.3079748670857, 4041.898314264437, 4216.272525041041, 4002.4135536859285, 3924.4130142511426, 4263.273806159932, 4277.947123703031, 3816.616154798065, 4300.244630890191, 4118.085404693699, 3939.6163588763884, 4073.673775789212, 4085.7548307412285, 3829.246260527644, 4327.867373200418, 4082.177272727273, 4243.526211866917, 4058.343544423206, 4015.741189343627, 3975.184099901088, 3746.8336588541665]}],\n",
       "                        {\"geo\": {\"scope\": \"usa\"}, \"template\": {\"data\": {\"bar\": [{\"error_x\": {\"color\": \"#2a3f5f\"}, \"error_y\": {\"color\": \"#2a3f5f\"}, \"marker\": {\"line\": {\"color\": \"#E5ECF6\", \"width\": 0.5}}, \"type\": \"bar\"}], \"barpolar\": [{\"marker\": {\"line\": {\"color\": \"#E5ECF6\", \"width\": 0.5}}, \"type\": \"barpolar\"}], \"carpet\": [{\"aaxis\": {\"endlinecolor\": \"#2a3f5f\", \"gridcolor\": \"white\", \"linecolor\": \"white\", \"minorgridcolor\": \"white\", \"startlinecolor\": \"#2a3f5f\"}, \"baxis\": {\"endlinecolor\": \"#2a3f5f\", \"gridcolor\": \"white\", \"linecolor\": \"white\", \"minorgridcolor\": \"white\", \"startlinecolor\": \"#2a3f5f\"}, \"type\": \"carpet\"}], \"choropleth\": [{\"colorbar\": {\"outlinewidth\": 0, \"ticks\": \"\"}, \"type\": \"choropleth\"}], \"contour\": [{\"colorbar\": {\"outlinewidth\": 0, \"ticks\": \"\"}, \"colorscale\": [[0.0, \"#0d0887\"], [0.1111111111111111, \"#46039f\"], [0.2222222222222222, \"#7201a8\"], [0.3333333333333333, \"#9c179e\"], [0.4444444444444444, \"#bd3786\"], [0.5555555555555556, \"#d8576b\"], [0.6666666666666666, \"#ed7953\"], [0.7777777777777778, \"#fb9f3a\"], [0.8888888888888888, \"#fdca26\"], [1.0, \"#f0f921\"]], \"type\": \"contour\"}], \"contourcarpet\": [{\"colorbar\": {\"outlinewidth\": 0, \"ticks\": \"\"}, \"type\": \"contourcarpet\"}], \"heatmap\": [{\"colorbar\": {\"outlinewidth\": 0, \"ticks\": \"\"}, \"colorscale\": [[0.0, \"#0d0887\"], [0.1111111111111111, \"#46039f\"], [0.2222222222222222, \"#7201a8\"], [0.3333333333333333, \"#9c179e\"], [0.4444444444444444, \"#bd3786\"], [0.5555555555555556, \"#d8576b\"], [0.6666666666666666, \"#ed7953\"], [0.7777777777777778, \"#fb9f3a\"], [0.8888888888888888, \"#fdca26\"], [1.0, \"#f0f921\"]], \"type\": \"heatmap\"}], \"heatmapgl\": [{\"colorbar\": {\"outlinewidth\": 0, \"ticks\": \"\"}, \"colorscale\": [[0.0, \"#0d0887\"], [0.1111111111111111, \"#46039f\"], [0.2222222222222222, \"#7201a8\"], [0.3333333333333333, \"#9c179e\"], [0.4444444444444444, \"#bd3786\"], [0.5555555555555556, \"#d8576b\"], [0.6666666666666666, \"#ed7953\"], [0.7777777777777778, \"#fb9f3a\"], [0.8888888888888888, \"#fdca26\"], [1.0, \"#f0f921\"]], \"type\": \"heatmapgl\"}], \"histogram\": [{\"marker\": {\"colorbar\": {\"outlinewidth\": 0, \"ticks\": \"\"}}, \"type\": \"histogram\"}], \"histogram2d\": [{\"colorbar\": {\"outlinewidth\": 0, \"ticks\": \"\"}, \"colorscale\": [[0.0, \"#0d0887\"], [0.1111111111111111, \"#46039f\"], [0.2222222222222222, \"#7201a8\"], [0.3333333333333333, \"#9c179e\"], [0.4444444444444444, \"#bd3786\"], [0.5555555555555556, \"#d8576b\"], [0.6666666666666666, \"#ed7953\"], [0.7777777777777778, \"#fb9f3a\"], [0.8888888888888888, \"#fdca26\"], [1.0, \"#f0f921\"]], \"type\": \"histogram2d\"}], \"histogram2dcontour\": [{\"colorbar\": {\"outlinewidth\": 0, \"ticks\": \"\"}, \"colorscale\": [[0.0, \"#0d0887\"], [0.1111111111111111, \"#46039f\"], [0.2222222222222222, \"#7201a8\"], [0.3333333333333333, \"#9c179e\"], [0.4444444444444444, \"#bd3786\"], [0.5555555555555556, \"#d8576b\"], [0.6666666666666666, \"#ed7953\"], [0.7777777777777778, \"#fb9f3a\"], [0.8888888888888888, \"#fdca26\"], [1.0, \"#f0f921\"]], \"type\": \"histogram2dcontour\"}], \"mesh3d\": [{\"colorbar\": {\"outlinewidth\": 0, \"ticks\": \"\"}, \"type\": \"mesh3d\"}], \"parcoords\": [{\"line\": {\"colorbar\": {\"outlinewidth\": 0, \"ticks\": \"\"}}, \"type\": \"parcoords\"}], \"scatter\": [{\"marker\": {\"colorbar\": {\"outlinewidth\": 0, \"ticks\": \"\"}}, \"type\": \"scatter\"}], \"scatter3d\": [{\"line\": {\"colorbar\": {\"outlinewidth\": 0, \"ticks\": \"\"}}, \"marker\": {\"colorbar\": {\"outlinewidth\": 0, \"ticks\": \"\"}}, \"type\": \"scatter3d\"}], \"scattercarpet\": [{\"marker\": {\"colorbar\": {\"outlinewidth\": 0, \"ticks\": \"\"}}, \"type\": \"scattercarpet\"}], \"scattergeo\": [{\"marker\": {\"colorbar\": {\"outlinewidth\": 0, \"ticks\": \"\"}}, \"type\": \"scattergeo\"}], \"scattergl\": [{\"marker\": {\"colorbar\": {\"outlinewidth\": 0, \"ticks\": \"\"}}, \"type\": \"scattergl\"}], \"scattermapbox\": [{\"marker\": {\"colorbar\": {\"outlinewidth\": 0, \"ticks\": \"\"}}, \"type\": \"scattermapbox\"}], \"scatterpolar\": [{\"marker\": {\"colorbar\": {\"outlinewidth\": 0, \"ticks\": \"\"}}, \"type\": \"scatterpolar\"}], \"scatterpolargl\": [{\"marker\": {\"colorbar\": {\"outlinewidth\": 0, \"ticks\": \"\"}}, \"type\": \"scatterpolargl\"}], \"scatterternary\": [{\"marker\": {\"colorbar\": {\"outlinewidth\": 0, \"ticks\": \"\"}}, \"type\": \"scatterternary\"}], \"surface\": [{\"colorbar\": {\"outlinewidth\": 0, \"ticks\": \"\"}, \"colorscale\": [[0.0, \"#0d0887\"], [0.1111111111111111, \"#46039f\"], [0.2222222222222222, \"#7201a8\"], [0.3333333333333333, \"#9c179e\"], [0.4444444444444444, \"#bd3786\"], [0.5555555555555556, \"#d8576b\"], [0.6666666666666666, \"#ed7953\"], [0.7777777777777778, \"#fb9f3a\"], [0.8888888888888888, \"#fdca26\"], [1.0, \"#f0f921\"]], \"type\": \"surface\"}], \"table\": [{\"cells\": {\"fill\": {\"color\": \"#EBF0F8\"}, \"line\": {\"color\": \"white\"}}, \"header\": {\"fill\": {\"color\": \"#C8D4E3\"}, \"line\": {\"color\": \"white\"}}, \"type\": \"table\"}]}, \"layout\": {\"annotationdefaults\": {\"arrowcolor\": \"#2a3f5f\", \"arrowhead\": 0, \"arrowwidth\": 1}, \"colorscale\": {\"diverging\": [[0, \"#8e0152\"], [0.1, \"#c51b7d\"], [0.2, \"#de77ae\"], [0.3, \"#f1b6da\"], [0.4, \"#fde0ef\"], [0.5, \"#f7f7f7\"], [0.6, \"#e6f5d0\"], [0.7, \"#b8e186\"], [0.8, \"#7fbc41\"], [0.9, \"#4d9221\"], [1, \"#276419\"]], \"sequential\": [[0.0, \"#0d0887\"], [0.1111111111111111, \"#46039f\"], [0.2222222222222222, \"#7201a8\"], [0.3333333333333333, \"#9c179e\"], [0.4444444444444444, \"#bd3786\"], [0.5555555555555556, \"#d8576b\"], [0.6666666666666666, \"#ed7953\"], [0.7777777777777778, \"#fb9f3a\"], [0.8888888888888888, \"#fdca26\"], [1.0, \"#f0f921\"]], \"sequentialminus\": [[0.0, \"#0d0887\"], [0.1111111111111111, \"#46039f\"], [0.2222222222222222, \"#7201a8\"], [0.3333333333333333, \"#9c179e\"], [0.4444444444444444, \"#bd3786\"], [0.5555555555555556, \"#d8576b\"], [0.6666666666666666, \"#ed7953\"], [0.7777777777777778, \"#fb9f3a\"], [0.8888888888888888, \"#fdca26\"], [1.0, \"#f0f921\"]]}, \"colorway\": [\"#636efa\", \"#EF553B\", \"#00cc96\", \"#ab63fa\", \"#FFA15A\", \"#19d3f3\", \"#FF6692\", \"#B6E880\", \"#FF97FF\", \"#FECB52\"], \"font\": {\"color\": \"#2a3f5f\"}, \"geo\": {\"bgcolor\": \"white\", \"lakecolor\": \"white\", \"landcolor\": \"#E5ECF6\", \"showlakes\": true, \"showland\": true, \"subunitcolor\": \"white\"}, \"hoverlabel\": {\"align\": \"left\"}, \"hovermode\": \"closest\", \"mapbox\": {\"style\": \"light\"}, \"paper_bgcolor\": \"white\", \"plot_bgcolor\": \"#E5ECF6\", \"polar\": {\"angularaxis\": {\"gridcolor\": \"white\", \"linecolor\": \"white\", \"ticks\": \"\"}, \"bgcolor\": \"#E5ECF6\", \"radialaxis\": {\"gridcolor\": \"white\", \"linecolor\": \"white\", \"ticks\": \"\"}}, \"scene\": {\"xaxis\": {\"backgroundcolor\": \"#E5ECF6\", \"gridcolor\": \"white\", \"gridwidth\": 2, \"linecolor\": \"white\", \"showbackground\": true, \"ticks\": \"\", \"zerolinecolor\": \"white\"}, \"yaxis\": {\"backgroundcolor\": \"#E5ECF6\", \"gridcolor\": \"white\", \"gridwidth\": 2, \"linecolor\": \"white\", \"showbackground\": true, \"ticks\": \"\", \"zerolinecolor\": \"white\"}, \"zaxis\": {\"backgroundcolor\": \"#E5ECF6\", \"gridcolor\": \"white\", \"gridwidth\": 2, \"linecolor\": \"white\", \"showbackground\": true, \"ticks\": \"\", \"zerolinecolor\": \"white\"}}, \"shapedefaults\": {\"line\": {\"color\": \"#2a3f5f\"}}, \"ternary\": {\"aaxis\": {\"gridcolor\": \"white\", \"linecolor\": \"white\", \"ticks\": \"\"}, \"baxis\": {\"gridcolor\": \"white\", \"linecolor\": \"white\", \"ticks\": \"\"}, \"bgcolor\": \"#E5ECF6\", \"caxis\": {\"gridcolor\": \"white\", \"linecolor\": \"white\", \"ticks\": \"\"}}, \"title\": {\"x\": 0.05}, \"xaxis\": {\"automargin\": true, \"gridcolor\": \"white\", \"linecolor\": \"white\", \"ticks\": \"\", \"zerolinecolor\": \"white\", \"zerolinewidth\": 2}, \"yaxis\": {\"automargin\": true, \"gridcolor\": \"white\", \"linecolor\": \"white\", \"ticks\": \"\", \"zerolinecolor\": \"white\", \"zerolinewidth\": 2}}}, \"title\": {\"text\": \"Average $ of loans Originated per recipient - DL SUBSIDIZED\"}},\n",
       "                        {\"responsive\": true}\n",
       "                    ).then(function(){\n",
       "                            \n",
       "var gd = document.getElementById('122edd2b-9f63-4f03-a0a2-61a88cdc03e9');\n",
       "var x = new MutationObserver(function (mutations, observer) {{\n",
       "        var display = window.getComputedStyle(gd).display;\n",
       "        if (!display || display === 'none') {{\n",
       "            console.log([gd, 'removed!']);\n",
       "            Plotly.purge(gd);\n",
       "            observer.disconnect();\n",
       "        }}\n",
       "}});\n",
       "\n",
       "// Listen for the removal of the full notebook cells\n",
       "var notebookContainer = gd.closest('#notebook-container');\n",
       "if (notebookContainer) {{\n",
       "    x.observe(notebookContainer, {childList: true});\n",
       "}}\n",
       "\n",
       "// Listen for the clearing of the current output cell\n",
       "var outputEl = gd.closest('.output');\n",
       "if (outputEl) {{\n",
       "    x.observe(outputEl, {childList: true});\n",
       "}}\n",
       "\n",
       "                        })\n",
       "                };\n",
       "                });\n",
       "            </script>\n",
       "        </div>"
      ]
     },
     "metadata": {},
     "output_type": "display_data"
    }
   ],
   "source": [
    "#%%\n",
    "\n",
    "fig = go.Figure(data=go.Choropleth(locations=df_subsidized['State'], # Spatial coordinates\n",
    "                                   z = df_subsidized['Average $ of loans Originated per recipient - DL SUBSIDIZED'].astype(float), # Data to be color-coded\n",
    "                                   locationmode = 'USA-states', # set of locations match entries in `locations`\n",
    "                                   colorscale = 'viridis',\n",
    "                                   colorbar_title = \"USD\"))\n",
    "\n",
    "fig.update_layout(title_text = 'Average $ of loans Originated per recipient - DL SUBSIDIZED',\n",
    "                  geo_scope='usa') # limite map scope to USA\n",
    "\n",
    "\n",
    "fig.show()"
   ]
  },
  {
   "cell_type": "code",
   "execution_count": 76,
   "metadata": {},
   "outputs": [
    {
     "data": {
      "application/vnd.plotly.v1+json": {
       "config": {
        "plotlyServerURL": "https://plot.ly"
       },
       "data": [
        {
         "colorbar": {
          "title": {
           "text": "% of Offered"
          }
         },
         "colorscale": [
          [
           0,
           "rgb(255,245,240)"
          ],
          [
           0.125,
           "rgb(254,224,210)"
          ],
          [
           0.25,
           "rgb(252,187,161)"
          ],
          [
           0.375,
           "rgb(252,146,114)"
          ],
          [
           0.5,
           "rgb(251,106,74)"
          ],
          [
           0.625,
           "rgb(239,59,44)"
          ],
          [
           0.75,
           "rgb(203,24,29)"
          ],
          [
           0.875,
           "rgb(165,15,21)"
          ],
          [
           1,
           "rgb(103,0,13)"
          ]
         ],
         "locationmode": "USA-states",
         "locations": [
          "AK",
          "AL",
          "AR",
          "AZ",
          "CA",
          "CO",
          "CT",
          "DC",
          "DE",
          "FL",
          "GA",
          "GU",
          "HI",
          "IA",
          "ID",
          "IL",
          "IN",
          "KS",
          "KY",
          "LA",
          "MA",
          "MD",
          "ME",
          "MI",
          "MN",
          "MO",
          "MS",
          "MT",
          "NC",
          "ND",
          "NE",
          "NH",
          "NJ",
          "NM",
          "NV",
          "NY",
          "OH",
          "OK",
          "OR",
          "PA",
          "PR",
          "RI",
          "SC",
          "SD",
          "TN",
          "TX",
          "UT",
          "VA",
          "VI",
          "VT",
          "WA",
          "WI",
          "WV",
          "WY"
         ],
         "type": "choropleth",
         "z": [
          53.14429146169636,
          49.40154734069445,
          50.166140555720915,
          50.489190691321724,
          47.611180643214794,
          49.700426374483605,
          49.66502300525201,
          42.6667928933605,
          50.644210801858804,
          58.410533726606644,
          50.21225725475215,
          50,
          51.06060792214311,
          53.636697480057144,
          50.70549171683575,
          49.040375326370395,
          50.14605737543517,
          50.88236544497092,
          50.4091036507454,
          50.066319631305475,
          50.50255810037232,
          51.0026892921761,
          50.63123090170988,
          51.24372444324477,
          49.43605891586596,
          50.08479300109867,
          48.18711379964727,
          50.546612018900234,
          48.832972511486815,
          51.479285001835365,
          50.31640691367622,
          39.749275782535584,
          50.78637250519179,
          51.14526297616789,
          51.1135526460365,
          51.33205375718572,
          50.235419057145535,
          50.8362350334624,
          40.34548063391774,
          50.024551643169836,
          53.71751364834791,
          46.22807885975712,
          50.83291958443639,
          50.82835239493638,
          51.868517941506596,
          50.554486961535844,
          51.77628652110263,
          49.11806887311914,
          50.500679784295144,
          50.73340825188715,
          42.8309102150678,
          50.142355171298846,
          50.158490794360794,
          51.94959320252439
         ]
        }
       ],
       "layout": {
        "geo": {
         "scope": "usa"
        },
        "template": {
         "data": {
          "bar": [
           {
            "error_x": {
             "color": "#2a3f5f"
            },
            "error_y": {
             "color": "#2a3f5f"
            },
            "marker": {
             "line": {
              "color": "#E5ECF6",
              "width": 0.5
             }
            },
            "type": "bar"
           }
          ],
          "barpolar": [
           {
            "marker": {
             "line": {
              "color": "#E5ECF6",
              "width": 0.5
             }
            },
            "type": "barpolar"
           }
          ],
          "carpet": [
           {
            "aaxis": {
             "endlinecolor": "#2a3f5f",
             "gridcolor": "white",
             "linecolor": "white",
             "minorgridcolor": "white",
             "startlinecolor": "#2a3f5f"
            },
            "baxis": {
             "endlinecolor": "#2a3f5f",
             "gridcolor": "white",
             "linecolor": "white",
             "minorgridcolor": "white",
             "startlinecolor": "#2a3f5f"
            },
            "type": "carpet"
           }
          ],
          "choropleth": [
           {
            "colorbar": {
             "outlinewidth": 0,
             "ticks": ""
            },
            "type": "choropleth"
           }
          ],
          "contour": [
           {
            "colorbar": {
             "outlinewidth": 0,
             "ticks": ""
            },
            "colorscale": [
             [
              0,
              "#0d0887"
             ],
             [
              0.1111111111111111,
              "#46039f"
             ],
             [
              0.2222222222222222,
              "#7201a8"
             ],
             [
              0.3333333333333333,
              "#9c179e"
             ],
             [
              0.4444444444444444,
              "#bd3786"
             ],
             [
              0.5555555555555556,
              "#d8576b"
             ],
             [
              0.6666666666666666,
              "#ed7953"
             ],
             [
              0.7777777777777778,
              "#fb9f3a"
             ],
             [
              0.8888888888888888,
              "#fdca26"
             ],
             [
              1,
              "#f0f921"
             ]
            ],
            "type": "contour"
           }
          ],
          "contourcarpet": [
           {
            "colorbar": {
             "outlinewidth": 0,
             "ticks": ""
            },
            "type": "contourcarpet"
           }
          ],
          "heatmap": [
           {
            "colorbar": {
             "outlinewidth": 0,
             "ticks": ""
            },
            "colorscale": [
             [
              0,
              "#0d0887"
             ],
             [
              0.1111111111111111,
              "#46039f"
             ],
             [
              0.2222222222222222,
              "#7201a8"
             ],
             [
              0.3333333333333333,
              "#9c179e"
             ],
             [
              0.4444444444444444,
              "#bd3786"
             ],
             [
              0.5555555555555556,
              "#d8576b"
             ],
             [
              0.6666666666666666,
              "#ed7953"
             ],
             [
              0.7777777777777778,
              "#fb9f3a"
             ],
             [
              0.8888888888888888,
              "#fdca26"
             ],
             [
              1,
              "#f0f921"
             ]
            ],
            "type": "heatmap"
           }
          ],
          "heatmapgl": [
           {
            "colorbar": {
             "outlinewidth": 0,
             "ticks": ""
            },
            "colorscale": [
             [
              0,
              "#0d0887"
             ],
             [
              0.1111111111111111,
              "#46039f"
             ],
             [
              0.2222222222222222,
              "#7201a8"
             ],
             [
              0.3333333333333333,
              "#9c179e"
             ],
             [
              0.4444444444444444,
              "#bd3786"
             ],
             [
              0.5555555555555556,
              "#d8576b"
             ],
             [
              0.6666666666666666,
              "#ed7953"
             ],
             [
              0.7777777777777778,
              "#fb9f3a"
             ],
             [
              0.8888888888888888,
              "#fdca26"
             ],
             [
              1,
              "#f0f921"
             ]
            ],
            "type": "heatmapgl"
           }
          ],
          "histogram": [
           {
            "marker": {
             "colorbar": {
              "outlinewidth": 0,
              "ticks": ""
             }
            },
            "type": "histogram"
           }
          ],
          "histogram2d": [
           {
            "colorbar": {
             "outlinewidth": 0,
             "ticks": ""
            },
            "colorscale": [
             [
              0,
              "#0d0887"
             ],
             [
              0.1111111111111111,
              "#46039f"
             ],
             [
              0.2222222222222222,
              "#7201a8"
             ],
             [
              0.3333333333333333,
              "#9c179e"
             ],
             [
              0.4444444444444444,
              "#bd3786"
             ],
             [
              0.5555555555555556,
              "#d8576b"
             ],
             [
              0.6666666666666666,
              "#ed7953"
             ],
             [
              0.7777777777777778,
              "#fb9f3a"
             ],
             [
              0.8888888888888888,
              "#fdca26"
             ],
             [
              1,
              "#f0f921"
             ]
            ],
            "type": "histogram2d"
           }
          ],
          "histogram2dcontour": [
           {
            "colorbar": {
             "outlinewidth": 0,
             "ticks": ""
            },
            "colorscale": [
             [
              0,
              "#0d0887"
             ],
             [
              0.1111111111111111,
              "#46039f"
             ],
             [
              0.2222222222222222,
              "#7201a8"
             ],
             [
              0.3333333333333333,
              "#9c179e"
             ],
             [
              0.4444444444444444,
              "#bd3786"
             ],
             [
              0.5555555555555556,
              "#d8576b"
             ],
             [
              0.6666666666666666,
              "#ed7953"
             ],
             [
              0.7777777777777778,
              "#fb9f3a"
             ],
             [
              0.8888888888888888,
              "#fdca26"
             ],
             [
              1,
              "#f0f921"
             ]
            ],
            "type": "histogram2dcontour"
           }
          ],
          "mesh3d": [
           {
            "colorbar": {
             "outlinewidth": 0,
             "ticks": ""
            },
            "type": "mesh3d"
           }
          ],
          "parcoords": [
           {
            "line": {
             "colorbar": {
              "outlinewidth": 0,
              "ticks": ""
             }
            },
            "type": "parcoords"
           }
          ],
          "scatter": [
           {
            "marker": {
             "colorbar": {
              "outlinewidth": 0,
              "ticks": ""
             }
            },
            "type": "scatter"
           }
          ],
          "scatter3d": [
           {
            "line": {
             "colorbar": {
              "outlinewidth": 0,
              "ticks": ""
             }
            },
            "marker": {
             "colorbar": {
              "outlinewidth": 0,
              "ticks": ""
             }
            },
            "type": "scatter3d"
           }
          ],
          "scattercarpet": [
           {
            "marker": {
             "colorbar": {
              "outlinewidth": 0,
              "ticks": ""
             }
            },
            "type": "scattercarpet"
           }
          ],
          "scattergeo": [
           {
            "marker": {
             "colorbar": {
              "outlinewidth": 0,
              "ticks": ""
             }
            },
            "type": "scattergeo"
           }
          ],
          "scattergl": [
           {
            "marker": {
             "colorbar": {
              "outlinewidth": 0,
              "ticks": ""
             }
            },
            "type": "scattergl"
           }
          ],
          "scattermapbox": [
           {
            "marker": {
             "colorbar": {
              "outlinewidth": 0,
              "ticks": ""
             }
            },
            "type": "scattermapbox"
           }
          ],
          "scatterpolar": [
           {
            "marker": {
             "colorbar": {
              "outlinewidth": 0,
              "ticks": ""
             }
            },
            "type": "scatterpolar"
           }
          ],
          "scatterpolargl": [
           {
            "marker": {
             "colorbar": {
              "outlinewidth": 0,
              "ticks": ""
             }
            },
            "type": "scatterpolargl"
           }
          ],
          "scatterternary": [
           {
            "marker": {
             "colorbar": {
              "outlinewidth": 0,
              "ticks": ""
             }
            },
            "type": "scatterternary"
           }
          ],
          "surface": [
           {
            "colorbar": {
             "outlinewidth": 0,
             "ticks": ""
            },
            "colorscale": [
             [
              0,
              "#0d0887"
             ],
             [
              0.1111111111111111,
              "#46039f"
             ],
             [
              0.2222222222222222,
              "#7201a8"
             ],
             [
              0.3333333333333333,
              "#9c179e"
             ],
             [
              0.4444444444444444,
              "#bd3786"
             ],
             [
              0.5555555555555556,
              "#d8576b"
             ],
             [
              0.6666666666666666,
              "#ed7953"
             ],
             [
              0.7777777777777778,
              "#fb9f3a"
             ],
             [
              0.8888888888888888,
              "#fdca26"
             ],
             [
              1,
              "#f0f921"
             ]
            ],
            "type": "surface"
           }
          ],
          "table": [
           {
            "cells": {
             "fill": {
              "color": "#EBF0F8"
             },
             "line": {
              "color": "white"
             }
            },
            "header": {
             "fill": {
              "color": "#C8D4E3"
             },
             "line": {
              "color": "white"
             }
            },
            "type": "table"
           }
          ]
         },
         "layout": {
          "annotationdefaults": {
           "arrowcolor": "#2a3f5f",
           "arrowhead": 0,
           "arrowwidth": 1
          },
          "colorscale": {
           "diverging": [
            [
             0,
             "#8e0152"
            ],
            [
             0.1,
             "#c51b7d"
            ],
            [
             0.2,
             "#de77ae"
            ],
            [
             0.3,
             "#f1b6da"
            ],
            [
             0.4,
             "#fde0ef"
            ],
            [
             0.5,
             "#f7f7f7"
            ],
            [
             0.6,
             "#e6f5d0"
            ],
            [
             0.7,
             "#b8e186"
            ],
            [
             0.8,
             "#7fbc41"
            ],
            [
             0.9,
             "#4d9221"
            ],
            [
             1,
             "#276419"
            ]
           ],
           "sequential": [
            [
             0,
             "#0d0887"
            ],
            [
             0.1111111111111111,
             "#46039f"
            ],
            [
             0.2222222222222222,
             "#7201a8"
            ],
            [
             0.3333333333333333,
             "#9c179e"
            ],
            [
             0.4444444444444444,
             "#bd3786"
            ],
            [
             0.5555555555555556,
             "#d8576b"
            ],
            [
             0.6666666666666666,
             "#ed7953"
            ],
            [
             0.7777777777777778,
             "#fb9f3a"
            ],
            [
             0.8888888888888888,
             "#fdca26"
            ],
            [
             1,
             "#f0f921"
            ]
           ],
           "sequentialminus": [
            [
             0,
             "#0d0887"
            ],
            [
             0.1111111111111111,
             "#46039f"
            ],
            [
             0.2222222222222222,
             "#7201a8"
            ],
            [
             0.3333333333333333,
             "#9c179e"
            ],
            [
             0.4444444444444444,
             "#bd3786"
            ],
            [
             0.5555555555555556,
             "#d8576b"
            ],
            [
             0.6666666666666666,
             "#ed7953"
            ],
            [
             0.7777777777777778,
             "#fb9f3a"
            ],
            [
             0.8888888888888888,
             "#fdca26"
            ],
            [
             1,
             "#f0f921"
            ]
           ]
          },
          "colorway": [
           "#636efa",
           "#EF553B",
           "#00cc96",
           "#ab63fa",
           "#FFA15A",
           "#19d3f3",
           "#FF6692",
           "#B6E880",
           "#FF97FF",
           "#FECB52"
          ],
          "font": {
           "color": "#2a3f5f"
          },
          "geo": {
           "bgcolor": "white",
           "lakecolor": "white",
           "landcolor": "#E5ECF6",
           "showlakes": true,
           "showland": true,
           "subunitcolor": "white"
          },
          "hoverlabel": {
           "align": "left"
          },
          "hovermode": "closest",
          "mapbox": {
           "style": "light"
          },
          "paper_bgcolor": "white",
          "plot_bgcolor": "#E5ECF6",
          "polar": {
           "angularaxis": {
            "gridcolor": "white",
            "linecolor": "white",
            "ticks": ""
           },
           "bgcolor": "#E5ECF6",
           "radialaxis": {
            "gridcolor": "white",
            "linecolor": "white",
            "ticks": ""
           }
          },
          "scene": {
           "xaxis": {
            "backgroundcolor": "#E5ECF6",
            "gridcolor": "white",
            "gridwidth": 2,
            "linecolor": "white",
            "showbackground": true,
            "ticks": "",
            "zerolinecolor": "white"
           },
           "yaxis": {
            "backgroundcolor": "#E5ECF6",
            "gridcolor": "white",
            "gridwidth": 2,
            "linecolor": "white",
            "showbackground": true,
            "ticks": "",
            "zerolinecolor": "white"
           },
           "zaxis": {
            "backgroundcolor": "#E5ECF6",
            "gridcolor": "white",
            "gridwidth": 2,
            "linecolor": "white",
            "showbackground": true,
            "ticks": "",
            "zerolinecolor": "white"
           }
          },
          "shapedefaults": {
           "line": {
            "color": "#2a3f5f"
           }
          },
          "ternary": {
           "aaxis": {
            "gridcolor": "white",
            "linecolor": "white",
            "ticks": ""
           },
           "baxis": {
            "gridcolor": "white",
            "linecolor": "white",
            "ticks": ""
           },
           "bgcolor": "#E5ECF6",
           "caxis": {
            "gridcolor": "white",
            "linecolor": "white",
            "ticks": ""
           }
          },
          "title": {
           "x": 0.05
          },
          "xaxis": {
           "automargin": true,
           "gridcolor": "white",
           "linecolor": "white",
           "ticks": "",
           "zerolinecolor": "white",
           "zerolinewidth": 2
          },
          "yaxis": {
           "automargin": true,
           "gridcolor": "white",
           "linecolor": "white",
           "ticks": "",
           "zerolinecolor": "white",
           "zerolinewidth": 2
          }
         }
        },
        "title": {
         "text": "Average $ of loans Originated per recipient - DL SUBSIDIZED"
        }
       }
      },
      "text/html": [
       "<div>\n",
       "        \n",
       "        \n",
       "            <div id=\"253a4032-5f6c-4f6b-97f6-cfa7423ae6ad\" class=\"plotly-graph-div\" style=\"height:525px; width:100%;\"></div>\n",
       "            <script type=\"text/javascript\">\n",
       "                require([\"plotly\"], function(Plotly) {\n",
       "                    window.PLOTLYENV=window.PLOTLYENV || {};\n",
       "                    \n",
       "                if (document.getElementById(\"253a4032-5f6c-4f6b-97f6-cfa7423ae6ad\")) {\n",
       "                    Plotly.newPlot(\n",
       "                        '253a4032-5f6c-4f6b-97f6-cfa7423ae6ad',\n",
       "                        [{\"colorbar\": {\"title\": {\"text\": \"% of Offered\"}}, \"colorscale\": [[0.0, \"rgb(255,245,240)\"], [0.125, \"rgb(254,224,210)\"], [0.25, \"rgb(252,187,161)\"], [0.375, \"rgb(252,146,114)\"], [0.5, \"rgb(251,106,74)\"], [0.625, \"rgb(239,59,44)\"], [0.75, \"rgb(203,24,29)\"], [0.875, \"rgb(165,15,21)\"], [1.0, \"rgb(103,0,13)\"]], \"locationmode\": \"USA-states\", \"locations\": [\"AK\", \"AL\", \"AR\", \"AZ\", \"CA\", \"CO\", \"CT\", \"DC\", \"DE\", \"FL\", \"GA\", \"GU\", \"HI\", \"IA\", \"ID\", \"IL\", \"IN\", \"KS\", \"KY\", \"LA\", \"MA\", \"MD\", \"ME\", \"MI\", \"MN\", \"MO\", \"MS\", \"MT\", \"NC\", \"ND\", \"NE\", \"NH\", \"NJ\", \"NM\", \"NV\", \"NY\", \"OH\", \"OK\", \"OR\", \"PA\", \"PR\", \"RI\", \"SC\", \"SD\", \"TN\", \"TX\", \"UT\", \"VA\", \"VI\", \"VT\", \"WA\", \"WI\", \"WV\", \"WY\"], \"type\": \"choropleth\", \"z\": [53.14429146169636, 49.40154734069445, 50.166140555720915, 50.489190691321724, 47.611180643214794, 49.700426374483605, 49.66502300525201, 42.6667928933605, 50.644210801858804, 58.410533726606644, 50.21225725475215, 50.0, 51.06060792214311, 53.636697480057144, 50.70549171683575, 49.040375326370395, 50.14605737543517, 50.88236544497092, 50.4091036507454, 50.066319631305475, 50.50255810037232, 51.0026892921761, 50.63123090170988, 51.24372444324477, 49.43605891586596, 50.08479300109867, 48.18711379964727, 50.546612018900234, 48.832972511486815, 51.479285001835365, 50.31640691367622, 39.749275782535584, 50.78637250519179, 51.14526297616789, 51.1135526460365, 51.33205375718572, 50.235419057145535, 50.8362350334624, 40.34548063391774, 50.024551643169836, 53.71751364834791, 46.22807885975712, 50.83291958443639, 50.82835239493638, 51.868517941506596, 50.554486961535844, 51.77628652110263, 49.11806887311914, 50.500679784295144, 50.73340825188715, 42.8309102150678, 50.142355171298846, 50.158490794360794, 51.94959320252439]}],\n",
       "                        {\"geo\": {\"scope\": \"usa\"}, \"template\": {\"data\": {\"bar\": [{\"error_x\": {\"color\": \"#2a3f5f\"}, \"error_y\": {\"color\": \"#2a3f5f\"}, \"marker\": {\"line\": {\"color\": \"#E5ECF6\", \"width\": 0.5}}, \"type\": \"bar\"}], \"barpolar\": [{\"marker\": {\"line\": {\"color\": \"#E5ECF6\", \"width\": 0.5}}, \"type\": \"barpolar\"}], \"carpet\": [{\"aaxis\": {\"endlinecolor\": \"#2a3f5f\", \"gridcolor\": \"white\", \"linecolor\": \"white\", \"minorgridcolor\": \"white\", \"startlinecolor\": \"#2a3f5f\"}, \"baxis\": {\"endlinecolor\": \"#2a3f5f\", \"gridcolor\": \"white\", \"linecolor\": \"white\", \"minorgridcolor\": \"white\", \"startlinecolor\": \"#2a3f5f\"}, \"type\": \"carpet\"}], \"choropleth\": [{\"colorbar\": {\"outlinewidth\": 0, \"ticks\": \"\"}, \"type\": \"choropleth\"}], \"contour\": [{\"colorbar\": {\"outlinewidth\": 0, \"ticks\": \"\"}, \"colorscale\": [[0.0, \"#0d0887\"], [0.1111111111111111, \"#46039f\"], [0.2222222222222222, \"#7201a8\"], [0.3333333333333333, \"#9c179e\"], [0.4444444444444444, \"#bd3786\"], [0.5555555555555556, \"#d8576b\"], [0.6666666666666666, \"#ed7953\"], [0.7777777777777778, \"#fb9f3a\"], [0.8888888888888888, \"#fdca26\"], [1.0, \"#f0f921\"]], \"type\": \"contour\"}], \"contourcarpet\": [{\"colorbar\": {\"outlinewidth\": 0, \"ticks\": \"\"}, \"type\": \"contourcarpet\"}], \"heatmap\": [{\"colorbar\": {\"outlinewidth\": 0, \"ticks\": \"\"}, \"colorscale\": [[0.0, \"#0d0887\"], [0.1111111111111111, \"#46039f\"], [0.2222222222222222, \"#7201a8\"], [0.3333333333333333, \"#9c179e\"], [0.4444444444444444, \"#bd3786\"], [0.5555555555555556, \"#d8576b\"], [0.6666666666666666, \"#ed7953\"], [0.7777777777777778, \"#fb9f3a\"], [0.8888888888888888, \"#fdca26\"], [1.0, \"#f0f921\"]], \"type\": \"heatmap\"}], \"heatmapgl\": [{\"colorbar\": {\"outlinewidth\": 0, \"ticks\": \"\"}, \"colorscale\": [[0.0, \"#0d0887\"], [0.1111111111111111, \"#46039f\"], [0.2222222222222222, \"#7201a8\"], [0.3333333333333333, \"#9c179e\"], [0.4444444444444444, \"#bd3786\"], [0.5555555555555556, \"#d8576b\"], [0.6666666666666666, \"#ed7953\"], [0.7777777777777778, \"#fb9f3a\"], [0.8888888888888888, \"#fdca26\"], [1.0, \"#f0f921\"]], \"type\": \"heatmapgl\"}], \"histogram\": [{\"marker\": {\"colorbar\": {\"outlinewidth\": 0, \"ticks\": \"\"}}, \"type\": \"histogram\"}], \"histogram2d\": [{\"colorbar\": {\"outlinewidth\": 0, \"ticks\": \"\"}, \"colorscale\": [[0.0, \"#0d0887\"], [0.1111111111111111, \"#46039f\"], [0.2222222222222222, \"#7201a8\"], [0.3333333333333333, \"#9c179e\"], [0.4444444444444444, \"#bd3786\"], [0.5555555555555556, \"#d8576b\"], [0.6666666666666666, \"#ed7953\"], [0.7777777777777778, \"#fb9f3a\"], [0.8888888888888888, \"#fdca26\"], [1.0, \"#f0f921\"]], \"type\": \"histogram2d\"}], \"histogram2dcontour\": [{\"colorbar\": {\"outlinewidth\": 0, \"ticks\": \"\"}, \"colorscale\": [[0.0, \"#0d0887\"], [0.1111111111111111, \"#46039f\"], [0.2222222222222222, \"#7201a8\"], [0.3333333333333333, \"#9c179e\"], [0.4444444444444444, \"#bd3786\"], [0.5555555555555556, \"#d8576b\"], [0.6666666666666666, \"#ed7953\"], [0.7777777777777778, \"#fb9f3a\"], [0.8888888888888888, \"#fdca26\"], [1.0, \"#f0f921\"]], \"type\": \"histogram2dcontour\"}], \"mesh3d\": [{\"colorbar\": {\"outlinewidth\": 0, \"ticks\": \"\"}, \"type\": \"mesh3d\"}], \"parcoords\": [{\"line\": {\"colorbar\": {\"outlinewidth\": 0, \"ticks\": \"\"}}, \"type\": \"parcoords\"}], \"scatter\": [{\"marker\": {\"colorbar\": {\"outlinewidth\": 0, \"ticks\": \"\"}}, \"type\": \"scatter\"}], \"scatter3d\": [{\"line\": {\"colorbar\": {\"outlinewidth\": 0, \"ticks\": \"\"}}, \"marker\": {\"colorbar\": {\"outlinewidth\": 0, \"ticks\": \"\"}}, \"type\": \"scatter3d\"}], \"scattercarpet\": [{\"marker\": {\"colorbar\": {\"outlinewidth\": 0, \"ticks\": \"\"}}, \"type\": \"scattercarpet\"}], \"scattergeo\": [{\"marker\": {\"colorbar\": {\"outlinewidth\": 0, \"ticks\": \"\"}}, \"type\": \"scattergeo\"}], \"scattergl\": [{\"marker\": {\"colorbar\": {\"outlinewidth\": 0, \"ticks\": \"\"}}, \"type\": \"scattergl\"}], \"scattermapbox\": [{\"marker\": {\"colorbar\": {\"outlinewidth\": 0, \"ticks\": \"\"}}, \"type\": \"scattermapbox\"}], \"scatterpolar\": [{\"marker\": {\"colorbar\": {\"outlinewidth\": 0, \"ticks\": \"\"}}, \"type\": \"scatterpolar\"}], \"scatterpolargl\": [{\"marker\": {\"colorbar\": {\"outlinewidth\": 0, \"ticks\": \"\"}}, \"type\": \"scatterpolargl\"}], \"scatterternary\": [{\"marker\": {\"colorbar\": {\"outlinewidth\": 0, \"ticks\": \"\"}}, \"type\": \"scatterternary\"}], \"surface\": [{\"colorbar\": {\"outlinewidth\": 0, \"ticks\": \"\"}, \"colorscale\": [[0.0, \"#0d0887\"], [0.1111111111111111, \"#46039f\"], [0.2222222222222222, \"#7201a8\"], [0.3333333333333333, \"#9c179e\"], [0.4444444444444444, \"#bd3786\"], [0.5555555555555556, \"#d8576b\"], [0.6666666666666666, \"#ed7953\"], [0.7777777777777778, \"#fb9f3a\"], [0.8888888888888888, \"#fdca26\"], [1.0, \"#f0f921\"]], \"type\": \"surface\"}], \"table\": [{\"cells\": {\"fill\": {\"color\": \"#EBF0F8\"}, \"line\": {\"color\": \"white\"}}, \"header\": {\"fill\": {\"color\": \"#C8D4E3\"}, \"line\": {\"color\": \"white\"}}, \"type\": \"table\"}]}, \"layout\": {\"annotationdefaults\": {\"arrowcolor\": \"#2a3f5f\", \"arrowhead\": 0, \"arrowwidth\": 1}, \"colorscale\": {\"diverging\": [[0, \"#8e0152\"], [0.1, \"#c51b7d\"], [0.2, \"#de77ae\"], [0.3, \"#f1b6da\"], [0.4, \"#fde0ef\"], [0.5, \"#f7f7f7\"], [0.6, \"#e6f5d0\"], [0.7, \"#b8e186\"], [0.8, \"#7fbc41\"], [0.9, \"#4d9221\"], [1, \"#276419\"]], \"sequential\": [[0.0, \"#0d0887\"], [0.1111111111111111, \"#46039f\"], [0.2222222222222222, \"#7201a8\"], [0.3333333333333333, \"#9c179e\"], [0.4444444444444444, \"#bd3786\"], [0.5555555555555556, \"#d8576b\"], [0.6666666666666666, \"#ed7953\"], [0.7777777777777778, \"#fb9f3a\"], [0.8888888888888888, \"#fdca26\"], [1.0, \"#f0f921\"]], \"sequentialminus\": [[0.0, \"#0d0887\"], [0.1111111111111111, \"#46039f\"], [0.2222222222222222, \"#7201a8\"], [0.3333333333333333, \"#9c179e\"], [0.4444444444444444, \"#bd3786\"], [0.5555555555555556, \"#d8576b\"], [0.6666666666666666, \"#ed7953\"], [0.7777777777777778, \"#fb9f3a\"], [0.8888888888888888, \"#fdca26\"], [1.0, \"#f0f921\"]]}, \"colorway\": [\"#636efa\", \"#EF553B\", \"#00cc96\", \"#ab63fa\", \"#FFA15A\", \"#19d3f3\", \"#FF6692\", \"#B6E880\", \"#FF97FF\", \"#FECB52\"], \"font\": {\"color\": \"#2a3f5f\"}, \"geo\": {\"bgcolor\": \"white\", \"lakecolor\": \"white\", \"landcolor\": \"#E5ECF6\", \"showlakes\": true, \"showland\": true, \"subunitcolor\": \"white\"}, \"hoverlabel\": {\"align\": \"left\"}, \"hovermode\": \"closest\", \"mapbox\": {\"style\": \"light\"}, \"paper_bgcolor\": \"white\", \"plot_bgcolor\": \"#E5ECF6\", \"polar\": {\"angularaxis\": {\"gridcolor\": \"white\", \"linecolor\": \"white\", \"ticks\": \"\"}, \"bgcolor\": \"#E5ECF6\", \"radialaxis\": {\"gridcolor\": \"white\", \"linecolor\": \"white\", \"ticks\": \"\"}}, \"scene\": {\"xaxis\": {\"backgroundcolor\": \"#E5ECF6\", \"gridcolor\": \"white\", \"gridwidth\": 2, \"linecolor\": \"white\", \"showbackground\": true, \"ticks\": \"\", \"zerolinecolor\": \"white\"}, \"yaxis\": {\"backgroundcolor\": \"#E5ECF6\", \"gridcolor\": \"white\", \"gridwidth\": 2, \"linecolor\": \"white\", \"showbackground\": true, \"ticks\": \"\", \"zerolinecolor\": \"white\"}, \"zaxis\": {\"backgroundcolor\": \"#E5ECF6\", \"gridcolor\": \"white\", \"gridwidth\": 2, \"linecolor\": \"white\", \"showbackground\": true, \"ticks\": \"\", \"zerolinecolor\": \"white\"}}, \"shapedefaults\": {\"line\": {\"color\": \"#2a3f5f\"}}, \"ternary\": {\"aaxis\": {\"gridcolor\": \"white\", \"linecolor\": \"white\", \"ticks\": \"\"}, \"baxis\": {\"gridcolor\": \"white\", \"linecolor\": \"white\", \"ticks\": \"\"}, \"bgcolor\": \"#E5ECF6\", \"caxis\": {\"gridcolor\": \"white\", \"linecolor\": \"white\", \"ticks\": \"\"}}, \"title\": {\"x\": 0.05}, \"xaxis\": {\"automargin\": true, \"gridcolor\": \"white\", \"linecolor\": \"white\", \"ticks\": \"\", \"zerolinecolor\": \"white\", \"zerolinewidth\": 2}, \"yaxis\": {\"automargin\": true, \"gridcolor\": \"white\", \"linecolor\": \"white\", \"ticks\": \"\", \"zerolinecolor\": \"white\", \"zerolinewidth\": 2}}}, \"title\": {\"text\": \"Average $ of loans Originated per recipient - DL SUBSIDIZED\"}},\n",
       "                        {\"responsive\": true}\n",
       "                    ).then(function(){\n",
       "                            \n",
       "var gd = document.getElementById('253a4032-5f6c-4f6b-97f6-cfa7423ae6ad');\n",
       "var x = new MutationObserver(function (mutations, observer) {{\n",
       "        var display = window.getComputedStyle(gd).display;\n",
       "        if (!display || display === 'none') {{\n",
       "            console.log([gd, 'removed!']);\n",
       "            Plotly.purge(gd);\n",
       "            observer.disconnect();\n",
       "        }}\n",
       "}});\n",
       "\n",
       "// Listen for the removal of the full notebook cells\n",
       "var notebookContainer = gd.closest('#notebook-container');\n",
       "if (notebookContainer) {{\n",
       "    x.observe(notebookContainer, {childList: true});\n",
       "}}\n",
       "\n",
       "// Listen for the clearing of the current output cell\n",
       "var outputEl = gd.closest('.output');\n",
       "if (outputEl) {{\n",
       "    x.observe(outputEl, {childList: true});\n",
       "}}\n",
       "\n",
       "                        })\n",
       "                };\n",
       "                });\n",
       "            </script>\n",
       "        </div>"
      ]
     },
     "metadata": {},
     "output_type": "display_data"
    }
   ],
   "source": [
    "#%%\n",
    "\n",
    "fig = go.Figure(data=go.Choropleth(locations=df_subsidized['State'], # Spatial coordinates\n",
    "                                   z = df_subsidized['Average % of Disbursements to Loans Originated per recipient - DL SUBSIDIZED'].astype(float), # Data to be color-coded\n",
    "                                   locationmode = 'USA-states', # set of locations match entries in `locations`\n",
    "                                   colorscale = 'reds',\n",
    "                                   colorbar_title = \"% of Offered\"))\n",
    "\n",
    "fig.update_layout(title_text = 'Average $ of loans Originated per recipient - DL SUBSIDIZED',\n",
    "                  geo_scope='usa') # limite map scope to USA\n",
    "\n",
    "\n",
    "fig.show()"
   ]
  },
  {
   "cell_type": "markdown",
   "metadata": {},
   "source": [
    "# DL PARENT PLUS"
   ]
  },
  {
   "cell_type": "code",
   "execution_count": 78,
   "metadata": {},
   "outputs": [],
   "source": [
    "\n",
    "for row_num in range(2,df.shape[0]):\n",
    "    if (df['$ of Disbursements - DL PARENT PLUS'][row_num] == \" -\") or (df['$ of Disbursements - DL PARENT PLUS'][row_num] == \"- \"):\n",
    " #       print(f'{row_num} here')\n",
    " #       df['$ of Disbursements - DL SUBSIDIZED'][row_num] = 0\n",
    "        df.drop([row_num], inplace = True)\n",
    "\n",
    "#  df.reset_index(level=0, inplace=True)"
   ]
  },
  {
   "cell_type": "code",
   "execution_count": 79,
   "metadata": {},
   "outputs": [],
   "source": [
    "df_parent = df.groupby(['State']).agg({'School':['count'],\n",
    "                                       'Recipients - DL PARENT PLUS' : ['sum'],\n",
    "                                       '# of Loans Originated - DL PARENT PLUS' : ['sum'],\n",
    "                                       '$ of Loans Originated - DL PARENT PLUS' : ['sum'],\n",
    "                                       '# of Disbursements - DL PARENT PLUS' : ['sum'],\n",
    "                                       '$ of Disbursements - DL PARENT PLUS' : ['sum']})\n",
    "#%%\n",
    "df_parent.reset_index(level=0, inplace=True)\n",
    "df_parent.columns = df_parent.columns.droplevel(1)"
   ]
  },
  {
   "cell_type": "code",
   "execution_count": 80,
   "metadata": {},
   "outputs": [
    {
     "data": {
      "text/html": [
       "<div>\n",
       "<style scoped>\n",
       "    .dataframe tbody tr th:only-of-type {\n",
       "        vertical-align: middle;\n",
       "    }\n",
       "\n",
       "    .dataframe tbody tr th {\n",
       "        vertical-align: top;\n",
       "    }\n",
       "\n",
       "    .dataframe thead th {\n",
       "        text-align: right;\n",
       "    }\n",
       "</style>\n",
       "<table border=\"1\" class=\"dataframe\">\n",
       "  <thead>\n",
       "    <tr style=\"text-align: right;\">\n",
       "      <th></th>\n",
       "      <th>State</th>\n",
       "      <th>School</th>\n",
       "      <th>Recipients - DL PARENT PLUS</th>\n",
       "      <th># of Loans Originated - DL PARENT PLUS</th>\n",
       "      <th>$ of Loans Originated - DL PARENT PLUS</th>\n",
       "      <th># of Disbursements - DL PARENT PLUS</th>\n",
       "      <th>$ of Disbursements - DL PARENT PLUS</th>\n",
       "    </tr>\n",
       "  </thead>\n",
       "  <tbody>\n",
       "    <tr>\n",
       "      <th>0</th>\n",
       "      <td>AK</td>\n",
       "      <td>5</td>\n",
       "      <td>107</td>\n",
       "      <td>108</td>\n",
       "      <td>1524243</td>\n",
       "      <td>108</td>\n",
       "      <td>824666</td>\n",
       "    </tr>\n",
       "    <tr>\n",
       "      <th>1</th>\n",
       "      <td>AL</td>\n",
       "      <td>41</td>\n",
       "      <td>13952</td>\n",
       "      <td>14322</td>\n",
       "      <td>266426495</td>\n",
       "      <td>14381</td>\n",
       "      <td>136589067</td>\n",
       "    </tr>\n",
       "    <tr>\n",
       "      <th>2</th>\n",
       "      <td>AR</td>\n",
       "      <td>38</td>\n",
       "      <td>4513</td>\n",
       "      <td>4657</td>\n",
       "      <td>59363667</td>\n",
       "      <td>4694</td>\n",
       "      <td>30790110</td>\n",
       "    </tr>\n",
       "    <tr>\n",
       "      <th>3</th>\n",
       "      <td>AZ</td>\n",
       "      <td>38</td>\n",
       "      <td>15190</td>\n",
       "      <td>15598</td>\n",
       "      <td>264442125</td>\n",
       "      <td>15848</td>\n",
       "      <td>134682082</td>\n",
       "    </tr>\n",
       "    <tr>\n",
       "      <th>4</th>\n",
       "      <td>CA</td>\n",
       "      <td>260</td>\n",
       "      <td>39606</td>\n",
       "      <td>41194</td>\n",
       "      <td>797435312</td>\n",
       "      <td>41518</td>\n",
       "      <td>375267365</td>\n",
       "    </tr>\n",
       "  </tbody>\n",
       "</table>\n",
       "</div>"
      ],
      "text/plain": [
       "  State  School  Recipients - DL PARENT PLUS  \\\n",
       "0    AK       5                          107   \n",
       "1    AL      41                        13952   \n",
       "2    AR      38                         4513   \n",
       "3    AZ      38                        15190   \n",
       "4    CA     260                        39606   \n",
       "\n",
       "   # of Loans Originated - DL PARENT PLUS  \\\n",
       "0                                     108   \n",
       "1                                   14322   \n",
       "2                                    4657   \n",
       "3                                   15598   \n",
       "4                                   41194   \n",
       "\n",
       "   $ of Loans Originated - DL PARENT PLUS  \\\n",
       "0                                 1524243   \n",
       "1                               266426495   \n",
       "2                                59363667   \n",
       "3                               264442125   \n",
       "4                               797435312   \n",
       "\n",
       "   # of Disbursements - DL PARENT PLUS  $ of Disbursements - DL PARENT PLUS  \n",
       "0                                  108                               824666  \n",
       "1                                14381                            136589067  \n",
       "2                                 4694                             30790110  \n",
       "3                                15848                            134682082  \n",
       "4                                41518                            375267365  "
      ]
     },
     "execution_count": 80,
     "metadata": {},
     "output_type": "execute_result"
    }
   ],
   "source": [
    "df_parent.head()"
   ]
  },
  {
   "cell_type": "code",
   "execution_count": 81,
   "metadata": {},
   "outputs": [],
   "source": [
    "df_parent['Average $ of Disbursements per recipient - DL PARENT PLUS'] = df_parent['$ of Disbursements - DL PARENT PLUS'] / df_parent['Recipients - DL PARENT PLUS']\n",
    "df_parent['Average $ of Loans Originated per recipient - DL PARENT PLUS'] = df_parent['$ of Loans Originated - DL PARENT PLUS'] / df_parent['Recipients - DL PARENT PLUS']\n",
    "\n",
    "df_parent['Average % of Disbursements to Loans Originated per recipient - DL PARENT PLUS'] = (df_parent['Average $ of Disbursements per recipient - DL PARENT PLUS'] * 100)/ df_parent['Average $ of Loans Originated per recipient - DL PARENT PLUS']"
   ]
  },
  {
   "cell_type": "code",
   "execution_count": 82,
   "metadata": {},
   "outputs": [
    {
     "data": {
      "application/vnd.plotly.v1+json": {
       "config": {
        "plotlyServerURL": "https://plot.ly"
       },
       "data": [
        {
         "colorbar": {
          "title": {
           "text": "USD"
          }
         },
         "colorscale": [
          [
           0,
           "#440154"
          ],
          [
           0.1111111111111111,
           "#482878"
          ],
          [
           0.2222222222222222,
           "#3e4989"
          ],
          [
           0.3333333333333333,
           "#31688e"
          ],
          [
           0.4444444444444444,
           "#26828e"
          ],
          [
           0.5555555555555556,
           "#1f9e89"
          ],
          [
           0.6666666666666666,
           "#35b779"
          ],
          [
           0.7777777777777778,
           "#6ece58"
          ],
          [
           0.8888888888888888,
           "#b5de2b"
          ],
          [
           1,
           "#fde725"
          ]
         ],
         "locationmode": "USA-states",
         "locations": [
          "AK",
          "AL",
          "AR",
          "AZ",
          "CA",
          "CO",
          "CT",
          "DC",
          "DE",
          "FL",
          "GA",
          "GU",
          "HI",
          "IA",
          "ID",
          "IL",
          "IN",
          "KS",
          "KY",
          "LA",
          "MA",
          "MD",
          "ME",
          "MI",
          "MN",
          "MO",
          "MS",
          "MT",
          "NC",
          "ND",
          "NE",
          "NH",
          "NJ",
          "NM",
          "NV",
          "NY",
          "OH",
          "OK",
          "OR",
          "PA",
          "PR",
          "RI",
          "SC",
          "SD",
          "TN",
          "TX",
          "UT",
          "VA",
          "VI",
          "VT",
          "WA",
          "WI",
          "WV",
          "WY"
         ],
         "type": "choropleth",
         "z": [
          14245.26168224299,
          19095.935708142202,
          13153.925769997784,
          17408.961487820936,
          20134.2047164571,
          19593.14285714286,
          20076.075285729265,
          27417.093448940268,
          23149.12991094814,
          18205.714935971355,
          16608.202786445745,
          16889,
          20262.38875739645,
          12674.03829091758,
          15359.864933417883,
          17448.8771590438,
          16095.550887441024,
          15485.840220723483,
          14270.821952680444,
          14813.499021301093,
          23531.644251440364,
          18315.23112659698,
          17308.48997265269,
          14524.1622189335,
          14725.840242503687,
          14097.52302763316,
          14473.00089301661,
          16117.029185245237,
          14574.87501731382,
          13080.280701754386,
          13819.015588464536,
          18406.888327572455,
          19064.03351416516,
          10740.245856353591,
          18514.770716827657,
          21296.79511471867,
          15456.671070982897,
          17978.994022988507,
          22149.4078408426,
          19413.066712360065,
          8565.148148148148,
          20522.80640036314,
          17359.387186629527,
          10579.100296735905,
          16101.024426133019,
          14261.626943617373,
          14921.492957746479,
          17965.0183624031,
          12547,
          22715.902335456474,
          18890.76733283987,
          15339.174008207934,
          16050.67818858018,
          15790.868055555555
         ]
        }
       ],
       "layout": {
        "geo": {
         "scope": "usa"
        },
        "template": {
         "data": {
          "bar": [
           {
            "error_x": {
             "color": "#2a3f5f"
            },
            "error_y": {
             "color": "#2a3f5f"
            },
            "marker": {
             "line": {
              "color": "#E5ECF6",
              "width": 0.5
             }
            },
            "type": "bar"
           }
          ],
          "barpolar": [
           {
            "marker": {
             "line": {
              "color": "#E5ECF6",
              "width": 0.5
             }
            },
            "type": "barpolar"
           }
          ],
          "carpet": [
           {
            "aaxis": {
             "endlinecolor": "#2a3f5f",
             "gridcolor": "white",
             "linecolor": "white",
             "minorgridcolor": "white",
             "startlinecolor": "#2a3f5f"
            },
            "baxis": {
             "endlinecolor": "#2a3f5f",
             "gridcolor": "white",
             "linecolor": "white",
             "minorgridcolor": "white",
             "startlinecolor": "#2a3f5f"
            },
            "type": "carpet"
           }
          ],
          "choropleth": [
           {
            "colorbar": {
             "outlinewidth": 0,
             "ticks": ""
            },
            "type": "choropleth"
           }
          ],
          "contour": [
           {
            "colorbar": {
             "outlinewidth": 0,
             "ticks": ""
            },
            "colorscale": [
             [
              0,
              "#0d0887"
             ],
             [
              0.1111111111111111,
              "#46039f"
             ],
             [
              0.2222222222222222,
              "#7201a8"
             ],
             [
              0.3333333333333333,
              "#9c179e"
             ],
             [
              0.4444444444444444,
              "#bd3786"
             ],
             [
              0.5555555555555556,
              "#d8576b"
             ],
             [
              0.6666666666666666,
              "#ed7953"
             ],
             [
              0.7777777777777778,
              "#fb9f3a"
             ],
             [
              0.8888888888888888,
              "#fdca26"
             ],
             [
              1,
              "#f0f921"
             ]
            ],
            "type": "contour"
           }
          ],
          "contourcarpet": [
           {
            "colorbar": {
             "outlinewidth": 0,
             "ticks": ""
            },
            "type": "contourcarpet"
           }
          ],
          "heatmap": [
           {
            "colorbar": {
             "outlinewidth": 0,
             "ticks": ""
            },
            "colorscale": [
             [
              0,
              "#0d0887"
             ],
             [
              0.1111111111111111,
              "#46039f"
             ],
             [
              0.2222222222222222,
              "#7201a8"
             ],
             [
              0.3333333333333333,
              "#9c179e"
             ],
             [
              0.4444444444444444,
              "#bd3786"
             ],
             [
              0.5555555555555556,
              "#d8576b"
             ],
             [
              0.6666666666666666,
              "#ed7953"
             ],
             [
              0.7777777777777778,
              "#fb9f3a"
             ],
             [
              0.8888888888888888,
              "#fdca26"
             ],
             [
              1,
              "#f0f921"
             ]
            ],
            "type": "heatmap"
           }
          ],
          "heatmapgl": [
           {
            "colorbar": {
             "outlinewidth": 0,
             "ticks": ""
            },
            "colorscale": [
             [
              0,
              "#0d0887"
             ],
             [
              0.1111111111111111,
              "#46039f"
             ],
             [
              0.2222222222222222,
              "#7201a8"
             ],
             [
              0.3333333333333333,
              "#9c179e"
             ],
             [
              0.4444444444444444,
              "#bd3786"
             ],
             [
              0.5555555555555556,
              "#d8576b"
             ],
             [
              0.6666666666666666,
              "#ed7953"
             ],
             [
              0.7777777777777778,
              "#fb9f3a"
             ],
             [
              0.8888888888888888,
              "#fdca26"
             ],
             [
              1,
              "#f0f921"
             ]
            ],
            "type": "heatmapgl"
           }
          ],
          "histogram": [
           {
            "marker": {
             "colorbar": {
              "outlinewidth": 0,
              "ticks": ""
             }
            },
            "type": "histogram"
           }
          ],
          "histogram2d": [
           {
            "colorbar": {
             "outlinewidth": 0,
             "ticks": ""
            },
            "colorscale": [
             [
              0,
              "#0d0887"
             ],
             [
              0.1111111111111111,
              "#46039f"
             ],
             [
              0.2222222222222222,
              "#7201a8"
             ],
             [
              0.3333333333333333,
              "#9c179e"
             ],
             [
              0.4444444444444444,
              "#bd3786"
             ],
             [
              0.5555555555555556,
              "#d8576b"
             ],
             [
              0.6666666666666666,
              "#ed7953"
             ],
             [
              0.7777777777777778,
              "#fb9f3a"
             ],
             [
              0.8888888888888888,
              "#fdca26"
             ],
             [
              1,
              "#f0f921"
             ]
            ],
            "type": "histogram2d"
           }
          ],
          "histogram2dcontour": [
           {
            "colorbar": {
             "outlinewidth": 0,
             "ticks": ""
            },
            "colorscale": [
             [
              0,
              "#0d0887"
             ],
             [
              0.1111111111111111,
              "#46039f"
             ],
             [
              0.2222222222222222,
              "#7201a8"
             ],
             [
              0.3333333333333333,
              "#9c179e"
             ],
             [
              0.4444444444444444,
              "#bd3786"
             ],
             [
              0.5555555555555556,
              "#d8576b"
             ],
             [
              0.6666666666666666,
              "#ed7953"
             ],
             [
              0.7777777777777778,
              "#fb9f3a"
             ],
             [
              0.8888888888888888,
              "#fdca26"
             ],
             [
              1,
              "#f0f921"
             ]
            ],
            "type": "histogram2dcontour"
           }
          ],
          "mesh3d": [
           {
            "colorbar": {
             "outlinewidth": 0,
             "ticks": ""
            },
            "type": "mesh3d"
           }
          ],
          "parcoords": [
           {
            "line": {
             "colorbar": {
              "outlinewidth": 0,
              "ticks": ""
             }
            },
            "type": "parcoords"
           }
          ],
          "scatter": [
           {
            "marker": {
             "colorbar": {
              "outlinewidth": 0,
              "ticks": ""
             }
            },
            "type": "scatter"
           }
          ],
          "scatter3d": [
           {
            "line": {
             "colorbar": {
              "outlinewidth": 0,
              "ticks": ""
             }
            },
            "marker": {
             "colorbar": {
              "outlinewidth": 0,
              "ticks": ""
             }
            },
            "type": "scatter3d"
           }
          ],
          "scattercarpet": [
           {
            "marker": {
             "colorbar": {
              "outlinewidth": 0,
              "ticks": ""
             }
            },
            "type": "scattercarpet"
           }
          ],
          "scattergeo": [
           {
            "marker": {
             "colorbar": {
              "outlinewidth": 0,
              "ticks": ""
             }
            },
            "type": "scattergeo"
           }
          ],
          "scattergl": [
           {
            "marker": {
             "colorbar": {
              "outlinewidth": 0,
              "ticks": ""
             }
            },
            "type": "scattergl"
           }
          ],
          "scattermapbox": [
           {
            "marker": {
             "colorbar": {
              "outlinewidth": 0,
              "ticks": ""
             }
            },
            "type": "scattermapbox"
           }
          ],
          "scatterpolar": [
           {
            "marker": {
             "colorbar": {
              "outlinewidth": 0,
              "ticks": ""
             }
            },
            "type": "scatterpolar"
           }
          ],
          "scatterpolargl": [
           {
            "marker": {
             "colorbar": {
              "outlinewidth": 0,
              "ticks": ""
             }
            },
            "type": "scatterpolargl"
           }
          ],
          "scatterternary": [
           {
            "marker": {
             "colorbar": {
              "outlinewidth": 0,
              "ticks": ""
             }
            },
            "type": "scatterternary"
           }
          ],
          "surface": [
           {
            "colorbar": {
             "outlinewidth": 0,
             "ticks": ""
            },
            "colorscale": [
             [
              0,
              "#0d0887"
             ],
             [
              0.1111111111111111,
              "#46039f"
             ],
             [
              0.2222222222222222,
              "#7201a8"
             ],
             [
              0.3333333333333333,
              "#9c179e"
             ],
             [
              0.4444444444444444,
              "#bd3786"
             ],
             [
              0.5555555555555556,
              "#d8576b"
             ],
             [
              0.6666666666666666,
              "#ed7953"
             ],
             [
              0.7777777777777778,
              "#fb9f3a"
             ],
             [
              0.8888888888888888,
              "#fdca26"
             ],
             [
              1,
              "#f0f921"
             ]
            ],
            "type": "surface"
           }
          ],
          "table": [
           {
            "cells": {
             "fill": {
              "color": "#EBF0F8"
             },
             "line": {
              "color": "white"
             }
            },
            "header": {
             "fill": {
              "color": "#C8D4E3"
             },
             "line": {
              "color": "white"
             }
            },
            "type": "table"
           }
          ]
         },
         "layout": {
          "annotationdefaults": {
           "arrowcolor": "#2a3f5f",
           "arrowhead": 0,
           "arrowwidth": 1
          },
          "colorscale": {
           "diverging": [
            [
             0,
             "#8e0152"
            ],
            [
             0.1,
             "#c51b7d"
            ],
            [
             0.2,
             "#de77ae"
            ],
            [
             0.3,
             "#f1b6da"
            ],
            [
             0.4,
             "#fde0ef"
            ],
            [
             0.5,
             "#f7f7f7"
            ],
            [
             0.6,
             "#e6f5d0"
            ],
            [
             0.7,
             "#b8e186"
            ],
            [
             0.8,
             "#7fbc41"
            ],
            [
             0.9,
             "#4d9221"
            ],
            [
             1,
             "#276419"
            ]
           ],
           "sequential": [
            [
             0,
             "#0d0887"
            ],
            [
             0.1111111111111111,
             "#46039f"
            ],
            [
             0.2222222222222222,
             "#7201a8"
            ],
            [
             0.3333333333333333,
             "#9c179e"
            ],
            [
             0.4444444444444444,
             "#bd3786"
            ],
            [
             0.5555555555555556,
             "#d8576b"
            ],
            [
             0.6666666666666666,
             "#ed7953"
            ],
            [
             0.7777777777777778,
             "#fb9f3a"
            ],
            [
             0.8888888888888888,
             "#fdca26"
            ],
            [
             1,
             "#f0f921"
            ]
           ],
           "sequentialminus": [
            [
             0,
             "#0d0887"
            ],
            [
             0.1111111111111111,
             "#46039f"
            ],
            [
             0.2222222222222222,
             "#7201a8"
            ],
            [
             0.3333333333333333,
             "#9c179e"
            ],
            [
             0.4444444444444444,
             "#bd3786"
            ],
            [
             0.5555555555555556,
             "#d8576b"
            ],
            [
             0.6666666666666666,
             "#ed7953"
            ],
            [
             0.7777777777777778,
             "#fb9f3a"
            ],
            [
             0.8888888888888888,
             "#fdca26"
            ],
            [
             1,
             "#f0f921"
            ]
           ]
          },
          "colorway": [
           "#636efa",
           "#EF553B",
           "#00cc96",
           "#ab63fa",
           "#FFA15A",
           "#19d3f3",
           "#FF6692",
           "#B6E880",
           "#FF97FF",
           "#FECB52"
          ],
          "font": {
           "color": "#2a3f5f"
          },
          "geo": {
           "bgcolor": "white",
           "lakecolor": "white",
           "landcolor": "#E5ECF6",
           "showlakes": true,
           "showland": true,
           "subunitcolor": "white"
          },
          "hoverlabel": {
           "align": "left"
          },
          "hovermode": "closest",
          "mapbox": {
           "style": "light"
          },
          "paper_bgcolor": "white",
          "plot_bgcolor": "#E5ECF6",
          "polar": {
           "angularaxis": {
            "gridcolor": "white",
            "linecolor": "white",
            "ticks": ""
           },
           "bgcolor": "#E5ECF6",
           "radialaxis": {
            "gridcolor": "white",
            "linecolor": "white",
            "ticks": ""
           }
          },
          "scene": {
           "xaxis": {
            "backgroundcolor": "#E5ECF6",
            "gridcolor": "white",
            "gridwidth": 2,
            "linecolor": "white",
            "showbackground": true,
            "ticks": "",
            "zerolinecolor": "white"
           },
           "yaxis": {
            "backgroundcolor": "#E5ECF6",
            "gridcolor": "white",
            "gridwidth": 2,
            "linecolor": "white",
            "showbackground": true,
            "ticks": "",
            "zerolinecolor": "white"
           },
           "zaxis": {
            "backgroundcolor": "#E5ECF6",
            "gridcolor": "white",
            "gridwidth": 2,
            "linecolor": "white",
            "showbackground": true,
            "ticks": "",
            "zerolinecolor": "white"
           }
          },
          "shapedefaults": {
           "line": {
            "color": "#2a3f5f"
           }
          },
          "ternary": {
           "aaxis": {
            "gridcolor": "white",
            "linecolor": "white",
            "ticks": ""
           },
           "baxis": {
            "gridcolor": "white",
            "linecolor": "white",
            "ticks": ""
           },
           "bgcolor": "#E5ECF6",
           "caxis": {
            "gridcolor": "white",
            "linecolor": "white",
            "ticks": ""
           }
          },
          "title": {
           "x": 0.05
          },
          "xaxis": {
           "automargin": true,
           "gridcolor": "white",
           "linecolor": "white",
           "ticks": "",
           "zerolinecolor": "white",
           "zerolinewidth": 2
          },
          "yaxis": {
           "automargin": true,
           "gridcolor": "white",
           "linecolor": "white",
           "ticks": "",
           "zerolinecolor": "white",
           "zerolinewidth": 2
          }
         }
        },
        "title": {
         "text": "Average $ of loans Originated per recipient - DL PARENT PLUS"
        }
       }
      },
      "text/html": [
       "<div>\n",
       "        \n",
       "        \n",
       "            <div id=\"9ec6c377-75a9-4b53-982f-1b64eb97dcf2\" class=\"plotly-graph-div\" style=\"height:525px; width:100%;\"></div>\n",
       "            <script type=\"text/javascript\">\n",
       "                require([\"plotly\"], function(Plotly) {\n",
       "                    window.PLOTLYENV=window.PLOTLYENV || {};\n",
       "                    \n",
       "                if (document.getElementById(\"9ec6c377-75a9-4b53-982f-1b64eb97dcf2\")) {\n",
       "                    Plotly.newPlot(\n",
       "                        '9ec6c377-75a9-4b53-982f-1b64eb97dcf2',\n",
       "                        [{\"colorbar\": {\"title\": {\"text\": \"USD\"}}, \"colorscale\": [[0.0, \"#440154\"], [0.1111111111111111, \"#482878\"], [0.2222222222222222, \"#3e4989\"], [0.3333333333333333, \"#31688e\"], [0.4444444444444444, \"#26828e\"], [0.5555555555555556, \"#1f9e89\"], [0.6666666666666666, \"#35b779\"], [0.7777777777777778, \"#6ece58\"], [0.8888888888888888, \"#b5de2b\"], [1.0, \"#fde725\"]], \"locationmode\": \"USA-states\", \"locations\": [\"AK\", \"AL\", \"AR\", \"AZ\", \"CA\", \"CO\", \"CT\", \"DC\", \"DE\", \"FL\", \"GA\", \"GU\", \"HI\", \"IA\", \"ID\", \"IL\", \"IN\", \"KS\", \"KY\", \"LA\", \"MA\", \"MD\", \"ME\", \"MI\", \"MN\", \"MO\", \"MS\", \"MT\", \"NC\", \"ND\", \"NE\", \"NH\", \"NJ\", \"NM\", \"NV\", \"NY\", \"OH\", \"OK\", \"OR\", \"PA\", \"PR\", \"RI\", \"SC\", \"SD\", \"TN\", \"TX\", \"UT\", \"VA\", \"VI\", \"VT\", \"WA\", \"WI\", \"WV\", \"WY\"], \"type\": \"choropleth\", \"z\": [14245.26168224299, 19095.935708142202, 13153.925769997784, 17408.961487820936, 20134.2047164571, 19593.14285714286, 20076.075285729265, 27417.093448940268, 23149.12991094814, 18205.714935971355, 16608.202786445745, 16889.0, 20262.38875739645, 12674.03829091758, 15359.864933417883, 17448.8771590438, 16095.550887441024, 15485.840220723483, 14270.821952680444, 14813.499021301093, 23531.644251440364, 18315.23112659698, 17308.48997265269, 14524.1622189335, 14725.840242503687, 14097.52302763316, 14473.00089301661, 16117.029185245237, 14574.87501731382, 13080.280701754386, 13819.015588464536, 18406.888327572455, 19064.03351416516, 10740.245856353591, 18514.770716827657, 21296.79511471867, 15456.671070982897, 17978.994022988507, 22149.4078408426, 19413.066712360065, 8565.148148148148, 20522.80640036314, 17359.387186629527, 10579.100296735905, 16101.024426133019, 14261.626943617373, 14921.492957746479, 17965.0183624031, 12547.0, 22715.902335456474, 18890.76733283987, 15339.174008207934, 16050.67818858018, 15790.868055555555]}],\n",
       "                        {\"geo\": {\"scope\": \"usa\"}, \"template\": {\"data\": {\"bar\": [{\"error_x\": {\"color\": \"#2a3f5f\"}, \"error_y\": {\"color\": \"#2a3f5f\"}, \"marker\": {\"line\": {\"color\": \"#E5ECF6\", \"width\": 0.5}}, \"type\": \"bar\"}], \"barpolar\": [{\"marker\": {\"line\": {\"color\": \"#E5ECF6\", \"width\": 0.5}}, \"type\": \"barpolar\"}], \"carpet\": [{\"aaxis\": {\"endlinecolor\": \"#2a3f5f\", \"gridcolor\": \"white\", \"linecolor\": \"white\", \"minorgridcolor\": \"white\", \"startlinecolor\": \"#2a3f5f\"}, \"baxis\": {\"endlinecolor\": \"#2a3f5f\", \"gridcolor\": \"white\", \"linecolor\": \"white\", \"minorgridcolor\": \"white\", \"startlinecolor\": \"#2a3f5f\"}, \"type\": \"carpet\"}], \"choropleth\": [{\"colorbar\": {\"outlinewidth\": 0, \"ticks\": \"\"}, \"type\": \"choropleth\"}], \"contour\": [{\"colorbar\": {\"outlinewidth\": 0, \"ticks\": \"\"}, \"colorscale\": [[0.0, \"#0d0887\"], [0.1111111111111111, \"#46039f\"], [0.2222222222222222, \"#7201a8\"], [0.3333333333333333, \"#9c179e\"], [0.4444444444444444, \"#bd3786\"], [0.5555555555555556, \"#d8576b\"], [0.6666666666666666, \"#ed7953\"], [0.7777777777777778, \"#fb9f3a\"], [0.8888888888888888, \"#fdca26\"], [1.0, \"#f0f921\"]], \"type\": \"contour\"}], \"contourcarpet\": [{\"colorbar\": {\"outlinewidth\": 0, \"ticks\": \"\"}, \"type\": \"contourcarpet\"}], \"heatmap\": [{\"colorbar\": {\"outlinewidth\": 0, \"ticks\": \"\"}, \"colorscale\": [[0.0, \"#0d0887\"], [0.1111111111111111, \"#46039f\"], [0.2222222222222222, \"#7201a8\"], [0.3333333333333333, \"#9c179e\"], [0.4444444444444444, \"#bd3786\"], [0.5555555555555556, \"#d8576b\"], [0.6666666666666666, \"#ed7953\"], [0.7777777777777778, \"#fb9f3a\"], [0.8888888888888888, \"#fdca26\"], [1.0, \"#f0f921\"]], \"type\": \"heatmap\"}], \"heatmapgl\": [{\"colorbar\": {\"outlinewidth\": 0, \"ticks\": \"\"}, \"colorscale\": [[0.0, \"#0d0887\"], [0.1111111111111111, \"#46039f\"], [0.2222222222222222, \"#7201a8\"], [0.3333333333333333, \"#9c179e\"], [0.4444444444444444, \"#bd3786\"], [0.5555555555555556, \"#d8576b\"], [0.6666666666666666, \"#ed7953\"], [0.7777777777777778, \"#fb9f3a\"], [0.8888888888888888, \"#fdca26\"], [1.0, \"#f0f921\"]], \"type\": \"heatmapgl\"}], \"histogram\": [{\"marker\": {\"colorbar\": {\"outlinewidth\": 0, \"ticks\": \"\"}}, \"type\": \"histogram\"}], \"histogram2d\": [{\"colorbar\": {\"outlinewidth\": 0, \"ticks\": \"\"}, \"colorscale\": [[0.0, \"#0d0887\"], [0.1111111111111111, \"#46039f\"], [0.2222222222222222, \"#7201a8\"], [0.3333333333333333, \"#9c179e\"], [0.4444444444444444, \"#bd3786\"], [0.5555555555555556, \"#d8576b\"], [0.6666666666666666, \"#ed7953\"], [0.7777777777777778, \"#fb9f3a\"], [0.8888888888888888, \"#fdca26\"], [1.0, \"#f0f921\"]], \"type\": \"histogram2d\"}], \"histogram2dcontour\": [{\"colorbar\": {\"outlinewidth\": 0, \"ticks\": \"\"}, \"colorscale\": [[0.0, \"#0d0887\"], [0.1111111111111111, \"#46039f\"], [0.2222222222222222, \"#7201a8\"], [0.3333333333333333, \"#9c179e\"], [0.4444444444444444, \"#bd3786\"], [0.5555555555555556, \"#d8576b\"], [0.6666666666666666, \"#ed7953\"], [0.7777777777777778, \"#fb9f3a\"], [0.8888888888888888, \"#fdca26\"], [1.0, \"#f0f921\"]], \"type\": \"histogram2dcontour\"}], \"mesh3d\": [{\"colorbar\": {\"outlinewidth\": 0, \"ticks\": \"\"}, \"type\": \"mesh3d\"}], \"parcoords\": [{\"line\": {\"colorbar\": {\"outlinewidth\": 0, \"ticks\": \"\"}}, \"type\": \"parcoords\"}], \"scatter\": [{\"marker\": {\"colorbar\": {\"outlinewidth\": 0, \"ticks\": \"\"}}, \"type\": \"scatter\"}], \"scatter3d\": [{\"line\": {\"colorbar\": {\"outlinewidth\": 0, \"ticks\": \"\"}}, \"marker\": {\"colorbar\": {\"outlinewidth\": 0, \"ticks\": \"\"}}, \"type\": \"scatter3d\"}], \"scattercarpet\": [{\"marker\": {\"colorbar\": {\"outlinewidth\": 0, \"ticks\": \"\"}}, \"type\": \"scattercarpet\"}], \"scattergeo\": [{\"marker\": {\"colorbar\": {\"outlinewidth\": 0, \"ticks\": \"\"}}, \"type\": \"scattergeo\"}], \"scattergl\": [{\"marker\": {\"colorbar\": {\"outlinewidth\": 0, \"ticks\": \"\"}}, \"type\": \"scattergl\"}], \"scattermapbox\": [{\"marker\": {\"colorbar\": {\"outlinewidth\": 0, \"ticks\": \"\"}}, \"type\": \"scattermapbox\"}], \"scatterpolar\": [{\"marker\": {\"colorbar\": {\"outlinewidth\": 0, \"ticks\": \"\"}}, \"type\": \"scatterpolar\"}], \"scatterpolargl\": [{\"marker\": {\"colorbar\": {\"outlinewidth\": 0, \"ticks\": \"\"}}, \"type\": \"scatterpolargl\"}], \"scatterternary\": [{\"marker\": {\"colorbar\": {\"outlinewidth\": 0, \"ticks\": \"\"}}, \"type\": \"scatterternary\"}], \"surface\": [{\"colorbar\": {\"outlinewidth\": 0, \"ticks\": \"\"}, \"colorscale\": [[0.0, \"#0d0887\"], [0.1111111111111111, \"#46039f\"], [0.2222222222222222, \"#7201a8\"], [0.3333333333333333, \"#9c179e\"], [0.4444444444444444, \"#bd3786\"], [0.5555555555555556, \"#d8576b\"], [0.6666666666666666, \"#ed7953\"], [0.7777777777777778, \"#fb9f3a\"], [0.8888888888888888, \"#fdca26\"], [1.0, \"#f0f921\"]], \"type\": \"surface\"}], \"table\": [{\"cells\": {\"fill\": {\"color\": \"#EBF0F8\"}, \"line\": {\"color\": \"white\"}}, \"header\": {\"fill\": {\"color\": \"#C8D4E3\"}, \"line\": {\"color\": \"white\"}}, \"type\": \"table\"}]}, \"layout\": {\"annotationdefaults\": {\"arrowcolor\": \"#2a3f5f\", \"arrowhead\": 0, \"arrowwidth\": 1}, \"colorscale\": {\"diverging\": [[0, \"#8e0152\"], [0.1, \"#c51b7d\"], [0.2, \"#de77ae\"], [0.3, \"#f1b6da\"], [0.4, \"#fde0ef\"], [0.5, \"#f7f7f7\"], [0.6, \"#e6f5d0\"], [0.7, \"#b8e186\"], [0.8, \"#7fbc41\"], [0.9, \"#4d9221\"], [1, \"#276419\"]], \"sequential\": [[0.0, \"#0d0887\"], [0.1111111111111111, \"#46039f\"], [0.2222222222222222, \"#7201a8\"], [0.3333333333333333, \"#9c179e\"], [0.4444444444444444, \"#bd3786\"], [0.5555555555555556, \"#d8576b\"], [0.6666666666666666, \"#ed7953\"], [0.7777777777777778, \"#fb9f3a\"], [0.8888888888888888, \"#fdca26\"], [1.0, \"#f0f921\"]], \"sequentialminus\": [[0.0, \"#0d0887\"], [0.1111111111111111, \"#46039f\"], [0.2222222222222222, \"#7201a8\"], [0.3333333333333333, \"#9c179e\"], [0.4444444444444444, \"#bd3786\"], [0.5555555555555556, \"#d8576b\"], [0.6666666666666666, \"#ed7953\"], [0.7777777777777778, \"#fb9f3a\"], [0.8888888888888888, \"#fdca26\"], [1.0, \"#f0f921\"]]}, \"colorway\": [\"#636efa\", \"#EF553B\", \"#00cc96\", \"#ab63fa\", \"#FFA15A\", \"#19d3f3\", \"#FF6692\", \"#B6E880\", \"#FF97FF\", \"#FECB52\"], \"font\": {\"color\": \"#2a3f5f\"}, \"geo\": {\"bgcolor\": \"white\", \"lakecolor\": \"white\", \"landcolor\": \"#E5ECF6\", \"showlakes\": true, \"showland\": true, \"subunitcolor\": \"white\"}, \"hoverlabel\": {\"align\": \"left\"}, \"hovermode\": \"closest\", \"mapbox\": {\"style\": \"light\"}, \"paper_bgcolor\": \"white\", \"plot_bgcolor\": \"#E5ECF6\", \"polar\": {\"angularaxis\": {\"gridcolor\": \"white\", \"linecolor\": \"white\", \"ticks\": \"\"}, \"bgcolor\": \"#E5ECF6\", \"radialaxis\": {\"gridcolor\": \"white\", \"linecolor\": \"white\", \"ticks\": \"\"}}, \"scene\": {\"xaxis\": {\"backgroundcolor\": \"#E5ECF6\", \"gridcolor\": \"white\", \"gridwidth\": 2, \"linecolor\": \"white\", \"showbackground\": true, \"ticks\": \"\", \"zerolinecolor\": \"white\"}, \"yaxis\": {\"backgroundcolor\": \"#E5ECF6\", \"gridcolor\": \"white\", \"gridwidth\": 2, \"linecolor\": \"white\", \"showbackground\": true, \"ticks\": \"\", \"zerolinecolor\": \"white\"}, \"zaxis\": {\"backgroundcolor\": \"#E5ECF6\", \"gridcolor\": \"white\", \"gridwidth\": 2, \"linecolor\": \"white\", \"showbackground\": true, \"ticks\": \"\", \"zerolinecolor\": \"white\"}}, \"shapedefaults\": {\"line\": {\"color\": \"#2a3f5f\"}}, \"ternary\": {\"aaxis\": {\"gridcolor\": \"white\", \"linecolor\": \"white\", \"ticks\": \"\"}, \"baxis\": {\"gridcolor\": \"white\", \"linecolor\": \"white\", \"ticks\": \"\"}, \"bgcolor\": \"#E5ECF6\", \"caxis\": {\"gridcolor\": \"white\", \"linecolor\": \"white\", \"ticks\": \"\"}}, \"title\": {\"x\": 0.05}, \"xaxis\": {\"automargin\": true, \"gridcolor\": \"white\", \"linecolor\": \"white\", \"ticks\": \"\", \"zerolinecolor\": \"white\", \"zerolinewidth\": 2}, \"yaxis\": {\"automargin\": true, \"gridcolor\": \"white\", \"linecolor\": \"white\", \"ticks\": \"\", \"zerolinecolor\": \"white\", \"zerolinewidth\": 2}}}, \"title\": {\"text\": \"Average $ of loans Originated per recipient - DL PARENT PLUS\"}},\n",
       "                        {\"responsive\": true}\n",
       "                    ).then(function(){\n",
       "                            \n",
       "var gd = document.getElementById('9ec6c377-75a9-4b53-982f-1b64eb97dcf2');\n",
       "var x = new MutationObserver(function (mutations, observer) {{\n",
       "        var display = window.getComputedStyle(gd).display;\n",
       "        if (!display || display === 'none') {{\n",
       "            console.log([gd, 'removed!']);\n",
       "            Plotly.purge(gd);\n",
       "            observer.disconnect();\n",
       "        }}\n",
       "}});\n",
       "\n",
       "// Listen for the removal of the full notebook cells\n",
       "var notebookContainer = gd.closest('#notebook-container');\n",
       "if (notebookContainer) {{\n",
       "    x.observe(notebookContainer, {childList: true});\n",
       "}}\n",
       "\n",
       "// Listen for the clearing of the current output cell\n",
       "var outputEl = gd.closest('.output');\n",
       "if (outputEl) {{\n",
       "    x.observe(outputEl, {childList: true});\n",
       "}}\n",
       "\n",
       "                        })\n",
       "                };\n",
       "                });\n",
       "            </script>\n",
       "        </div>"
      ]
     },
     "metadata": {},
     "output_type": "display_data"
    }
   ],
   "source": [
    "#%%\n",
    "\n",
    "fig = go.Figure(data=go.Choropleth(locations=df_parent['State'], # Spatial coordinates\n",
    "                                   z = df_parent['Average $ of Loans Originated per recipient - DL PARENT PLUS'].astype(float), # Data to be color-coded\n",
    "                                   locationmode = 'USA-states', # set of locations match entries in `locations`\n",
    "                                   colorscale = 'viridis',\n",
    "                                   colorbar_title = \"USD\"))\n",
    "\n",
    "fig.update_layout(title_text = 'Average $ of loans Originated per recipient - DL PARENT PLUS',\n",
    "                  geo_scope='usa') # limite map scope to USA\n",
    "\n",
    "\n",
    "fig.show()"
   ]
  },
  {
   "cell_type": "code",
   "execution_count": 83,
   "metadata": {},
   "outputs": [
    {
     "data": {
      "application/vnd.plotly.v1+json": {
       "config": {
        "plotlyServerURL": "https://plot.ly"
       },
       "data": [
        {
         "colorbar": {
          "title": {
           "text": "% of Offered Amount"
          }
         },
         "colorscale": [
          [
           0,
           "rgb(255,245,240)"
          ],
          [
           0.125,
           "rgb(254,224,210)"
          ],
          [
           0.25,
           "rgb(252,187,161)"
          ],
          [
           0.375,
           "rgb(252,146,114)"
          ],
          [
           0.5,
           "rgb(251,106,74)"
          ],
          [
           0.625,
           "rgb(239,59,44)"
          ],
          [
           0.75,
           "rgb(203,24,29)"
          ],
          [
           0.875,
           "rgb(165,15,21)"
          ],
          [
           1,
           "rgb(103,0,13)"
          ]
         ],
         "locationmode": "USA-states",
         "locations": [
          "AK",
          "AL",
          "AR",
          "AZ",
          "CA",
          "CO",
          "CT",
          "DC",
          "DE",
          "FL",
          "GA",
          "GU",
          "HI",
          "IA",
          "ID",
          "IL",
          "IN",
          "KS",
          "KY",
          "LA",
          "MA",
          "MD",
          "ME",
          "MI",
          "MN",
          "MO",
          "MS",
          "MT",
          "NC",
          "ND",
          "NE",
          "NH",
          "NJ",
          "NM",
          "NV",
          "NY",
          "OH",
          "OK",
          "OR",
          "PA",
          "PR",
          "RI",
          "SC",
          "SD",
          "TN",
          "TX",
          "UT",
          "VA",
          "VI",
          "VT",
          "WA",
          "WI",
          "WV",
          "WY"
         ],
         "type": "choropleth",
         "z": [
          54.10331554745537,
          51.267073494323455,
          51.866927290728185,
          50.93064578875245,
          47.05928610796207,
          50.92857241077298,
          52.71797539745144,
          52.39613666138854,
          51.391629317449265,
          53.041960267663804,
          49.11267866141308,
          49.99703949316123,
          50.98833975105945,
          62.729908933025804,
          51.29402996973022,
          49.44918437477969,
          51.37377258817634,
          51.2574589312329,
          51.69477460198052,
          50.360146624110655,
          52.99813329453626,
          51.54434059210102,
          53.45691502426068,
          53.484891115998906,
          51.531762414959005,
          51.82318076366884,
          51.72534525242955,
          51.198571373635644,
          51.26002250818112,
          54.1392158545876,
          51.08423971238927,
          51.9076235679142,
          52.25033733271805,
          51.23757416790103,
          51.15407108146029,
          52.33010779529057,
          51.217867413972314,
          51.15175618825191,
          42.09163006971803,
          51.14883760652558,
          63.43289805555058,
          45.20644609085793,
          51.77876515158809,
          51.755844231030736,
          53.029448046250884,
          51.705140231574966,
          52.23117389639638,
          51.48805058616568,
          50,
          52.80173078522767,
          43.340015082751385,
          51.31903720276229,
          51.91608972074204,
          52.050829307550735
         ]
        }
       ],
       "layout": {
        "geo": {
         "scope": "usa"
        },
        "template": {
         "data": {
          "bar": [
           {
            "error_x": {
             "color": "#2a3f5f"
            },
            "error_y": {
             "color": "#2a3f5f"
            },
            "marker": {
             "line": {
              "color": "#E5ECF6",
              "width": 0.5
             }
            },
            "type": "bar"
           }
          ],
          "barpolar": [
           {
            "marker": {
             "line": {
              "color": "#E5ECF6",
              "width": 0.5
             }
            },
            "type": "barpolar"
           }
          ],
          "carpet": [
           {
            "aaxis": {
             "endlinecolor": "#2a3f5f",
             "gridcolor": "white",
             "linecolor": "white",
             "minorgridcolor": "white",
             "startlinecolor": "#2a3f5f"
            },
            "baxis": {
             "endlinecolor": "#2a3f5f",
             "gridcolor": "white",
             "linecolor": "white",
             "minorgridcolor": "white",
             "startlinecolor": "#2a3f5f"
            },
            "type": "carpet"
           }
          ],
          "choropleth": [
           {
            "colorbar": {
             "outlinewidth": 0,
             "ticks": ""
            },
            "type": "choropleth"
           }
          ],
          "contour": [
           {
            "colorbar": {
             "outlinewidth": 0,
             "ticks": ""
            },
            "colorscale": [
             [
              0,
              "#0d0887"
             ],
             [
              0.1111111111111111,
              "#46039f"
             ],
             [
              0.2222222222222222,
              "#7201a8"
             ],
             [
              0.3333333333333333,
              "#9c179e"
             ],
             [
              0.4444444444444444,
              "#bd3786"
             ],
             [
              0.5555555555555556,
              "#d8576b"
             ],
             [
              0.6666666666666666,
              "#ed7953"
             ],
             [
              0.7777777777777778,
              "#fb9f3a"
             ],
             [
              0.8888888888888888,
              "#fdca26"
             ],
             [
              1,
              "#f0f921"
             ]
            ],
            "type": "contour"
           }
          ],
          "contourcarpet": [
           {
            "colorbar": {
             "outlinewidth": 0,
             "ticks": ""
            },
            "type": "contourcarpet"
           }
          ],
          "heatmap": [
           {
            "colorbar": {
             "outlinewidth": 0,
             "ticks": ""
            },
            "colorscale": [
             [
              0,
              "#0d0887"
             ],
             [
              0.1111111111111111,
              "#46039f"
             ],
             [
              0.2222222222222222,
              "#7201a8"
             ],
             [
              0.3333333333333333,
              "#9c179e"
             ],
             [
              0.4444444444444444,
              "#bd3786"
             ],
             [
              0.5555555555555556,
              "#d8576b"
             ],
             [
              0.6666666666666666,
              "#ed7953"
             ],
             [
              0.7777777777777778,
              "#fb9f3a"
             ],
             [
              0.8888888888888888,
              "#fdca26"
             ],
             [
              1,
              "#f0f921"
             ]
            ],
            "type": "heatmap"
           }
          ],
          "heatmapgl": [
           {
            "colorbar": {
             "outlinewidth": 0,
             "ticks": ""
            },
            "colorscale": [
             [
              0,
              "#0d0887"
             ],
             [
              0.1111111111111111,
              "#46039f"
             ],
             [
              0.2222222222222222,
              "#7201a8"
             ],
             [
              0.3333333333333333,
              "#9c179e"
             ],
             [
              0.4444444444444444,
              "#bd3786"
             ],
             [
              0.5555555555555556,
              "#d8576b"
             ],
             [
              0.6666666666666666,
              "#ed7953"
             ],
             [
              0.7777777777777778,
              "#fb9f3a"
             ],
             [
              0.8888888888888888,
              "#fdca26"
             ],
             [
              1,
              "#f0f921"
             ]
            ],
            "type": "heatmapgl"
           }
          ],
          "histogram": [
           {
            "marker": {
             "colorbar": {
              "outlinewidth": 0,
              "ticks": ""
             }
            },
            "type": "histogram"
           }
          ],
          "histogram2d": [
           {
            "colorbar": {
             "outlinewidth": 0,
             "ticks": ""
            },
            "colorscale": [
             [
              0,
              "#0d0887"
             ],
             [
              0.1111111111111111,
              "#46039f"
             ],
             [
              0.2222222222222222,
              "#7201a8"
             ],
             [
              0.3333333333333333,
              "#9c179e"
             ],
             [
              0.4444444444444444,
              "#bd3786"
             ],
             [
              0.5555555555555556,
              "#d8576b"
             ],
             [
              0.6666666666666666,
              "#ed7953"
             ],
             [
              0.7777777777777778,
              "#fb9f3a"
             ],
             [
              0.8888888888888888,
              "#fdca26"
             ],
             [
              1,
              "#f0f921"
             ]
            ],
            "type": "histogram2d"
           }
          ],
          "histogram2dcontour": [
           {
            "colorbar": {
             "outlinewidth": 0,
             "ticks": ""
            },
            "colorscale": [
             [
              0,
              "#0d0887"
             ],
             [
              0.1111111111111111,
              "#46039f"
             ],
             [
              0.2222222222222222,
              "#7201a8"
             ],
             [
              0.3333333333333333,
              "#9c179e"
             ],
             [
              0.4444444444444444,
              "#bd3786"
             ],
             [
              0.5555555555555556,
              "#d8576b"
             ],
             [
              0.6666666666666666,
              "#ed7953"
             ],
             [
              0.7777777777777778,
              "#fb9f3a"
             ],
             [
              0.8888888888888888,
              "#fdca26"
             ],
             [
              1,
              "#f0f921"
             ]
            ],
            "type": "histogram2dcontour"
           }
          ],
          "mesh3d": [
           {
            "colorbar": {
             "outlinewidth": 0,
             "ticks": ""
            },
            "type": "mesh3d"
           }
          ],
          "parcoords": [
           {
            "line": {
             "colorbar": {
              "outlinewidth": 0,
              "ticks": ""
             }
            },
            "type": "parcoords"
           }
          ],
          "scatter": [
           {
            "marker": {
             "colorbar": {
              "outlinewidth": 0,
              "ticks": ""
             }
            },
            "type": "scatter"
           }
          ],
          "scatter3d": [
           {
            "line": {
             "colorbar": {
              "outlinewidth": 0,
              "ticks": ""
             }
            },
            "marker": {
             "colorbar": {
              "outlinewidth": 0,
              "ticks": ""
             }
            },
            "type": "scatter3d"
           }
          ],
          "scattercarpet": [
           {
            "marker": {
             "colorbar": {
              "outlinewidth": 0,
              "ticks": ""
             }
            },
            "type": "scattercarpet"
           }
          ],
          "scattergeo": [
           {
            "marker": {
             "colorbar": {
              "outlinewidth": 0,
              "ticks": ""
             }
            },
            "type": "scattergeo"
           }
          ],
          "scattergl": [
           {
            "marker": {
             "colorbar": {
              "outlinewidth": 0,
              "ticks": ""
             }
            },
            "type": "scattergl"
           }
          ],
          "scattermapbox": [
           {
            "marker": {
             "colorbar": {
              "outlinewidth": 0,
              "ticks": ""
             }
            },
            "type": "scattermapbox"
           }
          ],
          "scatterpolar": [
           {
            "marker": {
             "colorbar": {
              "outlinewidth": 0,
              "ticks": ""
             }
            },
            "type": "scatterpolar"
           }
          ],
          "scatterpolargl": [
           {
            "marker": {
             "colorbar": {
              "outlinewidth": 0,
              "ticks": ""
             }
            },
            "type": "scatterpolargl"
           }
          ],
          "scatterternary": [
           {
            "marker": {
             "colorbar": {
              "outlinewidth": 0,
              "ticks": ""
             }
            },
            "type": "scatterternary"
           }
          ],
          "surface": [
           {
            "colorbar": {
             "outlinewidth": 0,
             "ticks": ""
            },
            "colorscale": [
             [
              0,
              "#0d0887"
             ],
             [
              0.1111111111111111,
              "#46039f"
             ],
             [
              0.2222222222222222,
              "#7201a8"
             ],
             [
              0.3333333333333333,
              "#9c179e"
             ],
             [
              0.4444444444444444,
              "#bd3786"
             ],
             [
              0.5555555555555556,
              "#d8576b"
             ],
             [
              0.6666666666666666,
              "#ed7953"
             ],
             [
              0.7777777777777778,
              "#fb9f3a"
             ],
             [
              0.8888888888888888,
              "#fdca26"
             ],
             [
              1,
              "#f0f921"
             ]
            ],
            "type": "surface"
           }
          ],
          "table": [
           {
            "cells": {
             "fill": {
              "color": "#EBF0F8"
             },
             "line": {
              "color": "white"
             }
            },
            "header": {
             "fill": {
              "color": "#C8D4E3"
             },
             "line": {
              "color": "white"
             }
            },
            "type": "table"
           }
          ]
         },
         "layout": {
          "annotationdefaults": {
           "arrowcolor": "#2a3f5f",
           "arrowhead": 0,
           "arrowwidth": 1
          },
          "colorscale": {
           "diverging": [
            [
             0,
             "#8e0152"
            ],
            [
             0.1,
             "#c51b7d"
            ],
            [
             0.2,
             "#de77ae"
            ],
            [
             0.3,
             "#f1b6da"
            ],
            [
             0.4,
             "#fde0ef"
            ],
            [
             0.5,
             "#f7f7f7"
            ],
            [
             0.6,
             "#e6f5d0"
            ],
            [
             0.7,
             "#b8e186"
            ],
            [
             0.8,
             "#7fbc41"
            ],
            [
             0.9,
             "#4d9221"
            ],
            [
             1,
             "#276419"
            ]
           ],
           "sequential": [
            [
             0,
             "#0d0887"
            ],
            [
             0.1111111111111111,
             "#46039f"
            ],
            [
             0.2222222222222222,
             "#7201a8"
            ],
            [
             0.3333333333333333,
             "#9c179e"
            ],
            [
             0.4444444444444444,
             "#bd3786"
            ],
            [
             0.5555555555555556,
             "#d8576b"
            ],
            [
             0.6666666666666666,
             "#ed7953"
            ],
            [
             0.7777777777777778,
             "#fb9f3a"
            ],
            [
             0.8888888888888888,
             "#fdca26"
            ],
            [
             1,
             "#f0f921"
            ]
           ],
           "sequentialminus": [
            [
             0,
             "#0d0887"
            ],
            [
             0.1111111111111111,
             "#46039f"
            ],
            [
             0.2222222222222222,
             "#7201a8"
            ],
            [
             0.3333333333333333,
             "#9c179e"
            ],
            [
             0.4444444444444444,
             "#bd3786"
            ],
            [
             0.5555555555555556,
             "#d8576b"
            ],
            [
             0.6666666666666666,
             "#ed7953"
            ],
            [
             0.7777777777777778,
             "#fb9f3a"
            ],
            [
             0.8888888888888888,
             "#fdca26"
            ],
            [
             1,
             "#f0f921"
            ]
           ]
          },
          "colorway": [
           "#636efa",
           "#EF553B",
           "#00cc96",
           "#ab63fa",
           "#FFA15A",
           "#19d3f3",
           "#FF6692",
           "#B6E880",
           "#FF97FF",
           "#FECB52"
          ],
          "font": {
           "color": "#2a3f5f"
          },
          "geo": {
           "bgcolor": "white",
           "lakecolor": "white",
           "landcolor": "#E5ECF6",
           "showlakes": true,
           "showland": true,
           "subunitcolor": "white"
          },
          "hoverlabel": {
           "align": "left"
          },
          "hovermode": "closest",
          "mapbox": {
           "style": "light"
          },
          "paper_bgcolor": "white",
          "plot_bgcolor": "#E5ECF6",
          "polar": {
           "angularaxis": {
            "gridcolor": "white",
            "linecolor": "white",
            "ticks": ""
           },
           "bgcolor": "#E5ECF6",
           "radialaxis": {
            "gridcolor": "white",
            "linecolor": "white",
            "ticks": ""
           }
          },
          "scene": {
           "xaxis": {
            "backgroundcolor": "#E5ECF6",
            "gridcolor": "white",
            "gridwidth": 2,
            "linecolor": "white",
            "showbackground": true,
            "ticks": "",
            "zerolinecolor": "white"
           },
           "yaxis": {
            "backgroundcolor": "#E5ECF6",
            "gridcolor": "white",
            "gridwidth": 2,
            "linecolor": "white",
            "showbackground": true,
            "ticks": "",
            "zerolinecolor": "white"
           },
           "zaxis": {
            "backgroundcolor": "#E5ECF6",
            "gridcolor": "white",
            "gridwidth": 2,
            "linecolor": "white",
            "showbackground": true,
            "ticks": "",
            "zerolinecolor": "white"
           }
          },
          "shapedefaults": {
           "line": {
            "color": "#2a3f5f"
           }
          },
          "ternary": {
           "aaxis": {
            "gridcolor": "white",
            "linecolor": "white",
            "ticks": ""
           },
           "baxis": {
            "gridcolor": "white",
            "linecolor": "white",
            "ticks": ""
           },
           "bgcolor": "#E5ECF6",
           "caxis": {
            "gridcolor": "white",
            "linecolor": "white",
            "ticks": ""
           }
          },
          "title": {
           "x": 0.05
          },
          "xaxis": {
           "automargin": true,
           "gridcolor": "white",
           "linecolor": "white",
           "ticks": "",
           "zerolinecolor": "white",
           "zerolinewidth": 2
          },
          "yaxis": {
           "automargin": true,
           "gridcolor": "white",
           "linecolor": "white",
           "ticks": "",
           "zerolinecolor": "white",
           "zerolinewidth": 2
          }
         }
        },
        "title": {
         "text": "Average % of loans Originated per recipient - DL PARENT PLUS"
        }
       }
      },
      "text/html": [
       "<div>\n",
       "        \n",
       "        \n",
       "            <div id=\"11443209-43e9-48fd-ba89-2a97ed8d0518\" class=\"plotly-graph-div\" style=\"height:525px; width:100%;\"></div>\n",
       "            <script type=\"text/javascript\">\n",
       "                require([\"plotly\"], function(Plotly) {\n",
       "                    window.PLOTLYENV=window.PLOTLYENV || {};\n",
       "                    \n",
       "                if (document.getElementById(\"11443209-43e9-48fd-ba89-2a97ed8d0518\")) {\n",
       "                    Plotly.newPlot(\n",
       "                        '11443209-43e9-48fd-ba89-2a97ed8d0518',\n",
       "                        [{\"colorbar\": {\"title\": {\"text\": \"% of Offered Amount\"}}, \"colorscale\": [[0.0, \"rgb(255,245,240)\"], [0.125, \"rgb(254,224,210)\"], [0.25, \"rgb(252,187,161)\"], [0.375, \"rgb(252,146,114)\"], [0.5, \"rgb(251,106,74)\"], [0.625, \"rgb(239,59,44)\"], [0.75, \"rgb(203,24,29)\"], [0.875, \"rgb(165,15,21)\"], [1.0, \"rgb(103,0,13)\"]], \"locationmode\": \"USA-states\", \"locations\": [\"AK\", \"AL\", \"AR\", \"AZ\", \"CA\", \"CO\", \"CT\", \"DC\", \"DE\", \"FL\", \"GA\", \"GU\", \"HI\", \"IA\", \"ID\", \"IL\", \"IN\", \"KS\", \"KY\", \"LA\", \"MA\", \"MD\", \"ME\", \"MI\", \"MN\", \"MO\", \"MS\", \"MT\", \"NC\", \"ND\", \"NE\", \"NH\", \"NJ\", \"NM\", \"NV\", \"NY\", \"OH\", \"OK\", \"OR\", \"PA\", \"PR\", \"RI\", \"SC\", \"SD\", \"TN\", \"TX\", \"UT\", \"VA\", \"VI\", \"VT\", \"WA\", \"WI\", \"WV\", \"WY\"], \"type\": \"choropleth\", \"z\": [54.10331554745537, 51.267073494323455, 51.866927290728185, 50.93064578875245, 47.05928610796207, 50.92857241077298, 52.71797539745144, 52.39613666138854, 51.391629317449265, 53.041960267663804, 49.11267866141308, 49.99703949316123, 50.98833975105945, 62.729908933025804, 51.29402996973022, 49.44918437477969, 51.37377258817634, 51.2574589312329, 51.69477460198052, 50.360146624110655, 52.99813329453626, 51.54434059210102, 53.45691502426068, 53.484891115998906, 51.531762414959005, 51.82318076366884, 51.72534525242955, 51.198571373635644, 51.26002250818112, 54.1392158545876, 51.08423971238927, 51.9076235679142, 52.25033733271805, 51.23757416790103, 51.15407108146029, 52.33010779529057, 51.217867413972314, 51.15175618825191, 42.09163006971803, 51.14883760652558, 63.43289805555058, 45.20644609085793, 51.77876515158809, 51.755844231030736, 53.029448046250884, 51.705140231574966, 52.23117389639638, 51.48805058616568, 50.0, 52.80173078522767, 43.340015082751385, 51.31903720276229, 51.91608972074204, 52.050829307550735]}],\n",
       "                        {\"geo\": {\"scope\": \"usa\"}, \"template\": {\"data\": {\"bar\": [{\"error_x\": {\"color\": \"#2a3f5f\"}, \"error_y\": {\"color\": \"#2a3f5f\"}, \"marker\": {\"line\": {\"color\": \"#E5ECF6\", \"width\": 0.5}}, \"type\": \"bar\"}], \"barpolar\": [{\"marker\": {\"line\": {\"color\": \"#E5ECF6\", \"width\": 0.5}}, \"type\": \"barpolar\"}], \"carpet\": [{\"aaxis\": {\"endlinecolor\": \"#2a3f5f\", \"gridcolor\": \"white\", \"linecolor\": \"white\", \"minorgridcolor\": \"white\", \"startlinecolor\": \"#2a3f5f\"}, \"baxis\": {\"endlinecolor\": \"#2a3f5f\", \"gridcolor\": \"white\", \"linecolor\": \"white\", \"minorgridcolor\": \"white\", \"startlinecolor\": \"#2a3f5f\"}, \"type\": \"carpet\"}], \"choropleth\": [{\"colorbar\": {\"outlinewidth\": 0, \"ticks\": \"\"}, \"type\": \"choropleth\"}], \"contour\": [{\"colorbar\": {\"outlinewidth\": 0, \"ticks\": \"\"}, \"colorscale\": [[0.0, \"#0d0887\"], [0.1111111111111111, \"#46039f\"], [0.2222222222222222, \"#7201a8\"], [0.3333333333333333, \"#9c179e\"], [0.4444444444444444, \"#bd3786\"], [0.5555555555555556, \"#d8576b\"], [0.6666666666666666, \"#ed7953\"], [0.7777777777777778, \"#fb9f3a\"], [0.8888888888888888, \"#fdca26\"], [1.0, \"#f0f921\"]], \"type\": \"contour\"}], \"contourcarpet\": [{\"colorbar\": {\"outlinewidth\": 0, \"ticks\": \"\"}, \"type\": \"contourcarpet\"}], \"heatmap\": [{\"colorbar\": {\"outlinewidth\": 0, \"ticks\": \"\"}, \"colorscale\": [[0.0, \"#0d0887\"], [0.1111111111111111, \"#46039f\"], [0.2222222222222222, \"#7201a8\"], [0.3333333333333333, \"#9c179e\"], [0.4444444444444444, \"#bd3786\"], [0.5555555555555556, \"#d8576b\"], [0.6666666666666666, \"#ed7953\"], [0.7777777777777778, \"#fb9f3a\"], [0.8888888888888888, \"#fdca26\"], [1.0, \"#f0f921\"]], \"type\": \"heatmap\"}], \"heatmapgl\": [{\"colorbar\": {\"outlinewidth\": 0, \"ticks\": \"\"}, \"colorscale\": [[0.0, \"#0d0887\"], [0.1111111111111111, \"#46039f\"], [0.2222222222222222, \"#7201a8\"], [0.3333333333333333, \"#9c179e\"], [0.4444444444444444, \"#bd3786\"], [0.5555555555555556, \"#d8576b\"], [0.6666666666666666, \"#ed7953\"], [0.7777777777777778, \"#fb9f3a\"], [0.8888888888888888, \"#fdca26\"], [1.0, \"#f0f921\"]], \"type\": \"heatmapgl\"}], \"histogram\": [{\"marker\": {\"colorbar\": {\"outlinewidth\": 0, \"ticks\": \"\"}}, \"type\": \"histogram\"}], \"histogram2d\": [{\"colorbar\": {\"outlinewidth\": 0, \"ticks\": \"\"}, \"colorscale\": [[0.0, \"#0d0887\"], [0.1111111111111111, \"#46039f\"], [0.2222222222222222, \"#7201a8\"], [0.3333333333333333, \"#9c179e\"], [0.4444444444444444, \"#bd3786\"], [0.5555555555555556, \"#d8576b\"], [0.6666666666666666, \"#ed7953\"], [0.7777777777777778, \"#fb9f3a\"], [0.8888888888888888, \"#fdca26\"], [1.0, \"#f0f921\"]], \"type\": \"histogram2d\"}], \"histogram2dcontour\": [{\"colorbar\": {\"outlinewidth\": 0, \"ticks\": \"\"}, \"colorscale\": [[0.0, \"#0d0887\"], [0.1111111111111111, \"#46039f\"], [0.2222222222222222, \"#7201a8\"], [0.3333333333333333, \"#9c179e\"], [0.4444444444444444, \"#bd3786\"], [0.5555555555555556, \"#d8576b\"], [0.6666666666666666, \"#ed7953\"], [0.7777777777777778, \"#fb9f3a\"], [0.8888888888888888, \"#fdca26\"], [1.0, \"#f0f921\"]], \"type\": \"histogram2dcontour\"}], \"mesh3d\": [{\"colorbar\": {\"outlinewidth\": 0, \"ticks\": \"\"}, \"type\": \"mesh3d\"}], \"parcoords\": [{\"line\": {\"colorbar\": {\"outlinewidth\": 0, \"ticks\": \"\"}}, \"type\": \"parcoords\"}], \"scatter\": [{\"marker\": {\"colorbar\": {\"outlinewidth\": 0, \"ticks\": \"\"}}, \"type\": \"scatter\"}], \"scatter3d\": [{\"line\": {\"colorbar\": {\"outlinewidth\": 0, \"ticks\": \"\"}}, \"marker\": {\"colorbar\": {\"outlinewidth\": 0, \"ticks\": \"\"}}, \"type\": \"scatter3d\"}], \"scattercarpet\": [{\"marker\": {\"colorbar\": {\"outlinewidth\": 0, \"ticks\": \"\"}}, \"type\": \"scattercarpet\"}], \"scattergeo\": [{\"marker\": {\"colorbar\": {\"outlinewidth\": 0, \"ticks\": \"\"}}, \"type\": \"scattergeo\"}], \"scattergl\": [{\"marker\": {\"colorbar\": {\"outlinewidth\": 0, \"ticks\": \"\"}}, \"type\": \"scattergl\"}], \"scattermapbox\": [{\"marker\": {\"colorbar\": {\"outlinewidth\": 0, \"ticks\": \"\"}}, \"type\": \"scattermapbox\"}], \"scatterpolar\": [{\"marker\": {\"colorbar\": {\"outlinewidth\": 0, \"ticks\": \"\"}}, \"type\": \"scatterpolar\"}], \"scatterpolargl\": [{\"marker\": {\"colorbar\": {\"outlinewidth\": 0, \"ticks\": \"\"}}, \"type\": \"scatterpolargl\"}], \"scatterternary\": [{\"marker\": {\"colorbar\": {\"outlinewidth\": 0, \"ticks\": \"\"}}, \"type\": \"scatterternary\"}], \"surface\": [{\"colorbar\": {\"outlinewidth\": 0, \"ticks\": \"\"}, \"colorscale\": [[0.0, \"#0d0887\"], [0.1111111111111111, \"#46039f\"], [0.2222222222222222, \"#7201a8\"], [0.3333333333333333, \"#9c179e\"], [0.4444444444444444, \"#bd3786\"], [0.5555555555555556, \"#d8576b\"], [0.6666666666666666, \"#ed7953\"], [0.7777777777777778, \"#fb9f3a\"], [0.8888888888888888, \"#fdca26\"], [1.0, \"#f0f921\"]], \"type\": \"surface\"}], \"table\": [{\"cells\": {\"fill\": {\"color\": \"#EBF0F8\"}, \"line\": {\"color\": \"white\"}}, \"header\": {\"fill\": {\"color\": \"#C8D4E3\"}, \"line\": {\"color\": \"white\"}}, \"type\": \"table\"}]}, \"layout\": {\"annotationdefaults\": {\"arrowcolor\": \"#2a3f5f\", \"arrowhead\": 0, \"arrowwidth\": 1}, \"colorscale\": {\"diverging\": [[0, \"#8e0152\"], [0.1, \"#c51b7d\"], [0.2, \"#de77ae\"], [0.3, \"#f1b6da\"], [0.4, \"#fde0ef\"], [0.5, \"#f7f7f7\"], [0.6, \"#e6f5d0\"], [0.7, \"#b8e186\"], [0.8, \"#7fbc41\"], [0.9, \"#4d9221\"], [1, \"#276419\"]], \"sequential\": [[0.0, \"#0d0887\"], [0.1111111111111111, \"#46039f\"], [0.2222222222222222, \"#7201a8\"], [0.3333333333333333, \"#9c179e\"], [0.4444444444444444, \"#bd3786\"], [0.5555555555555556, \"#d8576b\"], [0.6666666666666666, \"#ed7953\"], [0.7777777777777778, \"#fb9f3a\"], [0.8888888888888888, \"#fdca26\"], [1.0, \"#f0f921\"]], \"sequentialminus\": [[0.0, \"#0d0887\"], [0.1111111111111111, \"#46039f\"], [0.2222222222222222, \"#7201a8\"], [0.3333333333333333, \"#9c179e\"], [0.4444444444444444, \"#bd3786\"], [0.5555555555555556, \"#d8576b\"], [0.6666666666666666, \"#ed7953\"], [0.7777777777777778, \"#fb9f3a\"], [0.8888888888888888, \"#fdca26\"], [1.0, \"#f0f921\"]]}, \"colorway\": [\"#636efa\", \"#EF553B\", \"#00cc96\", \"#ab63fa\", \"#FFA15A\", \"#19d3f3\", \"#FF6692\", \"#B6E880\", \"#FF97FF\", \"#FECB52\"], \"font\": {\"color\": \"#2a3f5f\"}, \"geo\": {\"bgcolor\": \"white\", \"lakecolor\": \"white\", \"landcolor\": \"#E5ECF6\", \"showlakes\": true, \"showland\": true, \"subunitcolor\": \"white\"}, \"hoverlabel\": {\"align\": \"left\"}, \"hovermode\": \"closest\", \"mapbox\": {\"style\": \"light\"}, \"paper_bgcolor\": \"white\", \"plot_bgcolor\": \"#E5ECF6\", \"polar\": {\"angularaxis\": {\"gridcolor\": \"white\", \"linecolor\": \"white\", \"ticks\": \"\"}, \"bgcolor\": \"#E5ECF6\", \"radialaxis\": {\"gridcolor\": \"white\", \"linecolor\": \"white\", \"ticks\": \"\"}}, \"scene\": {\"xaxis\": {\"backgroundcolor\": \"#E5ECF6\", \"gridcolor\": \"white\", \"gridwidth\": 2, \"linecolor\": \"white\", \"showbackground\": true, \"ticks\": \"\", \"zerolinecolor\": \"white\"}, \"yaxis\": {\"backgroundcolor\": \"#E5ECF6\", \"gridcolor\": \"white\", \"gridwidth\": 2, \"linecolor\": \"white\", \"showbackground\": true, \"ticks\": \"\", \"zerolinecolor\": \"white\"}, \"zaxis\": {\"backgroundcolor\": \"#E5ECF6\", \"gridcolor\": \"white\", \"gridwidth\": 2, \"linecolor\": \"white\", \"showbackground\": true, \"ticks\": \"\", \"zerolinecolor\": \"white\"}}, \"shapedefaults\": {\"line\": {\"color\": \"#2a3f5f\"}}, \"ternary\": {\"aaxis\": {\"gridcolor\": \"white\", \"linecolor\": \"white\", \"ticks\": \"\"}, \"baxis\": {\"gridcolor\": \"white\", \"linecolor\": \"white\", \"ticks\": \"\"}, \"bgcolor\": \"#E5ECF6\", \"caxis\": {\"gridcolor\": \"white\", \"linecolor\": \"white\", \"ticks\": \"\"}}, \"title\": {\"x\": 0.05}, \"xaxis\": {\"automargin\": true, \"gridcolor\": \"white\", \"linecolor\": \"white\", \"ticks\": \"\", \"zerolinecolor\": \"white\", \"zerolinewidth\": 2}, \"yaxis\": {\"automargin\": true, \"gridcolor\": \"white\", \"linecolor\": \"white\", \"ticks\": \"\", \"zerolinecolor\": \"white\", \"zerolinewidth\": 2}}}, \"title\": {\"text\": \"Average % of loans Originated per recipient - DL PARENT PLUS\"}},\n",
       "                        {\"responsive\": true}\n",
       "                    ).then(function(){\n",
       "                            \n",
       "var gd = document.getElementById('11443209-43e9-48fd-ba89-2a97ed8d0518');\n",
       "var x = new MutationObserver(function (mutations, observer) {{\n",
       "        var display = window.getComputedStyle(gd).display;\n",
       "        if (!display || display === 'none') {{\n",
       "            console.log([gd, 'removed!']);\n",
       "            Plotly.purge(gd);\n",
       "            observer.disconnect();\n",
       "        }}\n",
       "}});\n",
       "\n",
       "// Listen for the removal of the full notebook cells\n",
       "var notebookContainer = gd.closest('#notebook-container');\n",
       "if (notebookContainer) {{\n",
       "    x.observe(notebookContainer, {childList: true});\n",
       "}}\n",
       "\n",
       "// Listen for the clearing of the current output cell\n",
       "var outputEl = gd.closest('.output');\n",
       "if (outputEl) {{\n",
       "    x.observe(outputEl, {childList: true});\n",
       "}}\n",
       "\n",
       "                        })\n",
       "                };\n",
       "                });\n",
       "            </script>\n",
       "        </div>"
      ]
     },
     "metadata": {},
     "output_type": "display_data"
    }
   ],
   "source": [
    "#%%\n",
    "\n",
    "fig = go.Figure(data=go.Choropleth(locations=df_parent['State'], # Spatial coordinates\n",
    "                                   z = df_parent['Average % of Disbursements to Loans Originated per recipient - DL PARENT PLUS'].astype(float), # Data to be color-coded\n",
    "                                   locationmode = 'USA-states', # set of locations match entries in `locations`\n",
    "                                   colorscale = 'reds',\n",
    "                                   colorbar_title = \"% of Offered Amount\"))\n",
    "\n",
    "fig.update_layout(title_text = 'Average % of loans Originated per recipient - DL PARENT PLUS',\n",
    "                  geo_scope='usa') # limite map scope to USA\n",
    "\n",
    "\n",
    "fig.show()"
   ]
  },
  {
   "cell_type": "markdown",
   "metadata": {},
   "source": [
    "# DL UNSUBSIDIZED - UNDERGRADUATE"
   ]
  },
  {
   "cell_type": "code",
   "execution_count": 101,
   "metadata": {},
   "outputs": [],
   "source": [
    "df = df_copy\n",
    "\n",
    "\n",
    "for row_num in range(2,df.shape[0]):\n",
    "    if (df['$ of Disbursements - DL UNSUBSIDIZED - UNDERGRADUATE'][row_num] == \" -\") or (df['$ of Disbursements - DL UNSUBSIDIZED - UNDERGRADUATE'][row_num] == \"-\"):\n",
    "        df.drop([row_num], inplace = True)\n",
    "\n",
    "df.reset_index(level=0, inplace=True)"
   ]
  },
  {
   "cell_type": "code",
   "execution_count": 102,
   "metadata": {},
   "outputs": [],
   "source": [
    "df_unsub_ug = df.groupby(['State']).agg({'School':['count'],\n",
    "                                       'Recipients - DL UNSUBSIDIZED - UNDERGRADUATE' : ['sum'],\n",
    "                                       '# of Loans Originated - DL UNSUBSIDIZED - UNDERGRADUATE' : ['sum'],\n",
    "                                       '$ of Loans Originated - DL UNSUBSIDIZED - UNDERGRADUATE' : ['sum'],\n",
    "                                       '# of Disbursements - DL UNSUBSIDIZED - UNDERGRADUATE' : ['sum'],\n",
    "                                       '$ of Disbursements - DL UNSUBSIDIZED - UNDERGRADUATE' : ['sum']})\n",
    "#%%\n",
    "df_unsub_ug.reset_index(level=0, inplace=True)\n",
    "df_unsub_ug.columns = df_unsub_ug.columns.droplevel(1)"
   ]
  },
  {
   "cell_type": "code",
   "execution_count": 103,
   "metadata": {},
   "outputs": [
    {
     "data": {
      "text/html": [
       "<div>\n",
       "<style scoped>\n",
       "    .dataframe tbody tr th:only-of-type {\n",
       "        vertical-align: middle;\n",
       "    }\n",
       "\n",
       "    .dataframe tbody tr th {\n",
       "        vertical-align: top;\n",
       "    }\n",
       "\n",
       "    .dataframe thead th {\n",
       "        text-align: right;\n",
       "    }\n",
       "</style>\n",
       "<table border=\"1\" class=\"dataframe\">\n",
       "  <thead>\n",
       "    <tr style=\"text-align: right;\">\n",
       "      <th></th>\n",
       "      <th>State</th>\n",
       "      <th>School</th>\n",
       "      <th>Recipients - DL UNSUBSIDIZED - UNDERGRADUATE</th>\n",
       "      <th># of Loans Originated - DL UNSUBSIDIZED - UNDERGRADUATE</th>\n",
       "      <th>$ of Loans Originated - DL UNSUBSIDIZED - UNDERGRADUATE</th>\n",
       "      <th># of Disbursements - DL UNSUBSIDIZED - UNDERGRADUATE</th>\n",
       "      <th>$ of Disbursements - DL UNSUBSIDIZED - UNDERGRADUATE</th>\n",
       "    </tr>\n",
       "  </thead>\n",
       "  <tbody>\n",
       "    <tr>\n",
       "      <th>0</th>\n",
       "      <td>AK</td>\n",
       "      <td>7</td>\n",
       "      <td>2829</td>\n",
       "      <td>2843</td>\n",
       "      <td>14636050</td>\n",
       "      <td>2845</td>\n",
       "      <td>7735818</td>\n",
       "    </tr>\n",
       "    <tr>\n",
       "      <th>1</th>\n",
       "      <td>AL</td>\n",
       "      <td>57</td>\n",
       "      <td>64460</td>\n",
       "      <td>67579</td>\n",
       "      <td>266224989</td>\n",
       "      <td>68441</td>\n",
       "      <td>129505276</td>\n",
       "    </tr>\n",
       "    <tr>\n",
       "      <th>2</th>\n",
       "      <td>AR</td>\n",
       "      <td>68</td>\n",
       "      <td>31446</td>\n",
       "      <td>33640</td>\n",
       "      <td>137286100</td>\n",
       "      <td>34034</td>\n",
       "      <td>68827306</td>\n",
       "    </tr>\n",
       "    <tr>\n",
       "      <th>3</th>\n",
       "      <td>AZ</td>\n",
       "      <td>59</td>\n",
       "      <td>92516</td>\n",
       "      <td>94639</td>\n",
       "      <td>451529705</td>\n",
       "      <td>98127</td>\n",
       "      <td>228462843</td>\n",
       "    </tr>\n",
       "    <tr>\n",
       "      <th>4</th>\n",
       "      <td>CA</td>\n",
       "      <td>414</td>\n",
       "      <td>190910</td>\n",
       "      <td>195654</td>\n",
       "      <td>778162473</td>\n",
       "      <td>197979</td>\n",
       "      <td>376946878</td>\n",
       "    </tr>\n",
       "  </tbody>\n",
       "</table>\n",
       "</div>"
      ],
      "text/plain": [
       "  State  School  Recipients - DL UNSUBSIDIZED - UNDERGRADUATE  \\\n",
       "0    AK       7                                          2829   \n",
       "1    AL      57                                         64460   \n",
       "2    AR      68                                         31446   \n",
       "3    AZ      59                                         92516   \n",
       "4    CA     414                                        190910   \n",
       "\n",
       "   # of Loans Originated - DL UNSUBSIDIZED - UNDERGRADUATE  \\\n",
       "0                                               2843         \n",
       "1                                              67579         \n",
       "2                                              33640         \n",
       "3                                              94639         \n",
       "4                                             195654         \n",
       "\n",
       "   $ of Loans Originated - DL UNSUBSIDIZED - UNDERGRADUATE  \\\n",
       "0                                           14636050         \n",
       "1                                          266224989         \n",
       "2                                          137286100         \n",
       "3                                          451529705         \n",
       "4                                          778162473         \n",
       "\n",
       "   # of Disbursements - DL UNSUBSIDIZED - UNDERGRADUATE  \\\n",
       "0                                               2845      \n",
       "1                                              68441      \n",
       "2                                              34034      \n",
       "3                                              98127      \n",
       "4                                             197979      \n",
       "\n",
       "   $ of Disbursements - DL UNSUBSIDIZED - UNDERGRADUATE  \n",
       "0                                            7735818     \n",
       "1                                          129505276     \n",
       "2                                           68827306     \n",
       "3                                          228462843     \n",
       "4                                          376946878     "
      ]
     },
     "execution_count": 103,
     "metadata": {},
     "output_type": "execute_result"
    }
   ],
   "source": [
    "df_unsub_ug.head()"
   ]
  },
  {
   "cell_type": "code",
   "execution_count": 104,
   "metadata": {},
   "outputs": [],
   "source": [
    "df_unsub_ug['Average $ of Disbursements per recipient - DL UNSUBSIDIZED - UNDERGRADUATE'] = df_unsub_ug['$ of Disbursements - DL UNSUBSIDIZED - UNDERGRADUATE'] / df_unsub_ug['Recipients - DL UNSUBSIDIZED - UNDERGRADUATE']\n",
    "df_unsub_ug['Average $ of Loans Originated per recipient - DL UNSUBSIDIZED - UNDERGRADUATE'] = df_unsub_ug['$ of Loans Originated - DL UNSUBSIDIZED - UNDERGRADUATE'] / df_unsub_ug['Recipients - DL UNSUBSIDIZED - UNDERGRADUATE']\n",
    "\n",
    "df_unsub_ug['Average % of Disbursements to Loans Originated per recipient - DL UNSUBSIDIZED - UNDERGRADUATE'] = (df_unsub_ug['Average $ of Disbursements per recipient - DL UNSUBSIDIZED - UNDERGRADUATE'] * 100)/ df_unsub_ug['Average $ of Loans Originated per recipient - DL UNSUBSIDIZED - UNDERGRADUATE']"
   ]
  },
  {
   "cell_type": "code",
   "execution_count": 105,
   "metadata": {},
   "outputs": [
    {
     "data": {
      "text/html": [
       "<div>\n",
       "<style scoped>\n",
       "    .dataframe tbody tr th:only-of-type {\n",
       "        vertical-align: middle;\n",
       "    }\n",
       "\n",
       "    .dataframe tbody tr th {\n",
       "        vertical-align: top;\n",
       "    }\n",
       "\n",
       "    .dataframe thead th {\n",
       "        text-align: right;\n",
       "    }\n",
       "</style>\n",
       "<table border=\"1\" class=\"dataframe\">\n",
       "  <thead>\n",
       "    <tr style=\"text-align: right;\">\n",
       "      <th></th>\n",
       "      <th>State</th>\n",
       "      <th>School</th>\n",
       "      <th>Recipients - DL UNSUBSIDIZED - UNDERGRADUATE</th>\n",
       "      <th># of Loans Originated - DL UNSUBSIDIZED - UNDERGRADUATE</th>\n",
       "      <th>$ of Loans Originated - DL UNSUBSIDIZED - UNDERGRADUATE</th>\n",
       "      <th># of Disbursements - DL UNSUBSIDIZED - UNDERGRADUATE</th>\n",
       "      <th>$ of Disbursements - DL UNSUBSIDIZED - UNDERGRADUATE</th>\n",
       "      <th>Average $ of Disbursements per recipient - DL UNSUBSIDIZED - UNDERGRADUATE</th>\n",
       "      <th>Average $ of Loans Originated per recipient - DL UNSUBSIDIZED - UNDERGRADUATE</th>\n",
       "      <th>Average % of Disbursements to Loans Originated per recipient - DL UNSUBSIDIZED - UNDERGRADUATE</th>\n",
       "    </tr>\n",
       "  </thead>\n",
       "  <tbody>\n",
       "    <tr>\n",
       "      <th>0</th>\n",
       "      <td>AK</td>\n",
       "      <td>7</td>\n",
       "      <td>2829</td>\n",
       "      <td>2843</td>\n",
       "      <td>14636050</td>\n",
       "      <td>2845</td>\n",
       "      <td>7735818</td>\n",
       "      <td>2734.470838</td>\n",
       "      <td>5173.577236</td>\n",
       "      <td>52.854548</td>\n",
       "    </tr>\n",
       "    <tr>\n",
       "      <th>1</th>\n",
       "      <td>AL</td>\n",
       "      <td>57</td>\n",
       "      <td>64460</td>\n",
       "      <td>67579</td>\n",
       "      <td>266224989</td>\n",
       "      <td>68441</td>\n",
       "      <td>129505276</td>\n",
       "      <td>2009.079677</td>\n",
       "      <td>4130.080500</td>\n",
       "      <td>48.645049</td>\n",
       "    </tr>\n",
       "    <tr>\n",
       "      <th>2</th>\n",
       "      <td>AR</td>\n",
       "      <td>68</td>\n",
       "      <td>31446</td>\n",
       "      <td>33640</td>\n",
       "      <td>137286100</td>\n",
       "      <td>34034</td>\n",
       "      <td>68827306</td>\n",
       "      <td>2188.745977</td>\n",
       "      <td>4365.773071</td>\n",
       "      <td>50.134213</td>\n",
       "    </tr>\n",
       "    <tr>\n",
       "      <th>3</th>\n",
       "      <td>AZ</td>\n",
       "      <td>59</td>\n",
       "      <td>92516</td>\n",
       "      <td>94639</td>\n",
       "      <td>451529705</td>\n",
       "      <td>98127</td>\n",
       "      <td>228462843</td>\n",
       "      <td>2469.441426</td>\n",
       "      <td>4880.558012</td>\n",
       "      <td>50.597522</td>\n",
       "    </tr>\n",
       "    <tr>\n",
       "      <th>4</th>\n",
       "      <td>CA</td>\n",
       "      <td>414</td>\n",
       "      <td>190910</td>\n",
       "      <td>195654</td>\n",
       "      <td>778162473</td>\n",
       "      <td>197979</td>\n",
       "      <td>376946878</td>\n",
       "      <td>1974.474244</td>\n",
       "      <td>4076.069734</td>\n",
       "      <td>48.440639</td>\n",
       "    </tr>\n",
       "  </tbody>\n",
       "</table>\n",
       "</div>"
      ],
      "text/plain": [
       "  State  School  Recipients - DL UNSUBSIDIZED - UNDERGRADUATE  \\\n",
       "0    AK       7                                          2829   \n",
       "1    AL      57                                         64460   \n",
       "2    AR      68                                         31446   \n",
       "3    AZ      59                                         92516   \n",
       "4    CA     414                                        190910   \n",
       "\n",
       "   # of Loans Originated - DL UNSUBSIDIZED - UNDERGRADUATE  \\\n",
       "0                                               2843         \n",
       "1                                              67579         \n",
       "2                                              33640         \n",
       "3                                              94639         \n",
       "4                                             195654         \n",
       "\n",
       "   $ of Loans Originated - DL UNSUBSIDIZED - UNDERGRADUATE  \\\n",
       "0                                           14636050         \n",
       "1                                          266224989         \n",
       "2                                          137286100         \n",
       "3                                          451529705         \n",
       "4                                          778162473         \n",
       "\n",
       "   # of Disbursements - DL UNSUBSIDIZED - UNDERGRADUATE  \\\n",
       "0                                               2845      \n",
       "1                                              68441      \n",
       "2                                              34034      \n",
       "3                                              98127      \n",
       "4                                             197979      \n",
       "\n",
       "   $ of Disbursements - DL UNSUBSIDIZED - UNDERGRADUATE  \\\n",
       "0                                            7735818      \n",
       "1                                          129505276      \n",
       "2                                           68827306      \n",
       "3                                          228462843      \n",
       "4                                          376946878      \n",
       "\n",
       "   Average $ of Disbursements per recipient - DL UNSUBSIDIZED - UNDERGRADUATE  \\\n",
       "0                                        2734.470838                            \n",
       "1                                        2009.079677                            \n",
       "2                                        2188.745977                            \n",
       "3                                        2469.441426                            \n",
       "4                                        1974.474244                            \n",
       "\n",
       "   Average $ of Loans Originated per recipient - DL UNSUBSIDIZED - UNDERGRADUATE  \\\n",
       "0                                        5173.577236                               \n",
       "1                                        4130.080500                               \n",
       "2                                        4365.773071                               \n",
       "3                                        4880.558012                               \n",
       "4                                        4076.069734                               \n",
       "\n",
       "   Average % of Disbursements to Loans Originated per recipient - DL UNSUBSIDIZED - UNDERGRADUATE  \n",
       "0                                          52.854548                                               \n",
       "1                                          48.645049                                               \n",
       "2                                          50.134213                                               \n",
       "3                                          50.597522                                               \n",
       "4                                          48.440639                                               "
      ]
     },
     "execution_count": 105,
     "metadata": {},
     "output_type": "execute_result"
    }
   ],
   "source": [
    "df_unsub_ug.head()"
   ]
  },
  {
   "cell_type": "code",
   "execution_count": 106,
   "metadata": {},
   "outputs": [
    {
     "data": {
      "application/vnd.plotly.v1+json": {
       "config": {
        "plotlyServerURL": "https://plot.ly"
       },
       "data": [
        {
         "colorbar": {
          "title": {
           "text": "USD"
          }
         },
         "colorscale": [
          [
           0,
           "#440154"
          ],
          [
           0.1111111111111111,
           "#482878"
          ],
          [
           0.2222222222222222,
           "#3e4989"
          ],
          [
           0.3333333333333333,
           "#31688e"
          ],
          [
           0.4444444444444444,
           "#26828e"
          ],
          [
           0.5555555555555556,
           "#1f9e89"
          ],
          [
           0.6666666666666666,
           "#35b779"
          ],
          [
           0.7777777777777778,
           "#6ece58"
          ],
          [
           0.8888888888888888,
           "#b5de2b"
          ],
          [
           1,
           "#fde725"
          ]
         ],
         "locationmode": "USA-states",
         "locations": [
          "AK",
          "AL",
          "AR",
          "AZ",
          "CA",
          "CO",
          "CT",
          "DC",
          "DE",
          "FL",
          "GA",
          "GU",
          "HI",
          "IA",
          "ID",
          "IL",
          "IN",
          "KS",
          "KY",
          "LA",
          "MA",
          "MD",
          "ME",
          "MI",
          "MN",
          "MO",
          "MS",
          "MT",
          "NC",
          "ND",
          "NE",
          "NH",
          "NJ",
          "NM",
          "NV",
          "NY",
          "OH",
          "OK",
          "OR",
          "PA",
          "PR",
          "RI",
          "SC",
          "SD",
          "TN",
          "TX",
          "UT",
          "VA",
          "VI",
          "VT",
          "WA",
          "WI",
          "WV",
          "WY"
         ],
         "type": "choropleth",
         "z": [
          5173.577235772358,
          4130.080499534595,
          4365.773071296826,
          4880.558011587185,
          4076.069734429836,
          4540.047430353358,
          3855.3026504795885,
          4702.445922547405,
          3569.9953394767504,
          3824.28064407812,
          4089.5336080813618,
          5929.545454545455,
          4402.385970531711,
          3831.3895253083483,
          4531.8044460730425,
          3897.0506174630673,
          4127.268506713529,
          4280.084846296679,
          4166.500907756489,
          4476.046991834309,
          3621.6481356364334,
          4123.04222972973,
          3856.07295274271,
          4118.140509222061,
          4505.489897532111,
          4306.711888760139,
          4237.284969538993,
          4485.988984762254,
          4081.3944363973333,
          4582.5366505380225,
          4191.10728000991,
          4226.154943505411,
          3708.4179466725504,
          4736.919568822554,
          4564.853395317948,
          3698.835531725168,
          3949.2095585426,
          4442.826661691807,
          4284.4214914491795,
          3652.62229207331,
          4346.075782312925,
          3510.2410924652595,
          4020.062721874395,
          4130.477219238429,
          4050.31722794774,
          4287.5661105092095,
          4647.575508412582,
          4137.669999686222,
          3922.385026737968,
          3627.1923415492956,
          4284.95719129023,
          4141.9887315530095,
          4142.87594390507,
          4538.236957080442
         ]
        }
       ],
       "layout": {
        "geo": {
         "scope": "usa"
        },
        "template": {
         "data": {
          "bar": [
           {
            "error_x": {
             "color": "#2a3f5f"
            },
            "error_y": {
             "color": "#2a3f5f"
            },
            "marker": {
             "line": {
              "color": "#E5ECF6",
              "width": 0.5
             }
            },
            "type": "bar"
           }
          ],
          "barpolar": [
           {
            "marker": {
             "line": {
              "color": "#E5ECF6",
              "width": 0.5
             }
            },
            "type": "barpolar"
           }
          ],
          "carpet": [
           {
            "aaxis": {
             "endlinecolor": "#2a3f5f",
             "gridcolor": "white",
             "linecolor": "white",
             "minorgridcolor": "white",
             "startlinecolor": "#2a3f5f"
            },
            "baxis": {
             "endlinecolor": "#2a3f5f",
             "gridcolor": "white",
             "linecolor": "white",
             "minorgridcolor": "white",
             "startlinecolor": "#2a3f5f"
            },
            "type": "carpet"
           }
          ],
          "choropleth": [
           {
            "colorbar": {
             "outlinewidth": 0,
             "ticks": ""
            },
            "type": "choropleth"
           }
          ],
          "contour": [
           {
            "colorbar": {
             "outlinewidth": 0,
             "ticks": ""
            },
            "colorscale": [
             [
              0,
              "#0d0887"
             ],
             [
              0.1111111111111111,
              "#46039f"
             ],
             [
              0.2222222222222222,
              "#7201a8"
             ],
             [
              0.3333333333333333,
              "#9c179e"
             ],
             [
              0.4444444444444444,
              "#bd3786"
             ],
             [
              0.5555555555555556,
              "#d8576b"
             ],
             [
              0.6666666666666666,
              "#ed7953"
             ],
             [
              0.7777777777777778,
              "#fb9f3a"
             ],
             [
              0.8888888888888888,
              "#fdca26"
             ],
             [
              1,
              "#f0f921"
             ]
            ],
            "type": "contour"
           }
          ],
          "contourcarpet": [
           {
            "colorbar": {
             "outlinewidth": 0,
             "ticks": ""
            },
            "type": "contourcarpet"
           }
          ],
          "heatmap": [
           {
            "colorbar": {
             "outlinewidth": 0,
             "ticks": ""
            },
            "colorscale": [
             [
              0,
              "#0d0887"
             ],
             [
              0.1111111111111111,
              "#46039f"
             ],
             [
              0.2222222222222222,
              "#7201a8"
             ],
             [
              0.3333333333333333,
              "#9c179e"
             ],
             [
              0.4444444444444444,
              "#bd3786"
             ],
             [
              0.5555555555555556,
              "#d8576b"
             ],
             [
              0.6666666666666666,
              "#ed7953"
             ],
             [
              0.7777777777777778,
              "#fb9f3a"
             ],
             [
              0.8888888888888888,
              "#fdca26"
             ],
             [
              1,
              "#f0f921"
             ]
            ],
            "type": "heatmap"
           }
          ],
          "heatmapgl": [
           {
            "colorbar": {
             "outlinewidth": 0,
             "ticks": ""
            },
            "colorscale": [
             [
              0,
              "#0d0887"
             ],
             [
              0.1111111111111111,
              "#46039f"
             ],
             [
              0.2222222222222222,
              "#7201a8"
             ],
             [
              0.3333333333333333,
              "#9c179e"
             ],
             [
              0.4444444444444444,
              "#bd3786"
             ],
             [
              0.5555555555555556,
              "#d8576b"
             ],
             [
              0.6666666666666666,
              "#ed7953"
             ],
             [
              0.7777777777777778,
              "#fb9f3a"
             ],
             [
              0.8888888888888888,
              "#fdca26"
             ],
             [
              1,
              "#f0f921"
             ]
            ],
            "type": "heatmapgl"
           }
          ],
          "histogram": [
           {
            "marker": {
             "colorbar": {
              "outlinewidth": 0,
              "ticks": ""
             }
            },
            "type": "histogram"
           }
          ],
          "histogram2d": [
           {
            "colorbar": {
             "outlinewidth": 0,
             "ticks": ""
            },
            "colorscale": [
             [
              0,
              "#0d0887"
             ],
             [
              0.1111111111111111,
              "#46039f"
             ],
             [
              0.2222222222222222,
              "#7201a8"
             ],
             [
              0.3333333333333333,
              "#9c179e"
             ],
             [
              0.4444444444444444,
              "#bd3786"
             ],
             [
              0.5555555555555556,
              "#d8576b"
             ],
             [
              0.6666666666666666,
              "#ed7953"
             ],
             [
              0.7777777777777778,
              "#fb9f3a"
             ],
             [
              0.8888888888888888,
              "#fdca26"
             ],
             [
              1,
              "#f0f921"
             ]
            ],
            "type": "histogram2d"
           }
          ],
          "histogram2dcontour": [
           {
            "colorbar": {
             "outlinewidth": 0,
             "ticks": ""
            },
            "colorscale": [
             [
              0,
              "#0d0887"
             ],
             [
              0.1111111111111111,
              "#46039f"
             ],
             [
              0.2222222222222222,
              "#7201a8"
             ],
             [
              0.3333333333333333,
              "#9c179e"
             ],
             [
              0.4444444444444444,
              "#bd3786"
             ],
             [
              0.5555555555555556,
              "#d8576b"
             ],
             [
              0.6666666666666666,
              "#ed7953"
             ],
             [
              0.7777777777777778,
              "#fb9f3a"
             ],
             [
              0.8888888888888888,
              "#fdca26"
             ],
             [
              1,
              "#f0f921"
             ]
            ],
            "type": "histogram2dcontour"
           }
          ],
          "mesh3d": [
           {
            "colorbar": {
             "outlinewidth": 0,
             "ticks": ""
            },
            "type": "mesh3d"
           }
          ],
          "parcoords": [
           {
            "line": {
             "colorbar": {
              "outlinewidth": 0,
              "ticks": ""
             }
            },
            "type": "parcoords"
           }
          ],
          "scatter": [
           {
            "marker": {
             "colorbar": {
              "outlinewidth": 0,
              "ticks": ""
             }
            },
            "type": "scatter"
           }
          ],
          "scatter3d": [
           {
            "line": {
             "colorbar": {
              "outlinewidth": 0,
              "ticks": ""
             }
            },
            "marker": {
             "colorbar": {
              "outlinewidth": 0,
              "ticks": ""
             }
            },
            "type": "scatter3d"
           }
          ],
          "scattercarpet": [
           {
            "marker": {
             "colorbar": {
              "outlinewidth": 0,
              "ticks": ""
             }
            },
            "type": "scattercarpet"
           }
          ],
          "scattergeo": [
           {
            "marker": {
             "colorbar": {
              "outlinewidth": 0,
              "ticks": ""
             }
            },
            "type": "scattergeo"
           }
          ],
          "scattergl": [
           {
            "marker": {
             "colorbar": {
              "outlinewidth": 0,
              "ticks": ""
             }
            },
            "type": "scattergl"
           }
          ],
          "scattermapbox": [
           {
            "marker": {
             "colorbar": {
              "outlinewidth": 0,
              "ticks": ""
             }
            },
            "type": "scattermapbox"
           }
          ],
          "scatterpolar": [
           {
            "marker": {
             "colorbar": {
              "outlinewidth": 0,
              "ticks": ""
             }
            },
            "type": "scatterpolar"
           }
          ],
          "scatterpolargl": [
           {
            "marker": {
             "colorbar": {
              "outlinewidth": 0,
              "ticks": ""
             }
            },
            "type": "scatterpolargl"
           }
          ],
          "scatterternary": [
           {
            "marker": {
             "colorbar": {
              "outlinewidth": 0,
              "ticks": ""
             }
            },
            "type": "scatterternary"
           }
          ],
          "surface": [
           {
            "colorbar": {
             "outlinewidth": 0,
             "ticks": ""
            },
            "colorscale": [
             [
              0,
              "#0d0887"
             ],
             [
              0.1111111111111111,
              "#46039f"
             ],
             [
              0.2222222222222222,
              "#7201a8"
             ],
             [
              0.3333333333333333,
              "#9c179e"
             ],
             [
              0.4444444444444444,
              "#bd3786"
             ],
             [
              0.5555555555555556,
              "#d8576b"
             ],
             [
              0.6666666666666666,
              "#ed7953"
             ],
             [
              0.7777777777777778,
              "#fb9f3a"
             ],
             [
              0.8888888888888888,
              "#fdca26"
             ],
             [
              1,
              "#f0f921"
             ]
            ],
            "type": "surface"
           }
          ],
          "table": [
           {
            "cells": {
             "fill": {
              "color": "#EBF0F8"
             },
             "line": {
              "color": "white"
             }
            },
            "header": {
             "fill": {
              "color": "#C8D4E3"
             },
             "line": {
              "color": "white"
             }
            },
            "type": "table"
           }
          ]
         },
         "layout": {
          "annotationdefaults": {
           "arrowcolor": "#2a3f5f",
           "arrowhead": 0,
           "arrowwidth": 1
          },
          "colorscale": {
           "diverging": [
            [
             0,
             "#8e0152"
            ],
            [
             0.1,
             "#c51b7d"
            ],
            [
             0.2,
             "#de77ae"
            ],
            [
             0.3,
             "#f1b6da"
            ],
            [
             0.4,
             "#fde0ef"
            ],
            [
             0.5,
             "#f7f7f7"
            ],
            [
             0.6,
             "#e6f5d0"
            ],
            [
             0.7,
             "#b8e186"
            ],
            [
             0.8,
             "#7fbc41"
            ],
            [
             0.9,
             "#4d9221"
            ],
            [
             1,
             "#276419"
            ]
           ],
           "sequential": [
            [
             0,
             "#0d0887"
            ],
            [
             0.1111111111111111,
             "#46039f"
            ],
            [
             0.2222222222222222,
             "#7201a8"
            ],
            [
             0.3333333333333333,
             "#9c179e"
            ],
            [
             0.4444444444444444,
             "#bd3786"
            ],
            [
             0.5555555555555556,
             "#d8576b"
            ],
            [
             0.6666666666666666,
             "#ed7953"
            ],
            [
             0.7777777777777778,
             "#fb9f3a"
            ],
            [
             0.8888888888888888,
             "#fdca26"
            ],
            [
             1,
             "#f0f921"
            ]
           ],
           "sequentialminus": [
            [
             0,
             "#0d0887"
            ],
            [
             0.1111111111111111,
             "#46039f"
            ],
            [
             0.2222222222222222,
             "#7201a8"
            ],
            [
             0.3333333333333333,
             "#9c179e"
            ],
            [
             0.4444444444444444,
             "#bd3786"
            ],
            [
             0.5555555555555556,
             "#d8576b"
            ],
            [
             0.6666666666666666,
             "#ed7953"
            ],
            [
             0.7777777777777778,
             "#fb9f3a"
            ],
            [
             0.8888888888888888,
             "#fdca26"
            ],
            [
             1,
             "#f0f921"
            ]
           ]
          },
          "colorway": [
           "#636efa",
           "#EF553B",
           "#00cc96",
           "#ab63fa",
           "#FFA15A",
           "#19d3f3",
           "#FF6692",
           "#B6E880",
           "#FF97FF",
           "#FECB52"
          ],
          "font": {
           "color": "#2a3f5f"
          },
          "geo": {
           "bgcolor": "white",
           "lakecolor": "white",
           "landcolor": "#E5ECF6",
           "showlakes": true,
           "showland": true,
           "subunitcolor": "white"
          },
          "hoverlabel": {
           "align": "left"
          },
          "hovermode": "closest",
          "mapbox": {
           "style": "light"
          },
          "paper_bgcolor": "white",
          "plot_bgcolor": "#E5ECF6",
          "polar": {
           "angularaxis": {
            "gridcolor": "white",
            "linecolor": "white",
            "ticks": ""
           },
           "bgcolor": "#E5ECF6",
           "radialaxis": {
            "gridcolor": "white",
            "linecolor": "white",
            "ticks": ""
           }
          },
          "scene": {
           "xaxis": {
            "backgroundcolor": "#E5ECF6",
            "gridcolor": "white",
            "gridwidth": 2,
            "linecolor": "white",
            "showbackground": true,
            "ticks": "",
            "zerolinecolor": "white"
           },
           "yaxis": {
            "backgroundcolor": "#E5ECF6",
            "gridcolor": "white",
            "gridwidth": 2,
            "linecolor": "white",
            "showbackground": true,
            "ticks": "",
            "zerolinecolor": "white"
           },
           "zaxis": {
            "backgroundcolor": "#E5ECF6",
            "gridcolor": "white",
            "gridwidth": 2,
            "linecolor": "white",
            "showbackground": true,
            "ticks": "",
            "zerolinecolor": "white"
           }
          },
          "shapedefaults": {
           "line": {
            "color": "#2a3f5f"
           }
          },
          "ternary": {
           "aaxis": {
            "gridcolor": "white",
            "linecolor": "white",
            "ticks": ""
           },
           "baxis": {
            "gridcolor": "white",
            "linecolor": "white",
            "ticks": ""
           },
           "bgcolor": "#E5ECF6",
           "caxis": {
            "gridcolor": "white",
            "linecolor": "white",
            "ticks": ""
           }
          },
          "title": {
           "x": 0.05
          },
          "xaxis": {
           "automargin": true,
           "gridcolor": "white",
           "linecolor": "white",
           "ticks": "",
           "zerolinecolor": "white",
           "zerolinewidth": 2
          },
          "yaxis": {
           "automargin": true,
           "gridcolor": "white",
           "linecolor": "white",
           "ticks": "",
           "zerolinecolor": "white",
           "zerolinewidth": 2
          }
         }
        },
        "title": {
         "text": "Average $ of loans Originated per recipient - DL UNSUBSIDIZED - UNDERGRADUATE"
        }
       }
      },
      "text/html": [
       "<div>\n",
       "        \n",
       "        \n",
       "            <div id=\"de99d772-d2f0-4399-a6fb-e00645d80b76\" class=\"plotly-graph-div\" style=\"height:525px; width:100%;\"></div>\n",
       "            <script type=\"text/javascript\">\n",
       "                require([\"plotly\"], function(Plotly) {\n",
       "                    window.PLOTLYENV=window.PLOTLYENV || {};\n",
       "                    \n",
       "                if (document.getElementById(\"de99d772-d2f0-4399-a6fb-e00645d80b76\")) {\n",
       "                    Plotly.newPlot(\n",
       "                        'de99d772-d2f0-4399-a6fb-e00645d80b76',\n",
       "                        [{\"colorbar\": {\"title\": {\"text\": \"USD\"}}, \"colorscale\": [[0.0, \"#440154\"], [0.1111111111111111, \"#482878\"], [0.2222222222222222, \"#3e4989\"], [0.3333333333333333, \"#31688e\"], [0.4444444444444444, \"#26828e\"], [0.5555555555555556, \"#1f9e89\"], [0.6666666666666666, \"#35b779\"], [0.7777777777777778, \"#6ece58\"], [0.8888888888888888, \"#b5de2b\"], [1.0, \"#fde725\"]], \"locationmode\": \"USA-states\", \"locations\": [\"AK\", \"AL\", \"AR\", \"AZ\", \"CA\", \"CO\", \"CT\", \"DC\", \"DE\", \"FL\", \"GA\", \"GU\", \"HI\", \"IA\", \"ID\", \"IL\", \"IN\", \"KS\", \"KY\", \"LA\", \"MA\", \"MD\", \"ME\", \"MI\", \"MN\", \"MO\", \"MS\", \"MT\", \"NC\", \"ND\", \"NE\", \"NH\", \"NJ\", \"NM\", \"NV\", \"NY\", \"OH\", \"OK\", \"OR\", \"PA\", \"PR\", \"RI\", \"SC\", \"SD\", \"TN\", \"TX\", \"UT\", \"VA\", \"VI\", \"VT\", \"WA\", \"WI\", \"WV\", \"WY\"], \"type\": \"choropleth\", \"z\": [5173.577235772358, 4130.080499534595, 4365.773071296826, 4880.558011587185, 4076.069734429836, 4540.047430353358, 3855.3026504795885, 4702.445922547405, 3569.9953394767504, 3824.28064407812, 4089.5336080813618, 5929.545454545455, 4402.385970531711, 3831.3895253083483, 4531.8044460730425, 3897.0506174630673, 4127.268506713529, 4280.084846296679, 4166.500907756489, 4476.046991834309, 3621.6481356364334, 4123.04222972973, 3856.07295274271, 4118.140509222061, 4505.489897532111, 4306.711888760139, 4237.284969538993, 4485.988984762254, 4081.3944363973333, 4582.5366505380225, 4191.10728000991, 4226.154943505411, 3708.4179466725504, 4736.919568822554, 4564.853395317948, 3698.835531725168, 3949.2095585426, 4442.826661691807, 4284.4214914491795, 3652.62229207331, 4346.075782312925, 3510.2410924652595, 4020.062721874395, 4130.477219238429, 4050.31722794774, 4287.5661105092095, 4647.575508412582, 4137.669999686222, 3922.385026737968, 3627.1923415492956, 4284.95719129023, 4141.9887315530095, 4142.87594390507, 4538.236957080442]}],\n",
       "                        {\"geo\": {\"scope\": \"usa\"}, \"template\": {\"data\": {\"bar\": [{\"error_x\": {\"color\": \"#2a3f5f\"}, \"error_y\": {\"color\": \"#2a3f5f\"}, \"marker\": {\"line\": {\"color\": \"#E5ECF6\", \"width\": 0.5}}, \"type\": \"bar\"}], \"barpolar\": [{\"marker\": {\"line\": {\"color\": \"#E5ECF6\", \"width\": 0.5}}, \"type\": \"barpolar\"}], \"carpet\": [{\"aaxis\": {\"endlinecolor\": \"#2a3f5f\", \"gridcolor\": \"white\", \"linecolor\": \"white\", \"minorgridcolor\": \"white\", \"startlinecolor\": \"#2a3f5f\"}, \"baxis\": {\"endlinecolor\": \"#2a3f5f\", \"gridcolor\": \"white\", \"linecolor\": \"white\", \"minorgridcolor\": \"white\", \"startlinecolor\": \"#2a3f5f\"}, \"type\": \"carpet\"}], \"choropleth\": [{\"colorbar\": {\"outlinewidth\": 0, \"ticks\": \"\"}, \"type\": \"choropleth\"}], \"contour\": [{\"colorbar\": {\"outlinewidth\": 0, \"ticks\": \"\"}, \"colorscale\": [[0.0, \"#0d0887\"], [0.1111111111111111, \"#46039f\"], [0.2222222222222222, \"#7201a8\"], [0.3333333333333333, \"#9c179e\"], [0.4444444444444444, \"#bd3786\"], [0.5555555555555556, \"#d8576b\"], [0.6666666666666666, \"#ed7953\"], [0.7777777777777778, \"#fb9f3a\"], [0.8888888888888888, \"#fdca26\"], [1.0, \"#f0f921\"]], \"type\": \"contour\"}], \"contourcarpet\": [{\"colorbar\": {\"outlinewidth\": 0, \"ticks\": \"\"}, \"type\": \"contourcarpet\"}], \"heatmap\": [{\"colorbar\": {\"outlinewidth\": 0, \"ticks\": \"\"}, \"colorscale\": [[0.0, \"#0d0887\"], [0.1111111111111111, \"#46039f\"], [0.2222222222222222, \"#7201a8\"], [0.3333333333333333, \"#9c179e\"], [0.4444444444444444, \"#bd3786\"], [0.5555555555555556, \"#d8576b\"], [0.6666666666666666, \"#ed7953\"], [0.7777777777777778, \"#fb9f3a\"], [0.8888888888888888, \"#fdca26\"], [1.0, \"#f0f921\"]], \"type\": \"heatmap\"}], \"heatmapgl\": [{\"colorbar\": {\"outlinewidth\": 0, \"ticks\": \"\"}, \"colorscale\": [[0.0, \"#0d0887\"], [0.1111111111111111, \"#46039f\"], [0.2222222222222222, \"#7201a8\"], [0.3333333333333333, \"#9c179e\"], [0.4444444444444444, \"#bd3786\"], [0.5555555555555556, \"#d8576b\"], [0.6666666666666666, \"#ed7953\"], [0.7777777777777778, \"#fb9f3a\"], [0.8888888888888888, \"#fdca26\"], [1.0, \"#f0f921\"]], \"type\": \"heatmapgl\"}], \"histogram\": [{\"marker\": {\"colorbar\": {\"outlinewidth\": 0, \"ticks\": \"\"}}, \"type\": \"histogram\"}], \"histogram2d\": [{\"colorbar\": {\"outlinewidth\": 0, \"ticks\": \"\"}, \"colorscale\": [[0.0, \"#0d0887\"], [0.1111111111111111, \"#46039f\"], [0.2222222222222222, \"#7201a8\"], [0.3333333333333333, \"#9c179e\"], [0.4444444444444444, \"#bd3786\"], [0.5555555555555556, \"#d8576b\"], [0.6666666666666666, \"#ed7953\"], [0.7777777777777778, \"#fb9f3a\"], [0.8888888888888888, \"#fdca26\"], [1.0, \"#f0f921\"]], \"type\": \"histogram2d\"}], \"histogram2dcontour\": [{\"colorbar\": {\"outlinewidth\": 0, \"ticks\": \"\"}, \"colorscale\": [[0.0, \"#0d0887\"], [0.1111111111111111, \"#46039f\"], [0.2222222222222222, \"#7201a8\"], [0.3333333333333333, \"#9c179e\"], [0.4444444444444444, \"#bd3786\"], [0.5555555555555556, \"#d8576b\"], [0.6666666666666666, \"#ed7953\"], [0.7777777777777778, \"#fb9f3a\"], [0.8888888888888888, \"#fdca26\"], [1.0, \"#f0f921\"]], \"type\": \"histogram2dcontour\"}], \"mesh3d\": [{\"colorbar\": {\"outlinewidth\": 0, \"ticks\": \"\"}, \"type\": \"mesh3d\"}], \"parcoords\": [{\"line\": {\"colorbar\": {\"outlinewidth\": 0, \"ticks\": \"\"}}, \"type\": \"parcoords\"}], \"scatter\": [{\"marker\": {\"colorbar\": {\"outlinewidth\": 0, \"ticks\": \"\"}}, \"type\": \"scatter\"}], \"scatter3d\": [{\"line\": {\"colorbar\": {\"outlinewidth\": 0, \"ticks\": \"\"}}, \"marker\": {\"colorbar\": {\"outlinewidth\": 0, \"ticks\": \"\"}}, \"type\": \"scatter3d\"}], \"scattercarpet\": [{\"marker\": {\"colorbar\": {\"outlinewidth\": 0, \"ticks\": \"\"}}, \"type\": \"scattercarpet\"}], \"scattergeo\": [{\"marker\": {\"colorbar\": {\"outlinewidth\": 0, \"ticks\": \"\"}}, \"type\": \"scattergeo\"}], \"scattergl\": [{\"marker\": {\"colorbar\": {\"outlinewidth\": 0, \"ticks\": \"\"}}, \"type\": \"scattergl\"}], \"scattermapbox\": [{\"marker\": {\"colorbar\": {\"outlinewidth\": 0, \"ticks\": \"\"}}, \"type\": \"scattermapbox\"}], \"scatterpolar\": [{\"marker\": {\"colorbar\": {\"outlinewidth\": 0, \"ticks\": \"\"}}, \"type\": \"scatterpolar\"}], \"scatterpolargl\": [{\"marker\": {\"colorbar\": {\"outlinewidth\": 0, \"ticks\": \"\"}}, \"type\": \"scatterpolargl\"}], \"scatterternary\": [{\"marker\": {\"colorbar\": {\"outlinewidth\": 0, \"ticks\": \"\"}}, \"type\": \"scatterternary\"}], \"surface\": [{\"colorbar\": {\"outlinewidth\": 0, \"ticks\": \"\"}, \"colorscale\": [[0.0, \"#0d0887\"], [0.1111111111111111, \"#46039f\"], [0.2222222222222222, \"#7201a8\"], [0.3333333333333333, \"#9c179e\"], [0.4444444444444444, \"#bd3786\"], [0.5555555555555556, \"#d8576b\"], [0.6666666666666666, \"#ed7953\"], [0.7777777777777778, \"#fb9f3a\"], [0.8888888888888888, \"#fdca26\"], [1.0, \"#f0f921\"]], \"type\": \"surface\"}], \"table\": [{\"cells\": {\"fill\": {\"color\": \"#EBF0F8\"}, \"line\": {\"color\": \"white\"}}, \"header\": {\"fill\": {\"color\": \"#C8D4E3\"}, \"line\": {\"color\": \"white\"}}, \"type\": \"table\"}]}, \"layout\": {\"annotationdefaults\": {\"arrowcolor\": \"#2a3f5f\", \"arrowhead\": 0, \"arrowwidth\": 1}, \"colorscale\": {\"diverging\": [[0, \"#8e0152\"], [0.1, \"#c51b7d\"], [0.2, \"#de77ae\"], [0.3, \"#f1b6da\"], [0.4, \"#fde0ef\"], [0.5, \"#f7f7f7\"], [0.6, \"#e6f5d0\"], [0.7, \"#b8e186\"], [0.8, \"#7fbc41\"], [0.9, \"#4d9221\"], [1, \"#276419\"]], \"sequential\": [[0.0, \"#0d0887\"], [0.1111111111111111, \"#46039f\"], [0.2222222222222222, \"#7201a8\"], [0.3333333333333333, \"#9c179e\"], [0.4444444444444444, \"#bd3786\"], [0.5555555555555556, \"#d8576b\"], [0.6666666666666666, \"#ed7953\"], [0.7777777777777778, \"#fb9f3a\"], [0.8888888888888888, \"#fdca26\"], [1.0, \"#f0f921\"]], \"sequentialminus\": [[0.0, \"#0d0887\"], [0.1111111111111111, \"#46039f\"], [0.2222222222222222, \"#7201a8\"], [0.3333333333333333, \"#9c179e\"], [0.4444444444444444, \"#bd3786\"], [0.5555555555555556, \"#d8576b\"], [0.6666666666666666, \"#ed7953\"], [0.7777777777777778, \"#fb9f3a\"], [0.8888888888888888, \"#fdca26\"], [1.0, \"#f0f921\"]]}, \"colorway\": [\"#636efa\", \"#EF553B\", \"#00cc96\", \"#ab63fa\", \"#FFA15A\", \"#19d3f3\", \"#FF6692\", \"#B6E880\", \"#FF97FF\", \"#FECB52\"], \"font\": {\"color\": \"#2a3f5f\"}, \"geo\": {\"bgcolor\": \"white\", \"lakecolor\": \"white\", \"landcolor\": \"#E5ECF6\", \"showlakes\": true, \"showland\": true, \"subunitcolor\": \"white\"}, \"hoverlabel\": {\"align\": \"left\"}, \"hovermode\": \"closest\", \"mapbox\": {\"style\": \"light\"}, \"paper_bgcolor\": \"white\", \"plot_bgcolor\": \"#E5ECF6\", \"polar\": {\"angularaxis\": {\"gridcolor\": \"white\", \"linecolor\": \"white\", \"ticks\": \"\"}, \"bgcolor\": \"#E5ECF6\", \"radialaxis\": {\"gridcolor\": \"white\", \"linecolor\": \"white\", \"ticks\": \"\"}}, \"scene\": {\"xaxis\": {\"backgroundcolor\": \"#E5ECF6\", \"gridcolor\": \"white\", \"gridwidth\": 2, \"linecolor\": \"white\", \"showbackground\": true, \"ticks\": \"\", \"zerolinecolor\": \"white\"}, \"yaxis\": {\"backgroundcolor\": \"#E5ECF6\", \"gridcolor\": \"white\", \"gridwidth\": 2, \"linecolor\": \"white\", \"showbackground\": true, \"ticks\": \"\", \"zerolinecolor\": \"white\"}, \"zaxis\": {\"backgroundcolor\": \"#E5ECF6\", \"gridcolor\": \"white\", \"gridwidth\": 2, \"linecolor\": \"white\", \"showbackground\": true, \"ticks\": \"\", \"zerolinecolor\": \"white\"}}, \"shapedefaults\": {\"line\": {\"color\": \"#2a3f5f\"}}, \"ternary\": {\"aaxis\": {\"gridcolor\": \"white\", \"linecolor\": \"white\", \"ticks\": \"\"}, \"baxis\": {\"gridcolor\": \"white\", \"linecolor\": \"white\", \"ticks\": \"\"}, \"bgcolor\": \"#E5ECF6\", \"caxis\": {\"gridcolor\": \"white\", \"linecolor\": \"white\", \"ticks\": \"\"}}, \"title\": {\"x\": 0.05}, \"xaxis\": {\"automargin\": true, \"gridcolor\": \"white\", \"linecolor\": \"white\", \"ticks\": \"\", \"zerolinecolor\": \"white\", \"zerolinewidth\": 2}, \"yaxis\": {\"automargin\": true, \"gridcolor\": \"white\", \"linecolor\": \"white\", \"ticks\": \"\", \"zerolinecolor\": \"white\", \"zerolinewidth\": 2}}}, \"title\": {\"text\": \"Average $ of loans Originated per recipient - DL UNSUBSIDIZED - UNDERGRADUATE\"}},\n",
       "                        {\"responsive\": true}\n",
       "                    ).then(function(){\n",
       "                            \n",
       "var gd = document.getElementById('de99d772-d2f0-4399-a6fb-e00645d80b76');\n",
       "var x = new MutationObserver(function (mutations, observer) {{\n",
       "        var display = window.getComputedStyle(gd).display;\n",
       "        if (!display || display === 'none') {{\n",
       "            console.log([gd, 'removed!']);\n",
       "            Plotly.purge(gd);\n",
       "            observer.disconnect();\n",
       "        }}\n",
       "}});\n",
       "\n",
       "// Listen for the removal of the full notebook cells\n",
       "var notebookContainer = gd.closest('#notebook-container');\n",
       "if (notebookContainer) {{\n",
       "    x.observe(notebookContainer, {childList: true});\n",
       "}}\n",
       "\n",
       "// Listen for the clearing of the current output cell\n",
       "var outputEl = gd.closest('.output');\n",
       "if (outputEl) {{\n",
       "    x.observe(outputEl, {childList: true});\n",
       "}}\n",
       "\n",
       "                        })\n",
       "                };\n",
       "                });\n",
       "            </script>\n",
       "        </div>"
      ]
     },
     "metadata": {},
     "output_type": "display_data"
    }
   ],
   "source": [
    "fig = go.Figure(data=go.Choropleth(locations=df_unsub_ug['State'], # Spatial coordinates\n",
    "                                   z = df_unsub_ug['Average $ of Loans Originated per recipient - DL UNSUBSIDIZED - UNDERGRADUATE'].astype(float), # Data to be color-coded\n",
    "                                   locationmode = 'USA-states', # set of locations match entries in `locations`\n",
    "                                   colorscale = 'viridis',\n",
    "                                   colorbar_title = \"USD\"))\n",
    "\n",
    "fig.update_layout(title_text = 'Average $ of loans Originated per recipient - DL UNSUBSIDIZED - UNDERGRADUATE',\n",
    "                  geo_scope='usa') # limite map scope to USA\n",
    "\n",
    "\n",
    "fig.show()"
   ]
  },
  {
   "cell_type": "code",
   "execution_count": 107,
   "metadata": {},
   "outputs": [
    {
     "data": {
      "application/vnd.plotly.v1+json": {
       "config": {
        "plotlyServerURL": "https://plot.ly"
       },
       "data": [
        {
         "colorbar": {
          "title": {
           "text": "% of Offered Amount"
          }
         },
         "colorscale": [
          [
           0,
           "rgb(255,245,240)"
          ],
          [
           0.125,
           "rgb(254,224,210)"
          ],
          [
           0.25,
           "rgb(252,187,161)"
          ],
          [
           0.375,
           "rgb(252,146,114)"
          ],
          [
           0.5,
           "rgb(251,106,74)"
          ],
          [
           0.625,
           "rgb(239,59,44)"
          ],
          [
           0.75,
           "rgb(203,24,29)"
          ],
          [
           0.875,
           "rgb(165,15,21)"
          ],
          [
           1,
           "rgb(103,0,13)"
          ]
         ],
         "locationmode": "USA-states",
         "locations": [
          "AK",
          "AL",
          "AR",
          "AZ",
          "CA",
          "CO",
          "CT",
          "DC",
          "DE",
          "FL",
          "GA",
          "GU",
          "HI",
          "IA",
          "ID",
          "IL",
          "IN",
          "KS",
          "KY",
          "LA",
          "MA",
          "MD",
          "ME",
          "MI",
          "MN",
          "MO",
          "MS",
          "MT",
          "NC",
          "ND",
          "NE",
          "NH",
          "NJ",
          "NM",
          "NV",
          "NY",
          "OH",
          "OK",
          "OR",
          "PA",
          "PR",
          "RI",
          "SC",
          "SD",
          "TN",
          "TX",
          "UT",
          "VA",
          "VI",
          "VT",
          "WA",
          "WI",
          "WV",
          "WY"
         ],
         "type": "choropleth",
         "z": [
          52.85454750427881,
          48.64504886879721,
          50.13421315049376,
          50.59752226046788,
          48.44063946527527,
          49.193393347785054,
          48.91233803217694,
          39.81258081051437,
          50.46369715270378,
          57.291688334486295,
          50.09091251241542,
          50.00076657723265,
          51.421921998066246,
          53.89791022321275,
          51.442773133643925,
          48.80353423458468,
          49.72101873881234,
          50.47254182022102,
          50.28304934745296,
          50.207455355635695,
          50.32041689462029,
          50.93860711973485,
          50.33499674017995,
          50.93424509301148,
          47.828718626208214,
          49.79238834104993,
          48.19339622536913,
          50.361090005386494,
          48.040853636424664,
          51.11410346188053,
          49.872611292390765,
          38.936552012536154,
          50.375829058176585,
          51.98804173389858,
          51.18578479639569,
          51.06710747448388,
          49.9404341320077,
          50.50542356751656,
          39.76068871146753,
          50.193141067344,
          53.2217366346001,
          46.35127895100118,
          50.7290458096424,
          50.653436429094064,
          51.61597019423314,
          50.41235424809928,
          51.29146191981682,
          48.448405481910704,
          51.3160442053427,
          50.35307325669116,
          42.484621218807945,
          50.42630472127403,
          50.01741377607358,
          51.14459052637063
         ]
        }
       ],
       "layout": {
        "geo": {
         "scope": "usa"
        },
        "template": {
         "data": {
          "bar": [
           {
            "error_x": {
             "color": "#2a3f5f"
            },
            "error_y": {
             "color": "#2a3f5f"
            },
            "marker": {
             "line": {
              "color": "#E5ECF6",
              "width": 0.5
             }
            },
            "type": "bar"
           }
          ],
          "barpolar": [
           {
            "marker": {
             "line": {
              "color": "#E5ECF6",
              "width": 0.5
             }
            },
            "type": "barpolar"
           }
          ],
          "carpet": [
           {
            "aaxis": {
             "endlinecolor": "#2a3f5f",
             "gridcolor": "white",
             "linecolor": "white",
             "minorgridcolor": "white",
             "startlinecolor": "#2a3f5f"
            },
            "baxis": {
             "endlinecolor": "#2a3f5f",
             "gridcolor": "white",
             "linecolor": "white",
             "minorgridcolor": "white",
             "startlinecolor": "#2a3f5f"
            },
            "type": "carpet"
           }
          ],
          "choropleth": [
           {
            "colorbar": {
             "outlinewidth": 0,
             "ticks": ""
            },
            "type": "choropleth"
           }
          ],
          "contour": [
           {
            "colorbar": {
             "outlinewidth": 0,
             "ticks": ""
            },
            "colorscale": [
             [
              0,
              "#0d0887"
             ],
             [
              0.1111111111111111,
              "#46039f"
             ],
             [
              0.2222222222222222,
              "#7201a8"
             ],
             [
              0.3333333333333333,
              "#9c179e"
             ],
             [
              0.4444444444444444,
              "#bd3786"
             ],
             [
              0.5555555555555556,
              "#d8576b"
             ],
             [
              0.6666666666666666,
              "#ed7953"
             ],
             [
              0.7777777777777778,
              "#fb9f3a"
             ],
             [
              0.8888888888888888,
              "#fdca26"
             ],
             [
              1,
              "#f0f921"
             ]
            ],
            "type": "contour"
           }
          ],
          "contourcarpet": [
           {
            "colorbar": {
             "outlinewidth": 0,
             "ticks": ""
            },
            "type": "contourcarpet"
           }
          ],
          "heatmap": [
           {
            "colorbar": {
             "outlinewidth": 0,
             "ticks": ""
            },
            "colorscale": [
             [
              0,
              "#0d0887"
             ],
             [
              0.1111111111111111,
              "#46039f"
             ],
             [
              0.2222222222222222,
              "#7201a8"
             ],
             [
              0.3333333333333333,
              "#9c179e"
             ],
             [
              0.4444444444444444,
              "#bd3786"
             ],
             [
              0.5555555555555556,
              "#d8576b"
             ],
             [
              0.6666666666666666,
              "#ed7953"
             ],
             [
              0.7777777777777778,
              "#fb9f3a"
             ],
             [
              0.8888888888888888,
              "#fdca26"
             ],
             [
              1,
              "#f0f921"
             ]
            ],
            "type": "heatmap"
           }
          ],
          "heatmapgl": [
           {
            "colorbar": {
             "outlinewidth": 0,
             "ticks": ""
            },
            "colorscale": [
             [
              0,
              "#0d0887"
             ],
             [
              0.1111111111111111,
              "#46039f"
             ],
             [
              0.2222222222222222,
              "#7201a8"
             ],
             [
              0.3333333333333333,
              "#9c179e"
             ],
             [
              0.4444444444444444,
              "#bd3786"
             ],
             [
              0.5555555555555556,
              "#d8576b"
             ],
             [
              0.6666666666666666,
              "#ed7953"
             ],
             [
              0.7777777777777778,
              "#fb9f3a"
             ],
             [
              0.8888888888888888,
              "#fdca26"
             ],
             [
              1,
              "#f0f921"
             ]
            ],
            "type": "heatmapgl"
           }
          ],
          "histogram": [
           {
            "marker": {
             "colorbar": {
              "outlinewidth": 0,
              "ticks": ""
             }
            },
            "type": "histogram"
           }
          ],
          "histogram2d": [
           {
            "colorbar": {
             "outlinewidth": 0,
             "ticks": ""
            },
            "colorscale": [
             [
              0,
              "#0d0887"
             ],
             [
              0.1111111111111111,
              "#46039f"
             ],
             [
              0.2222222222222222,
              "#7201a8"
             ],
             [
              0.3333333333333333,
              "#9c179e"
             ],
             [
              0.4444444444444444,
              "#bd3786"
             ],
             [
              0.5555555555555556,
              "#d8576b"
             ],
             [
              0.6666666666666666,
              "#ed7953"
             ],
             [
              0.7777777777777778,
              "#fb9f3a"
             ],
             [
              0.8888888888888888,
              "#fdca26"
             ],
             [
              1,
              "#f0f921"
             ]
            ],
            "type": "histogram2d"
           }
          ],
          "histogram2dcontour": [
           {
            "colorbar": {
             "outlinewidth": 0,
             "ticks": ""
            },
            "colorscale": [
             [
              0,
              "#0d0887"
             ],
             [
              0.1111111111111111,
              "#46039f"
             ],
             [
              0.2222222222222222,
              "#7201a8"
             ],
             [
              0.3333333333333333,
              "#9c179e"
             ],
             [
              0.4444444444444444,
              "#bd3786"
             ],
             [
              0.5555555555555556,
              "#d8576b"
             ],
             [
              0.6666666666666666,
              "#ed7953"
             ],
             [
              0.7777777777777778,
              "#fb9f3a"
             ],
             [
              0.8888888888888888,
              "#fdca26"
             ],
             [
              1,
              "#f0f921"
             ]
            ],
            "type": "histogram2dcontour"
           }
          ],
          "mesh3d": [
           {
            "colorbar": {
             "outlinewidth": 0,
             "ticks": ""
            },
            "type": "mesh3d"
           }
          ],
          "parcoords": [
           {
            "line": {
             "colorbar": {
              "outlinewidth": 0,
              "ticks": ""
             }
            },
            "type": "parcoords"
           }
          ],
          "scatter": [
           {
            "marker": {
             "colorbar": {
              "outlinewidth": 0,
              "ticks": ""
             }
            },
            "type": "scatter"
           }
          ],
          "scatter3d": [
           {
            "line": {
             "colorbar": {
              "outlinewidth": 0,
              "ticks": ""
             }
            },
            "marker": {
             "colorbar": {
              "outlinewidth": 0,
              "ticks": ""
             }
            },
            "type": "scatter3d"
           }
          ],
          "scattercarpet": [
           {
            "marker": {
             "colorbar": {
              "outlinewidth": 0,
              "ticks": ""
             }
            },
            "type": "scattercarpet"
           }
          ],
          "scattergeo": [
           {
            "marker": {
             "colorbar": {
              "outlinewidth": 0,
              "ticks": ""
             }
            },
            "type": "scattergeo"
           }
          ],
          "scattergl": [
           {
            "marker": {
             "colorbar": {
              "outlinewidth": 0,
              "ticks": ""
             }
            },
            "type": "scattergl"
           }
          ],
          "scattermapbox": [
           {
            "marker": {
             "colorbar": {
              "outlinewidth": 0,
              "ticks": ""
             }
            },
            "type": "scattermapbox"
           }
          ],
          "scatterpolar": [
           {
            "marker": {
             "colorbar": {
              "outlinewidth": 0,
              "ticks": ""
             }
            },
            "type": "scatterpolar"
           }
          ],
          "scatterpolargl": [
           {
            "marker": {
             "colorbar": {
              "outlinewidth": 0,
              "ticks": ""
             }
            },
            "type": "scatterpolargl"
           }
          ],
          "scatterternary": [
           {
            "marker": {
             "colorbar": {
              "outlinewidth": 0,
              "ticks": ""
             }
            },
            "type": "scatterternary"
           }
          ],
          "surface": [
           {
            "colorbar": {
             "outlinewidth": 0,
             "ticks": ""
            },
            "colorscale": [
             [
              0,
              "#0d0887"
             ],
             [
              0.1111111111111111,
              "#46039f"
             ],
             [
              0.2222222222222222,
              "#7201a8"
             ],
             [
              0.3333333333333333,
              "#9c179e"
             ],
             [
              0.4444444444444444,
              "#bd3786"
             ],
             [
              0.5555555555555556,
              "#d8576b"
             ],
             [
              0.6666666666666666,
              "#ed7953"
             ],
             [
              0.7777777777777778,
              "#fb9f3a"
             ],
             [
              0.8888888888888888,
              "#fdca26"
             ],
             [
              1,
              "#f0f921"
             ]
            ],
            "type": "surface"
           }
          ],
          "table": [
           {
            "cells": {
             "fill": {
              "color": "#EBF0F8"
             },
             "line": {
              "color": "white"
             }
            },
            "header": {
             "fill": {
              "color": "#C8D4E3"
             },
             "line": {
              "color": "white"
             }
            },
            "type": "table"
           }
          ]
         },
         "layout": {
          "annotationdefaults": {
           "arrowcolor": "#2a3f5f",
           "arrowhead": 0,
           "arrowwidth": 1
          },
          "colorscale": {
           "diverging": [
            [
             0,
             "#8e0152"
            ],
            [
             0.1,
             "#c51b7d"
            ],
            [
             0.2,
             "#de77ae"
            ],
            [
             0.3,
             "#f1b6da"
            ],
            [
             0.4,
             "#fde0ef"
            ],
            [
             0.5,
             "#f7f7f7"
            ],
            [
             0.6,
             "#e6f5d0"
            ],
            [
             0.7,
             "#b8e186"
            ],
            [
             0.8,
             "#7fbc41"
            ],
            [
             0.9,
             "#4d9221"
            ],
            [
             1,
             "#276419"
            ]
           ],
           "sequential": [
            [
             0,
             "#0d0887"
            ],
            [
             0.1111111111111111,
             "#46039f"
            ],
            [
             0.2222222222222222,
             "#7201a8"
            ],
            [
             0.3333333333333333,
             "#9c179e"
            ],
            [
             0.4444444444444444,
             "#bd3786"
            ],
            [
             0.5555555555555556,
             "#d8576b"
            ],
            [
             0.6666666666666666,
             "#ed7953"
            ],
            [
             0.7777777777777778,
             "#fb9f3a"
            ],
            [
             0.8888888888888888,
             "#fdca26"
            ],
            [
             1,
             "#f0f921"
            ]
           ],
           "sequentialminus": [
            [
             0,
             "#0d0887"
            ],
            [
             0.1111111111111111,
             "#46039f"
            ],
            [
             0.2222222222222222,
             "#7201a8"
            ],
            [
             0.3333333333333333,
             "#9c179e"
            ],
            [
             0.4444444444444444,
             "#bd3786"
            ],
            [
             0.5555555555555556,
             "#d8576b"
            ],
            [
             0.6666666666666666,
             "#ed7953"
            ],
            [
             0.7777777777777778,
             "#fb9f3a"
            ],
            [
             0.8888888888888888,
             "#fdca26"
            ],
            [
             1,
             "#f0f921"
            ]
           ]
          },
          "colorway": [
           "#636efa",
           "#EF553B",
           "#00cc96",
           "#ab63fa",
           "#FFA15A",
           "#19d3f3",
           "#FF6692",
           "#B6E880",
           "#FF97FF",
           "#FECB52"
          ],
          "font": {
           "color": "#2a3f5f"
          },
          "geo": {
           "bgcolor": "white",
           "lakecolor": "white",
           "landcolor": "#E5ECF6",
           "showlakes": true,
           "showland": true,
           "subunitcolor": "white"
          },
          "hoverlabel": {
           "align": "left"
          },
          "hovermode": "closest",
          "mapbox": {
           "style": "light"
          },
          "paper_bgcolor": "white",
          "plot_bgcolor": "#E5ECF6",
          "polar": {
           "angularaxis": {
            "gridcolor": "white",
            "linecolor": "white",
            "ticks": ""
           },
           "bgcolor": "#E5ECF6",
           "radialaxis": {
            "gridcolor": "white",
            "linecolor": "white",
            "ticks": ""
           }
          },
          "scene": {
           "xaxis": {
            "backgroundcolor": "#E5ECF6",
            "gridcolor": "white",
            "gridwidth": 2,
            "linecolor": "white",
            "showbackground": true,
            "ticks": "",
            "zerolinecolor": "white"
           },
           "yaxis": {
            "backgroundcolor": "#E5ECF6",
            "gridcolor": "white",
            "gridwidth": 2,
            "linecolor": "white",
            "showbackground": true,
            "ticks": "",
            "zerolinecolor": "white"
           },
           "zaxis": {
            "backgroundcolor": "#E5ECF6",
            "gridcolor": "white",
            "gridwidth": 2,
            "linecolor": "white",
            "showbackground": true,
            "ticks": "",
            "zerolinecolor": "white"
           }
          },
          "shapedefaults": {
           "line": {
            "color": "#2a3f5f"
           }
          },
          "ternary": {
           "aaxis": {
            "gridcolor": "white",
            "linecolor": "white",
            "ticks": ""
           },
           "baxis": {
            "gridcolor": "white",
            "linecolor": "white",
            "ticks": ""
           },
           "bgcolor": "#E5ECF6",
           "caxis": {
            "gridcolor": "white",
            "linecolor": "white",
            "ticks": ""
           }
          },
          "title": {
           "x": 0.05
          },
          "xaxis": {
           "automargin": true,
           "gridcolor": "white",
           "linecolor": "white",
           "ticks": "",
           "zerolinecolor": "white",
           "zerolinewidth": 2
          },
          "yaxis": {
           "automargin": true,
           "gridcolor": "white",
           "linecolor": "white",
           "ticks": "",
           "zerolinecolor": "white",
           "zerolinewidth": 2
          }
         }
        },
        "title": {
         "text": "Average % of loans Originated per recipient - DL UNSUBSIDIZED - UNDERGRADUATE"
        }
       }
      },
      "text/html": [
       "<div>\n",
       "        \n",
       "        \n",
       "            <div id=\"ef556e0f-d2e5-486e-bc4d-76804b3acd4d\" class=\"plotly-graph-div\" style=\"height:525px; width:100%;\"></div>\n",
       "            <script type=\"text/javascript\">\n",
       "                require([\"plotly\"], function(Plotly) {\n",
       "                    window.PLOTLYENV=window.PLOTLYENV || {};\n",
       "                    \n",
       "                if (document.getElementById(\"ef556e0f-d2e5-486e-bc4d-76804b3acd4d\")) {\n",
       "                    Plotly.newPlot(\n",
       "                        'ef556e0f-d2e5-486e-bc4d-76804b3acd4d',\n",
       "                        [{\"colorbar\": {\"title\": {\"text\": \"% of Offered Amount\"}}, \"colorscale\": [[0.0, \"rgb(255,245,240)\"], [0.125, \"rgb(254,224,210)\"], [0.25, \"rgb(252,187,161)\"], [0.375, \"rgb(252,146,114)\"], [0.5, \"rgb(251,106,74)\"], [0.625, \"rgb(239,59,44)\"], [0.75, \"rgb(203,24,29)\"], [0.875, \"rgb(165,15,21)\"], [1.0, \"rgb(103,0,13)\"]], \"locationmode\": \"USA-states\", \"locations\": [\"AK\", \"AL\", \"AR\", \"AZ\", \"CA\", \"CO\", \"CT\", \"DC\", \"DE\", \"FL\", \"GA\", \"GU\", \"HI\", \"IA\", \"ID\", \"IL\", \"IN\", \"KS\", \"KY\", \"LA\", \"MA\", \"MD\", \"ME\", \"MI\", \"MN\", \"MO\", \"MS\", \"MT\", \"NC\", \"ND\", \"NE\", \"NH\", \"NJ\", \"NM\", \"NV\", \"NY\", \"OH\", \"OK\", \"OR\", \"PA\", \"PR\", \"RI\", \"SC\", \"SD\", \"TN\", \"TX\", \"UT\", \"VA\", \"VI\", \"VT\", \"WA\", \"WI\", \"WV\", \"WY\"], \"type\": \"choropleth\", \"z\": [52.85454750427881, 48.64504886879721, 50.13421315049376, 50.59752226046788, 48.44063946527527, 49.193393347785054, 48.91233803217694, 39.81258081051437, 50.46369715270378, 57.291688334486295, 50.09091251241542, 50.00076657723265, 51.421921998066246, 53.89791022321275, 51.442773133643925, 48.80353423458468, 49.72101873881234, 50.47254182022102, 50.28304934745296, 50.207455355635695, 50.32041689462029, 50.93860711973485, 50.33499674017995, 50.93424509301148, 47.828718626208214, 49.79238834104993, 48.19339622536913, 50.361090005386494, 48.040853636424664, 51.11410346188053, 49.872611292390765, 38.936552012536154, 50.375829058176585, 51.98804173389858, 51.18578479639569, 51.06710747448388, 49.9404341320077, 50.50542356751656, 39.76068871146753, 50.193141067344, 53.2217366346001, 46.35127895100118, 50.7290458096424, 50.653436429094064, 51.61597019423314, 50.41235424809928, 51.29146191981682, 48.448405481910704, 51.3160442053427, 50.35307325669116, 42.484621218807945, 50.42630472127403, 50.01741377607358, 51.14459052637063]}],\n",
       "                        {\"geo\": {\"scope\": \"usa\"}, \"template\": {\"data\": {\"bar\": [{\"error_x\": {\"color\": \"#2a3f5f\"}, \"error_y\": {\"color\": \"#2a3f5f\"}, \"marker\": {\"line\": {\"color\": \"#E5ECF6\", \"width\": 0.5}}, \"type\": \"bar\"}], \"barpolar\": [{\"marker\": {\"line\": {\"color\": \"#E5ECF6\", \"width\": 0.5}}, \"type\": \"barpolar\"}], \"carpet\": [{\"aaxis\": {\"endlinecolor\": \"#2a3f5f\", \"gridcolor\": \"white\", \"linecolor\": \"white\", \"minorgridcolor\": \"white\", \"startlinecolor\": \"#2a3f5f\"}, \"baxis\": {\"endlinecolor\": \"#2a3f5f\", \"gridcolor\": \"white\", \"linecolor\": \"white\", \"minorgridcolor\": \"white\", \"startlinecolor\": \"#2a3f5f\"}, \"type\": \"carpet\"}], \"choropleth\": [{\"colorbar\": {\"outlinewidth\": 0, \"ticks\": \"\"}, \"type\": \"choropleth\"}], \"contour\": [{\"colorbar\": {\"outlinewidth\": 0, \"ticks\": \"\"}, \"colorscale\": [[0.0, \"#0d0887\"], [0.1111111111111111, \"#46039f\"], [0.2222222222222222, \"#7201a8\"], [0.3333333333333333, \"#9c179e\"], [0.4444444444444444, \"#bd3786\"], [0.5555555555555556, \"#d8576b\"], [0.6666666666666666, \"#ed7953\"], [0.7777777777777778, \"#fb9f3a\"], [0.8888888888888888, \"#fdca26\"], [1.0, \"#f0f921\"]], \"type\": \"contour\"}], \"contourcarpet\": [{\"colorbar\": {\"outlinewidth\": 0, \"ticks\": \"\"}, \"type\": \"contourcarpet\"}], \"heatmap\": [{\"colorbar\": {\"outlinewidth\": 0, \"ticks\": \"\"}, \"colorscale\": [[0.0, \"#0d0887\"], [0.1111111111111111, \"#46039f\"], [0.2222222222222222, \"#7201a8\"], [0.3333333333333333, \"#9c179e\"], [0.4444444444444444, \"#bd3786\"], [0.5555555555555556, \"#d8576b\"], [0.6666666666666666, \"#ed7953\"], [0.7777777777777778, \"#fb9f3a\"], [0.8888888888888888, \"#fdca26\"], [1.0, \"#f0f921\"]], \"type\": \"heatmap\"}], \"heatmapgl\": [{\"colorbar\": {\"outlinewidth\": 0, \"ticks\": \"\"}, \"colorscale\": [[0.0, \"#0d0887\"], [0.1111111111111111, \"#46039f\"], [0.2222222222222222, \"#7201a8\"], [0.3333333333333333, \"#9c179e\"], [0.4444444444444444, \"#bd3786\"], [0.5555555555555556, \"#d8576b\"], [0.6666666666666666, \"#ed7953\"], [0.7777777777777778, \"#fb9f3a\"], [0.8888888888888888, \"#fdca26\"], [1.0, \"#f0f921\"]], \"type\": \"heatmapgl\"}], \"histogram\": [{\"marker\": {\"colorbar\": {\"outlinewidth\": 0, \"ticks\": \"\"}}, \"type\": \"histogram\"}], \"histogram2d\": [{\"colorbar\": {\"outlinewidth\": 0, \"ticks\": \"\"}, \"colorscale\": [[0.0, \"#0d0887\"], [0.1111111111111111, \"#46039f\"], [0.2222222222222222, \"#7201a8\"], [0.3333333333333333, \"#9c179e\"], [0.4444444444444444, \"#bd3786\"], [0.5555555555555556, \"#d8576b\"], [0.6666666666666666, \"#ed7953\"], [0.7777777777777778, \"#fb9f3a\"], [0.8888888888888888, \"#fdca26\"], [1.0, \"#f0f921\"]], \"type\": \"histogram2d\"}], \"histogram2dcontour\": [{\"colorbar\": {\"outlinewidth\": 0, \"ticks\": \"\"}, \"colorscale\": [[0.0, \"#0d0887\"], [0.1111111111111111, \"#46039f\"], [0.2222222222222222, \"#7201a8\"], [0.3333333333333333, \"#9c179e\"], [0.4444444444444444, \"#bd3786\"], [0.5555555555555556, \"#d8576b\"], [0.6666666666666666, \"#ed7953\"], [0.7777777777777778, \"#fb9f3a\"], [0.8888888888888888, \"#fdca26\"], [1.0, \"#f0f921\"]], \"type\": \"histogram2dcontour\"}], \"mesh3d\": [{\"colorbar\": {\"outlinewidth\": 0, \"ticks\": \"\"}, \"type\": \"mesh3d\"}], \"parcoords\": [{\"line\": {\"colorbar\": {\"outlinewidth\": 0, \"ticks\": \"\"}}, \"type\": \"parcoords\"}], \"scatter\": [{\"marker\": {\"colorbar\": {\"outlinewidth\": 0, \"ticks\": \"\"}}, \"type\": \"scatter\"}], \"scatter3d\": [{\"line\": {\"colorbar\": {\"outlinewidth\": 0, \"ticks\": \"\"}}, \"marker\": {\"colorbar\": {\"outlinewidth\": 0, \"ticks\": \"\"}}, \"type\": \"scatter3d\"}], \"scattercarpet\": [{\"marker\": {\"colorbar\": {\"outlinewidth\": 0, \"ticks\": \"\"}}, \"type\": \"scattercarpet\"}], \"scattergeo\": [{\"marker\": {\"colorbar\": {\"outlinewidth\": 0, \"ticks\": \"\"}}, \"type\": \"scattergeo\"}], \"scattergl\": [{\"marker\": {\"colorbar\": {\"outlinewidth\": 0, \"ticks\": \"\"}}, \"type\": \"scattergl\"}], \"scattermapbox\": [{\"marker\": {\"colorbar\": {\"outlinewidth\": 0, \"ticks\": \"\"}}, \"type\": \"scattermapbox\"}], \"scatterpolar\": [{\"marker\": {\"colorbar\": {\"outlinewidth\": 0, \"ticks\": \"\"}}, \"type\": \"scatterpolar\"}], \"scatterpolargl\": [{\"marker\": {\"colorbar\": {\"outlinewidth\": 0, \"ticks\": \"\"}}, \"type\": \"scatterpolargl\"}], \"scatterternary\": [{\"marker\": {\"colorbar\": {\"outlinewidth\": 0, \"ticks\": \"\"}}, \"type\": \"scatterternary\"}], \"surface\": [{\"colorbar\": {\"outlinewidth\": 0, \"ticks\": \"\"}, \"colorscale\": [[0.0, \"#0d0887\"], [0.1111111111111111, \"#46039f\"], [0.2222222222222222, \"#7201a8\"], [0.3333333333333333, \"#9c179e\"], [0.4444444444444444, \"#bd3786\"], [0.5555555555555556, \"#d8576b\"], [0.6666666666666666, \"#ed7953\"], [0.7777777777777778, \"#fb9f3a\"], [0.8888888888888888, \"#fdca26\"], [1.0, \"#f0f921\"]], \"type\": \"surface\"}], \"table\": [{\"cells\": {\"fill\": {\"color\": \"#EBF0F8\"}, \"line\": {\"color\": \"white\"}}, \"header\": {\"fill\": {\"color\": \"#C8D4E3\"}, \"line\": {\"color\": \"white\"}}, \"type\": \"table\"}]}, \"layout\": {\"annotationdefaults\": {\"arrowcolor\": \"#2a3f5f\", \"arrowhead\": 0, \"arrowwidth\": 1}, \"colorscale\": {\"diverging\": [[0, \"#8e0152\"], [0.1, \"#c51b7d\"], [0.2, \"#de77ae\"], [0.3, \"#f1b6da\"], [0.4, \"#fde0ef\"], [0.5, \"#f7f7f7\"], [0.6, \"#e6f5d0\"], [0.7, \"#b8e186\"], [0.8, \"#7fbc41\"], [0.9, \"#4d9221\"], [1, \"#276419\"]], \"sequential\": [[0.0, \"#0d0887\"], [0.1111111111111111, \"#46039f\"], [0.2222222222222222, \"#7201a8\"], [0.3333333333333333, \"#9c179e\"], [0.4444444444444444, \"#bd3786\"], [0.5555555555555556, \"#d8576b\"], [0.6666666666666666, \"#ed7953\"], [0.7777777777777778, \"#fb9f3a\"], [0.8888888888888888, \"#fdca26\"], [1.0, \"#f0f921\"]], \"sequentialminus\": [[0.0, \"#0d0887\"], [0.1111111111111111, \"#46039f\"], [0.2222222222222222, \"#7201a8\"], [0.3333333333333333, \"#9c179e\"], [0.4444444444444444, \"#bd3786\"], [0.5555555555555556, \"#d8576b\"], [0.6666666666666666, \"#ed7953\"], [0.7777777777777778, \"#fb9f3a\"], [0.8888888888888888, \"#fdca26\"], [1.0, \"#f0f921\"]]}, \"colorway\": [\"#636efa\", \"#EF553B\", \"#00cc96\", \"#ab63fa\", \"#FFA15A\", \"#19d3f3\", \"#FF6692\", \"#B6E880\", \"#FF97FF\", \"#FECB52\"], \"font\": {\"color\": \"#2a3f5f\"}, \"geo\": {\"bgcolor\": \"white\", \"lakecolor\": \"white\", \"landcolor\": \"#E5ECF6\", \"showlakes\": true, \"showland\": true, \"subunitcolor\": \"white\"}, \"hoverlabel\": {\"align\": \"left\"}, \"hovermode\": \"closest\", \"mapbox\": {\"style\": \"light\"}, \"paper_bgcolor\": \"white\", \"plot_bgcolor\": \"#E5ECF6\", \"polar\": {\"angularaxis\": {\"gridcolor\": \"white\", \"linecolor\": \"white\", \"ticks\": \"\"}, \"bgcolor\": \"#E5ECF6\", \"radialaxis\": {\"gridcolor\": \"white\", \"linecolor\": \"white\", \"ticks\": \"\"}}, \"scene\": {\"xaxis\": {\"backgroundcolor\": \"#E5ECF6\", \"gridcolor\": \"white\", \"gridwidth\": 2, \"linecolor\": \"white\", \"showbackground\": true, \"ticks\": \"\", \"zerolinecolor\": \"white\"}, \"yaxis\": {\"backgroundcolor\": \"#E5ECF6\", \"gridcolor\": \"white\", \"gridwidth\": 2, \"linecolor\": \"white\", \"showbackground\": true, \"ticks\": \"\", \"zerolinecolor\": \"white\"}, \"zaxis\": {\"backgroundcolor\": \"#E5ECF6\", \"gridcolor\": \"white\", \"gridwidth\": 2, \"linecolor\": \"white\", \"showbackground\": true, \"ticks\": \"\", \"zerolinecolor\": \"white\"}}, \"shapedefaults\": {\"line\": {\"color\": \"#2a3f5f\"}}, \"ternary\": {\"aaxis\": {\"gridcolor\": \"white\", \"linecolor\": \"white\", \"ticks\": \"\"}, \"baxis\": {\"gridcolor\": \"white\", \"linecolor\": \"white\", \"ticks\": \"\"}, \"bgcolor\": \"#E5ECF6\", \"caxis\": {\"gridcolor\": \"white\", \"linecolor\": \"white\", \"ticks\": \"\"}}, \"title\": {\"x\": 0.05}, \"xaxis\": {\"automargin\": true, \"gridcolor\": \"white\", \"linecolor\": \"white\", \"ticks\": \"\", \"zerolinecolor\": \"white\", \"zerolinewidth\": 2}, \"yaxis\": {\"automargin\": true, \"gridcolor\": \"white\", \"linecolor\": \"white\", \"ticks\": \"\", \"zerolinecolor\": \"white\", \"zerolinewidth\": 2}}}, \"title\": {\"text\": \"Average % of loans Originated per recipient - DL UNSUBSIDIZED - UNDERGRADUATE\"}},\n",
       "                        {\"responsive\": true}\n",
       "                    ).then(function(){\n",
       "                            \n",
       "var gd = document.getElementById('ef556e0f-d2e5-486e-bc4d-76804b3acd4d');\n",
       "var x = new MutationObserver(function (mutations, observer) {{\n",
       "        var display = window.getComputedStyle(gd).display;\n",
       "        if (!display || display === 'none') {{\n",
       "            console.log([gd, 'removed!']);\n",
       "            Plotly.purge(gd);\n",
       "            observer.disconnect();\n",
       "        }}\n",
       "}});\n",
       "\n",
       "// Listen for the removal of the full notebook cells\n",
       "var notebookContainer = gd.closest('#notebook-container');\n",
       "if (notebookContainer) {{\n",
       "    x.observe(notebookContainer, {childList: true});\n",
       "}}\n",
       "\n",
       "// Listen for the clearing of the current output cell\n",
       "var outputEl = gd.closest('.output');\n",
       "if (outputEl) {{\n",
       "    x.observe(outputEl, {childList: true});\n",
       "}}\n",
       "\n",
       "                        })\n",
       "                };\n",
       "                });\n",
       "            </script>\n",
       "        </div>"
      ]
     },
     "metadata": {},
     "output_type": "display_data"
    }
   ],
   "source": [
    "fig = go.Figure(data=go.Choropleth(locations=df_unsub_ug['State'], # Spatial coordinates\n",
    "                                   z = df_unsub_ug['Average % of Disbursements to Loans Originated per recipient - DL UNSUBSIDIZED - UNDERGRADUATE'].astype(float), # Data to be color-coded\n",
    "                                   locationmode = 'USA-states', # set of locations match entries in `locations`\n",
    "                                   colorscale = 'reds',\n",
    "                                   colorbar_title = \"% of Offered Amount\"))\n",
    "\n",
    "fig.update_layout(title_text = 'Average % of loans Originated per recipient - DL UNSUBSIDIZED - UNDERGRADUATE',\n",
    "                  geo_scope='usa') # limite map scope to USA\n",
    "\n",
    "\n",
    "fig.show()"
   ]
  },
  {
   "cell_type": "markdown",
   "metadata": {},
   "source": [
    "# Total Undergraduate Loans"
   ]
  },
  {
   "cell_type": "code",
   "execution_count": 128,
   "metadata": {},
   "outputs": [],
   "source": [
    "data_frames = [df_subsidized[['State', 'Average $ of loans Originated per recipient - DL SUBSIDIZED']], df_unsub_ug[['State', 'Average $ of Loans Originated per recipient - DL UNSUBSIDIZED - UNDERGRADUATE']], df_parent[['State', 'Average $ of Loans Originated per recipient - DL PARENT PLUS']]]"
   ]
  },
  {
   "cell_type": "code",
   "execution_count": 129,
   "metadata": {},
   "outputs": [],
   "source": [
    "df_ave_rec = reduce(lambda  left,right: pd.merge(left,right,on=['State'],\n",
    "                                            how='outer'), data_frames)"
   ]
  },
  {
   "cell_type": "code",
   "execution_count": 159,
   "metadata": {},
   "outputs": [],
   "source": [
    "df_ave_rec['Total Average $ of Loans per Recipient'] = df_ave_rec.iloc[:,1:4].sum(axis = 1)"
   ]
  },
  {
   "cell_type": "code",
   "execution_count": 179,
   "metadata": {},
   "outputs": [
    {
     "data": {
      "text/html": [
       "<div>\n",
       "<style scoped>\n",
       "    .dataframe tbody tr th:only-of-type {\n",
       "        vertical-align: middle;\n",
       "    }\n",
       "\n",
       "    .dataframe tbody tr th {\n",
       "        vertical-align: top;\n",
       "    }\n",
       "\n",
       "    .dataframe thead th {\n",
       "        text-align: right;\n",
       "    }\n",
       "</style>\n",
       "<table border=\"1\" class=\"dataframe\">\n",
       "  <thead>\n",
       "    <tr style=\"text-align: right;\">\n",
       "      <th></th>\n",
       "      <th>State</th>\n",
       "      <th>Average $ of loans Originated per recipient - DL SUBSIDIZED</th>\n",
       "      <th>Average $ of Loans Originated per recipient - DL UNSUBSIDIZED - UNDERGRADUATE</th>\n",
       "      <th>Average $ of Loans Originated per recipient - DL PARENT PLUS</th>\n",
       "      <th>Total Average $ of Loans per Recipient</th>\n",
       "    </tr>\n",
       "  </thead>\n",
       "  <tbody>\n",
       "    <tr>\n",
       "      <th>0</th>\n",
       "      <td>AK</td>\n",
       "      <td>3954.787146</td>\n",
       "      <td>5173.577236</td>\n",
       "      <td>14245.261682</td>\n",
       "      <td>23373.626064</td>\n",
       "    </tr>\n",
       "    <tr>\n",
       "      <th>1</th>\n",
       "      <td>AL</td>\n",
       "      <td>4146.525086</td>\n",
       "      <td>4130.080500</td>\n",
       "      <td>19095.935708</td>\n",
       "      <td>27372.541294</td>\n",
       "    </tr>\n",
       "    <tr>\n",
       "      <th>2</th>\n",
       "      <td>AR</td>\n",
       "      <td>4004.830736</td>\n",
       "      <td>4365.773071</td>\n",
       "      <td>13153.925770</td>\n",
       "      <td>21524.529577</td>\n",
       "    </tr>\n",
       "    <tr>\n",
       "      <th>3</th>\n",
       "      <td>AZ</td>\n",
       "      <td>4036.154083</td>\n",
       "      <td>4880.558012</td>\n",
       "      <td>17408.961488</td>\n",
       "      <td>26325.673582</td>\n",
       "    </tr>\n",
       "    <tr>\n",
       "      <th>4</th>\n",
       "      <td>CA</td>\n",
       "      <td>4279.484512</td>\n",
       "      <td>4076.069734</td>\n",
       "      <td>20134.204716</td>\n",
       "      <td>28489.758963</td>\n",
       "    </tr>\n",
       "    <tr>\n",
       "      <th>5</th>\n",
       "      <td>CO</td>\n",
       "      <td>3902.279195</td>\n",
       "      <td>4540.047430</td>\n",
       "      <td>19593.142857</td>\n",
       "      <td>28035.469483</td>\n",
       "    </tr>\n",
       "    <tr>\n",
       "      <th>6</th>\n",
       "      <td>CT</td>\n",
       "      <td>4248.162908</td>\n",
       "      <td>3855.302650</td>\n",
       "      <td>20076.075286</td>\n",
       "      <td>28179.540844</td>\n",
       "    </tr>\n",
       "    <tr>\n",
       "      <th>7</th>\n",
       "      <td>DC</td>\n",
       "      <td>4065.814054</td>\n",
       "      <td>4702.445923</td>\n",
       "      <td>27417.093449</td>\n",
       "      <td>36185.353426</td>\n",
       "    </tr>\n",
       "    <tr>\n",
       "      <th>8</th>\n",
       "      <td>DE</td>\n",
       "      <td>4279.271421</td>\n",
       "      <td>3569.995339</td>\n",
       "      <td>23149.129911</td>\n",
       "      <td>30998.396672</td>\n",
       "    </tr>\n",
       "    <tr>\n",
       "      <th>9</th>\n",
       "      <td>FL</td>\n",
       "      <td>3503.039976</td>\n",
       "      <td>3824.280644</td>\n",
       "      <td>18205.714936</td>\n",
       "      <td>25533.035557</td>\n",
       "    </tr>\n",
       "    <tr>\n",
       "      <th>10</th>\n",
       "      <td>GA</td>\n",
       "      <td>3995.317218</td>\n",
       "      <td>4089.533608</td>\n",
       "      <td>16608.202786</td>\n",
       "      <td>24693.053613</td>\n",
       "    </tr>\n",
       "    <tr>\n",
       "      <th>11</th>\n",
       "      <td>GU</td>\n",
       "      <td>4666.666667</td>\n",
       "      <td>5929.545455</td>\n",
       "      <td>16889.000000</td>\n",
       "      <td>27485.212121</td>\n",
       "    </tr>\n",
       "    <tr>\n",
       "      <th>12</th>\n",
       "      <td>HI</td>\n",
       "      <td>4185.972188</td>\n",
       "      <td>4402.385971</td>\n",
       "      <td>20262.388757</td>\n",
       "      <td>28850.746916</td>\n",
       "    </tr>\n",
       "    <tr>\n",
       "      <th>13</th>\n",
       "      <td>IA</td>\n",
       "      <td>3717.225129</td>\n",
       "      <td>3831.389525</td>\n",
       "      <td>12674.038291</td>\n",
       "      <td>20222.652945</td>\n",
       "    </tr>\n",
       "    <tr>\n",
       "      <th>14</th>\n",
       "      <td>ID</td>\n",
       "      <td>3965.250358</td>\n",
       "      <td>4531.804446</td>\n",
       "      <td>15359.864933</td>\n",
       "      <td>23856.919737</td>\n",
       "    </tr>\n",
       "    <tr>\n",
       "      <th>15</th>\n",
       "      <td>IL</td>\n",
       "      <td>4143.126157</td>\n",
       "      <td>3897.050617</td>\n",
       "      <td>17448.877159</td>\n",
       "      <td>25489.053933</td>\n",
       "    </tr>\n",
       "    <tr>\n",
       "      <th>16</th>\n",
       "      <td>IN</td>\n",
       "      <td>3891.377314</td>\n",
       "      <td>4127.268507</td>\n",
       "      <td>16095.550887</td>\n",
       "      <td>24114.196708</td>\n",
       "    </tr>\n",
       "    <tr>\n",
       "      <th>17</th>\n",
       "      <td>KS</td>\n",
       "      <td>4043.762105</td>\n",
       "      <td>4280.084846</td>\n",
       "      <td>15485.840221</td>\n",
       "      <td>23809.687172</td>\n",
       "    </tr>\n",
       "    <tr>\n",
       "      <th>18</th>\n",
       "      <td>KY</td>\n",
       "      <td>3981.442326</td>\n",
       "      <td>4166.500908</td>\n",
       "      <td>14270.821953</td>\n",
       "      <td>22418.765187</td>\n",
       "    </tr>\n",
       "    <tr>\n",
       "      <th>19</th>\n",
       "      <td>LA</td>\n",
       "      <td>3994.228011</td>\n",
       "      <td>4476.046992</td>\n",
       "      <td>14813.499021</td>\n",
       "      <td>23283.774024</td>\n",
       "    </tr>\n",
       "    <tr>\n",
       "      <th>20</th>\n",
       "      <td>MA</td>\n",
       "      <td>4434.556312</td>\n",
       "      <td>3621.648136</td>\n",
       "      <td>23531.644251</td>\n",
       "      <td>31587.848699</td>\n",
       "    </tr>\n",
       "    <tr>\n",
       "      <th>21</th>\n",
       "      <td>MD</td>\n",
       "      <td>4153.601596</td>\n",
       "      <td>4123.042230</td>\n",
       "      <td>18315.231127</td>\n",
       "      <td>26591.874952</td>\n",
       "    </tr>\n",
       "    <tr>\n",
       "      <th>22</th>\n",
       "      <td>ME</td>\n",
       "      <td>4092.235470</td>\n",
       "      <td>3856.072953</td>\n",
       "      <td>17308.489973</td>\n",
       "      <td>25256.798395</td>\n",
       "    </tr>\n",
       "    <tr>\n",
       "      <th>23</th>\n",
       "      <td>MI</td>\n",
       "      <td>4048.155683</td>\n",
       "      <td>4118.140509</td>\n",
       "      <td>14524.162219</td>\n",
       "      <td>22690.458411</td>\n",
       "    </tr>\n",
       "    <tr>\n",
       "      <th>24</th>\n",
       "      <td>MN</td>\n",
       "      <td>3885.467300</td>\n",
       "      <td>4505.489898</td>\n",
       "      <td>14725.840243</td>\n",
       "      <td>23116.797440</td>\n",
       "    </tr>\n",
       "    <tr>\n",
       "      <th>25</th>\n",
       "      <td>MO</td>\n",
       "      <td>4098.256763</td>\n",
       "      <td>4306.711889</td>\n",
       "      <td>14097.523028</td>\n",
       "      <td>22502.491679</td>\n",
       "    </tr>\n",
       "    <tr>\n",
       "      <th>26</th>\n",
       "      <td>MS</td>\n",
       "      <td>4198.846207</td>\n",
       "      <td>4237.284970</td>\n",
       "      <td>14473.000893</td>\n",
       "      <td>22909.132069</td>\n",
       "    </tr>\n",
       "    <tr>\n",
       "      <th>27</th>\n",
       "      <td>MT</td>\n",
       "      <td>4029.660644</td>\n",
       "      <td>4485.988985</td>\n",
       "      <td>16117.029185</td>\n",
       "      <td>24632.678814</td>\n",
       "    </tr>\n",
       "    <tr>\n",
       "      <th>28</th>\n",
       "      <td>NC</td>\n",
       "      <td>4173.632885</td>\n",
       "      <td>4081.394436</td>\n",
       "      <td>14574.875017</td>\n",
       "      <td>22829.902339</td>\n",
       "    </tr>\n",
       "    <tr>\n",
       "      <th>29</th>\n",
       "      <td>ND</td>\n",
       "      <td>4070.252766</td>\n",
       "      <td>4582.536651</td>\n",
       "      <td>13080.280702</td>\n",
       "      <td>21733.070119</td>\n",
       "    </tr>\n",
       "    <tr>\n",
       "      <th>30</th>\n",
       "      <td>NE</td>\n",
       "      <td>4037.631932</td>\n",
       "      <td>4191.107280</td>\n",
       "      <td>13819.015588</td>\n",
       "      <td>22047.754800</td>\n",
       "    </tr>\n",
       "    <tr>\n",
       "      <th>31</th>\n",
       "      <td>NH</td>\n",
       "      <td>3826.393051</td>\n",
       "      <td>4226.154944</td>\n",
       "      <td>18406.888328</td>\n",
       "      <td>26459.436322</td>\n",
       "    </tr>\n",
       "    <tr>\n",
       "      <th>32</th>\n",
       "      <td>NJ</td>\n",
       "      <td>4372.015077</td>\n",
       "      <td>3708.417947</td>\n",
       "      <td>19064.033514</td>\n",
       "      <td>27144.466538</td>\n",
       "    </tr>\n",
       "    <tr>\n",
       "      <th>33</th>\n",
       "      <td>NM</td>\n",
       "      <td>4058.307975</td>\n",
       "      <td>4736.919569</td>\n",
       "      <td>10740.245856</td>\n",
       "      <td>19535.473400</td>\n",
       "    </tr>\n",
       "    <tr>\n",
       "      <th>34</th>\n",
       "      <td>NV</td>\n",
       "      <td>4041.898314</td>\n",
       "      <td>4564.853395</td>\n",
       "      <td>18514.770717</td>\n",
       "      <td>27121.522426</td>\n",
       "    </tr>\n",
       "    <tr>\n",
       "      <th>35</th>\n",
       "      <td>NY</td>\n",
       "      <td>4216.272525</td>\n",
       "      <td>3698.835532</td>\n",
       "      <td>21296.795115</td>\n",
       "      <td>29211.903171</td>\n",
       "    </tr>\n",
       "    <tr>\n",
       "      <th>36</th>\n",
       "      <td>OH</td>\n",
       "      <td>4002.413554</td>\n",
       "      <td>3949.209559</td>\n",
       "      <td>15456.671071</td>\n",
       "      <td>23408.294183</td>\n",
       "    </tr>\n",
       "    <tr>\n",
       "      <th>37</th>\n",
       "      <td>OK</td>\n",
       "      <td>3924.413014</td>\n",
       "      <td>4442.826662</td>\n",
       "      <td>17978.994023</td>\n",
       "      <td>26346.233699</td>\n",
       "    </tr>\n",
       "    <tr>\n",
       "      <th>38</th>\n",
       "      <td>OR</td>\n",
       "      <td>4263.273806</td>\n",
       "      <td>4284.421491</td>\n",
       "      <td>22149.407841</td>\n",
       "      <td>30697.103138</td>\n",
       "    </tr>\n",
       "    <tr>\n",
       "      <th>39</th>\n",
       "      <td>PA</td>\n",
       "      <td>4277.947124</td>\n",
       "      <td>3652.622292</td>\n",
       "      <td>19413.066712</td>\n",
       "      <td>27343.636128</td>\n",
       "    </tr>\n",
       "    <tr>\n",
       "      <th>40</th>\n",
       "      <td>PR</td>\n",
       "      <td>3816.616155</td>\n",
       "      <td>4346.075782</td>\n",
       "      <td>8565.148148</td>\n",
       "      <td>16727.840085</td>\n",
       "    </tr>\n",
       "    <tr>\n",
       "      <th>41</th>\n",
       "      <td>RI</td>\n",
       "      <td>4300.244631</td>\n",
       "      <td>3510.241092</td>\n",
       "      <td>20522.806400</td>\n",
       "      <td>28333.292124</td>\n",
       "    </tr>\n",
       "    <tr>\n",
       "      <th>42</th>\n",
       "      <td>SC</td>\n",
       "      <td>4118.085405</td>\n",
       "      <td>4020.062722</td>\n",
       "      <td>17359.387187</td>\n",
       "      <td>25497.535313</td>\n",
       "    </tr>\n",
       "    <tr>\n",
       "      <th>43</th>\n",
       "      <td>SD</td>\n",
       "      <td>3939.616359</td>\n",
       "      <td>4130.477219</td>\n",
       "      <td>10579.100297</td>\n",
       "      <td>18649.193875</td>\n",
       "    </tr>\n",
       "    <tr>\n",
       "      <th>44</th>\n",
       "      <td>TN</td>\n",
       "      <td>4073.673776</td>\n",
       "      <td>4050.317228</td>\n",
       "      <td>16101.024426</td>\n",
       "      <td>24225.015430</td>\n",
       "    </tr>\n",
       "    <tr>\n",
       "      <th>45</th>\n",
       "      <td>TX</td>\n",
       "      <td>4085.754831</td>\n",
       "      <td>4287.566111</td>\n",
       "      <td>14261.626944</td>\n",
       "      <td>22634.947885</td>\n",
       "    </tr>\n",
       "    <tr>\n",
       "      <th>46</th>\n",
       "      <td>UT</td>\n",
       "      <td>3829.246261</td>\n",
       "      <td>4647.575508</td>\n",
       "      <td>14921.492958</td>\n",
       "      <td>23398.314727</td>\n",
       "    </tr>\n",
       "    <tr>\n",
       "      <th>47</th>\n",
       "      <td>VA</td>\n",
       "      <td>4327.867373</td>\n",
       "      <td>4137.670000</td>\n",
       "      <td>17965.018362</td>\n",
       "      <td>26430.555735</td>\n",
       "    </tr>\n",
       "    <tr>\n",
       "      <th>48</th>\n",
       "      <td>VI</td>\n",
       "      <td>4082.177273</td>\n",
       "      <td>3922.385027</td>\n",
       "      <td>12547.000000</td>\n",
       "      <td>20551.562299</td>\n",
       "    </tr>\n",
       "    <tr>\n",
       "      <th>49</th>\n",
       "      <td>VT</td>\n",
       "      <td>4243.526212</td>\n",
       "      <td>3627.192342</td>\n",
       "      <td>22715.902335</td>\n",
       "      <td>30586.620889</td>\n",
       "    </tr>\n",
       "    <tr>\n",
       "      <th>50</th>\n",
       "      <td>WA</td>\n",
       "      <td>4058.343544</td>\n",
       "      <td>4284.957191</td>\n",
       "      <td>18890.767333</td>\n",
       "      <td>27234.068069</td>\n",
       "    </tr>\n",
       "    <tr>\n",
       "      <th>51</th>\n",
       "      <td>WI</td>\n",
       "      <td>4015.741189</td>\n",
       "      <td>4141.988732</td>\n",
       "      <td>15339.174008</td>\n",
       "      <td>23496.903929</td>\n",
       "    </tr>\n",
       "    <tr>\n",
       "      <th>52</th>\n",
       "      <td>WV</td>\n",
       "      <td>3975.184100</td>\n",
       "      <td>4142.875944</td>\n",
       "      <td>16050.678189</td>\n",
       "      <td>24168.738232</td>\n",
       "    </tr>\n",
       "  </tbody>\n",
       "</table>\n",
       "</div>"
      ],
      "text/plain": [
       "   State  Average $ of loans Originated per recipient - DL SUBSIDIZED  \\\n",
       "0     AK                                        3954.787146             \n",
       "1     AL                                        4146.525086             \n",
       "2     AR                                        4004.830736             \n",
       "3     AZ                                        4036.154083             \n",
       "4     CA                                        4279.484512             \n",
       "5     CO                                        3902.279195             \n",
       "6     CT                                        4248.162908             \n",
       "7     DC                                        4065.814054             \n",
       "8     DE                                        4279.271421             \n",
       "9     FL                                        3503.039976             \n",
       "10    GA                                        3995.317218             \n",
       "11    GU                                        4666.666667             \n",
       "12    HI                                        4185.972188             \n",
       "13    IA                                        3717.225129             \n",
       "14    ID                                        3965.250358             \n",
       "15    IL                                        4143.126157             \n",
       "16    IN                                        3891.377314             \n",
       "17    KS                                        4043.762105             \n",
       "18    KY                                        3981.442326             \n",
       "19    LA                                        3994.228011             \n",
       "20    MA                                        4434.556312             \n",
       "21    MD                                        4153.601596             \n",
       "22    ME                                        4092.235470             \n",
       "23    MI                                        4048.155683             \n",
       "24    MN                                        3885.467300             \n",
       "25    MO                                        4098.256763             \n",
       "26    MS                                        4198.846207             \n",
       "27    MT                                        4029.660644             \n",
       "28    NC                                        4173.632885             \n",
       "29    ND                                        4070.252766             \n",
       "30    NE                                        4037.631932             \n",
       "31    NH                                        3826.393051             \n",
       "32    NJ                                        4372.015077             \n",
       "33    NM                                        4058.307975             \n",
       "34    NV                                        4041.898314             \n",
       "35    NY                                        4216.272525             \n",
       "36    OH                                        4002.413554             \n",
       "37    OK                                        3924.413014             \n",
       "38    OR                                        4263.273806             \n",
       "39    PA                                        4277.947124             \n",
       "40    PR                                        3816.616155             \n",
       "41    RI                                        4300.244631             \n",
       "42    SC                                        4118.085405             \n",
       "43    SD                                        3939.616359             \n",
       "44    TN                                        4073.673776             \n",
       "45    TX                                        4085.754831             \n",
       "46    UT                                        3829.246261             \n",
       "47    VA                                        4327.867373             \n",
       "48    VI                                        4082.177273             \n",
       "49    VT                                        4243.526212             \n",
       "50    WA                                        4058.343544             \n",
       "51    WI                                        4015.741189             \n",
       "52    WV                                        3975.184100             \n",
       "\n",
       "    Average $ of Loans Originated per recipient - DL UNSUBSIDIZED - UNDERGRADUATE  \\\n",
       "0                                         5173.577236                               \n",
       "1                                         4130.080500                               \n",
       "2                                         4365.773071                               \n",
       "3                                         4880.558012                               \n",
       "4                                         4076.069734                               \n",
       "5                                         4540.047430                               \n",
       "6                                         3855.302650                               \n",
       "7                                         4702.445923                               \n",
       "8                                         3569.995339                               \n",
       "9                                         3824.280644                               \n",
       "10                                        4089.533608                               \n",
       "11                                        5929.545455                               \n",
       "12                                        4402.385971                               \n",
       "13                                        3831.389525                               \n",
       "14                                        4531.804446                               \n",
       "15                                        3897.050617                               \n",
       "16                                        4127.268507                               \n",
       "17                                        4280.084846                               \n",
       "18                                        4166.500908                               \n",
       "19                                        4476.046992                               \n",
       "20                                        3621.648136                               \n",
       "21                                        4123.042230                               \n",
       "22                                        3856.072953                               \n",
       "23                                        4118.140509                               \n",
       "24                                        4505.489898                               \n",
       "25                                        4306.711889                               \n",
       "26                                        4237.284970                               \n",
       "27                                        4485.988985                               \n",
       "28                                        4081.394436                               \n",
       "29                                        4582.536651                               \n",
       "30                                        4191.107280                               \n",
       "31                                        4226.154944                               \n",
       "32                                        3708.417947                               \n",
       "33                                        4736.919569                               \n",
       "34                                        4564.853395                               \n",
       "35                                        3698.835532                               \n",
       "36                                        3949.209559                               \n",
       "37                                        4442.826662                               \n",
       "38                                        4284.421491                               \n",
       "39                                        3652.622292                               \n",
       "40                                        4346.075782                               \n",
       "41                                        3510.241092                               \n",
       "42                                        4020.062722                               \n",
       "43                                        4130.477219                               \n",
       "44                                        4050.317228                               \n",
       "45                                        4287.566111                               \n",
       "46                                        4647.575508                               \n",
       "47                                        4137.670000                               \n",
       "48                                        3922.385027                               \n",
       "49                                        3627.192342                               \n",
       "50                                        4284.957191                               \n",
       "51                                        4141.988732                               \n",
       "52                                        4142.875944                               \n",
       "\n",
       "    Average $ of Loans Originated per recipient - DL PARENT PLUS  \\\n",
       "0                                        14245.261682              \n",
       "1                                        19095.935708              \n",
       "2                                        13153.925770              \n",
       "3                                        17408.961488              \n",
       "4                                        20134.204716              \n",
       "5                                        19593.142857              \n",
       "6                                        20076.075286              \n",
       "7                                        27417.093449              \n",
       "8                                        23149.129911              \n",
       "9                                        18205.714936              \n",
       "10                                       16608.202786              \n",
       "11                                       16889.000000              \n",
       "12                                       20262.388757              \n",
       "13                                       12674.038291              \n",
       "14                                       15359.864933              \n",
       "15                                       17448.877159              \n",
       "16                                       16095.550887              \n",
       "17                                       15485.840221              \n",
       "18                                       14270.821953              \n",
       "19                                       14813.499021              \n",
       "20                                       23531.644251              \n",
       "21                                       18315.231127              \n",
       "22                                       17308.489973              \n",
       "23                                       14524.162219              \n",
       "24                                       14725.840243              \n",
       "25                                       14097.523028              \n",
       "26                                       14473.000893              \n",
       "27                                       16117.029185              \n",
       "28                                       14574.875017              \n",
       "29                                       13080.280702              \n",
       "30                                       13819.015588              \n",
       "31                                       18406.888328              \n",
       "32                                       19064.033514              \n",
       "33                                       10740.245856              \n",
       "34                                       18514.770717              \n",
       "35                                       21296.795115              \n",
       "36                                       15456.671071              \n",
       "37                                       17978.994023              \n",
       "38                                       22149.407841              \n",
       "39                                       19413.066712              \n",
       "40                                        8565.148148              \n",
       "41                                       20522.806400              \n",
       "42                                       17359.387187              \n",
       "43                                       10579.100297              \n",
       "44                                       16101.024426              \n",
       "45                                       14261.626944              \n",
       "46                                       14921.492958              \n",
       "47                                       17965.018362              \n",
       "48                                       12547.000000              \n",
       "49                                       22715.902335              \n",
       "50                                       18890.767333              \n",
       "51                                       15339.174008              \n",
       "52                                       16050.678189              \n",
       "\n",
       "    Total Average $ of Loans per Recipient  \n",
       "0                             23373.626064  \n",
       "1                             27372.541294  \n",
       "2                             21524.529577  \n",
       "3                             26325.673582  \n",
       "4                             28489.758963  \n",
       "5                             28035.469483  \n",
       "6                             28179.540844  \n",
       "7                             36185.353426  \n",
       "8                             30998.396672  \n",
       "9                             25533.035557  \n",
       "10                            24693.053613  \n",
       "11                            27485.212121  \n",
       "12                            28850.746916  \n",
       "13                            20222.652945  \n",
       "14                            23856.919737  \n",
       "15                            25489.053933  \n",
       "16                            24114.196708  \n",
       "17                            23809.687172  \n",
       "18                            22418.765187  \n",
       "19                            23283.774024  \n",
       "20                            31587.848699  \n",
       "21                            26591.874952  \n",
       "22                            25256.798395  \n",
       "23                            22690.458411  \n",
       "24                            23116.797440  \n",
       "25                            22502.491679  \n",
       "26                            22909.132069  \n",
       "27                            24632.678814  \n",
       "28                            22829.902339  \n",
       "29                            21733.070119  \n",
       "30                            22047.754800  \n",
       "31                            26459.436322  \n",
       "32                            27144.466538  \n",
       "33                            19535.473400  \n",
       "34                            27121.522426  \n",
       "35                            29211.903171  \n",
       "36                            23408.294183  \n",
       "37                            26346.233699  \n",
       "38                            30697.103138  \n",
       "39                            27343.636128  \n",
       "40                            16727.840085  \n",
       "41                            28333.292124  \n",
       "42                            25497.535313  \n",
       "43                            18649.193875  \n",
       "44                            24225.015430  \n",
       "45                            22634.947885  \n",
       "46                            23398.314727  \n",
       "47                            26430.555735  \n",
       "48                            20551.562299  \n",
       "49                            30586.620889  \n",
       "50                            27234.068069  \n",
       "51                            23496.903929  \n",
       "52                            24168.738232  "
      ]
     },
     "execution_count": 179,
     "metadata": {},
     "output_type": "execute_result"
    }
   ],
   "source": [
    "df_ave_rec.head(53)"
   ]
  },
  {
   "cell_type": "code",
   "execution_count": 161,
   "metadata": {},
   "outputs": [
    {
     "data": {
      "application/vnd.plotly.v1+json": {
       "config": {
        "plotlyServerURL": "https://plot.ly"
       },
       "data": [
        {
         "colorbar": {
          "title": {
           "text": "USD"
          }
         },
         "colorscale": [
          [
           0,
           "#440154"
          ],
          [
           0.1111111111111111,
           "#482878"
          ],
          [
           0.2222222222222222,
           "#3e4989"
          ],
          [
           0.3333333333333333,
           "#31688e"
          ],
          [
           0.4444444444444444,
           "#26828e"
          ],
          [
           0.5555555555555556,
           "#1f9e89"
          ],
          [
           0.6666666666666666,
           "#35b779"
          ],
          [
           0.7777777777777778,
           "#6ece58"
          ],
          [
           0.8888888888888888,
           "#b5de2b"
          ],
          [
           1,
           "#fde725"
          ]
         ],
         "locationmode": "USA-states",
         "locations": [
          "AK",
          "AL",
          "AR",
          "AZ",
          "CA",
          "CO",
          "CT",
          "DC",
          "DE",
          "FL",
          "GA",
          "GU",
          "HI",
          "IA",
          "ID",
          "IL",
          "IN",
          "KS",
          "KY",
          "LA",
          "MA",
          "MD",
          "ME",
          "MI",
          "MN",
          "MO",
          "MS",
          "MT",
          "NC",
          "ND",
          "NE",
          "NH",
          "NJ",
          "NM",
          "NV",
          "NY",
          "OH",
          "OK",
          "OR",
          "PA",
          "PR",
          "RI",
          "SC",
          "SD",
          "TN",
          "TX",
          "UT",
          "VA",
          "VI",
          "VT",
          "WA",
          "WI",
          "WV",
          "WY"
         ],
         "type": "choropleth",
         "z": [
          23373.626063834286,
          27372.541293688308,
          21524.529577422927,
          26325.6735822167,
          28489.75896309004,
          28035.46948276001,
          28179.540844036666,
          36185.35342590263,
          30998.39667153252,
          25533.03555650399,
          24693.053612840413,
          27485.21212121212,
          28850.74691562238,
          20222.65294514053,
          23856.91973730222,
          25489.05393307476,
          24114.19670832625,
          23809.68717228332,
          22418.76518661772,
          23283.77402448008,
          31587.84869887324,
          26591.87495204707,
          25256.79839511637,
          22690.458411168656,
          23116.79744047382,
          22502.491679142746,
          22909.132069344276,
          24632.678813767365,
          22829.902338786327,
          21733.070118745523,
          22047.754800082577,
          26459.436321807538,
          27144.466537926273,
          19535.47340004323,
          27121.52242641004,
          29211.90317148488,
          23408.294183211423,
          26346.233698931457,
          30697.103138451712,
          27343.636128136408,
          16727.840085259137,
          28333.29212371859,
          25497.535313197623,
          18649.193874850724,
          24225.01542986997,
          22634.94788486781,
          23398.314726686705,
          26430.55573528974,
          20551.56229946524,
          30586.620888872687,
          27234.068068553308,
          23496.90392910457,
          24168.738232386335,
          24075.938671490163
         ]
        }
       ],
       "layout": {
        "geo": {
         "scope": "usa"
        },
        "template": {
         "data": {
          "bar": [
           {
            "error_x": {
             "color": "#2a3f5f"
            },
            "error_y": {
             "color": "#2a3f5f"
            },
            "marker": {
             "line": {
              "color": "#E5ECF6",
              "width": 0.5
             }
            },
            "type": "bar"
           }
          ],
          "barpolar": [
           {
            "marker": {
             "line": {
              "color": "#E5ECF6",
              "width": 0.5
             }
            },
            "type": "barpolar"
           }
          ],
          "carpet": [
           {
            "aaxis": {
             "endlinecolor": "#2a3f5f",
             "gridcolor": "white",
             "linecolor": "white",
             "minorgridcolor": "white",
             "startlinecolor": "#2a3f5f"
            },
            "baxis": {
             "endlinecolor": "#2a3f5f",
             "gridcolor": "white",
             "linecolor": "white",
             "minorgridcolor": "white",
             "startlinecolor": "#2a3f5f"
            },
            "type": "carpet"
           }
          ],
          "choropleth": [
           {
            "colorbar": {
             "outlinewidth": 0,
             "ticks": ""
            },
            "type": "choropleth"
           }
          ],
          "contour": [
           {
            "colorbar": {
             "outlinewidth": 0,
             "ticks": ""
            },
            "colorscale": [
             [
              0,
              "#0d0887"
             ],
             [
              0.1111111111111111,
              "#46039f"
             ],
             [
              0.2222222222222222,
              "#7201a8"
             ],
             [
              0.3333333333333333,
              "#9c179e"
             ],
             [
              0.4444444444444444,
              "#bd3786"
             ],
             [
              0.5555555555555556,
              "#d8576b"
             ],
             [
              0.6666666666666666,
              "#ed7953"
             ],
             [
              0.7777777777777778,
              "#fb9f3a"
             ],
             [
              0.8888888888888888,
              "#fdca26"
             ],
             [
              1,
              "#f0f921"
             ]
            ],
            "type": "contour"
           }
          ],
          "contourcarpet": [
           {
            "colorbar": {
             "outlinewidth": 0,
             "ticks": ""
            },
            "type": "contourcarpet"
           }
          ],
          "heatmap": [
           {
            "colorbar": {
             "outlinewidth": 0,
             "ticks": ""
            },
            "colorscale": [
             [
              0,
              "#0d0887"
             ],
             [
              0.1111111111111111,
              "#46039f"
             ],
             [
              0.2222222222222222,
              "#7201a8"
             ],
             [
              0.3333333333333333,
              "#9c179e"
             ],
             [
              0.4444444444444444,
              "#bd3786"
             ],
             [
              0.5555555555555556,
              "#d8576b"
             ],
             [
              0.6666666666666666,
              "#ed7953"
             ],
             [
              0.7777777777777778,
              "#fb9f3a"
             ],
             [
              0.8888888888888888,
              "#fdca26"
             ],
             [
              1,
              "#f0f921"
             ]
            ],
            "type": "heatmap"
           }
          ],
          "heatmapgl": [
           {
            "colorbar": {
             "outlinewidth": 0,
             "ticks": ""
            },
            "colorscale": [
             [
              0,
              "#0d0887"
             ],
             [
              0.1111111111111111,
              "#46039f"
             ],
             [
              0.2222222222222222,
              "#7201a8"
             ],
             [
              0.3333333333333333,
              "#9c179e"
             ],
             [
              0.4444444444444444,
              "#bd3786"
             ],
             [
              0.5555555555555556,
              "#d8576b"
             ],
             [
              0.6666666666666666,
              "#ed7953"
             ],
             [
              0.7777777777777778,
              "#fb9f3a"
             ],
             [
              0.8888888888888888,
              "#fdca26"
             ],
             [
              1,
              "#f0f921"
             ]
            ],
            "type": "heatmapgl"
           }
          ],
          "histogram": [
           {
            "marker": {
             "colorbar": {
              "outlinewidth": 0,
              "ticks": ""
             }
            },
            "type": "histogram"
           }
          ],
          "histogram2d": [
           {
            "colorbar": {
             "outlinewidth": 0,
             "ticks": ""
            },
            "colorscale": [
             [
              0,
              "#0d0887"
             ],
             [
              0.1111111111111111,
              "#46039f"
             ],
             [
              0.2222222222222222,
              "#7201a8"
             ],
             [
              0.3333333333333333,
              "#9c179e"
             ],
             [
              0.4444444444444444,
              "#bd3786"
             ],
             [
              0.5555555555555556,
              "#d8576b"
             ],
             [
              0.6666666666666666,
              "#ed7953"
             ],
             [
              0.7777777777777778,
              "#fb9f3a"
             ],
             [
              0.8888888888888888,
              "#fdca26"
             ],
             [
              1,
              "#f0f921"
             ]
            ],
            "type": "histogram2d"
           }
          ],
          "histogram2dcontour": [
           {
            "colorbar": {
             "outlinewidth": 0,
             "ticks": ""
            },
            "colorscale": [
             [
              0,
              "#0d0887"
             ],
             [
              0.1111111111111111,
              "#46039f"
             ],
             [
              0.2222222222222222,
              "#7201a8"
             ],
             [
              0.3333333333333333,
              "#9c179e"
             ],
             [
              0.4444444444444444,
              "#bd3786"
             ],
             [
              0.5555555555555556,
              "#d8576b"
             ],
             [
              0.6666666666666666,
              "#ed7953"
             ],
             [
              0.7777777777777778,
              "#fb9f3a"
             ],
             [
              0.8888888888888888,
              "#fdca26"
             ],
             [
              1,
              "#f0f921"
             ]
            ],
            "type": "histogram2dcontour"
           }
          ],
          "mesh3d": [
           {
            "colorbar": {
             "outlinewidth": 0,
             "ticks": ""
            },
            "type": "mesh3d"
           }
          ],
          "parcoords": [
           {
            "line": {
             "colorbar": {
              "outlinewidth": 0,
              "ticks": ""
             }
            },
            "type": "parcoords"
           }
          ],
          "scatter": [
           {
            "marker": {
             "colorbar": {
              "outlinewidth": 0,
              "ticks": ""
             }
            },
            "type": "scatter"
           }
          ],
          "scatter3d": [
           {
            "line": {
             "colorbar": {
              "outlinewidth": 0,
              "ticks": ""
             }
            },
            "marker": {
             "colorbar": {
              "outlinewidth": 0,
              "ticks": ""
             }
            },
            "type": "scatter3d"
           }
          ],
          "scattercarpet": [
           {
            "marker": {
             "colorbar": {
              "outlinewidth": 0,
              "ticks": ""
             }
            },
            "type": "scattercarpet"
           }
          ],
          "scattergeo": [
           {
            "marker": {
             "colorbar": {
              "outlinewidth": 0,
              "ticks": ""
             }
            },
            "type": "scattergeo"
           }
          ],
          "scattergl": [
           {
            "marker": {
             "colorbar": {
              "outlinewidth": 0,
              "ticks": ""
             }
            },
            "type": "scattergl"
           }
          ],
          "scattermapbox": [
           {
            "marker": {
             "colorbar": {
              "outlinewidth": 0,
              "ticks": ""
             }
            },
            "type": "scattermapbox"
           }
          ],
          "scatterpolar": [
           {
            "marker": {
             "colorbar": {
              "outlinewidth": 0,
              "ticks": ""
             }
            },
            "type": "scatterpolar"
           }
          ],
          "scatterpolargl": [
           {
            "marker": {
             "colorbar": {
              "outlinewidth": 0,
              "ticks": ""
             }
            },
            "type": "scatterpolargl"
           }
          ],
          "scatterternary": [
           {
            "marker": {
             "colorbar": {
              "outlinewidth": 0,
              "ticks": ""
             }
            },
            "type": "scatterternary"
           }
          ],
          "surface": [
           {
            "colorbar": {
             "outlinewidth": 0,
             "ticks": ""
            },
            "colorscale": [
             [
              0,
              "#0d0887"
             ],
             [
              0.1111111111111111,
              "#46039f"
             ],
             [
              0.2222222222222222,
              "#7201a8"
             ],
             [
              0.3333333333333333,
              "#9c179e"
             ],
             [
              0.4444444444444444,
              "#bd3786"
             ],
             [
              0.5555555555555556,
              "#d8576b"
             ],
             [
              0.6666666666666666,
              "#ed7953"
             ],
             [
              0.7777777777777778,
              "#fb9f3a"
             ],
             [
              0.8888888888888888,
              "#fdca26"
             ],
             [
              1,
              "#f0f921"
             ]
            ],
            "type": "surface"
           }
          ],
          "table": [
           {
            "cells": {
             "fill": {
              "color": "#EBF0F8"
             },
             "line": {
              "color": "white"
             }
            },
            "header": {
             "fill": {
              "color": "#C8D4E3"
             },
             "line": {
              "color": "white"
             }
            },
            "type": "table"
           }
          ]
         },
         "layout": {
          "annotationdefaults": {
           "arrowcolor": "#2a3f5f",
           "arrowhead": 0,
           "arrowwidth": 1
          },
          "colorscale": {
           "diverging": [
            [
             0,
             "#8e0152"
            ],
            [
             0.1,
             "#c51b7d"
            ],
            [
             0.2,
             "#de77ae"
            ],
            [
             0.3,
             "#f1b6da"
            ],
            [
             0.4,
             "#fde0ef"
            ],
            [
             0.5,
             "#f7f7f7"
            ],
            [
             0.6,
             "#e6f5d0"
            ],
            [
             0.7,
             "#b8e186"
            ],
            [
             0.8,
             "#7fbc41"
            ],
            [
             0.9,
             "#4d9221"
            ],
            [
             1,
             "#276419"
            ]
           ],
           "sequential": [
            [
             0,
             "#0d0887"
            ],
            [
             0.1111111111111111,
             "#46039f"
            ],
            [
             0.2222222222222222,
             "#7201a8"
            ],
            [
             0.3333333333333333,
             "#9c179e"
            ],
            [
             0.4444444444444444,
             "#bd3786"
            ],
            [
             0.5555555555555556,
             "#d8576b"
            ],
            [
             0.6666666666666666,
             "#ed7953"
            ],
            [
             0.7777777777777778,
             "#fb9f3a"
            ],
            [
             0.8888888888888888,
             "#fdca26"
            ],
            [
             1,
             "#f0f921"
            ]
           ],
           "sequentialminus": [
            [
             0,
             "#0d0887"
            ],
            [
             0.1111111111111111,
             "#46039f"
            ],
            [
             0.2222222222222222,
             "#7201a8"
            ],
            [
             0.3333333333333333,
             "#9c179e"
            ],
            [
             0.4444444444444444,
             "#bd3786"
            ],
            [
             0.5555555555555556,
             "#d8576b"
            ],
            [
             0.6666666666666666,
             "#ed7953"
            ],
            [
             0.7777777777777778,
             "#fb9f3a"
            ],
            [
             0.8888888888888888,
             "#fdca26"
            ],
            [
             1,
             "#f0f921"
            ]
           ]
          },
          "colorway": [
           "#636efa",
           "#EF553B",
           "#00cc96",
           "#ab63fa",
           "#FFA15A",
           "#19d3f3",
           "#FF6692",
           "#B6E880",
           "#FF97FF",
           "#FECB52"
          ],
          "font": {
           "color": "#2a3f5f"
          },
          "geo": {
           "bgcolor": "white",
           "lakecolor": "white",
           "landcolor": "#E5ECF6",
           "showlakes": true,
           "showland": true,
           "subunitcolor": "white"
          },
          "hoverlabel": {
           "align": "left"
          },
          "hovermode": "closest",
          "mapbox": {
           "style": "light"
          },
          "paper_bgcolor": "white",
          "plot_bgcolor": "#E5ECF6",
          "polar": {
           "angularaxis": {
            "gridcolor": "white",
            "linecolor": "white",
            "ticks": ""
           },
           "bgcolor": "#E5ECF6",
           "radialaxis": {
            "gridcolor": "white",
            "linecolor": "white",
            "ticks": ""
           }
          },
          "scene": {
           "xaxis": {
            "backgroundcolor": "#E5ECF6",
            "gridcolor": "white",
            "gridwidth": 2,
            "linecolor": "white",
            "showbackground": true,
            "ticks": "",
            "zerolinecolor": "white"
           },
           "yaxis": {
            "backgroundcolor": "#E5ECF6",
            "gridcolor": "white",
            "gridwidth": 2,
            "linecolor": "white",
            "showbackground": true,
            "ticks": "",
            "zerolinecolor": "white"
           },
           "zaxis": {
            "backgroundcolor": "#E5ECF6",
            "gridcolor": "white",
            "gridwidth": 2,
            "linecolor": "white",
            "showbackground": true,
            "ticks": "",
            "zerolinecolor": "white"
           }
          },
          "shapedefaults": {
           "line": {
            "color": "#2a3f5f"
           }
          },
          "ternary": {
           "aaxis": {
            "gridcolor": "white",
            "linecolor": "white",
            "ticks": ""
           },
           "baxis": {
            "gridcolor": "white",
            "linecolor": "white",
            "ticks": ""
           },
           "bgcolor": "#E5ECF6",
           "caxis": {
            "gridcolor": "white",
            "linecolor": "white",
            "ticks": ""
           }
          },
          "title": {
           "x": 0.05
          },
          "xaxis": {
           "automargin": true,
           "gridcolor": "white",
           "linecolor": "white",
           "ticks": "",
           "zerolinecolor": "white",
           "zerolinewidth": 2
          },
          "yaxis": {
           "automargin": true,
           "gridcolor": "white",
           "linecolor": "white",
           "ticks": "",
           "zerolinecolor": "white",
           "zerolinewidth": 2
          }
         }
        },
        "title": {
         "text": "Total Average $ of Loans per Recipient"
        }
       }
      },
      "text/html": [
       "<div>\n",
       "        \n",
       "        \n",
       "            <div id=\"8fe1b0a6-5043-4554-95ec-005057fa0163\" class=\"plotly-graph-div\" style=\"height:525px; width:100%;\"></div>\n",
       "            <script type=\"text/javascript\">\n",
       "                require([\"plotly\"], function(Plotly) {\n",
       "                    window.PLOTLYENV=window.PLOTLYENV || {};\n",
       "                    \n",
       "                if (document.getElementById(\"8fe1b0a6-5043-4554-95ec-005057fa0163\")) {\n",
       "                    Plotly.newPlot(\n",
       "                        '8fe1b0a6-5043-4554-95ec-005057fa0163',\n",
       "                        [{\"colorbar\": {\"title\": {\"text\": \"USD\"}}, \"colorscale\": [[0.0, \"#440154\"], [0.1111111111111111, \"#482878\"], [0.2222222222222222, \"#3e4989\"], [0.3333333333333333, \"#31688e\"], [0.4444444444444444, \"#26828e\"], [0.5555555555555556, \"#1f9e89\"], [0.6666666666666666, \"#35b779\"], [0.7777777777777778, \"#6ece58\"], [0.8888888888888888, \"#b5de2b\"], [1.0, \"#fde725\"]], \"locationmode\": \"USA-states\", \"locations\": [\"AK\", \"AL\", \"AR\", \"AZ\", \"CA\", \"CO\", \"CT\", \"DC\", \"DE\", \"FL\", \"GA\", \"GU\", \"HI\", \"IA\", \"ID\", \"IL\", \"IN\", \"KS\", \"KY\", \"LA\", \"MA\", \"MD\", \"ME\", \"MI\", \"MN\", \"MO\", \"MS\", \"MT\", \"NC\", \"ND\", \"NE\", \"NH\", \"NJ\", \"NM\", \"NV\", \"NY\", \"OH\", \"OK\", \"OR\", \"PA\", \"PR\", \"RI\", \"SC\", \"SD\", \"TN\", \"TX\", \"UT\", \"VA\", \"VI\", \"VT\", \"WA\", \"WI\", \"WV\", \"WY\"], \"type\": \"choropleth\", \"z\": [23373.626063834286, 27372.541293688308, 21524.529577422927, 26325.6735822167, 28489.75896309004, 28035.46948276001, 28179.540844036666, 36185.35342590263, 30998.39667153252, 25533.03555650399, 24693.053612840413, 27485.21212121212, 28850.74691562238, 20222.65294514053, 23856.91973730222, 25489.05393307476, 24114.19670832625, 23809.68717228332, 22418.76518661772, 23283.77402448008, 31587.84869887324, 26591.87495204707, 25256.79839511637, 22690.458411168656, 23116.79744047382, 22502.491679142746, 22909.132069344276, 24632.678813767365, 22829.902338786327, 21733.070118745523, 22047.754800082577, 26459.436321807538, 27144.466537926273, 19535.47340004323, 27121.52242641004, 29211.90317148488, 23408.294183211423, 26346.233698931457, 30697.103138451712, 27343.636128136408, 16727.840085259137, 28333.29212371859, 25497.535313197623, 18649.193874850724, 24225.01542986997, 22634.94788486781, 23398.314726686705, 26430.55573528974, 20551.56229946524, 30586.620888872687, 27234.068068553308, 23496.90392910457, 24168.738232386335, 24075.938671490163]}],\n",
       "                        {\"geo\": {\"scope\": \"usa\"}, \"template\": {\"data\": {\"bar\": [{\"error_x\": {\"color\": \"#2a3f5f\"}, \"error_y\": {\"color\": \"#2a3f5f\"}, \"marker\": {\"line\": {\"color\": \"#E5ECF6\", \"width\": 0.5}}, \"type\": \"bar\"}], \"barpolar\": [{\"marker\": {\"line\": {\"color\": \"#E5ECF6\", \"width\": 0.5}}, \"type\": \"barpolar\"}], \"carpet\": [{\"aaxis\": {\"endlinecolor\": \"#2a3f5f\", \"gridcolor\": \"white\", \"linecolor\": \"white\", \"minorgridcolor\": \"white\", \"startlinecolor\": \"#2a3f5f\"}, \"baxis\": {\"endlinecolor\": \"#2a3f5f\", \"gridcolor\": \"white\", \"linecolor\": \"white\", \"minorgridcolor\": \"white\", \"startlinecolor\": \"#2a3f5f\"}, \"type\": \"carpet\"}], \"choropleth\": [{\"colorbar\": {\"outlinewidth\": 0, \"ticks\": \"\"}, \"type\": \"choropleth\"}], \"contour\": [{\"colorbar\": {\"outlinewidth\": 0, \"ticks\": \"\"}, \"colorscale\": [[0.0, \"#0d0887\"], [0.1111111111111111, \"#46039f\"], [0.2222222222222222, \"#7201a8\"], [0.3333333333333333, \"#9c179e\"], [0.4444444444444444, \"#bd3786\"], [0.5555555555555556, \"#d8576b\"], [0.6666666666666666, \"#ed7953\"], [0.7777777777777778, \"#fb9f3a\"], [0.8888888888888888, \"#fdca26\"], [1.0, \"#f0f921\"]], \"type\": \"contour\"}], \"contourcarpet\": [{\"colorbar\": {\"outlinewidth\": 0, \"ticks\": \"\"}, \"type\": \"contourcarpet\"}], \"heatmap\": [{\"colorbar\": {\"outlinewidth\": 0, \"ticks\": \"\"}, \"colorscale\": [[0.0, \"#0d0887\"], [0.1111111111111111, \"#46039f\"], [0.2222222222222222, \"#7201a8\"], [0.3333333333333333, \"#9c179e\"], [0.4444444444444444, \"#bd3786\"], [0.5555555555555556, \"#d8576b\"], [0.6666666666666666, \"#ed7953\"], [0.7777777777777778, \"#fb9f3a\"], [0.8888888888888888, \"#fdca26\"], [1.0, \"#f0f921\"]], \"type\": \"heatmap\"}], \"heatmapgl\": [{\"colorbar\": {\"outlinewidth\": 0, \"ticks\": \"\"}, \"colorscale\": [[0.0, \"#0d0887\"], [0.1111111111111111, \"#46039f\"], [0.2222222222222222, \"#7201a8\"], [0.3333333333333333, \"#9c179e\"], [0.4444444444444444, \"#bd3786\"], [0.5555555555555556, \"#d8576b\"], [0.6666666666666666, \"#ed7953\"], [0.7777777777777778, \"#fb9f3a\"], [0.8888888888888888, \"#fdca26\"], [1.0, \"#f0f921\"]], \"type\": \"heatmapgl\"}], \"histogram\": [{\"marker\": {\"colorbar\": {\"outlinewidth\": 0, \"ticks\": \"\"}}, \"type\": \"histogram\"}], \"histogram2d\": [{\"colorbar\": {\"outlinewidth\": 0, \"ticks\": \"\"}, \"colorscale\": [[0.0, \"#0d0887\"], [0.1111111111111111, \"#46039f\"], [0.2222222222222222, \"#7201a8\"], [0.3333333333333333, \"#9c179e\"], [0.4444444444444444, \"#bd3786\"], [0.5555555555555556, \"#d8576b\"], [0.6666666666666666, \"#ed7953\"], [0.7777777777777778, \"#fb9f3a\"], [0.8888888888888888, \"#fdca26\"], [1.0, \"#f0f921\"]], \"type\": \"histogram2d\"}], \"histogram2dcontour\": [{\"colorbar\": {\"outlinewidth\": 0, \"ticks\": \"\"}, \"colorscale\": [[0.0, \"#0d0887\"], [0.1111111111111111, \"#46039f\"], [0.2222222222222222, \"#7201a8\"], [0.3333333333333333, \"#9c179e\"], [0.4444444444444444, \"#bd3786\"], [0.5555555555555556, \"#d8576b\"], [0.6666666666666666, \"#ed7953\"], [0.7777777777777778, \"#fb9f3a\"], [0.8888888888888888, \"#fdca26\"], [1.0, \"#f0f921\"]], \"type\": \"histogram2dcontour\"}], \"mesh3d\": [{\"colorbar\": {\"outlinewidth\": 0, \"ticks\": \"\"}, \"type\": \"mesh3d\"}], \"parcoords\": [{\"line\": {\"colorbar\": {\"outlinewidth\": 0, \"ticks\": \"\"}}, \"type\": \"parcoords\"}], \"scatter\": [{\"marker\": {\"colorbar\": {\"outlinewidth\": 0, \"ticks\": \"\"}}, \"type\": \"scatter\"}], \"scatter3d\": [{\"line\": {\"colorbar\": {\"outlinewidth\": 0, \"ticks\": \"\"}}, \"marker\": {\"colorbar\": {\"outlinewidth\": 0, \"ticks\": \"\"}}, \"type\": \"scatter3d\"}], \"scattercarpet\": [{\"marker\": {\"colorbar\": {\"outlinewidth\": 0, \"ticks\": \"\"}}, \"type\": \"scattercarpet\"}], \"scattergeo\": [{\"marker\": {\"colorbar\": {\"outlinewidth\": 0, \"ticks\": \"\"}}, \"type\": \"scattergeo\"}], \"scattergl\": [{\"marker\": {\"colorbar\": {\"outlinewidth\": 0, \"ticks\": \"\"}}, \"type\": \"scattergl\"}], \"scattermapbox\": [{\"marker\": {\"colorbar\": {\"outlinewidth\": 0, \"ticks\": \"\"}}, \"type\": \"scattermapbox\"}], \"scatterpolar\": [{\"marker\": {\"colorbar\": {\"outlinewidth\": 0, \"ticks\": \"\"}}, \"type\": \"scatterpolar\"}], \"scatterpolargl\": [{\"marker\": {\"colorbar\": {\"outlinewidth\": 0, \"ticks\": \"\"}}, \"type\": \"scatterpolargl\"}], \"scatterternary\": [{\"marker\": {\"colorbar\": {\"outlinewidth\": 0, \"ticks\": \"\"}}, \"type\": \"scatterternary\"}], \"surface\": [{\"colorbar\": {\"outlinewidth\": 0, \"ticks\": \"\"}, \"colorscale\": [[0.0, \"#0d0887\"], [0.1111111111111111, \"#46039f\"], [0.2222222222222222, \"#7201a8\"], [0.3333333333333333, \"#9c179e\"], [0.4444444444444444, \"#bd3786\"], [0.5555555555555556, \"#d8576b\"], [0.6666666666666666, \"#ed7953\"], [0.7777777777777778, \"#fb9f3a\"], [0.8888888888888888, \"#fdca26\"], [1.0, \"#f0f921\"]], \"type\": \"surface\"}], \"table\": [{\"cells\": {\"fill\": {\"color\": \"#EBF0F8\"}, \"line\": {\"color\": \"white\"}}, \"header\": {\"fill\": {\"color\": \"#C8D4E3\"}, \"line\": {\"color\": \"white\"}}, \"type\": \"table\"}]}, \"layout\": {\"annotationdefaults\": {\"arrowcolor\": \"#2a3f5f\", \"arrowhead\": 0, \"arrowwidth\": 1}, \"colorscale\": {\"diverging\": [[0, \"#8e0152\"], [0.1, \"#c51b7d\"], [0.2, \"#de77ae\"], [0.3, \"#f1b6da\"], [0.4, \"#fde0ef\"], [0.5, \"#f7f7f7\"], [0.6, \"#e6f5d0\"], [0.7, \"#b8e186\"], [0.8, \"#7fbc41\"], [0.9, \"#4d9221\"], [1, \"#276419\"]], \"sequential\": [[0.0, \"#0d0887\"], [0.1111111111111111, \"#46039f\"], [0.2222222222222222, \"#7201a8\"], [0.3333333333333333, \"#9c179e\"], [0.4444444444444444, \"#bd3786\"], [0.5555555555555556, \"#d8576b\"], [0.6666666666666666, \"#ed7953\"], [0.7777777777777778, \"#fb9f3a\"], [0.8888888888888888, \"#fdca26\"], [1.0, \"#f0f921\"]], \"sequentialminus\": [[0.0, \"#0d0887\"], [0.1111111111111111, \"#46039f\"], [0.2222222222222222, \"#7201a8\"], [0.3333333333333333, \"#9c179e\"], [0.4444444444444444, \"#bd3786\"], [0.5555555555555556, \"#d8576b\"], [0.6666666666666666, \"#ed7953\"], [0.7777777777777778, \"#fb9f3a\"], [0.8888888888888888, \"#fdca26\"], [1.0, \"#f0f921\"]]}, \"colorway\": [\"#636efa\", \"#EF553B\", \"#00cc96\", \"#ab63fa\", \"#FFA15A\", \"#19d3f3\", \"#FF6692\", \"#B6E880\", \"#FF97FF\", \"#FECB52\"], \"font\": {\"color\": \"#2a3f5f\"}, \"geo\": {\"bgcolor\": \"white\", \"lakecolor\": \"white\", \"landcolor\": \"#E5ECF6\", \"showlakes\": true, \"showland\": true, \"subunitcolor\": \"white\"}, \"hoverlabel\": {\"align\": \"left\"}, \"hovermode\": \"closest\", \"mapbox\": {\"style\": \"light\"}, \"paper_bgcolor\": \"white\", \"plot_bgcolor\": \"#E5ECF6\", \"polar\": {\"angularaxis\": {\"gridcolor\": \"white\", \"linecolor\": \"white\", \"ticks\": \"\"}, \"bgcolor\": \"#E5ECF6\", \"radialaxis\": {\"gridcolor\": \"white\", \"linecolor\": \"white\", \"ticks\": \"\"}}, \"scene\": {\"xaxis\": {\"backgroundcolor\": \"#E5ECF6\", \"gridcolor\": \"white\", \"gridwidth\": 2, \"linecolor\": \"white\", \"showbackground\": true, \"ticks\": \"\", \"zerolinecolor\": \"white\"}, \"yaxis\": {\"backgroundcolor\": \"#E5ECF6\", \"gridcolor\": \"white\", \"gridwidth\": 2, \"linecolor\": \"white\", \"showbackground\": true, \"ticks\": \"\", \"zerolinecolor\": \"white\"}, \"zaxis\": {\"backgroundcolor\": \"#E5ECF6\", \"gridcolor\": \"white\", \"gridwidth\": 2, \"linecolor\": \"white\", \"showbackground\": true, \"ticks\": \"\", \"zerolinecolor\": \"white\"}}, \"shapedefaults\": {\"line\": {\"color\": \"#2a3f5f\"}}, \"ternary\": {\"aaxis\": {\"gridcolor\": \"white\", \"linecolor\": \"white\", \"ticks\": \"\"}, \"baxis\": {\"gridcolor\": \"white\", \"linecolor\": \"white\", \"ticks\": \"\"}, \"bgcolor\": \"#E5ECF6\", \"caxis\": {\"gridcolor\": \"white\", \"linecolor\": \"white\", \"ticks\": \"\"}}, \"title\": {\"x\": 0.05}, \"xaxis\": {\"automargin\": true, \"gridcolor\": \"white\", \"linecolor\": \"white\", \"ticks\": \"\", \"zerolinecolor\": \"white\", \"zerolinewidth\": 2}, \"yaxis\": {\"automargin\": true, \"gridcolor\": \"white\", \"linecolor\": \"white\", \"ticks\": \"\", \"zerolinecolor\": \"white\", \"zerolinewidth\": 2}}}, \"title\": {\"text\": \"Total Average $ of Loans per Recipient\"}},\n",
       "                        {\"responsive\": true}\n",
       "                    ).then(function(){\n",
       "                            \n",
       "var gd = document.getElementById('8fe1b0a6-5043-4554-95ec-005057fa0163');\n",
       "var x = new MutationObserver(function (mutations, observer) {{\n",
       "        var display = window.getComputedStyle(gd).display;\n",
       "        if (!display || display === 'none') {{\n",
       "            console.log([gd, 'removed!']);\n",
       "            Plotly.purge(gd);\n",
       "            observer.disconnect();\n",
       "        }}\n",
       "}});\n",
       "\n",
       "// Listen for the removal of the full notebook cells\n",
       "var notebookContainer = gd.closest('#notebook-container');\n",
       "if (notebookContainer) {{\n",
       "    x.observe(notebookContainer, {childList: true});\n",
       "}}\n",
       "\n",
       "// Listen for the clearing of the current output cell\n",
       "var outputEl = gd.closest('.output');\n",
       "if (outputEl) {{\n",
       "    x.observe(outputEl, {childList: true});\n",
       "}}\n",
       "\n",
       "                        })\n",
       "                };\n",
       "                });\n",
       "            </script>\n",
       "        </div>"
      ]
     },
     "metadata": {},
     "output_type": "display_data"
    }
   ],
   "source": [
    "fig = go.Figure(data=go.Choropleth(locations=df_ave_rec['State'], # Spatial coordinates\n",
    "                                   z = df_ave_rec['Total Average $ of Loans per Recipient'].astype(float), # Data to be color-coded\n",
    "                                   locationmode = 'USA-states', # set of locations match entries in `locations`\n",
    "                                   colorscale = 'viridis',\n",
    "                                   colorbar_title = \"USD\"))\n",
    "\n",
    "fig.update_layout(title_text = 'Total Average $ of Loans per Recipient',\n",
    "                  geo_scope='usa') # limite map scope to USA\n",
    "\n",
    "\n",
    "fig.show()"
   ]
  },
  {
   "cell_type": "code",
   "execution_count": 178,
   "metadata": {},
   "outputs": [
    {
     "name": "stdout",
     "output_type": "stream",
     "text": [
      "Mean Loan Amount per year USA - 25174.0\n",
      "\n",
      "Min Loan Amount per year is 16728.0 in PR\n",
      "\n",
      "Max Loan Amount per year is 36185.0 in DC\n"
     ]
    }
   ],
   "source": [
    "mean_am = df_ave_rec['Total Average $ of Loans per Recipient'].mean()\n",
    "min_am = df_ave_rec['Total Average $ of Loans per Recipient'].min()\n",
    "min_state = df_ave_rec['State'][df_ave_rec['Total Average $ of Loans per Recipient'].idxmin(axis = 0)]\n",
    "max_am = df_ave_rec['Total Average $ of Loans per Recipient'].max()\n",
    "max_state = df_ave_rec['State'][df_ave_rec['Total Average $ of Loans per Recipient'].idxmax(axis = 0)]\n",
    "print(f'Mean Loan Amount per year USA - {round(mean_am)}')\n",
    "print(f'\\nMin Loan Amount per year is {round(min_am)} in {min_state}')\n",
    "print(f'\\nMax Loan Amount per year is {round(max_am)} in {max_state}')"
   ]
  },
  {
   "cell_type": "markdown",
   "metadata": {},
   "source": [
    "# DL SUBSIDIZED"
   ]
  },
  {
   "cell_type": "code",
   "execution_count": 186,
   "metadata": {},
   "outputs": [
    {
     "data": {
      "text/html": [
       "<div>\n",
       "<style scoped>\n",
       "    .dataframe tbody tr th:only-of-type {\n",
       "        vertical-align: middle;\n",
       "    }\n",
       "\n",
       "    .dataframe tbody tr th {\n",
       "        vertical-align: top;\n",
       "    }\n",
       "\n",
       "    .dataframe thead th {\n",
       "        text-align: right;\n",
       "    }\n",
       "</style>\n",
       "<table border=\"1\" class=\"dataframe\">\n",
       "  <thead>\n",
       "    <tr style=\"text-align: right;\">\n",
       "      <th>1</th>\n",
       "      <th>index</th>\n",
       "      <th>OPE ID</th>\n",
       "      <th>School</th>\n",
       "      <th>State</th>\n",
       "      <th>Zip Code</th>\n",
       "      <th>School Type</th>\n",
       "      <th>Recipients - DL SUBSIDIZED</th>\n",
       "      <th># of Loans Originated - DL SUBSIDIZED</th>\n",
       "      <th>$ of Loans Originated - DL SUBSIDIZED</th>\n",
       "      <th># of Disbursements - DL SUBSIDIZED</th>\n",
       "      <th>...</th>\n",
       "      <th>Recipients - DL PARENT PLUS</th>\n",
       "      <th># of Loans Originated - DL PARENT PLUS</th>\n",
       "      <th>$ of Loans Originated - DL PARENT PLUS</th>\n",
       "      <th># of Disbursements - DL PARENT PLUS</th>\n",
       "      <th>$ of Disbursements - DL PARENT PLUS</th>\n",
       "      <th>Recipients - DL GRAD PLUS</th>\n",
       "      <th># of Loans Originated - DL GRAD PLUS</th>\n",
       "      <th>$ of Loans Originated - DL GRAD PLUS</th>\n",
       "      <th># of Disbursements - DL GRAD PLUS</th>\n",
       "      <th>$ of Disbursements - DL GRAD PLUS</th>\n",
       "    </tr>\n",
       "  </thead>\n",
       "  <tbody>\n",
       "    <tr>\n",
       "      <th>0</th>\n",
       "      <td>2</td>\n",
       "      <td>00100200</td>\n",
       "      <td>ALABAMA AGRICULTURAL &amp; MECHANICAL UNIVERSITY</td>\n",
       "      <td>AL</td>\n",
       "      <td>357621357</td>\n",
       "      <td>Public</td>\n",
       "      <td>2587</td>\n",
       "      <td>2614</td>\n",
       "      <td>10820197</td>\n",
       "      <td>2614</td>\n",
       "      <td>...</td>\n",
       "      <td>837</td>\n",
       "      <td>851</td>\n",
       "      <td>12228044</td>\n",
       "      <td>851</td>\n",
       "      <td>6131002</td>\n",
       "      <td>122</td>\n",
       "      <td>128</td>\n",
       "      <td>982754</td>\n",
       "      <td>128</td>\n",
       "      <td>493128</td>\n",
       "    </tr>\n",
       "    <tr>\n",
       "      <th>1</th>\n",
       "      <td>3</td>\n",
       "      <td>00100300</td>\n",
       "      <td>FAULKNER UNIVERSITY</td>\n",
       "      <td>AL</td>\n",
       "      <td>361093398</td>\n",
       "      <td>Private-Nonprofit</td>\n",
       "      <td>943</td>\n",
       "      <td>947</td>\n",
       "      <td>2969661</td>\n",
       "      <td>979</td>\n",
       "      <td>...</td>\n",
       "      <td>138</td>\n",
       "      <td>145</td>\n",
       "      <td>1497367</td>\n",
       "      <td>145</td>\n",
       "      <td>748684</td>\n",
       "      <td>136</td>\n",
       "      <td>147</td>\n",
       "      <td>2853880</td>\n",
       "      <td>148</td>\n",
       "      <td>1429438</td>\n",
       "    </tr>\n",
       "    <tr>\n",
       "      <th>2</th>\n",
       "      <td>4</td>\n",
       "      <td>00100400</td>\n",
       "      <td>UNIVERSITY OF MONTEVALLO</td>\n",
       "      <td>AL</td>\n",
       "      <td>351156000</td>\n",
       "      <td>Public</td>\n",
       "      <td>995</td>\n",
       "      <td>1015</td>\n",
       "      <td>4221927</td>\n",
       "      <td>1015</td>\n",
       "      <td>...</td>\n",
       "      <td>262</td>\n",
       "      <td>272</td>\n",
       "      <td>3471286</td>\n",
       "      <td>272</td>\n",
       "      <td>1735683</td>\n",
       "      <td>11</td>\n",
       "      <td>12</td>\n",
       "      <td>97832</td>\n",
       "      <td>12</td>\n",
       "      <td>48916</td>\n",
       "    </tr>\n",
       "    <tr>\n",
       "      <th>3</th>\n",
       "      <td>5</td>\n",
       "      <td>00100500</td>\n",
       "      <td>ALABAMA STATE UNIVERSITY</td>\n",
       "      <td>AL</td>\n",
       "      <td>361045714</td>\n",
       "      <td>Public</td>\n",
       "      <td>1807</td>\n",
       "      <td>1812</td>\n",
       "      <td>7869171</td>\n",
       "      <td>1819</td>\n",
       "      <td>...</td>\n",
       "      <td>453</td>\n",
       "      <td>468</td>\n",
       "      <td>6881617</td>\n",
       "      <td>469</td>\n",
       "      <td>3458242</td>\n",
       "      <td>69</td>\n",
       "      <td>70</td>\n",
       "      <td>786372</td>\n",
       "      <td>76</td>\n",
       "      <td>408307</td>\n",
       "    </tr>\n",
       "    <tr>\n",
       "      <th>4</th>\n",
       "      <td>6</td>\n",
       "      <td>00100700</td>\n",
       "      <td>CENTRAL ALABAMA COMMUNITY COLLEGE</td>\n",
       "      <td>AL</td>\n",
       "      <td>350100000</td>\n",
       "      <td>Public</td>\n",
       "      <td>135</td>\n",
       "      <td>138</td>\n",
       "      <td>442997</td>\n",
       "      <td>138</td>\n",
       "      <td>...</td>\n",
       "      <td>1</td>\n",
       "      <td>1</td>\n",
       "      <td>7725</td>\n",
       "      <td>1</td>\n",
       "      <td>3863</td>\n",
       "      <td>-</td>\n",
       "      <td>-</td>\n",
       "      <td>-</td>\n",
       "      <td>-</td>\n",
       "      <td>-</td>\n",
       "    </tr>\n",
       "  </tbody>\n",
       "</table>\n",
       "<p>5 rows × 31 columns</p>\n",
       "</div>"
      ],
      "text/plain": [
       "1  index    OPE ID                                        School State  \\\n",
       "0      2  00100200  ALABAMA AGRICULTURAL & MECHANICAL UNIVERSITY    AL   \n",
       "1      3  00100300                           FAULKNER UNIVERSITY    AL   \n",
       "2      4  00100400                      UNIVERSITY OF MONTEVALLO    AL   \n",
       "3      5  00100500                      ALABAMA STATE UNIVERSITY    AL   \n",
       "4      6  00100700             CENTRAL ALABAMA COMMUNITY COLLEGE    AL   \n",
       "\n",
       "1   Zip Code        School Type Recipients - DL SUBSIDIZED  \\\n",
       "0  357621357             Public                       2587   \n",
       "1  361093398  Private-Nonprofit                        943   \n",
       "2  351156000             Public                        995   \n",
       "3  361045714             Public                       1807   \n",
       "4  350100000             Public                        135   \n",
       "\n",
       "1 # of Loans Originated - DL SUBSIDIZED $ of Loans Originated - DL SUBSIDIZED  \\\n",
       "0                                  2614                              10820197   \n",
       "1                                   947                               2969661   \n",
       "2                                  1015                               4221927   \n",
       "3                                  1812                               7869171   \n",
       "4                                   138                                442997   \n",
       "\n",
       "1 # of Disbursements - DL SUBSIDIZED  ... Recipients - DL PARENT PLUS  \\\n",
       "0                               2614  ...                         837   \n",
       "1                                979  ...                         138   \n",
       "2                               1015  ...                         262   \n",
       "3                               1819  ...                         453   \n",
       "4                                138  ...                           1   \n",
       "\n",
       "1 # of Loans Originated - DL PARENT PLUS  \\\n",
       "0                                    851   \n",
       "1                                    145   \n",
       "2                                    272   \n",
       "3                                    468   \n",
       "4                                      1   \n",
       "\n",
       "1 $ of Loans Originated - DL PARENT PLUS # of Disbursements - DL PARENT PLUS  \\\n",
       "0                               12228044                                 851   \n",
       "1                                1497367                                 145   \n",
       "2                                3471286                                 272   \n",
       "3                                6881617                                 469   \n",
       "4                                   7725                                   1   \n",
       "\n",
       "1 $ of Disbursements - DL PARENT PLUS Recipients - DL GRAD PLUS  \\\n",
       "0                             6131002                       122   \n",
       "1                              748684                       136   \n",
       "2                             1735683                        11   \n",
       "3                             3458242                        69   \n",
       "4                                3863                         -   \n",
       "\n",
       "1 # of Loans Originated - DL GRAD PLUS $ of Loans Originated - DL GRAD PLUS  \\\n",
       "0                                  128                               982754   \n",
       "1                                  147                              2853880   \n",
       "2                                   12                                97832   \n",
       "3                                   70                               786372   \n",
       "4                                    -                                    -   \n",
       "\n",
       "1 # of Disbursements - DL GRAD PLUS $ of Disbursements - DL GRAD PLUS  \n",
       "0                               128                            493128  \n",
       "1                               148                           1429438  \n",
       "2                                12                             48916  \n",
       "3                                76                            408307  \n",
       "4                                 -                                 -  \n",
       "\n",
       "[5 rows x 31 columns]"
      ]
     },
     "execution_count": 186,
     "metadata": {},
     "output_type": "execute_result"
    }
   ],
   "source": [
    "df = df_copy\n",
    "\n",
    "\n",
    "for row_num in range(2,df.shape[0]):\n",
    "    if (df['$ of Disbursements - DL SUBSIDIZED'][row_num] == \" -\") or (df['$ of Disbursements - DL SUBSIDIZED'][row_num] == \"-\"):\n",
    "        df.drop([row_num], inplace = True)\n",
    "\n",
    "df.reset_index(level=0, inplace=True)\n",
    "df.head()"
   ]
  },
  {
   "cell_type": "code",
   "execution_count": 187,
   "metadata": {
    "scrolled": true
   },
   "outputs": [
    {
     "data": {
      "text/html": [
       "<div>\n",
       "<style scoped>\n",
       "    .dataframe tbody tr th:only-of-type {\n",
       "        vertical-align: middle;\n",
       "    }\n",
       "\n",
       "    .dataframe tbody tr th {\n",
       "        vertical-align: top;\n",
       "    }\n",
       "\n",
       "    .dataframe thead th {\n",
       "        text-align: right;\n",
       "    }\n",
       "</style>\n",
       "<table border=\"1\" class=\"dataframe\">\n",
       "  <thead>\n",
       "    <tr style=\"text-align: right;\">\n",
       "      <th></th>\n",
       "      <th>School Type</th>\n",
       "      <th>School</th>\n",
       "      <th>Recipients - DL SUBSIDIZED</th>\n",
       "      <th># of Loans Originated - DL SUBSIDIZED</th>\n",
       "      <th>$ of Loans Originated - DL SUBSIDIZED</th>\n",
       "      <th># of Disbursements - DL SUBSIDIZED</th>\n",
       "      <th>$ of Disbursements - DL SUBSIDIZED</th>\n",
       "    </tr>\n",
       "  </thead>\n",
       "  <tbody>\n",
       "    <tr>\n",
       "      <th>0</th>\n",
       "      <td>Foreign-Private</td>\n",
       "      <td>39</td>\n",
       "      <td>677</td>\n",
       "      <td>677</td>\n",
       "      <td>3010217</td>\n",
       "      <td>681</td>\n",
       "      <td>1535358</td>\n",
       "    </tr>\n",
       "    <tr>\n",
       "      <th>1</th>\n",
       "      <td>Foreign-Public</td>\n",
       "      <td>121</td>\n",
       "      <td>1557</td>\n",
       "      <td>1560</td>\n",
       "      <td>6749666</td>\n",
       "      <td>1562</td>\n",
       "      <td>3271412</td>\n",
       "    </tr>\n",
       "    <tr>\n",
       "      <th>2</th>\n",
       "      <td>Private-Nonprofit</td>\n",
       "      <td>1264</td>\n",
       "      <td>891792</td>\n",
       "      <td>898759</td>\n",
       "      <td>3783731343</td>\n",
       "      <td>926652</td>\n",
       "      <td>1872030719</td>\n",
       "    </tr>\n",
       "    <tr>\n",
       "      <th>3</th>\n",
       "      <td>Proprietary</td>\n",
       "      <td>1423</td>\n",
       "      <td>203981</td>\n",
       "      <td>205496</td>\n",
       "      <td>717323159</td>\n",
       "      <td>228060</td>\n",
       "      <td>338223772</td>\n",
       "    </tr>\n",
       "    <tr>\n",
       "      <th>4</th>\n",
       "      <td>Public</td>\n",
       "      <td>1285</td>\n",
       "      <td>2019194</td>\n",
       "      <td>2052378</td>\n",
       "      <td>8202860261</td>\n",
       "      <td>2068143</td>\n",
       "      <td>4145046880</td>\n",
       "    </tr>\n",
       "  </tbody>\n",
       "</table>\n",
       "</div>"
      ],
      "text/plain": [
       "         School Type  School  Recipients - DL SUBSIDIZED  \\\n",
       "0    Foreign-Private      39                         677   \n",
       "1     Foreign-Public     121                        1557   \n",
       "2  Private-Nonprofit    1264                      891792   \n",
       "3        Proprietary    1423                      203981   \n",
       "4             Public    1285                     2019194   \n",
       "\n",
       "   # of Loans Originated - DL SUBSIDIZED  \\\n",
       "0                                    677   \n",
       "1                                   1560   \n",
       "2                                 898759   \n",
       "3                                 205496   \n",
       "4                                2052378   \n",
       "\n",
       "   $ of Loans Originated - DL SUBSIDIZED  # of Disbursements - DL SUBSIDIZED  \\\n",
       "0                                3010217                                 681   \n",
       "1                                6749666                                1562   \n",
       "2                             3783731343                              926652   \n",
       "3                              717323159                              228060   \n",
       "4                             8202860261                             2068143   \n",
       "\n",
       "   $ of Disbursements - DL SUBSIDIZED  \n",
       "0                             1535358  \n",
       "1                             3271412  \n",
       "2                          1872030719  \n",
       "3                           338223772  \n",
       "4                          4145046880  "
      ]
     },
     "execution_count": 187,
     "metadata": {},
     "output_type": "execute_result"
    }
   ],
   "source": [
    "df_sub_pr = df.groupby(['School Type']).agg({'School':['count'],\n",
    "                                       'Recipients - DL SUBSIDIZED' : ['sum'],\n",
    "                                       '# of Loans Originated - DL SUBSIDIZED' : ['sum'],\n",
    "                                       '$ of Loans Originated - DL SUBSIDIZED' : ['sum'],\n",
    "                                       '# of Disbursements - DL SUBSIDIZED' : ['sum'],\n",
    "                                       '$ of Disbursements - DL SUBSIDIZED' : ['sum']})\n",
    "#%%\n",
    "df_sub_pr.reset_index(level=0, inplace=True)\n",
    "df_sub_pr.columns = df_sub_pr.columns.droplevel(1)\n",
    "df_sub_pr.head()"
   ]
  },
  {
   "cell_type": "code",
   "execution_count": 188,
   "metadata": {},
   "outputs": [],
   "source": [
    "df_sub_pr['Average $ of Disbursements per recipient - DL SUBSIDIZED'] = df_sub_pr['$ of Disbursements - DL SUBSIDIZED'] / df_sub_pr['Recipients - DL SUBSIDIZED']\n",
    "df_sub_pr['Average $ of Loans Originated per recipient - DL SUBSIDIZED'] = df_sub_pr['$ of Loans Originated - DL SUBSIDIZED'] / df_sub_pr['Recipients - DL SUBSIDIZED']\n",
    "\n",
    "df_sub_pr['Average % of Disbursements to Loans Originated per recipient - DL SUBSIDIZED'] = (df_sub_pr['Average $ of Disbursements per recipient - DL SUBSIDIZED'] * 100)/ df_sub_pr['Average $ of Loans Originated per recipient - DL SUBSIDIZED']"
   ]
  },
  {
   "cell_type": "code",
   "execution_count": 189,
   "metadata": {
    "scrolled": false
   },
   "outputs": [
    {
     "data": {
      "text/html": [
       "<div>\n",
       "<style scoped>\n",
       "    .dataframe tbody tr th:only-of-type {\n",
       "        vertical-align: middle;\n",
       "    }\n",
       "\n",
       "    .dataframe tbody tr th {\n",
       "        vertical-align: top;\n",
       "    }\n",
       "\n",
       "    .dataframe thead th {\n",
       "        text-align: right;\n",
       "    }\n",
       "</style>\n",
       "<table border=\"1\" class=\"dataframe\">\n",
       "  <thead>\n",
       "    <tr style=\"text-align: right;\">\n",
       "      <th></th>\n",
       "      <th>School Type</th>\n",
       "      <th>School</th>\n",
       "      <th>Recipients - DL SUBSIDIZED</th>\n",
       "      <th># of Loans Originated - DL SUBSIDIZED</th>\n",
       "      <th>$ of Loans Originated - DL SUBSIDIZED</th>\n",
       "      <th># of Disbursements - DL SUBSIDIZED</th>\n",
       "      <th>$ of Disbursements - DL SUBSIDIZED</th>\n",
       "      <th>Average $ of Disbursements per recipient - DL SUBSIDIZED</th>\n",
       "      <th>Average $ of Loans Originated per recipient - DL SUBSIDIZED</th>\n",
       "      <th>Average % of Disbursements to Loans Originated per recipient - DL SUBSIDIZED</th>\n",
       "    </tr>\n",
       "  </thead>\n",
       "  <tbody>\n",
       "    <tr>\n",
       "      <th>0</th>\n",
       "      <td>Foreign-Private</td>\n",
       "      <td>39</td>\n",
       "      <td>677</td>\n",
       "      <td>677</td>\n",
       "      <td>3010217</td>\n",
       "      <td>681</td>\n",
       "      <td>1535358</td>\n",
       "      <td>2267.884786</td>\n",
       "      <td>4446.406204</td>\n",
       "      <td>51.004894</td>\n",
       "    </tr>\n",
       "    <tr>\n",
       "      <th>1</th>\n",
       "      <td>Foreign-Public</td>\n",
       "      <td>121</td>\n",
       "      <td>1557</td>\n",
       "      <td>1560</td>\n",
       "      <td>6749666</td>\n",
       "      <td>1562</td>\n",
       "      <td>3271412</td>\n",
       "      <td>2101.099550</td>\n",
       "      <td>4335.045601</td>\n",
       "      <td>48.467761</td>\n",
       "    </tr>\n",
       "    <tr>\n",
       "      <th>2</th>\n",
       "      <td>Private-Nonprofit</td>\n",
       "      <td>1264</td>\n",
       "      <td>891792</td>\n",
       "      <td>898759</td>\n",
       "      <td>3783731343</td>\n",
       "      <td>926652</td>\n",
       "      <td>1872030719</td>\n",
       "      <td>2099.178641</td>\n",
       "      <td>4242.840643</td>\n",
       "      <td>49.475783</td>\n",
       "    </tr>\n",
       "    <tr>\n",
       "      <th>3</th>\n",
       "      <td>Proprietary</td>\n",
       "      <td>1423</td>\n",
       "      <td>203981</td>\n",
       "      <td>205496</td>\n",
       "      <td>717323159</td>\n",
       "      <td>228060</td>\n",
       "      <td>338223772</td>\n",
       "      <td>1658.114099</td>\n",
       "      <td>3516.617523</td>\n",
       "      <td>47.150823</td>\n",
       "    </tr>\n",
       "    <tr>\n",
       "      <th>4</th>\n",
       "      <td>Public</td>\n",
       "      <td>1285</td>\n",
       "      <td>2019194</td>\n",
       "      <td>2052378</td>\n",
       "      <td>8202860261</td>\n",
       "      <td>2068143</td>\n",
       "      <td>4145046880</td>\n",
       "      <td>2052.822502</td>\n",
       "      <td>4062.442866</td>\n",
       "      <td>50.531726</td>\n",
       "    </tr>\n",
       "  </tbody>\n",
       "</table>\n",
       "</div>"
      ],
      "text/plain": [
       "         School Type  School  Recipients - DL SUBSIDIZED  \\\n",
       "0    Foreign-Private      39                         677   \n",
       "1     Foreign-Public     121                        1557   \n",
       "2  Private-Nonprofit    1264                      891792   \n",
       "3        Proprietary    1423                      203981   \n",
       "4             Public    1285                     2019194   \n",
       "\n",
       "   # of Loans Originated - DL SUBSIDIZED  \\\n",
       "0                                    677   \n",
       "1                                   1560   \n",
       "2                                 898759   \n",
       "3                                 205496   \n",
       "4                                2052378   \n",
       "\n",
       "   $ of Loans Originated - DL SUBSIDIZED  # of Disbursements - DL SUBSIDIZED  \\\n",
       "0                                3010217                                 681   \n",
       "1                                6749666                                1562   \n",
       "2                             3783731343                              926652   \n",
       "3                              717323159                              228060   \n",
       "4                             8202860261                             2068143   \n",
       "\n",
       "   $ of Disbursements - DL SUBSIDIZED  \\\n",
       "0                             1535358   \n",
       "1                             3271412   \n",
       "2                          1872030719   \n",
       "3                           338223772   \n",
       "4                          4145046880   \n",
       "\n",
       "   Average $ of Disbursements per recipient - DL SUBSIDIZED  \\\n",
       "0                                        2267.884786          \n",
       "1                                        2101.099550          \n",
       "2                                        2099.178641          \n",
       "3                                        1658.114099          \n",
       "4                                        2052.822502          \n",
       "\n",
       "   Average $ of Loans Originated per recipient - DL SUBSIDIZED  \\\n",
       "0                                        4446.406204             \n",
       "1                                        4335.045601             \n",
       "2                                        4242.840643             \n",
       "3                                        3516.617523             \n",
       "4                                        4062.442866             \n",
       "\n",
       "   Average % of Disbursements to Loans Originated per recipient - DL SUBSIDIZED  \n",
       "0                                          51.004894                             \n",
       "1                                          48.467761                             \n",
       "2                                          49.475783                             \n",
       "3                                          47.150823                             \n",
       "4                                          50.531726                             "
      ]
     },
     "execution_count": 189,
     "metadata": {},
     "output_type": "execute_result"
    }
   ],
   "source": [
    "df_sub_pr.head()"
   ]
  },
  {
   "cell_type": "code",
   "execution_count": 289,
   "metadata": {
    "scrolled": false
   },
   "outputs": [
    {
     "data": {
      "image/png": "[encoded data removed]",
      "text/plain": [
       "<Figure size 432x288 with 1 Axes>"
      ]
     },
     "metadata": {},
     "output_type": "display_data"
    }
   ],
   "source": [
    "fig, axe = plt.subplots()\n",
    "plt1 = axe.bar(df_sub_pr['School Type'], round(df_sub_pr['Average % of Disbursements to Loans Originated per recipient - DL SUBSIDIZED']), color = 'pink')\n",
    "plt.xticks(rotation=45, fontsize=11)\n",
    "plt.yticks(fontsize=11)\n",
    "autolabel(plt1, axe, \"center\", 12)\n",
    "axe.set_ylabel('%')\n",
    "axe.set_title('Average % of Disbursements to Loans Originated\\nper recipient - DL SUBSIDIZED\\n', fontsize=15)\n",
    "plt.show()"
   ]
  },
  {
   "cell_type": "code",
   "execution_count": 307,
   "metadata": {},
   "outputs": [
    {
     "data": {
      "image/png": "[encoded data removed]",
      "text/plain": [
       "<Figure size 432x288 with 1 Axes>"
      ]
     },
     "metadata": {},
     "output_type": "display_data"
    }
   ],
   "source": [
    "fig, axe = plt.subplots()\n",
    "plt2 = axe.bar(df_sub_pr['School Type'], round(df_sub_pr['Average $ of Loans Originated per recipient - DL SUBSIDIZED']), color = 'pink')\n",
    "plt.xticks(rotation=45, fontsize=11)\n",
    "plt.yticks(fontsize=11)\n",
    "autolabel(plt2, axe, \"center\", 12)\n",
    "axe.set_ylabel('$')\n",
    "axe.set_title('Average $ of Loans Originated per recipient - DL SUBSIDIZED\\n', fontsize=15)\n",
    "plt.show()"
   ]
  },
  {
   "cell_type": "markdown",
   "metadata": {},
   "source": [
    "# parent plus"
   ]
  },
  {
   "cell_type": "code",
   "execution_count": 200,
   "metadata": {},
   "outputs": [],
   "source": [
    "df = df_copy\n",
    "for row_num in range(2,df.shape[0]):\n",
    "    if (df['$ of Disbursements - DL PARENT PLUS'][row_num] == \" -\") or (df['$ of Disbursements - DL PARENT PLUS'][row_num] == \"- \"):\n",
    " #       print(f'{row_num} here')\n",
    " #       df['$ of Disbursements - DL SUBSIDIZED'][row_num] = 0\n",
    "        df.drop([row_num], inplace = True)\n",
    "\n",
    "#  df.reset_index(level=0, inplace=True)"
   ]
  },
  {
   "cell_type": "code",
   "execution_count": 203,
   "metadata": {},
   "outputs": [],
   "source": [
    "df_parent_pr = df.groupby(['School Type']).agg({'School':['count'],\n",
    "                                       'Recipients - DL PARENT PLUS' : ['sum'],\n",
    "                                       '# of Loans Originated - DL PARENT PLUS' : ['sum'],\n",
    "                                       '$ of Loans Originated - DL PARENT PLUS' : ['sum'],\n",
    "                                       '# of Disbursements - DL PARENT PLUS' : ['sum'],\n",
    "                                       '$ of Disbursements - DL PARENT PLUS' : ['sum']})\n",
    "#%%\n",
    "df_parent_pr.reset_index(level=0, inplace=True)\n",
    "df_parent_pr.columns = df_parent_pr.columns.droplevel(1)"
   ]
  },
  {
   "cell_type": "code",
   "execution_count": 204,
   "metadata": {},
   "outputs": [],
   "source": [
    "df_parent_pr['Average $ of Disbursements per recipient - DL PARENT PLUS'] = df_parent_pr['$ of Disbursements - DL PARENT PLUS'] / df_parent_pr['Recipients - DL PARENT PLUS']\n",
    "df_parent_pr['Average $ of Loans Originated per recipient - DL PARENT PLUS'] = df_parent_pr['$ of Loans Originated - DL PARENT PLUS'] / df_parent_pr['Recipients - DL PARENT PLUS']\n",
    "\n",
    "df_parent_pr['Average % of Disbursements to Loans Originated per recipient - DL PARENT PLUS'] = (df_parent_pr['Average $ of Disbursements per recipient - DL PARENT PLUS'] * 100)/ df_parent_pr['Average $ of Loans Originated per recipient - DL PARENT PLUS']"
   ]
  },
  {
   "cell_type": "code",
   "execution_count": 297,
   "metadata": {},
   "outputs": [
    {
     "data": {
      "image/png": "[encoded data removed]",
      "text/plain": [
       "<Figure size 432x288 with 1 Axes>"
      ]
     },
     "metadata": {},
     "output_type": "display_data"
    }
   ],
   "source": [
    "fig, axe = plt.subplots()\n",
    "plt3 = axe.bar(df_parent_pr['School Type'], round(df_parent_pr['Average % of Disbursements to Loans Originated per recipient - DL PARENT PLUS']), color = 'pink')\n",
    "plt.xticks(rotation=45, fontsize=11)\n",
    "plt.yticks(fontsize=11)\n",
    "autolabel(plt3, axe, \"center\", 12)\n",
    "axe.set_ylabel('%')\n",
    "axe.set_title('Average % of Disbursements to Loans Originated\\nper recipient - DL PARENT PLUS\\n', fontsize=15)\n",
    "plt.show()"
   ]
  },
  {
   "cell_type": "code",
   "execution_count": 299,
   "metadata": {},
   "outputs": [
    {
     "data": {
      "image/png": "[encoded data removed]",
      "text/plain": [
       "<Figure size 432x288 with 1 Axes>"
      ]
     },
     "metadata": {},
     "output_type": "display_data"
    }
   ],
   "source": [
    "fig, axe = plt.subplots()\n",
    "pl4 = axe.bar(df_parent_pr['School Type'], round(df_parent_pr['Average $ of Loans Originated per recipient - DL PARENT PLUS']), color = 'pink')\n",
    "plt.xticks(rotation=45, fontsize=11)\n",
    "plt.yticks(fontsize=11)\n",
    "autolabel(pl4, axe, \"center\", 12)\n",
    "axe.set_ylabel('$')\n",
    "axe.set_title('Average $ of Loans Originated per recipient - DL PARENT PLUS\\n', fontsize=15)\n",
    "plt.show()"
   ]
  },
  {
   "cell_type": "markdown",
   "metadata": {},
   "source": [
    "# DL UNSUBSIDIZED - UNDERGRADUATE"
   ]
  },
  {
   "cell_type": "code",
   "execution_count": 212,
   "metadata": {},
   "outputs": [],
   "source": [
    "df = df_copy\n",
    "\n",
    "\n",
    "for row_num in range(2,df.shape[0]):\n",
    "    if (df['$ of Disbursements - DL UNSUBSIDIZED - UNDERGRADUATE'][row_num] == \" -\") or (df['$ of Disbursements - DL UNSUBSIDIZED - UNDERGRADUATE'][row_num] == \"-\"):\n",
    "        df.drop([row_num], inplace = True)\n",
    "\n",
    "df.reset_index(level=0, inplace=True)"
   ]
  },
  {
   "cell_type": "code",
   "execution_count": 213,
   "metadata": {},
   "outputs": [],
   "source": [
    "df_unsub_ug_pr = df.groupby(['School Type']).agg({'School':['count'],\n",
    "                                       'Recipients - DL UNSUBSIDIZED - UNDERGRADUATE' : ['sum'],\n",
    "                                       '# of Loans Originated - DL UNSUBSIDIZED - UNDERGRADUATE' : ['sum'],\n",
    "                                       '$ of Loans Originated - DL UNSUBSIDIZED - UNDERGRADUATE' : ['sum'],\n",
    "                                       '# of Disbursements - DL UNSUBSIDIZED - UNDERGRADUATE' : ['sum'],\n",
    "                                       '$ of Disbursements - DL UNSUBSIDIZED - UNDERGRADUATE' : ['sum']})\n",
    "#%%\n",
    "df_unsub_ug_pr.reset_index(level=0, inplace=True)\n",
    "df_unsub_ug_pr.columns = df_unsub_ug_pr.columns.droplevel(1)"
   ]
  },
  {
   "cell_type": "code",
   "execution_count": 215,
   "metadata": {},
   "outputs": [],
   "source": [
    "df_unsub_ug_pr['Average $ of Disbursements per recipient - DL UNSUBSIDIZED - UNDERGRADUATE'] = df_unsub_ug_pr['$ of Disbursements - DL UNSUBSIDIZED - UNDERGRADUATE'] / df_unsub_ug_pr['Recipients - DL UNSUBSIDIZED - UNDERGRADUATE']\n",
    "df_unsub_ug_pr['Average $ of Loans Originated per recipient - DL UNSUBSIDIZED - UNDERGRADUATE'] = df_unsub_ug_pr['$ of Loans Originated - DL UNSUBSIDIZED - UNDERGRADUATE'] / df_unsub_ug_pr['Recipients - DL UNSUBSIDIZED - UNDERGRADUATE']\n",
    "\n",
    "df_unsub_ug_pr['Average % of Disbursements to Loans Originated per recipient - DL UNSUBSIDIZED - UNDERGRADUATE'] = (df_unsub_ug_pr['Average $ of Disbursements per recipient - DL UNSUBSIDIZED - UNDERGRADUATE'] * 100)/ df_unsub_ug_pr['Average $ of Loans Originated per recipient - DL UNSUBSIDIZED - UNDERGRADUATE']"
   ]
  },
  {
   "cell_type": "code",
   "execution_count": 216,
   "metadata": {},
   "outputs": [
    {
     "data": {
      "text/html": [
       "<div>\n",
       "<style scoped>\n",
       "    .dataframe tbody tr th:only-of-type {\n",
       "        vertical-align: middle;\n",
       "    }\n",
       "\n",
       "    .dataframe tbody tr th {\n",
       "        vertical-align: top;\n",
       "    }\n",
       "\n",
       "    .dataframe thead th {\n",
       "        text-align: right;\n",
       "    }\n",
       "</style>\n",
       "<table border=\"1\" class=\"dataframe\">\n",
       "  <thead>\n",
       "    <tr style=\"text-align: right;\">\n",
       "      <th></th>\n",
       "      <th>School Type</th>\n",
       "      <th>School</th>\n",
       "      <th>Recipients - DL UNSUBSIDIZED - UNDERGRADUATE</th>\n",
       "      <th># of Loans Originated - DL UNSUBSIDIZED - UNDERGRADUATE</th>\n",
       "      <th>$ of Loans Originated - DL UNSUBSIDIZED - UNDERGRADUATE</th>\n",
       "      <th># of Disbursements - DL UNSUBSIDIZED - UNDERGRADUATE</th>\n",
       "      <th>$ of Disbursements - DL UNSUBSIDIZED - UNDERGRADUATE</th>\n",
       "      <th>Average $ of Disbursements per recipient - DL UNSUBSIDIZED - UNDERGRADUATE</th>\n",
       "      <th>Average $ of Loans Originated per recipient - DL UNSUBSIDIZED - UNDERGRADUATE</th>\n",
       "      <th>Average % of Disbursements to Loans Originated per recipient - DL UNSUBSIDIZED - UNDERGRADUATE</th>\n",
       "    </tr>\n",
       "  </thead>\n",
       "  <tbody>\n",
       "    <tr>\n",
       "      <th>0</th>\n",
       "      <td>Foreign-Private</td>\n",
       "      <td>39</td>\n",
       "      <td>719</td>\n",
       "      <td>720</td>\n",
       "      <td>2324188</td>\n",
       "      <td>725</td>\n",
       "      <td>1184770</td>\n",
       "      <td>1647.802503</td>\n",
       "      <td>3232.528512</td>\n",
       "      <td>50.975653</td>\n",
       "    </tr>\n",
       "    <tr>\n",
       "      <th>1</th>\n",
       "      <td>Foreign-Public</td>\n",
       "      <td>126</td>\n",
       "      <td>1878</td>\n",
       "      <td>1885</td>\n",
       "      <td>7332111</td>\n",
       "      <td>1888</td>\n",
       "      <td>3564994</td>\n",
       "      <td>1898.292865</td>\n",
       "      <td>3904.212460</td>\n",
       "      <td>48.621659</td>\n",
       "    </tr>\n",
       "    <tr>\n",
       "      <th>2</th>\n",
       "      <td>Private-Nonprofit</td>\n",
       "      <td>1285</td>\n",
       "      <td>943811</td>\n",
       "      <td>978563</td>\n",
       "      <td>3604639392</td>\n",
       "      <td>1008083</td>\n",
       "      <td>1764596633</td>\n",
       "      <td>1869.650420</td>\n",
       "      <td>3819.238589</td>\n",
       "      <td>48.953486</td>\n",
       "    </tr>\n",
       "    <tr>\n",
       "      <th>3</th>\n",
       "      <td>Proprietary</td>\n",
       "      <td>1421</td>\n",
       "      <td>215714</td>\n",
       "      <td>220826</td>\n",
       "      <td>1022792268</td>\n",
       "      <td>248043</td>\n",
       "      <td>474554647</td>\n",
       "      <td>2199.925118</td>\n",
       "      <td>4741.427390</td>\n",
       "      <td>46.397950</td>\n",
       "    </tr>\n",
       "    <tr>\n",
       "      <th>4</th>\n",
       "      <td>Public</td>\n",
       "      <td>1285</td>\n",
       "      <td>2033863</td>\n",
       "      <td>2128093</td>\n",
       "      <td>8454547764</td>\n",
       "      <td>2143350</td>\n",
       "      <td>4270478086</td>\n",
       "      <td>2099.688173</td>\n",
       "      <td>4156.891474</td>\n",
       "      <td>50.511017</td>\n",
       "    </tr>\n",
       "  </tbody>\n",
       "</table>\n",
       "</div>"
      ],
      "text/plain": [
       "         School Type  School  Recipients - DL UNSUBSIDIZED - UNDERGRADUATE  \\\n",
       "0    Foreign-Private      39                                           719   \n",
       "1     Foreign-Public     126                                          1878   \n",
       "2  Private-Nonprofit    1285                                        943811   \n",
       "3        Proprietary    1421                                        215714   \n",
       "4             Public    1285                                       2033863   \n",
       "\n",
       "   # of Loans Originated - DL UNSUBSIDIZED - UNDERGRADUATE  \\\n",
       "0                                                720         \n",
       "1                                               1885         \n",
       "2                                             978563         \n",
       "3                                             220826         \n",
       "4                                            2128093         \n",
       "\n",
       "   $ of Loans Originated - DL UNSUBSIDIZED - UNDERGRADUATE  \\\n",
       "0                                            2324188         \n",
       "1                                            7332111         \n",
       "2                                         3604639392         \n",
       "3                                         1022792268         \n",
       "4                                         8454547764         \n",
       "\n",
       "   # of Disbursements - DL UNSUBSIDIZED - UNDERGRADUATE  \\\n",
       "0                                                725      \n",
       "1                                               1888      \n",
       "2                                            1008083      \n",
       "3                                             248043      \n",
       "4                                            2143350      \n",
       "\n",
       "   $ of Disbursements - DL UNSUBSIDIZED - UNDERGRADUATE  \\\n",
       "0                                            1184770      \n",
       "1                                            3564994      \n",
       "2                                         1764596633      \n",
       "3                                          474554647      \n",
       "4                                         4270478086      \n",
       "\n",
       "   Average $ of Disbursements per recipient - DL UNSUBSIDIZED - UNDERGRADUATE  \\\n",
       "0                                        1647.802503                            \n",
       "1                                        1898.292865                            \n",
       "2                                        1869.650420                            \n",
       "3                                        2199.925118                            \n",
       "4                                        2099.688173                            \n",
       "\n",
       "   Average $ of Loans Originated per recipient - DL UNSUBSIDIZED - UNDERGRADUATE  \\\n",
       "0                                        3232.528512                               \n",
       "1                                        3904.212460                               \n",
       "2                                        3819.238589                               \n",
       "3                                        4741.427390                               \n",
       "4                                        4156.891474                               \n",
       "\n",
       "   Average % of Disbursements to Loans Originated per recipient - DL UNSUBSIDIZED - UNDERGRADUATE  \n",
       "0                                          50.975653                                               \n",
       "1                                          48.621659                                               \n",
       "2                                          48.953486                                               \n",
       "3                                          46.397950                                               \n",
       "4                                          50.511017                                               "
      ]
     },
     "execution_count": 216,
     "metadata": {},
     "output_type": "execute_result"
    }
   ],
   "source": [
    "df_unsub_ug_pr.head()"
   ]
  },
  {
   "cell_type": "code",
   "execution_count": 303,
   "metadata": {},
   "outputs": [
    {
     "data": {
      "image/png": "[encoded data removed]",
      "text/plain": [
       "<Figure size 432x288 with 1 Axes>"
      ]
     },
     "metadata": {},
     "output_type": "display_data"
    }
   ],
   "source": [
    "fig, axe = plt.subplots()\n",
    "plt5 = axe.bar(df_unsub_ug_pr['School Type'], round(df_unsub_ug_pr['Average % of Disbursements to Loans Originated per recipient - DL UNSUBSIDIZED - UNDERGRADUATE']), color = 'pink')\n",
    "plt.xticks(rotation=45, fontsize=11)\n",
    "plt.yticks(fontsize=11)\n",
    "autolabel(plt5, axe, \"center\", 12)\n",
    "axe.set_ylabel('%')\n",
    "axe.set_title('Average % of Disbursements to Loans Originated\\nper recipient - DL UNSUBSIDIZED - UNDERGRADUATE\\n', fontsize=15)\n",
    "plt.show()"
   ]
  },
  {
   "cell_type": "code",
   "execution_count": 304,
   "metadata": {},
   "outputs": [
    {
     "data": {
      "image/png": "[encoded data removed]",
      "text/plain": [
       "<Figure size 432x288 with 1 Axes>"
      ]
     },
     "metadata": {},
     "output_type": "display_data"
    }
   ],
   "source": [
    "fig, axe = plt.subplots()\n",
    "plt6 = axe.bar(df_unsub_ug_pr['School Type'], round(df_unsub_ug_pr['Average $ of Loans Originated per recipient - DL UNSUBSIDIZED - UNDERGRADUATE']), color = 'pink')\n",
    "plt.xticks(rotation=45, fontsize=11)\n",
    "plt.yticks(fontsize=11)\n",
    "autolabel(plt6, axe, \"center\", 12)\n",
    "axe.set_ylabel('$')\n",
    "axe.set_title('Average $ of Loans Originated per recipient - DL UNSUBSIDIZED - UNDERGRADUATE\\n', fontsize=15)\n",
    "plt.show()"
   ]
  },
  {
   "cell_type": "markdown",
   "metadata": {},
   "source": [
    "# Total Undergraduate Loans"
   ]
  },
  {
   "cell_type": "code",
   "execution_count": 221,
   "metadata": {},
   "outputs": [],
   "source": [
    "data_frames = [df_sub_pr[['School Type', 'Average $ of Loans Originated per recipient - DL SUBSIDIZED']], df_unsub_ug_pr[['School Type', 'Average $ of Loans Originated per recipient - DL UNSUBSIDIZED - UNDERGRADUATE']], df_parent_pr[['School Type', 'Average $ of Loans Originated per recipient - DL PARENT PLUS']]]"
   ]
  },
  {
   "cell_type": "code",
   "execution_count": 222,
   "metadata": {},
   "outputs": [],
   "source": [
    "df_ave_rec_pr = reduce(lambda  left,right: pd.merge(left,right,on=['School Type'],\n",
    "                                            how='outer'), data_frames)"
   ]
  },
  {
   "cell_type": "code",
   "execution_count": 223,
   "metadata": {},
   "outputs": [],
   "source": [
    "df_ave_rec_pr['Total Average $ of Loans per Recipient'] = df_ave_rec_pr.iloc[:,1:4].sum(axis = 1)"
   ]
  },
  {
   "cell_type": "code",
   "execution_count": 224,
   "metadata": {},
   "outputs": [
    {
     "data": {
      "text/html": [
       "<div>\n",
       "<style scoped>\n",
       "    .dataframe tbody tr th:only-of-type {\n",
       "        vertical-align: middle;\n",
       "    }\n",
       "\n",
       "    .dataframe tbody tr th {\n",
       "        vertical-align: top;\n",
       "    }\n",
       "\n",
       "    .dataframe thead th {\n",
       "        text-align: right;\n",
       "    }\n",
       "</style>\n",
       "<table border=\"1\" class=\"dataframe\">\n",
       "  <thead>\n",
       "    <tr style=\"text-align: right;\">\n",
       "      <th></th>\n",
       "      <th>School Type</th>\n",
       "      <th>Average $ of Loans Originated per recipient - DL SUBSIDIZED</th>\n",
       "      <th>Average $ of Loans Originated per recipient - DL UNSUBSIDIZED - UNDERGRADUATE</th>\n",
       "      <th>Average $ of Loans Originated per recipient - DL PARENT PLUS</th>\n",
       "      <th>Total Average $ of Loans per Recipient</th>\n",
       "    </tr>\n",
       "  </thead>\n",
       "  <tbody>\n",
       "    <tr>\n",
       "      <th>0</th>\n",
       "      <td>Foreign-Private</td>\n",
       "      <td>4446.406204</td>\n",
       "      <td>3232.528512</td>\n",
       "      <td>28606.900322</td>\n",
       "      <td>36285.835037</td>\n",
       "    </tr>\n",
       "    <tr>\n",
       "      <th>1</th>\n",
       "      <td>Foreign-Public</td>\n",
       "      <td>4335.045601</td>\n",
       "      <td>3904.212460</td>\n",
       "      <td>27425.738910</td>\n",
       "      <td>35664.996971</td>\n",
       "    </tr>\n",
       "    <tr>\n",
       "      <th>2</th>\n",
       "      <td>Private-Nonprofit</td>\n",
       "      <td>4242.840643</td>\n",
       "      <td>3819.238589</td>\n",
       "      <td>20948.413046</td>\n",
       "      <td>29010.492279</td>\n",
       "    </tr>\n",
       "    <tr>\n",
       "      <th>3</th>\n",
       "      <td>Proprietary</td>\n",
       "      <td>3516.617523</td>\n",
       "      <td>4741.427390</td>\n",
       "      <td>12847.699039</td>\n",
       "      <td>21105.743952</td>\n",
       "    </tr>\n",
       "    <tr>\n",
       "      <th>4</th>\n",
       "      <td>Public</td>\n",
       "      <td>4062.442866</td>\n",
       "      <td>4156.891474</td>\n",
       "      <td>15699.914250</td>\n",
       "      <td>23919.248590</td>\n",
       "    </tr>\n",
       "  </tbody>\n",
       "</table>\n",
       "</div>"
      ],
      "text/plain": [
       "         School Type  \\\n",
       "0    Foreign-Private   \n",
       "1     Foreign-Public   \n",
       "2  Private-Nonprofit   \n",
       "3        Proprietary   \n",
       "4             Public   \n",
       "\n",
       "   Average $ of Loans Originated per recipient - DL SUBSIDIZED  \\\n",
       "0                                        4446.406204             \n",
       "1                                        4335.045601             \n",
       "2                                        4242.840643             \n",
       "3                                        3516.617523             \n",
       "4                                        4062.442866             \n",
       "\n",
       "   Average $ of Loans Originated per recipient - DL UNSUBSIDIZED - UNDERGRADUATE  \\\n",
       "0                                        3232.528512                               \n",
       "1                                        3904.212460                               \n",
       "2                                        3819.238589                               \n",
       "3                                        4741.427390                               \n",
       "4                                        4156.891474                               \n",
       "\n",
       "   Average $ of Loans Originated per recipient - DL PARENT PLUS  \\\n",
       "0                                       28606.900322              \n",
       "1                                       27425.738910              \n",
       "2                                       20948.413046              \n",
       "3                                       12847.699039              \n",
       "4                                       15699.914250              \n",
       "\n",
       "   Total Average $ of Loans per Recipient  \n",
       "0                            36285.835037  \n",
       "1                            35664.996971  \n",
       "2                            29010.492279  \n",
       "3                            21105.743952  \n",
       "4                            23919.248590  "
      ]
     },
     "execution_count": 224,
     "metadata": {},
     "output_type": "execute_result"
    }
   ],
   "source": [
    "df_ave_rec_pr"
   ]
  },
  {
   "cell_type": "code",
   "execution_count": 306,
   "metadata": {},
   "outputs": [
    {
     "data": {
      "image/png": "[encoded data removed]",
      "text/plain": [
       "<Figure size 432x288 with 1 Axes>"
      ]
     },
     "metadata": {},
     "output_type": "display_data"
    }
   ],
   "source": [
    "fig, axe = plt.subplots()\n",
    "plt7 = axe.bar(df_ave_rec_pr['School Type'], round(df_ave_rec_pr['Total Average $ of Loans per Recipient']), color = 'pink')\n",
    "plt.xticks(rotation=45, fontsize=11)\n",
    "plt.yticks(fontsize=11)\n",
    "autolabel(plt7, axe, \"center\", 12)\n",
    "axe.set_ylabel('$')\n",
    "axe.set_title('Total Average $ of Loans per Recipient\\n', fontsize=15)\n",
    "plt.show()"
   ]
  },
  {
   "cell_type": "code",
   "execution_count": 227,
   "metadata": {},
   "outputs": [
    {
     "name": "stdout",
     "output_type": "stream",
     "text": [
      "\n",
      "Min Loan Amount per year is 21106.0 in Proprietary\n",
      "\n",
      "Max Loan Amount per year is 36286.0 in Foreign-Private\n"
     ]
    }
   ],
   "source": [
    "\n",
    "min_am = df_ave_rec_pr['Total Average $ of Loans per Recipient'].min()\n",
    "min_type = df_ave_rec_pr['School Type'][df_ave_rec_pr['Total Average $ of Loans per Recipient'].idxmin(axis = 0)]\n",
    "max_am = df_ave_rec_pr['Total Average $ of Loans per Recipient'].max()\n",
    "max_type = df_ave_rec_pr['School Type'][df_ave_rec_pr['Total Average $ of Loans per Recipient'].idxmax(axis = 0)]\n",
    "\n",
    "print(f'\\nMin Loan Amount per year is {round(min_am)} in {min_type}')\n",
    "print(f'\\nMax Loan Amount per year is {round(max_am)} in {max_type}')"
   ]
  },
  {
   "cell_type": "code",
   "execution_count": 231,
   "metadata": {},
   "outputs": [
    {
     "data": {
      "text/html": [
       "<div>\n",
       "<style scoped>\n",
       "    .dataframe tbody tr th:only-of-type {\n",
       "        vertical-align: middle;\n",
       "    }\n",
       "\n",
       "    .dataframe tbody tr th {\n",
       "        vertical-align: top;\n",
       "    }\n",
       "\n",
       "    .dataframe thead th {\n",
       "        text-align: right;\n",
       "    }\n",
       "</style>\n",
       "<table border=\"1\" class=\"dataframe\">\n",
       "  <thead>\n",
       "    <tr style=\"text-align: right;\">\n",
       "      <th>1</th>\n",
       "      <th>index</th>\n",
       "      <th>OPE ID</th>\n",
       "      <th>School</th>\n",
       "      <th>State</th>\n",
       "      <th>Zip Code</th>\n",
       "      <th>School Type</th>\n",
       "      <th>Recipients - DL SUBSIDIZED</th>\n",
       "      <th># of Loans Originated - DL SUBSIDIZED</th>\n",
       "      <th>$ of Loans Originated - DL SUBSIDIZED</th>\n",
       "      <th># of Disbursements - DL SUBSIDIZED</th>\n",
       "      <th>...</th>\n",
       "      <th>Recipients - DL PARENT PLUS</th>\n",
       "      <th># of Loans Originated - DL PARENT PLUS</th>\n",
       "      <th>$ of Loans Originated - DL PARENT PLUS</th>\n",
       "      <th># of Disbursements - DL PARENT PLUS</th>\n",
       "      <th>$ of Disbursements - DL PARENT PLUS</th>\n",
       "      <th>Recipients - DL GRAD PLUS</th>\n",
       "      <th># of Loans Originated - DL GRAD PLUS</th>\n",
       "      <th>$ of Loans Originated - DL GRAD PLUS</th>\n",
       "      <th># of Disbursements - DL GRAD PLUS</th>\n",
       "      <th>$ of Disbursements - DL GRAD PLUS</th>\n",
       "    </tr>\n",
       "  </thead>\n",
       "  <tbody>\n",
       "    <tr>\n",
       "      <th>39</th>\n",
       "      <td>41</td>\n",
       "      <td>00107400</td>\n",
       "      <td>GRAND CANYON UNIVERSITY</td>\n",
       "      <td>AZ</td>\n",
       "      <td>850173030</td>\n",
       "      <td>Proprietary</td>\n",
       "      <td>16361</td>\n",
       "      <td>16369</td>\n",
       "      <td>67709194</td>\n",
       "      <td>16504</td>\n",
       "      <td>...</td>\n",
       "      <td>2005</td>\n",
       "      <td>2014</td>\n",
       "      <td>26070137</td>\n",
       "      <td>2017</td>\n",
       "      <td>13854110</td>\n",
       "      <td>224</td>\n",
       "      <td>226</td>\n",
       "      <td>3044293</td>\n",
       "      <td>232</td>\n",
       "      <td>1778267</td>\n",
       "    </tr>\n",
       "    <tr>\n",
       "      <th>110</th>\n",
       "      <td>115</td>\n",
       "      <td>00117700</td>\n",
       "      <td>COGSWELL POLYTECHNICAL COLLEGE</td>\n",
       "      <td>CA</td>\n",
       "      <td>951341697</td>\n",
       "      <td>Proprietary</td>\n",
       "      <td>109</td>\n",
       "      <td>109</td>\n",
       "      <td>431809</td>\n",
       "      <td>110</td>\n",
       "      <td>...</td>\n",
       "      <td>50</td>\n",
       "      <td>50</td>\n",
       "      <td>901950</td>\n",
       "      <td>51</td>\n",
       "      <td>456648</td>\n",
       "      <td>-</td>\n",
       "      <td>-</td>\n",
       "      <td>-</td>\n",
       "      <td>-</td>\n",
       "      <td>-</td>\n",
       "    </tr>\n",
       "    <tr>\n",
       "      <th>224</th>\n",
       "      <td>240</td>\n",
       "      <td>00140100</td>\n",
       "      <td>POST UNIVERSITY</td>\n",
       "      <td>CT</td>\n",
       "      <td>067233240</td>\n",
       "      <td>Proprietary</td>\n",
       "      <td>2072</td>\n",
       "      <td>2079</td>\n",
       "      <td>7480916</td>\n",
       "      <td>2079</td>\n",
       "      <td>...</td>\n",
       "      <td>47</td>\n",
       "      <td>47</td>\n",
       "      <td>606650</td>\n",
       "      <td>47</td>\n",
       "      <td>279466</td>\n",
       "      <td>2</td>\n",
       "      <td>2</td>\n",
       "      <td>18081</td>\n",
       "      <td>2</td>\n",
       "      <td>7691</td>\n",
       "    </tr>\n",
       "    <tr>\n",
       "      <th>248</th>\n",
       "      <td>264</td>\n",
       "      <td>00145900</td>\n",
       "      <td>STRAYER UNIVERSITY</td>\n",
       "      <td>DC</td>\n",
       "      <td>200052603</td>\n",
       "      <td>Proprietary</td>\n",
       "      <td>12037</td>\n",
       "      <td>12037</td>\n",
       "      <td>45263625</td>\n",
       "      <td>12037</td>\n",
       "      <td>...</td>\n",
       "      <td>27</td>\n",
       "      <td>27</td>\n",
       "      <td>218881</td>\n",
       "      <td>27</td>\n",
       "      <td>78233</td>\n",
       "      <td>170</td>\n",
       "      <td>170</td>\n",
       "      <td>2569822</td>\n",
       "      <td>170</td>\n",
       "      <td>1046562</td>\n",
       "    </tr>\n",
       "    <tr>\n",
       "      <th>362</th>\n",
       "      <td>378</td>\n",
       "      <td>00162800</td>\n",
       "      <td>AMERICAN ACADEMY OF ART</td>\n",
       "      <td>IL</td>\n",
       "      <td>606044302</td>\n",
       "      <td>Proprietary</td>\n",
       "      <td>147</td>\n",
       "      <td>147</td>\n",
       "      <td>654601</td>\n",
       "      <td>147</td>\n",
       "      <td>...</td>\n",
       "      <td>61</td>\n",
       "      <td>62</td>\n",
       "      <td>1485010</td>\n",
       "      <td>62</td>\n",
       "      <td>755492</td>\n",
       "      <td>-</td>\n",
       "      <td>-</td>\n",
       "      <td>-</td>\n",
       "      <td>-</td>\n",
       "      <td>-</td>\n",
       "    </tr>\n",
       "    <tr>\n",
       "      <th>...</th>\n",
       "      <td>...</td>\n",
       "      <td>...</td>\n",
       "      <td>...</td>\n",
       "      <td>...</td>\n",
       "      <td>...</td>\n",
       "      <td>...</td>\n",
       "      <td>...</td>\n",
       "      <td>...</td>\n",
       "      <td>...</td>\n",
       "      <td>...</td>\n",
       "      <td>...</td>\n",
       "      <td>...</td>\n",
       "      <td>...</td>\n",
       "      <td>...</td>\n",
       "      <td>...</td>\n",
       "      <td>...</td>\n",
       "      <td>...</td>\n",
       "      <td>...</td>\n",
       "      <td>...</td>\n",
       "      <td>...</td>\n",
       "      <td>...</td>\n",
       "    </tr>\n",
       "    <tr>\n",
       "      <th>4150</th>\n",
       "      <td>4440</td>\n",
       "      <td>04283100</td>\n",
       "      <td>TEXAS HEALTHTECH INSTITUTE</td>\n",
       "      <td>TX</td>\n",
       "      <td>777072604</td>\n",
       "      <td>Proprietary</td>\n",
       "      <td>19</td>\n",
       "      <td>19</td>\n",
       "      <td>46543</td>\n",
       "      <td>19</td>\n",
       "      <td>...</td>\n",
       "      <td>-</td>\n",
       "      <td>-</td>\n",
       "      <td>-</td>\n",
       "      <td>-</td>\n",
       "      <td>-</td>\n",
       "      <td>-</td>\n",
       "      <td>-</td>\n",
       "      <td>-</td>\n",
       "      <td>-</td>\n",
       "      <td>-</td>\n",
       "    </tr>\n",
       "    <tr>\n",
       "      <th>4151</th>\n",
       "      <td>4441</td>\n",
       "      <td>04283200</td>\n",
       "      <td>DELUXE BARBER COLLEGE</td>\n",
       "      <td>TX</td>\n",
       "      <td>782172118</td>\n",
       "      <td>Proprietary</td>\n",
       "      <td>5</td>\n",
       "      <td>5</td>\n",
       "      <td>17500</td>\n",
       "      <td>5</td>\n",
       "      <td>...</td>\n",
       "      <td>-</td>\n",
       "      <td>-</td>\n",
       "      <td>-</td>\n",
       "      <td>-</td>\n",
       "      <td>-</td>\n",
       "      <td>-</td>\n",
       "      <td>-</td>\n",
       "      <td>-</td>\n",
       "      <td>-</td>\n",
       "      <td>-</td>\n",
       "    </tr>\n",
       "    <tr>\n",
       "      <th>4152</th>\n",
       "      <td>4442</td>\n",
       "      <td>04283300</td>\n",
       "      <td>A BETTER U BEAUTY BARBER ACADEMY</td>\n",
       "      <td>NM</td>\n",
       "      <td>871103128</td>\n",
       "      <td>Proprietary</td>\n",
       "      <td>2</td>\n",
       "      <td>2</td>\n",
       "      <td>6572</td>\n",
       "      <td>3</td>\n",
       "      <td>...</td>\n",
       "      <td>-</td>\n",
       "      <td>-</td>\n",
       "      <td>-</td>\n",
       "      <td>-</td>\n",
       "      <td>-</td>\n",
       "      <td>-</td>\n",
       "      <td>-</td>\n",
       "      <td>-</td>\n",
       "      <td>-</td>\n",
       "      <td>-</td>\n",
       "    </tr>\n",
       "    <tr>\n",
       "      <th>4153</th>\n",
       "      <td>4443</td>\n",
       "      <td>04283500</td>\n",
       "      <td>FALCON INSTITUTE OF HEALTH AND SCIENCE</td>\n",
       "      <td>PA</td>\n",
       "      <td>180172113</td>\n",
       "      <td>Proprietary</td>\n",
       "      <td>2</td>\n",
       "      <td>2</td>\n",
       "      <td>6297</td>\n",
       "      <td>2</td>\n",
       "      <td>...</td>\n",
       "      <td>-</td>\n",
       "      <td>-</td>\n",
       "      <td>-</td>\n",
       "      <td>-</td>\n",
       "      <td>-</td>\n",
       "      <td>-</td>\n",
       "      <td>-</td>\n",
       "      <td>-</td>\n",
       "      <td>-</td>\n",
       "      <td>-</td>\n",
       "    </tr>\n",
       "    <tr>\n",
       "      <th>4155</th>\n",
       "      <td>4445</td>\n",
       "      <td>04284500</td>\n",
       "      <td>MIDWEST BARBER COLLEGE</td>\n",
       "      <td>KS</td>\n",
       "      <td>666112358</td>\n",
       "      <td>Proprietary</td>\n",
       "      <td>4</td>\n",
       "      <td>4</td>\n",
       "      <td>7726</td>\n",
       "      <td>4</td>\n",
       "      <td>...</td>\n",
       "      <td>-</td>\n",
       "      <td>-</td>\n",
       "      <td>-</td>\n",
       "      <td>-</td>\n",
       "      <td>-</td>\n",
       "      <td>-</td>\n",
       "      <td>-</td>\n",
       "      <td>-</td>\n",
       "      <td>-</td>\n",
       "      <td>-</td>\n",
       "    </tr>\n",
       "  </tbody>\n",
       "</table>\n",
       "<p>1421 rows × 31 columns</p>\n",
       "</div>"
      ],
      "text/plain": [
       "1     index    OPE ID                                  School State  \\\n",
       "39       41  00107400                 GRAND CANYON UNIVERSITY    AZ   \n",
       "110     115  00117700          COGSWELL POLYTECHNICAL COLLEGE    CA   \n",
       "224     240  00140100                         POST UNIVERSITY    CT   \n",
       "248     264  00145900                      STRAYER UNIVERSITY    DC   \n",
       "362     378  00162800                 AMERICAN ACADEMY OF ART    IL   \n",
       "...     ...       ...                                     ...   ...   \n",
       "4150   4440  04283100              TEXAS HEALTHTECH INSTITUTE    TX   \n",
       "4151   4441  04283200                   DELUXE BARBER COLLEGE    TX   \n",
       "4152   4442  04283300        A BETTER U BEAUTY BARBER ACADEMY    NM   \n",
       "4153   4443  04283500  FALCON INSTITUTE OF HEALTH AND SCIENCE    PA   \n",
       "4155   4445  04284500                  MIDWEST BARBER COLLEGE    KS   \n",
       "\n",
       "1      Zip Code  School Type Recipients - DL SUBSIDIZED  \\\n",
       "39    850173030  Proprietary                      16361   \n",
       "110   951341697  Proprietary                        109   \n",
       "224   067233240  Proprietary                       2072   \n",
       "248   200052603  Proprietary                      12037   \n",
       "362   606044302  Proprietary                        147   \n",
       "...         ...          ...                        ...   \n",
       "4150  777072604  Proprietary                         19   \n",
       "4151  782172118  Proprietary                          5   \n",
       "4152  871103128  Proprietary                          2   \n",
       "4153  180172113  Proprietary                          2   \n",
       "4155  666112358  Proprietary                          4   \n",
       "\n",
       "1    # of Loans Originated - DL SUBSIDIZED  \\\n",
       "39                                   16369   \n",
       "110                                    109   \n",
       "224                                   2079   \n",
       "248                                  12037   \n",
       "362                                    147   \n",
       "...                                    ...   \n",
       "4150                                    19   \n",
       "4151                                     5   \n",
       "4152                                     2   \n",
       "4153                                     2   \n",
       "4155                                     4   \n",
       "\n",
       "1    $ of Loans Originated - DL SUBSIDIZED # of Disbursements - DL SUBSIDIZED  \\\n",
       "39                                67709194                              16504   \n",
       "110                                 431809                                110   \n",
       "224                                7480916                               2079   \n",
       "248                               45263625                              12037   \n",
       "362                                 654601                                147   \n",
       "...                                    ...                                ...   \n",
       "4150                                 46543                                 19   \n",
       "4151                                 17500                                  5   \n",
       "4152                                  6572                                  3   \n",
       "4153                                  6297                                  2   \n",
       "4155                                  7726                                  4   \n",
       "\n",
       "1     ... Recipients - DL PARENT PLUS # of Loans Originated - DL PARENT PLUS  \\\n",
       "39    ...                        2005                                   2014   \n",
       "110   ...                          50                                     50   \n",
       "224   ...                          47                                     47   \n",
       "248   ...                          27                                     27   \n",
       "362   ...                          61                                     62   \n",
       "...   ...                         ...                                    ...   \n",
       "4150  ...                           -                                      -   \n",
       "4151  ...                           -                                      -   \n",
       "4152  ...                           -                                      -   \n",
       "4153  ...                           -                                      -   \n",
       "4155  ...                           -                                      -   \n",
       "\n",
       "1    $ of Loans Originated - DL PARENT PLUS  \\\n",
       "39                                 26070137   \n",
       "110                                  901950   \n",
       "224                                  606650   \n",
       "248                                  218881   \n",
       "362                                 1485010   \n",
       "...                                     ...   \n",
       "4150                                      -   \n",
       "4151                                      -   \n",
       "4152                                      -   \n",
       "4153                                      -   \n",
       "4155                                      -   \n",
       "\n",
       "1    # of Disbursements - DL PARENT PLUS $ of Disbursements - DL PARENT PLUS  \\\n",
       "39                                  2017                            13854110   \n",
       "110                                   51                              456648   \n",
       "224                                   47                              279466   \n",
       "248                                   27                               78233   \n",
       "362                                   62                              755492   \n",
       "...                                  ...                                 ...   \n",
       "4150                                   -                                   -   \n",
       "4151                                   -                                   -   \n",
       "4152                                   -                                   -   \n",
       "4153                                   -                                   -   \n",
       "4155                                   -                                   -   \n",
       "\n",
       "1    Recipients - DL GRAD PLUS # of Loans Originated - DL GRAD PLUS  \\\n",
       "39                         224                                  226   \n",
       "110                          -                                    -   \n",
       "224                          2                                    2   \n",
       "248                        170                                  170   \n",
       "362                          -                                    -   \n",
       "...                        ...                                  ...   \n",
       "4150                         -                                    -   \n",
       "4151                         -                                    -   \n",
       "4152                         -                                    -   \n",
       "4153                         -                                    -   \n",
       "4155                         -                                    -   \n",
       "\n",
       "1    $ of Loans Originated - DL GRAD PLUS # of Disbursements - DL GRAD PLUS  \\\n",
       "39                                3044293                               232   \n",
       "110                                     -                                 -   \n",
       "224                                 18081                                 2   \n",
       "248                               2569822                               170   \n",
       "362                                     -                                 -   \n",
       "...                                   ...                               ...   \n",
       "4150                                    -                                 -   \n",
       "4151                                    -                                 -   \n",
       "4152                                    -                                 -   \n",
       "4153                                    -                                 -   \n",
       "4155                                    -                                 -   \n",
       "\n",
       "1    $ of Disbursements - DL GRAD PLUS  \n",
       "39                             1778267  \n",
       "110                                  -  \n",
       "224                               7691  \n",
       "248                            1046562  \n",
       "362                                  -  \n",
       "...                                ...  \n",
       "4150                                 -  \n",
       "4151                                 -  \n",
       "4152                                 -  \n",
       "4153                                 -  \n",
       "4155                                 -  \n",
       "\n",
       "[1421 rows x 31 columns]"
      ]
     },
     "execution_count": 231,
     "metadata": {},
     "output_type": "execute_result"
    }
   ],
   "source": [
    "df_copy[df_copy['School Type'] == 'Proprietary']"
   ]
  },
  {
   "cell_type": "code",
   "execution_count": null,
   "metadata": {},
   "outputs": [],
   "source": []
  }
 ],
 "metadata": {
  "kernelspec": {
   "display_name": "Python 3",
   "language": "python",
   "name": "python3"
  },
  "language_info": {
   "codemirror_mode": {
    "name": "ipython",
    "version": 3
   },
   "file_extension": ".py",
   "mimetype": "text/x-python",
   "name": "python",
   "nbconvert_exporter": "python",
   "pygments_lexer": "ipython3",
   "version": "3.7.3"
  }
 },
 "nbformat": 4,
 "nbformat_minor": 4
}
